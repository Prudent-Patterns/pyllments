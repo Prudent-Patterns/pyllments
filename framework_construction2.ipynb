{
 "cells": [
  {
   "cell_type": "code",
   "execution_count": 5,
   "metadata": {},
   "outputs": [],
   "source": [
    "# import sys\n",
    "# sys.path.append('..')\n",
    "\n",
    "# %load_ext autoreload\n",
    "# %autoreload 2\n",
    "\n",
    "\n"
   ]
  },
  {
   "cell_type": "code",
   "execution_count": null,
   "metadata": {},
   "outputs": [],
   "source": [
    "import panel as pn\n",
    "from dotenv import load_dotenv\n",
    "\n",
    "load_dotenv()\n",
    "\n",
    "pn.extension()"
   ]
  },
  {
   "cell_type": "code",
   "execution_count": 7,
   "metadata": {},
   "outputs": [],
   "source": [
    "pn.config.global_css = [\n",
    "    \"\"\"\n",
    "@import url('https://fonts.googleapis.com/css2?family=Ubuntu:ital,wght@0,300;0,400;0,500;0,700;1,300;1,400;1,500;1,700&display=swap');\n",
    "body {\n",
    "    background-color: #0C1314;\n",
    "}\n",
    "\"\"\"\n",
    "]"
   ]
  },
  {
   "cell_type": "code",
   "execution_count": 11,
   "metadata": {},
   "outputs": [],
   "source": [
    "from pyllments.elements.chat_interface import ChatInterfaceElement\n",
    "from pyllments.elements.llm_chat import LLMChatElement"
   ]
  },
  {
   "cell_type": "code",
   "execution_count": 12,
   "metadata": {},
   "outputs": [],
   "source": [
    "chat_interface = ChatInterfaceElement()\n",
    "\n",
    "llm_chat = LLMChatElement(model_params={'output_mode': 'stream'})\n",
    "\n",
    "chat_interface.ports.output['message_output'] > llm_chat.ports.input['messages_input']\n",
    "llm_chat.ports.output['message_output'] > chat_interface.ports.input['message_input']\n"
   ]
  },
  {
   "cell_type": "code",
   "execution_count": 13,
   "metadata": {},
   "outputs": [
    {
     "data": {
      "application/vnd.jupyter.widget-view+json": {
       "model_id": "deb21fffb9cb4739b0ba26a221cc399e",
       "version_major": 2,
       "version_minor": 0
      },
      "text/plain": [
       "BokehModel(combine_events=True, render_bundle={'docs_json': {'a53051d8-5b9b-40ce-80e3-6c4806ab85cc': {'version…"
      ]
     },
     "execution_count": 13,
     "metadata": {},
     "output_type": "execute_result"
    }
   ],
   "source": [
    "chatfeed_view = chat_interface.create_chatfeed_view(height=300, auto_scroll_limit=1, width=500)\n",
    "send_button_view = chat_interface.create_send_button_view()\n",
    "chat_input_view = chat_interface.create_chat_input_view()\n",
    "\n",
    "pn.Column(\n",
    "    chatfeed_view,\n",
    "    pn.Row(chat_input_view, send_button_view)\n",
    ").servable()\n"
   ]
  },
  {
   "cell_type": "code",
   "execution_count": 14,
   "metadata": {},
   "outputs": [
    {
     "data": {
      "text/plain": [
       "MessagePayload(css_cache={}, message_view=Row(stylesheets=[''])\n",
       "    [0] Markdown(str, stylesheets=['']), model=MessageModel(message=HumanMessage(content='test'), message_batch=None, message_stream=None, message_type='human', mode='atomic', name='MessageModel00186'), name='MessagePayload00185')"
      ]
     },
     "execution_count": 14,
     "metadata": {},
     "output_type": "execute_result"
    }
   ],
   "source": [
    "# chat_interface.model.message_list[0]"
   ]
  },
  {
   "cell_type": "code",
   "execution_count": null,
   "metadata": {},
   "outputs": [],
   "source": []
  }
 ],
 "metadata": {
  "kernelspec": {
   "display_name": "pyllments",
   "language": "python",
   "name": "python3"
  },
  "language_info": {
   "codemirror_mode": {
    "name": "ipython",
    "version": 3
   },
   "file_extension": ".py",
   "mimetype": "text/x-python",
   "name": "python",
   "nbconvert_exporter": "python",
   "pygments_lexer": "ipython3",
   "version": "3.12.4"
  }
 },
 "nbformat": 4,
 "nbformat_minor": 2
}
