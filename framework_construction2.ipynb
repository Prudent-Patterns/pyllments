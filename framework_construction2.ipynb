{
 "cells": [
  {
   "cell_type": "markdown",
   "metadata": {},
   "source": [
    "# Loadout"
   ]
  },
  {
   "cell_type": "code",
   "execution_count": 1,
   "metadata": {},
   "outputs": [],
   "source": [
    "# import sys\n",
    "# sys.path.append('..')\n",
    "\n",
    "# %load_ext autoreload\n",
    "# %autoreload 2\n",
    "\n",
    "\n"
   ]
  },
  {
   "cell_type": "code",
   "execution_count": 2,
   "metadata": {},
   "outputs": [
    {
     "data": {
      "application/javascript": "(function(root) {\n  function now() {\n    return new Date();\n  }\n\n  var force = true;\n  var py_version = '3.4.1'.replace('rc', '-rc.').replace('.dev', '-dev.');\n  var reloading = false;\n  var Bokeh = root.Bokeh;\n\n  if (typeof (root._bokeh_timeout) === \"undefined\" || force) {\n    root._bokeh_timeout = Date.now() + 5000;\n    root._bokeh_failed_load = false;\n  }\n\n  function run_callbacks() {\n    try {\n      root._bokeh_onload_callbacks.forEach(function(callback) {\n        if (callback != null)\n          callback();\n      });\n    } finally {\n      delete root._bokeh_onload_callbacks;\n    }\n    console.debug(\"Bokeh: all callbacks have finished\");\n  }\n\n  function load_libs(css_urls, js_urls, js_modules, js_exports, callback) {\n    if (css_urls == null) css_urls = [];\n    if (js_urls == null) js_urls = [];\n    if (js_modules == null) js_modules = [];\n    if (js_exports == null) js_exports = {};\n\n    root._bokeh_onload_callbacks.push(callback);\n\n    if (root._bokeh_is_loading > 0) {\n      console.debug(\"Bokeh: BokehJS is being loaded, scheduling callback at\", now());\n      return null;\n    }\n    if (js_urls.length === 0 && js_modules.length === 0 && Object.keys(js_exports).length === 0) {\n      run_callbacks();\n      return null;\n    }\n    if (!reloading) {\n      console.debug(\"Bokeh: BokehJS not loaded, scheduling load and callback at\", now());\n    }\n\n    function on_load() {\n      root._bokeh_is_loading--;\n      if (root._bokeh_is_loading === 0) {\n        console.debug(\"Bokeh: all BokehJS libraries/stylesheets loaded\");\n        run_callbacks()\n      }\n    }\n    window._bokeh_on_load = on_load\n\n    function on_error() {\n      console.error(\"failed to load \" + url);\n    }\n\n    var skip = [];\n    if (window.requirejs) {\n      window.requirejs.config({'packages': {}, 'paths': {}, 'shim': {}});\n      root._bokeh_is_loading = css_urls.length + 0;\n    } else {\n      root._bokeh_is_loading = css_urls.length + js_urls.length + js_modules.length + Object.keys(js_exports).length;\n    }\n\n    var existing_stylesheets = []\n    var links = document.getElementsByTagName('link')\n    for (var i = 0; i < links.length; i++) {\n      var link = links[i]\n      if (link.href != null) {\n\texisting_stylesheets.push(link.href)\n      }\n    }\n    for (var i = 0; i < css_urls.length; i++) {\n      var url = css_urls[i];\n      if (existing_stylesheets.indexOf(url) !== -1) {\n\ton_load()\n\tcontinue;\n      }\n      const element = document.createElement(\"link\");\n      element.onload = on_load;\n      element.onerror = on_error;\n      element.rel = \"stylesheet\";\n      element.type = \"text/css\";\n      element.href = url;\n      console.debug(\"Bokeh: injecting link tag for BokehJS stylesheet: \", url);\n      document.body.appendChild(element);\n    }    var existing_scripts = []\n    var scripts = document.getElementsByTagName('script')\n    for (var i = 0; i < scripts.length; i++) {\n      var script = scripts[i]\n      if (script.src != null) {\n\texisting_scripts.push(script.src)\n      }\n    }\n    for (var i = 0; i < js_urls.length; i++) {\n      var url = js_urls[i];\n      if (skip.indexOf(url) !== -1 || existing_scripts.indexOf(url) !== -1) {\n\tif (!window.requirejs) {\n\t  on_load();\n\t}\n\tcontinue;\n      }\n      var element = document.createElement('script');\n      element.onload = on_load;\n      element.onerror = on_error;\n      element.async = false;\n      element.src = url;\n      console.debug(\"Bokeh: injecting script tag for BokehJS library: \", url);\n      document.head.appendChild(element);\n    }\n    for (var i = 0; i < js_modules.length; i++) {\n      var url = js_modules[i];\n      if (skip.indexOf(url) !== -1 || existing_scripts.indexOf(url) !== -1) {\n\tif (!window.requirejs) {\n\t  on_load();\n\t}\n\tcontinue;\n      }\n      var element = document.createElement('script');\n      element.onload = on_load;\n      element.onerror = on_error;\n      element.async = false;\n      element.src = url;\n      element.type = \"module\";\n      console.debug(\"Bokeh: injecting script tag for BokehJS library: \", url);\n      document.head.appendChild(element);\n    }\n    for (const name in js_exports) {\n      var url = js_exports[name];\n      if (skip.indexOf(url) >= 0 || root[name] != null) {\n\tif (!window.requirejs) {\n\t  on_load();\n\t}\n\tcontinue;\n      }\n      var element = document.createElement('script');\n      element.onerror = on_error;\n      element.async = false;\n      element.type = \"module\";\n      console.debug(\"Bokeh: injecting script tag for BokehJS library: \", url);\n      element.textContent = `\n      import ${name} from \"${url}\"\n      window.${name} = ${name}\n      window._bokeh_on_load()\n      `\n      document.head.appendChild(element);\n    }\n    if (!js_urls.length && !js_modules.length) {\n      on_load()\n    }\n  };\n\n  function inject_raw_css(css) {\n    const element = document.createElement(\"style\");\n    element.appendChild(document.createTextNode(css));\n    document.body.appendChild(element);\n  }\n\n  var js_urls = [\"https://cdn.bokeh.org/bokeh/release/bokeh-3.4.1.min.js\", \"https://cdn.bokeh.org/bokeh/release/bokeh-gl-3.4.1.min.js\", \"https://cdn.bokeh.org/bokeh/release/bokeh-widgets-3.4.1.min.js\", \"https://cdn.bokeh.org/bokeh/release/bokeh-tables-3.4.1.min.js\", \"https://cdn.holoviz.org/panel/1.4.4/dist/panel.min.js\"];\n  var js_modules = [];\n  var js_exports = {};\n  var css_urls = [];\n  var inline_js = [    function(Bokeh) {\n      Bokeh.set_log_level(\"info\");\n    },\nfunction(Bokeh) {} // ensure no trailing comma for IE\n  ];\n\n  function run_inline_js() {\n    if ((root.Bokeh !== undefined) || (force === true)) {\n      for (var i = 0; i < inline_js.length; i++) {\n\ttry {\n          inline_js[i].call(root, root.Bokeh);\n\t} catch(e) {\n\t  if (!reloading) {\n\t    throw e;\n\t  }\n\t}\n      }\n      // Cache old bokeh versions\n      if (Bokeh != undefined && !reloading) {\n\tvar NewBokeh = root.Bokeh;\n\tif (Bokeh.versions === undefined) {\n\t  Bokeh.versions = new Map();\n\t}\n\tif (NewBokeh.version !== Bokeh.version) {\n\t  Bokeh.versions.set(NewBokeh.version, NewBokeh)\n\t}\n\troot.Bokeh = Bokeh;\n      }} else if (Date.now() < root._bokeh_timeout) {\n      setTimeout(run_inline_js, 100);\n    } else if (!root._bokeh_failed_load) {\n      console.log(\"Bokeh: BokehJS failed to load within specified timeout.\");\n      root._bokeh_failed_load = true;\n    }\n    root._bokeh_is_initializing = false\n  }\n\n  function load_or_wait() {\n    // Implement a backoff loop that tries to ensure we do not load multiple\n    // versions of Bokeh and its dependencies at the same time.\n    // In recent versions we use the root._bokeh_is_initializing flag\n    // to determine whether there is an ongoing attempt to initialize\n    // bokeh, however for backward compatibility we also try to ensure\n    // that we do not start loading a newer (Panel>=1.0 and Bokeh>3) version\n    // before older versions are fully initialized.\n    if (root._bokeh_is_initializing && Date.now() > root._bokeh_timeout) {\n      root._bokeh_is_initializing = false;\n      root._bokeh_onload_callbacks = undefined;\n      console.log(\"Bokeh: BokehJS was loaded multiple times but one version failed to initialize.\");\n      load_or_wait();\n    } else if (root._bokeh_is_initializing || (typeof root._bokeh_is_initializing === \"undefined\" && root._bokeh_onload_callbacks !== undefined)) {\n      setTimeout(load_or_wait, 100);\n    } else {\n      root._bokeh_is_initializing = true\n      root._bokeh_onload_callbacks = []\n      var bokeh_loaded = Bokeh != null && (Bokeh.version === py_version || (Bokeh.versions !== undefined && Bokeh.versions.has(py_version)));\n      if (!reloading && !bokeh_loaded) {\n\troot.Bokeh = undefined;\n      }\n      load_libs(css_urls, js_urls, js_modules, js_exports, function() {\n\tconsole.debug(\"Bokeh: BokehJS plotting callback run at\", now());\n\trun_inline_js();\n      });\n    }\n  }\n  // Give older versions of the autoload script a head-start to ensure\n  // they initialize before we start loading newer version.\n  setTimeout(load_or_wait, 100)\n}(window));",
      "application/vnd.holoviews_load.v0+json": ""
     },
     "metadata": {},
     "output_type": "display_data"
    },
    {
     "data": {
      "application/javascript": "\nif ((window.PyViz === undefined) || (window.PyViz instanceof HTMLElement)) {\n  window.PyViz = {comms: {}, comm_status:{}, kernels:{}, receivers: {}, plot_index: []}\n}\n\n\n    function JupyterCommManager() {\n    }\n\n    JupyterCommManager.prototype.register_target = function(plot_id, comm_id, msg_handler) {\n      if (window.comm_manager || ((window.Jupyter !== undefined) && (Jupyter.notebook.kernel != null))) {\n        var comm_manager = window.comm_manager || Jupyter.notebook.kernel.comm_manager;\n        comm_manager.register_target(comm_id, function(comm) {\n          comm.on_msg(msg_handler);\n        });\n      } else if ((plot_id in window.PyViz.kernels) && (window.PyViz.kernels[plot_id])) {\n        window.PyViz.kernels[plot_id].registerCommTarget(comm_id, function(comm) {\n          comm.onMsg = msg_handler;\n        });\n      } else if (typeof google != 'undefined' && google.colab.kernel != null) {\n        google.colab.kernel.comms.registerTarget(comm_id, (comm) => {\n          var messages = comm.messages[Symbol.asyncIterator]();\n          function processIteratorResult(result) {\n            var message = result.value;\n            console.log(message)\n            var content = {data: message.data, comm_id};\n            var buffers = []\n            for (var buffer of message.buffers || []) {\n              buffers.push(new DataView(buffer))\n            }\n            var metadata = message.metadata || {};\n            var msg = {content, buffers, metadata}\n            msg_handler(msg);\n            return messages.next().then(processIteratorResult);\n          }\n          return messages.next().then(processIteratorResult);\n        })\n      }\n    }\n\n    JupyterCommManager.prototype.get_client_comm = function(plot_id, comm_id, msg_handler) {\n      if (comm_id in window.PyViz.comms) {\n        return window.PyViz.comms[comm_id];\n      } else if (window.comm_manager || ((window.Jupyter !== undefined) && (Jupyter.notebook.kernel != null))) {\n        var comm_manager = window.comm_manager || Jupyter.notebook.kernel.comm_manager;\n        var comm = comm_manager.new_comm(comm_id, {}, {}, {}, comm_id);\n        if (msg_handler) {\n          comm.on_msg(msg_handler);\n        }\n      } else if ((plot_id in window.PyViz.kernels) && (window.PyViz.kernels[plot_id])) {\n        var comm = window.PyViz.kernels[plot_id].connectToComm(comm_id);\n        comm.open();\n        if (msg_handler) {\n          comm.onMsg = msg_handler;\n        }\n      } else if (typeof google != 'undefined' && google.colab.kernel != null) {\n        var comm_promise = google.colab.kernel.comms.open(comm_id)\n        comm_promise.then((comm) => {\n          window.PyViz.comms[comm_id] = comm;\n          if (msg_handler) {\n            var messages = comm.messages[Symbol.asyncIterator]();\n            function processIteratorResult(result) {\n              var message = result.value;\n              var content = {data: message.data};\n              var metadata = message.metadata || {comm_id};\n              var msg = {content, metadata}\n              msg_handler(msg);\n              return messages.next().then(processIteratorResult);\n            }\n            return messages.next().then(processIteratorResult);\n          }\n        }) \n        var sendClosure = (data, metadata, buffers, disposeOnDone) => {\n          return comm_promise.then((comm) => {\n            comm.send(data, metadata, buffers, disposeOnDone);\n          });\n        };\n        var comm = {\n          send: sendClosure\n        };\n      }\n      window.PyViz.comms[comm_id] = comm;\n      return comm;\n    }\n    window.PyViz.comm_manager = new JupyterCommManager();\n    \n\n\nvar JS_MIME_TYPE = 'application/javascript';\nvar HTML_MIME_TYPE = 'text/html';\nvar EXEC_MIME_TYPE = 'application/vnd.holoviews_exec.v0+json';\nvar CLASS_NAME = 'output';\n\n/**\n * Render data to the DOM node\n */\nfunction render(props, node) {\n  var div = document.createElement(\"div\");\n  var script = document.createElement(\"script\");\n  node.appendChild(div);\n  node.appendChild(script);\n}\n\n/**\n * Handle when a new output is added\n */\nfunction handle_add_output(event, handle) {\n  var output_area = handle.output_area;\n  var output = handle.output;\n  if ((output.data == undefined) || (!output.data.hasOwnProperty(EXEC_MIME_TYPE))) {\n    return\n  }\n  var id = output.metadata[EXEC_MIME_TYPE][\"id\"];\n  var toinsert = output_area.element.find(\".\" + CLASS_NAME.split(' ')[0]);\n  if (id !== undefined) {\n    var nchildren = toinsert.length;\n    var html_node = toinsert[nchildren-1].children[0];\n    html_node.innerHTML = output.data[HTML_MIME_TYPE];\n    var scripts = [];\n    var nodelist = html_node.querySelectorAll(\"script\");\n    for (var i in nodelist) {\n      if (nodelist.hasOwnProperty(i)) {\n        scripts.push(nodelist[i])\n      }\n    }\n\n    scripts.forEach( function (oldScript) {\n      var newScript = document.createElement(\"script\");\n      var attrs = [];\n      var nodemap = oldScript.attributes;\n      for (var j in nodemap) {\n        if (nodemap.hasOwnProperty(j)) {\n          attrs.push(nodemap[j])\n        }\n      }\n      attrs.forEach(function(attr) { newScript.setAttribute(attr.name, attr.value) });\n      newScript.appendChild(document.createTextNode(oldScript.innerHTML));\n      oldScript.parentNode.replaceChild(newScript, oldScript);\n    });\n    if (JS_MIME_TYPE in output.data) {\n      toinsert[nchildren-1].children[1].textContent = output.data[JS_MIME_TYPE];\n    }\n    output_area._hv_plot_id = id;\n    if ((window.Bokeh !== undefined) && (id in Bokeh.index)) {\n      window.PyViz.plot_index[id] = Bokeh.index[id];\n    } else {\n      window.PyViz.plot_index[id] = null;\n    }\n  } else if (output.metadata[EXEC_MIME_TYPE][\"server_id\"] !== undefined) {\n    var bk_div = document.createElement(\"div\");\n    bk_div.innerHTML = output.data[HTML_MIME_TYPE];\n    var script_attrs = bk_div.children[0].attributes;\n    for (var i = 0; i < script_attrs.length; i++) {\n      toinsert[toinsert.length - 1].childNodes[1].setAttribute(script_attrs[i].name, script_attrs[i].value);\n    }\n    // store reference to server id on output_area\n    output_area._bokeh_server_id = output.metadata[EXEC_MIME_TYPE][\"server_id\"];\n  }\n}\n\n/**\n * Handle when an output is cleared or removed\n */\nfunction handle_clear_output(event, handle) {\n  var id = handle.cell.output_area._hv_plot_id;\n  var server_id = handle.cell.output_area._bokeh_server_id;\n  if (((id === undefined) || !(id in PyViz.plot_index)) && (server_id !== undefined)) { return; }\n  var comm = window.PyViz.comm_manager.get_client_comm(\"hv-extension-comm\", \"hv-extension-comm\", function () {});\n  if (server_id !== null) {\n    comm.send({event_type: 'server_delete', 'id': server_id});\n    return;\n  } else if (comm !== null) {\n    comm.send({event_type: 'delete', 'id': id});\n  }\n  delete PyViz.plot_index[id];\n  if ((window.Bokeh !== undefined) & (id in window.Bokeh.index)) {\n    var doc = window.Bokeh.index[id].model.document\n    doc.clear();\n    const i = window.Bokeh.documents.indexOf(doc);\n    if (i > -1) {\n      window.Bokeh.documents.splice(i, 1);\n    }\n  }\n}\n\n/**\n * Handle kernel restart event\n */\nfunction handle_kernel_cleanup(event, handle) {\n  delete PyViz.comms[\"hv-extension-comm\"];\n  window.PyViz.plot_index = {}\n}\n\n/**\n * Handle update_display_data messages\n */\nfunction handle_update_output(event, handle) {\n  handle_clear_output(event, {cell: {output_area: handle.output_area}})\n  handle_add_output(event, handle)\n}\n\nfunction register_renderer(events, OutputArea) {\n  function append_mime(data, metadata, element) {\n    // create a DOM node to render to\n    var toinsert = this.create_output_subarea(\n    metadata,\n    CLASS_NAME,\n    EXEC_MIME_TYPE\n    );\n    this.keyboard_manager.register_events(toinsert);\n    // Render to node\n    var props = {data: data, metadata: metadata[EXEC_MIME_TYPE]};\n    render(props, toinsert[0]);\n    element.append(toinsert);\n    return toinsert\n  }\n\n  events.on('output_added.OutputArea', handle_add_output);\n  events.on('output_updated.OutputArea', handle_update_output);\n  events.on('clear_output.CodeCell', handle_clear_output);\n  events.on('delete.Cell', handle_clear_output);\n  events.on('kernel_ready.Kernel', handle_kernel_cleanup);\n\n  OutputArea.prototype.register_mime_type(EXEC_MIME_TYPE, append_mime, {\n    safe: true,\n    index: 0\n  });\n}\n\nif (window.Jupyter !== undefined) {\n  try {\n    var events = require('base/js/events');\n    var OutputArea = require('notebook/js/outputarea').OutputArea;\n    if (OutputArea.prototype.mime_types().indexOf(EXEC_MIME_TYPE) == -1) {\n      register_renderer(events, OutputArea);\n    }\n  } catch(err) {\n  }\n}\n",
      "application/vnd.holoviews_load.v0+json": ""
     },
     "metadata": {},
     "output_type": "display_data"
    },
    {
     "data": {
      "text/html": [
       "<style>*[data-root-id],\n",
       "*[data-root-id] > * {\n",
       "  box-sizing: border-box;\n",
       "  font-family: var(--jp-ui-font-family);\n",
       "  font-size: var(--jp-ui-font-size1);\n",
       "  color: var(--vscode-editor-foreground, var(--jp-ui-font-color1));\n",
       "}\n",
       "\n",
       "/* Override VSCode background color */\n",
       ".cell-output-ipywidget-background:has(\n",
       "    > .cell-output-ipywidget-background > .lm-Widget > *[data-root-id]\n",
       "  ),\n",
       ".cell-output-ipywidget-background:has(> .lm-Widget > *[data-root-id]) {\n",
       "  background-color: transparent !important;\n",
       "}\n",
       "</style>"
      ]
     },
     "metadata": {},
     "output_type": "display_data"
    },
    {
     "data": {
      "application/vnd.holoviews_exec.v0+json": "",
      "text/html": [
       "<div id='ce14be67-28fd-4705-8f4e-7ae6d0e4bfc6'>\n",
       "  <div id=\"d308c431-43eb-4920-84dd-7939f73ff8d4\" data-root-id=\"ce14be67-28fd-4705-8f4e-7ae6d0e4bfc6\" style=\"display: contents;\"></div>\n",
       "</div>\n",
       "<script type=\"application/javascript\">(function(root) {\n",
       "  var docs_json = {\"d0dc6f21-70a9-4e45-a26c-6bbc2de14ae5\":{\"version\":\"3.4.1\",\"title\":\"Bokeh Application\",\"roots\":[{\"type\":\"object\",\"name\":\"panel.models.browser.BrowserInfo\",\"id\":\"ce14be67-28fd-4705-8f4e-7ae6d0e4bfc6\"},{\"type\":\"object\",\"name\":\"panel.models.comm_manager.CommManager\",\"id\":\"d46ec4b1-5243-463e-900e-3ff2e3e8be5b\",\"attributes\":{\"plot_id\":\"ce14be67-28fd-4705-8f4e-7ae6d0e4bfc6\",\"comm_id\":\"78c770277a764fe8adce7339f98f22af\",\"client_comm_id\":\"087d7816d5634ab29b2c8acba7c7491f\"}}],\"defs\":[{\"type\":\"model\",\"name\":\"ReactiveHTML1\"},{\"type\":\"model\",\"name\":\"FlexBox1\",\"properties\":[{\"name\":\"align_content\",\"kind\":\"Any\",\"default\":\"flex-start\"},{\"name\":\"align_items\",\"kind\":\"Any\",\"default\":\"flex-start\"},{\"name\":\"flex_direction\",\"kind\":\"Any\",\"default\":\"row\"},{\"name\":\"flex_wrap\",\"kind\":\"Any\",\"default\":\"wrap\"},{\"name\":\"gap\",\"kind\":\"Any\",\"default\":\"\"},{\"name\":\"justify_content\",\"kind\":\"Any\",\"default\":\"flex-start\"}]},{\"type\":\"model\",\"name\":\"FloatPanel1\",\"properties\":[{\"name\":\"config\",\"kind\":\"Any\",\"default\":{\"type\":\"map\"}},{\"name\":\"contained\",\"kind\":\"Any\",\"default\":true},{\"name\":\"position\",\"kind\":\"Any\",\"default\":\"right-top\"},{\"name\":\"offsetx\",\"kind\":\"Any\",\"default\":null},{\"name\":\"offsety\",\"kind\":\"Any\",\"default\":null},{\"name\":\"theme\",\"kind\":\"Any\",\"default\":\"primary\"},{\"name\":\"status\",\"kind\":\"Any\",\"default\":\"normalized\"}]},{\"type\":\"model\",\"name\":\"GridStack1\",\"properties\":[{\"name\":\"mode\",\"kind\":\"Any\",\"default\":\"warn\"},{\"name\":\"ncols\",\"kind\":\"Any\",\"default\":null},{\"name\":\"nrows\",\"kind\":\"Any\",\"default\":null},{\"name\":\"allow_resize\",\"kind\":\"Any\",\"default\":true},{\"name\":\"allow_drag\",\"kind\":\"Any\",\"default\":true},{\"name\":\"state\",\"kind\":\"Any\",\"default\":[]}]},{\"type\":\"model\",\"name\":\"drag1\",\"properties\":[{\"name\":\"slider_width\",\"kind\":\"Any\",\"default\":5},{\"name\":\"slider_color\",\"kind\":\"Any\",\"default\":\"black\"},{\"name\":\"value\",\"kind\":\"Any\",\"default\":50}]},{\"type\":\"model\",\"name\":\"click1\",\"properties\":[{\"name\":\"terminal_output\",\"kind\":\"Any\",\"default\":\"\"},{\"name\":\"debug_name\",\"kind\":\"Any\",\"default\":\"\"},{\"name\":\"clears\",\"kind\":\"Any\",\"default\":0}]},{\"type\":\"model\",\"name\":\"FastWrapper1\",\"properties\":[{\"name\":\"object\",\"kind\":\"Any\",\"default\":null},{\"name\":\"style\",\"kind\":\"Any\",\"default\":null}]},{\"type\":\"model\",\"name\":\"NotificationAreaBase1\",\"properties\":[{\"name\":\"js_events\",\"kind\":\"Any\",\"default\":{\"type\":\"map\"}},{\"name\":\"position\",\"kind\":\"Any\",\"default\":\"bottom-right\"},{\"name\":\"_clear\",\"kind\":\"Any\",\"default\":0}]},{\"type\":\"model\",\"name\":\"NotificationArea1\",\"properties\":[{\"name\":\"js_events\",\"kind\":\"Any\",\"default\":{\"type\":\"map\"}},{\"name\":\"notifications\",\"kind\":\"Any\",\"default\":[]},{\"name\":\"position\",\"kind\":\"Any\",\"default\":\"bottom-right\"},{\"name\":\"_clear\",\"kind\":\"Any\",\"default\":0},{\"name\":\"types\",\"kind\":\"Any\",\"default\":[{\"type\":\"map\",\"entries\":[[\"type\",\"warning\"],[\"background\",\"#ffc107\"],[\"icon\",{\"type\":\"map\",\"entries\":[[\"className\",\"fas fa-exclamation-triangle\"],[\"tagName\",\"i\"],[\"color\",\"white\"]]}]]},{\"type\":\"map\",\"entries\":[[\"type\",\"info\"],[\"background\",\"#007bff\"],[\"icon\",{\"type\":\"map\",\"entries\":[[\"className\",\"fas fa-info-circle\"],[\"tagName\",\"i\"],[\"color\",\"white\"]]}]]}]}]},{\"type\":\"model\",\"name\":\"Notification\",\"properties\":[{\"name\":\"background\",\"kind\":\"Any\",\"default\":null},{\"name\":\"duration\",\"kind\":\"Any\",\"default\":3000},{\"name\":\"icon\",\"kind\":\"Any\",\"default\":null},{\"name\":\"message\",\"kind\":\"Any\",\"default\":\"\"},{\"name\":\"notification_type\",\"kind\":\"Any\",\"default\":null},{\"name\":\"_destroyed\",\"kind\":\"Any\",\"default\":false}]},{\"type\":\"model\",\"name\":\"TemplateActions1\",\"properties\":[{\"name\":\"open_modal\",\"kind\":\"Any\",\"default\":0},{\"name\":\"close_modal\",\"kind\":\"Any\",\"default\":0}]},{\"type\":\"model\",\"name\":\"BootstrapTemplateActions1\",\"properties\":[{\"name\":\"open_modal\",\"kind\":\"Any\",\"default\":0},{\"name\":\"close_modal\",\"kind\":\"Any\",\"default\":0}]},{\"type\":\"model\",\"name\":\"TemplateEditor1\",\"properties\":[{\"name\":\"layout\",\"kind\":\"Any\",\"default\":[]}]},{\"type\":\"model\",\"name\":\"MaterialTemplateActions1\",\"properties\":[{\"name\":\"open_modal\",\"kind\":\"Any\",\"default\":0},{\"name\":\"close_modal\",\"kind\":\"Any\",\"default\":0}]},{\"type\":\"model\",\"name\":\"copy_to_clipboard1\",\"properties\":[{\"name\":\"fill\",\"kind\":\"Any\",\"default\":\"none\"},{\"name\":\"value\",\"kind\":\"Any\",\"default\":null}]}]}};\n",
       "  var render_items = [{\"docid\":\"d0dc6f21-70a9-4e45-a26c-6bbc2de14ae5\",\"roots\":{\"ce14be67-28fd-4705-8f4e-7ae6d0e4bfc6\":\"d308c431-43eb-4920-84dd-7939f73ff8d4\"},\"root_ids\":[\"ce14be67-28fd-4705-8f4e-7ae6d0e4bfc6\"]}];\n",
       "  var docs = Object.values(docs_json)\n",
       "  if (!docs) {\n",
       "    return\n",
       "  }\n",
       "  const py_version = docs[0].version.replace('rc', '-rc.').replace('.dev', '-dev.')\n",
       "  async function embed_document(root) {\n",
       "    var Bokeh = get_bokeh(root)\n",
       "    await Bokeh.embed.embed_items_notebook(docs_json, render_items);\n",
       "    for (const render_item of render_items) {\n",
       "      for (const root_id of render_item.root_ids) {\n",
       "\tconst id_el = document.getElementById(root_id)\n",
       "\tif (id_el.children.length && id_el.children[0].hasAttribute('data-root-id')) {\n",
       "\t  const root_el = id_el.children[0]\n",
       "\t  root_el.id = root_el.id + '-rendered'\n",
       "\t  for (const child of root_el.children) {\n",
       "            // Ensure JupyterLab does not capture keyboard shortcuts\n",
       "            // see: https://jupyterlab.readthedocs.io/en/4.1.x/extension/notebook.html#keyboard-interaction-model\n",
       "\t    child.setAttribute('data-lm-suppress-shortcuts', 'true')\n",
       "\t  }\n",
       "\t}\n",
       "      }\n",
       "    }\n",
       "  }\n",
       "  function get_bokeh(root) {\n",
       "    if (root.Bokeh === undefined) {\n",
       "      return null\n",
       "    } else if (root.Bokeh.version !== py_version) {\n",
       "      if (root.Bokeh.versions === undefined || !root.Bokeh.versions.has(py_version)) {\n",
       "\treturn null\n",
       "      }\n",
       "      return root.Bokeh.versions.get(py_version);\n",
       "    } else if (root.Bokeh.version === py_version) {\n",
       "      return root.Bokeh\n",
       "    }\n",
       "    return null\n",
       "  }\n",
       "  function is_loaded(root) {\n",
       "    var Bokeh = get_bokeh(root)\n",
       "    return (Bokeh != null && Bokeh.Panel !== undefined)\n",
       "  }\n",
       "  if (is_loaded(root)) {\n",
       "    embed_document(root);\n",
       "  } else {\n",
       "    var attempts = 0;\n",
       "    var timer = setInterval(function(root) {\n",
       "      if (is_loaded(root)) {\n",
       "        clearInterval(timer);\n",
       "        embed_document(root);\n",
       "      } else if (document.readyState == \"complete\") {\n",
       "        attempts++;\n",
       "        if (attempts > 200) {\n",
       "          clearInterval(timer);\n",
       "\t  var Bokeh = get_bokeh(root)\n",
       "\t  if (Bokeh == null || Bokeh.Panel == null) {\n",
       "            console.warn(\"Panel: ERROR: Unable to run Panel code because Bokeh or Panel library is missing\");\n",
       "\t  } else {\n",
       "\t    console.warn(\"Panel: WARNING: Attempting to render but not all required libraries could be resolved.\")\n",
       "\t    embed_document(root)\n",
       "\t  }\n",
       "        }\n",
       "      }\n",
       "    }, 25, root)\n",
       "  }\n",
       "})(window);</script>"
      ]
     },
     "metadata": {
      "application/vnd.holoviews_exec.v0+json": {
       "id": "ce14be67-28fd-4705-8f4e-7ae6d0e4bfc6"
      }
     },
     "output_type": "display_data"
    }
   ],
   "source": [
    "import panel as pn\n",
    "from dotenv import load_dotenv\n",
    "import param\n",
    "\n",
    "load_dotenv()\n",
    "\n",
    "pn.extension()"
   ]
  },
  {
   "cell_type": "code",
   "execution_count": null,
   "metadata": {},
   "outputs": [],
   "source": []
  },
  {
   "cell_type": "code",
   "execution_count": 3,
   "metadata": {},
   "outputs": [],
   "source": [
    "# Try to use --design-... variables first\n",
    "pn.config.global_css = [\n",
    "    \"\"\"\n",
    "@import url('https://fonts.googleapis.com/css2?family=Hanken+Grotesk:ital,wght@0,100..900;1,100..900&family=Ubuntu:ital,wght@0,300;0,400;0,500;0,700;1,300;1,400;1,500;1,700&display=swap');\n",
    "body {\n",
    "    --primary-background-color: #0C1314;\n",
    "    --secondary-background-color: #111926;\n",
    "    --light-outline-color: #F4F6F8;\n",
    "    --primary-accent-color: #D33A4B;\n",
    "    --secondary-accent-color: #EDB737;\n",
    "    --tertiary-accent-color: #12B86C;\n",
    "    --white: #F4F6F8;\n",
    "\n",
    "    --base-font: 'Hanken Grotesk', sans-serif;\n",
    "    --bokeh-base-font: 'Hanken Grotesk', sans-serif;\n",
    "    --bokeh-font-size: 16px;\n",
    "    --design-background-text-color: var(--white);\n",
    "\n",
    "    \n",
    "    background-color: var(--primary-background-color);\n",
    "    /* Centering Body */\n",
    "    display: flex;\n",
    "    justify-content: center;\n",
    "    align-items: center;\n",
    "}\n",
    "\"\"\"\n",
    "]"
   ]
  },
  {
   "cell_type": "code",
   "execution_count": 4,
   "metadata": {},
   "outputs": [],
   "source": [
    "# srv.stop()"
   ]
  },
  {
   "cell_type": "code",
   "execution_count": 5,
   "metadata": {},
   "outputs": [],
   "source": [
    "# from pyllments.payloads.message import MessagePayload\n",
    "# from langchain_core.messages import HumanMessage\n",
    "\n",
    "# msg =MessagePayload(\n",
    "#     message=HumanMessage(content='Hello'), role='human'\n",
    "# ).create_message_view()\n",
    "# srv = pn.serve(msg)\n",
    "# msg"
   ]
  },
  {
   "cell_type": "code",
   "execution_count": 6,
   "metadata": {},
   "outputs": [],
   "source": [
    "# # Create a toggle button to expand/collapse the content\n",
    "# toggle = pn.widgets.Toggle(icon='chevron-down', sizing_mode='stretch_height', name='Expand', button_type='primary')\n",
    "\n",
    "# # Create the initial markdown content with a short preview\n",
    "# initial_content = \"\"\"\n",
    "# ## Expanded Content\n",
    "# This is a short preview of the content...\n",
    "# \"\"\"\n",
    "\n",
    "# # Create the full markdown content to be displayed when expanded\n",
    "# full_content = \"\"\"\n",
    "# ## Expanded Content\n",
    "\n",
    "# This is the full content that will be shown when the toggle is activated. \n",
    "# It contains additional information and details...\n",
    "# \"\"\"\n",
    "\n",
    "# # Add a CSS stylesheet for improved transition effects\n",
    "# transition_css = \"\"\"\n",
    "# .expandable-content {\n",
    "#     transition: max-height 0.5s ease-out, opacity 0.5s ease-out;\n",
    "#     max-height: 50px;\n",
    "#     opacity: 0.7;\n",
    "#     overflow: hidden;\n",
    "# }\n",
    "# .expandable-content.expanded {\n",
    "#     max-height: 1000px;\n",
    "#     opacity: 1;\n",
    "# }\n",
    "# \"\"\"\n",
    "\n",
    "# # Create a markdown pane for the content\n",
    "# expandable_content = pn.pane.Markdown(initial_content, sizing_mode='stretch_width', css_classes=['expandable-content'])\n",
    "\n",
    "# # Create a function to toggle the visibility of the content and update the text\n",
    "# def toggle_visibility(event):\n",
    "#     if event.new:  # If the toggle is activated\n",
    "#         expandable_content.object = full_content\n",
    "#         expandable_content.css_classes = ['expandable-content', 'expanded']\n",
    "#     else:  # If the toggle is deactivated\n",
    "#         expandable_content.object = initial_content\n",
    "#         expandable_content.css_classes = ['expandable-content']\n",
    "\n",
    "# # Link the toggle button to the visibility function\n",
    "# toggle.param.watch(toggle_visibility, 'value')\n",
    "\n",
    "# # Create the row layout with the toggle button and expandable content\n",
    "# row = pn.Row(\n",
    "#     toggle,\n",
    "#     expandable_content,\n",
    "#     sizing_mode='stretch_width'\n",
    "# )\n",
    "\n",
    "# # Apply the custom CSS\n",
    "# pn.extension(raw_css=[transition_css])\n",
    "\n",
    "# # Display the row\n",
    "# srv = pn.serve(row.servable())\n",
    "# row"
   ]
  },
  {
   "cell_type": "code",
   "execution_count": 7,
   "metadata": {},
   "outputs": [],
   "source": [
    "from pyllments.logging import setup_logging\n",
    "setup_logging(log_file='main.log', stdout_log_level='DEBUG', file_log_level='INFO')\n",
    "from loguru import logger\n",
    "\n",
    "from pyllments.elements.chat_interface import ChatInterfaceElement\n",
    "from pyllments.elements.llm_chat import LLMChatElement\n",
    "\n",
    "from pyllments.elements.context_builder import ContextBuilderElement"
   ]
  },
  {
   "cell_type": "markdown",
   "metadata": {},
   "source": [
    "# Main"
   ]
  },
  {
   "cell_type": "code",
   "execution_count": 29,
   "metadata": {},
   "outputs": [],
   "source": [
    "class CC(param.Parameterized):\n",
    "    \"\"\"A custom parameterized class for demonstration purposes.\"\"\"\n",
    "    \n",
    "    # Define parameters for the class\n",
    "    example_param = param.String(default='default_value', doc=\"An example parameter.\")\n",
    "\n",
    "    def __init__(self, **params):\n",
    "        super().__init__(**params)\n",
    "          # Set the name of the instance\n"
   ]
  },
  {
   "cell_type": "code",
   "execution_count": 33,
   "metadata": {},
   "outputs": [
    {
     "data": {
      "text/plain": [
       "'waaat'"
      ]
     },
     "execution_count": 33,
     "metadata": {},
     "output_type": "execute_result"
    }
   ],
   "source": [
    "c = CC(name='waaat')\n",
    "c.name"
   ]
  },
  {
   "cell_type": "code",
   "execution_count": 6,
   "metadata": {},
   "outputs": [],
   "source": [
    "chat_interface = ChatInterfaceElement()\n",
    "\n",
    "llm_chat = LLMChatElement(output_mode='stream')\n",
    "\n",
    "chat_interface.ports.output['message_output'] > llm_chat.ports.input['messages_input']\n",
    "llm_chat.ports.output['message_output'] > chat_interface.ports.input['message_input']\n"
   ]
  },
  {
   "cell_type": "code",
   "execution_count": 7,
   "metadata": {},
   "outputs": [
    {
     "data": {
      "application/vnd.jupyter.widget-view+json": {
       "model_id": "331a8861fdfc413f8e55050c768121f2",
       "version_major": 2,
       "version_minor": 0
      },
      "text/plain": [
       "BokehModel(combine_events=True, render_bundle={'docs_json': {'6cebad53-76b8-49c9-a3a7-cadbdb1a2324': {'version…"
      ]
     },
     "execution_count": 7,
     "metadata": {},
     "output_type": "execute_result"
    },
    {
     "name": "stdout",
     "output_type": "stream",
     "text": [
      "\u001b[32m2024-07-25 01:52:48.594\u001b[0m | \u001b[1mINFO    \u001b[0m | Staging: ChatInterfaceElement | message_output | Staged Item: new_message: MessagePayload\n",
      "\u001b[32m2024-07-25 01:52:48.594\u001b[0m | \u001b[1mINFO    \u001b[0m | Emitting from ChatInterfaceElement | Port: message_output | Payload: MessagePayload\n",
      "\u001b[32m2024-07-25 01:52:48.595\u001b[0m | \u001b[1mINFO    \u001b[0m | Receiving in LLMChatElement | Port: messages_input | Payload: MessagePayload\n",
      "\u001b[32m2024-07-25 01:52:48.595\u001b[0m | \u001b[1mINFO    \u001b[0m | Staging: LLMChatElement | message_output | Staged Item: outgoing_message: generator\n",
      "\u001b[32m2024-07-25 01:52:48.595\u001b[0m | \u001b[1mINFO    \u001b[0m | Emitting from LLMChatElement | Port: message_output | Payload: MessagePayload\n",
      "\u001b[32m2024-07-25 01:52:48.596\u001b[0m | \u001b[1mINFO    \u001b[0m | Receiving in ChatInterfaceElement | Port: message_input | Payload: MessagePayload\n"
     ]
    }
   ],
   "source": [
    "chatfeed_view = chat_interface.create_chatfeed_view(height=300, auto_scroll_limit=1, width=500)\n",
    "send_button_view = chat_interface.create_send_button_view(width=70, height=70)\n",
    "chat_input_view = chat_interface.create_chat_input_view(width=400)\n",
    "\n",
    "pn.Column(\n",
    "    chatfeed_view,\n",
    "    pn.Row(chat_input_view, send_button_view)\n",
    ").servable()"
   ]
  },
  {
   "cell_type": "code",
   "execution_count": null,
   "metadata": {},
   "outputs": [
    {
     "data": {
      "text/plain": [
       "1"
      ]
     },
     "metadata": {},
     "output_type": "display_data"
    }
   ],
   "source": []
  },
  {
   "cell_type": "code",
   "execution_count": 5,
   "metadata": {},
   "outputs": [
    {
     "data": {
      "application/vnd.jupyter.widget-view+json": {
       "model_id": "76c9e0a5678b4d2ca10bdfdf59a885eb",
       "version_major": 2,
       "version_minor": 0
      },
      "text/plain": [
       "BokehModel(combine_events=True, render_bundle={'docs_json': {'ff2e312d-8ee8-40f2-8adc-194193dcb506': {'version…"
      ]
     },
     "execution_count": 5,
     "metadata": {},
     "output_type": "execute_result"
    },
    {
     "name": "stdout",
     "output_type": "stream",
     "text": [
      "\u001b[32m2024-07-28 18:36:04.221\u001b[0m | \u001b[33m\u001b[1mWARNING \u001b[0m | CSS file not found: /workspaces/pyllments/pyllments/elements/chat_interface/css/payload_human_markdown.css\n",
      "\u001b[32m2024-07-28 18:36:04.223\u001b[0m | \u001b[33m\u001b[1mWARNING \u001b[0m | CSS file not found: /workspaces/pyllments/pyllments/elements/chat_interface/css/payload_human_row.css\n",
      "\u001b[32m2024-07-28 18:36:04.224\u001b[0m | \u001b[33m\u001b[1mWARNING \u001b[0m | CSS file not found: /workspaces/pyllments/pyllments/elements/chat_interface/css/payload_ai_markdown.css\n",
      "\u001b[32m2024-07-28 18:36:04.226\u001b[0m | \u001b[33m\u001b[1mWARNING \u001b[0m | CSS file not found: /workspaces/pyllments/pyllments/elements/chat_interface/css/payload_ai_row.css\n",
      "\u001b[32m2024-07-28 18:36:04.240\u001b[0m | \u001b[1mINFO    \u001b[0m | Staging: ChatInterfaceElement | message_output | Staged Item: new_message: MessagePayload\n",
      "\u001b[32m2024-07-28 18:36:04.241\u001b[0m | \u001b[1mINFO    \u001b[0m | Emitting from ChatInterfaceElement | Port: message_output | Payload: MessagePayload\n",
      "\u001b[32m2024-07-28 18:36:04.241\u001b[0m | \u001b[1mINFO    \u001b[0m | Receiving in ContextBuilderElement | Port: message_input | Payload: MessagePayload\n",
      "\u001b[32m2024-07-28 18:36:04.471\u001b[0m | \u001b[1mINFO    \u001b[0m | Staging: ContextBuilderElement | messages_output | Staged Item: context: deque\n",
      "\u001b[32m2024-07-28 18:36:04.471\u001b[0m | \u001b[1mINFO    \u001b[0m | Emitting from ContextBuilderElement | Port: messages_output | Payload: list\n",
      "\u001b[32m2024-07-28 18:36:04.472\u001b[0m | \u001b[1mINFO    \u001b[0m | Receiving in LLMChatElement | Port: messages_input | Payload: list\n",
      "\u001b[32m2024-07-28 18:36:04.472\u001b[0m | \u001b[1mINFO    \u001b[0m | Staging: LLMChatElement | message_output | Staged Item: outgoing_message: generator\n",
      "\u001b[32m2024-07-28 18:36:04.472\u001b[0m | \u001b[1mINFO    \u001b[0m | Emitting from LLMChatElement | Port: message_output | Payload: MessagePayload\n",
      "\u001b[32m2024-07-28 18:36:04.472\u001b[0m | \u001b[1mINFO    \u001b[0m | Receiving in ChatInterfaceElement | Port: message_input | Payload: MessagePayload\n",
      "\u001b[32m2024-07-28 18:36:05.691\u001b[0m | \u001b[1mINFO    \u001b[0m | Receiving in ContextBuilderElement | Port: message_input | Payload: MessagePayload\n"
     ]
    }
   ],
   "source": [
    "chat_interface = ChatInterfaceElement() \n",
    "\n",
    "llm_chat = LLMChatElement(output_mode='stream')\n",
    "\n",
    "context_builder = ContextBuilderElement()\n",
    "\n",
    "chat_interface.ports.output['message_output'] > \\\n",
    "    context_builder.ports.input['message_input']\n",
    "\n",
    "context_builder.ports.output['messages_output'] > \\\n",
    "    llm_chat.ports.input['messages_input']\n",
    "\n",
    "llm_chat.ports.output['message_output'] > (\n",
    "    chat_interface.ports.input['message_input'],\n",
    "    context_builder.ports.input['message_input']\n",
    "    )\n",
    "\n",
    "chatfeed_view = chat_interface.create_chatfeed_view(height=300, auto_scroll_limit=1, width=500)\n",
    "send_button_view = chat_interface.create_send_button_view(width=70, height=70)\n",
    "chat_input_view = chat_interface.create_chat_input_view(width=400)\n",
    "context_view = context_builder.create_context_view()\n",
    "\n",
    "interface = pn.Column(\n",
    "    pn.Row(chatfeed_view, context_view),\n",
    "    pn.Row(chat_input_view, send_button_view),\n",
    "    \n",
    ").servable()\n",
    "interface"
   ]
  },
  {
   "cell_type": "code",
   "execution_count": 8,
   "metadata": {},
   "outputs": [
    {
     "name": "stdout",
     "output_type": "stream",
     "text": [
      "Launching server at http://localhost:37055\n"
     ]
    },
    {
     "name": "stdout",
     "output_type": "stream",
     "text": [
      "\u001b[32m2024-07-28 05:33:54.229\u001b[0m | \u001b[33m\u001b[1mWARNING \u001b[0m | CSS file not found: /workspaces/pyllments/pyllments/elements/chat_interface/css/payload_human_markdown.css\n",
      "\u001b[32m2024-07-28 05:33:54.232\u001b[0m | \u001b[33m\u001b[1mWARNING \u001b[0m | CSS file not found: /workspaces/pyllments/pyllments/elements/chat_interface/css/payload_human_row.css\n",
      "\u001b[32m2024-07-28 05:33:54.233\u001b[0m | \u001b[33m\u001b[1mWARNING \u001b[0m | CSS file not found: /workspaces/pyllments/pyllments/elements/chat_interface/css/payload_ai_markdown.css\n",
      "\u001b[32m2024-07-28 05:33:54.235\u001b[0m | \u001b[33m\u001b[1mWARNING \u001b[0m | CSS file not found: /workspaces/pyllments/pyllments/elements/chat_interface/css/payload_ai_row.css\n",
      "\u001b[32m2024-07-28 05:33:54.243\u001b[0m | \u001b[1mINFO    \u001b[0m | Staging: ChatInterfaceElement | message_output | Staged Item: new_message: MessagePayload\n",
      "\u001b[32m2024-07-28 05:33:54.244\u001b[0m | \u001b[1mINFO    \u001b[0m | Emitting from ChatInterfaceElement | Port: message_output | Payload: MessagePayload\n",
      "\u001b[32m2024-07-28 05:33:54.244\u001b[0m | \u001b[1mINFO    \u001b[0m | Receiving in ContextBuilderElement | Port: message_input | Payload: MessagePayload\n",
      "\u001b[32m2024-07-28 05:33:54.245\u001b[0m | \u001b[1mINFO    \u001b[0m | Staging: ContextBuilderElement | messages_output | Staged Item: context: deque\n",
      "\u001b[32m2024-07-28 05:33:54.246\u001b[0m | \u001b[1mINFO    \u001b[0m | Emitting from ContextBuilderElement | Port: messages_output | Payload: list\n",
      "\u001b[32m2024-07-28 05:33:54.246\u001b[0m | \u001b[1mINFO    \u001b[0m | Receiving in LLMChatElement | Port: messages_input | Payload: list\n",
      "\u001b[32m2024-07-28 05:33:54.246\u001b[0m | \u001b[1mINFO    \u001b[0m | Staging: LLMChatElement | message_output | Staged Item: outgoing_message: generator\n",
      "\u001b[32m2024-07-28 05:33:54.247\u001b[0m | \u001b[1mINFO    \u001b[0m | Emitting from LLMChatElement | Port: message_output | Payload: MessagePayload\n",
      "\u001b[32m2024-07-28 05:33:54.247\u001b[0m | \u001b[1mINFO    \u001b[0m | Receiving in ChatInterfaceElement | Port: message_input | Payload: MessagePayload\n",
      "\u001b[32m2024-07-28 05:33:55.168\u001b[0m | \u001b[1mINFO    \u001b[0m | Receiving in ContextBuilderElement | Port: message_input | Payload: MessagePayload\n"
     ]
    }
   ],
   "source": [
    "srv = pn.serve(interface)"
   ]
  },
  {
   "cell_type": "code",
   "execution_count": 10,
   "metadata": {},
   "outputs": [
    {
     "data": {
      "text/plain": [
       "{'human_markdown': \":host {\\n  --base-font: 'Hanken Grotesk', sans-serif;\\n  color: #F4F6F8;\\n  font-weight: 300;\\n}\\n\\np {\\n  font-family: var(--base-font);\\n}\",\n",
       " 'human_row': ':host {\\n    max-height: none; /* Fixes streaming issue in Panel */\\n    background-color: #0C1314;\\n    border-right: 2px solid #12B86C;\\n    width: 100%;\\n}',\n",
       " 'ai_markdown': \":host {\\n    --base-font: 'Hanken Grotesk', sans-serif;\\n\\n    color: #F4F6F8;\\n    width: 80%;\\n    margin: auto;\\n}\\n\\np {\\n    font-family: var(--base-font);\\n}\\n\",\n",
       " 'ai_row': ':host {\\n  max-height: none;\\n  align-items: center;\\n  justify-content: center;\\n  width: 100%;\\n}'}"
      ]
     },
     "execution_count": 10,
     "metadata": {},
     "output_type": "execute_result"
    }
   ],
   "source": [
    "chat_interface.model.message_list[0].css_cache['message_view']"
   ]
  },
  {
   "cell_type": "code",
   "execution_count": 7,
   "metadata": {},
   "outputs": [
    {
     "data": {
      "text/plain": [
       "PosixPath('/workspaces/pyllments/pyllments/payloads/message')"
      ]
     },
     "execution_count": 7,
     "metadata": {},
     "output_type": "execute_result"
    }
   ],
   "source": [
    "from pyllments.payloads.message import MessagePayload\n",
    "MessagePayload()._get_module_path()"
   ]
  },
  {
   "cell_type": "code",
   "execution_count": 7,
   "metadata": {},
   "outputs": [],
   "source": [
    "# Define three stylesheets as strings to change the background color of the specified div\n",
    "green_stylesheet = \"\"\".noUi-connect { \n",
    "    background-color: green !important;\n",
    "}\"\"\"\n",
    "\n",
    "red_stylesheet = \"\"\".noUi-connect {\n",
    "    background-color: red !important;\n",
    "}\n",
    "    .noUi-handle {\n",
    "    background-color: green !important;\n",
    "}\n",
    "\"\"\"\n",
    "\n",
    "\n",
    "\n",
    "purple_stylesheet = \"\"\".noUi-connect {\n",
    "    background-color: purple !important;\n",
    "}\"\"\"\n",
    "\n",
    "# These stylesheets can be applied to the relevant Panel components to change the background color of the div\n"
   ]
  },
  {
   "cell_type": "code",
   "execution_count": 11,
   "metadata": {},
   "outputs": [
    {
     "data": {
      "application/vnd.jupyter.widget-view+json": {
       "model_id": "0f9eab0995ce45b09c6019435f40cb9f",
       "version_major": 2,
       "version_minor": 0
      },
      "text/plain": [
       "BokehModel(combine_events=True, render_bundle={'docs_json': {'4a0fdd29-5d66-445a-95c0-00b4d4bb1d5d': {'version…"
      ]
     },
     "execution_count": 11,
     "metadata": {},
     "output_type": "execute_result"
    }
   ],
   "source": [
    "pn.widgets.RangeSlider(start=0, end=10, step=1, value=(0, 10),\n",
    "                                      stylesheets=['', '']).servable()"
   ]
  },
  {
   "cell_type": "code",
   "execution_count": 27,
   "metadata": {},
   "outputs": [
    {
     "name": "stdout",
     "output_type": "stream",
     "text": [
      "Launching server at http://localhost:34563\n"
     ]
    }
   ],
   "source": [
    "srv = pn.serve(pn.widgets.RangeSlider(start=0, end=10, step=1, value=(0, 10),\n",
    "                                      stylesheets=[green_stylesheet, red_stylesheet, purple_stylesheet ]))"
   ]
  },
  {
   "cell_type": "code",
   "execution_count": null,
   "metadata": {},
   "outputs": [],
   "source": []
  },
  {
   "cell_type": "code",
   "execution_count": 26,
   "metadata": {},
   "outputs": [
    {
     "ename": "AssertionError",
     "evalue": "Already stopped",
     "output_type": "error",
     "traceback": [
      "\u001b[0;31m---------------------------------------------------------------------------\u001b[0m",
      "\u001b[0;31mAssertionError\u001b[0m                            Traceback (most recent call last)",
      "Cell \u001b[0;32mIn[26], line 1\u001b[0m\n\u001b[0;32m----> 1\u001b[0m srv\u001b[38;5;241m.\u001b[39mstop()\n",
      "File \u001b[0;32m~/miniconda3/envs/pyllments/lib/python3.12/site-packages/panel/io/server.py:355\u001b[0m, in \u001b[0;36mServer.stop\u001b[0;34m(self, wait)\u001b[0m\n\u001b[1;32m    353\u001b[0m         \u001b[38;5;28;01mawait\u001b[39;00m \u001b[38;5;28mself\u001b[39m\u001b[38;5;241m.\u001b[39m_autoreload_task\n\u001b[1;32m    354\u001b[0m     \u001b[38;5;28mself\u001b[39m\u001b[38;5;241m.\u001b[39m_loop\u001b[38;5;241m.\u001b[39masyncio_loop\u001b[38;5;241m.\u001b[39mrun_until_complete(stop_autoreload())\n\u001b[0;32m--> 355\u001b[0m \u001b[38;5;28msuper\u001b[39m()\u001b[38;5;241m.\u001b[39mstop(wait\u001b[38;5;241m=\u001b[39mwait)\n\u001b[1;32m    356\u001b[0m \u001b[38;5;28;01mif\u001b[39;00m state\u001b[38;5;241m.\u001b[39m_admin_context:\n\u001b[1;32m    357\u001b[0m     state\u001b[38;5;241m.\u001b[39m_admin_context\u001b[38;5;241m.\u001b[39mrun_unload_hook()\n",
      "File \u001b[0;32m~/miniconda3/envs/pyllments/lib/python3.12/site-packages/bokeh/server/server.py:167\u001b[0m, in \u001b[0;36mBaseServer.stop\u001b[0;34m(self, wait)\u001b[0m\n\u001b[1;32m    153\u001b[0m \u001b[38;5;28;01mdef\u001b[39;00m \u001b[38;5;21mstop\u001b[39m(\u001b[38;5;28mself\u001b[39m, wait: \u001b[38;5;28mbool\u001b[39m \u001b[38;5;241m=\u001b[39m \u001b[38;5;28;01mTrue\u001b[39;00m) \u001b[38;5;241m-\u001b[39m\u001b[38;5;241m>\u001b[39m \u001b[38;5;28;01mNone\u001b[39;00m:\n\u001b[1;32m    154\u001b[0m \u001b[38;5;250m    \u001b[39m\u001b[38;5;124;03m''' Stop the Bokeh Server.\u001b[39;00m\n\u001b[1;32m    155\u001b[0m \n\u001b[1;32m    156\u001b[0m \u001b[38;5;124;03m    This stops and removes all Bokeh Server ``IOLoop`` callbacks, as well\u001b[39;00m\n\u001b[0;32m   (...)\u001b[0m\n\u001b[1;32m    165\u001b[0m \n\u001b[1;32m    166\u001b[0m \u001b[38;5;124;03m    '''\u001b[39;00m\n\u001b[0;32m--> 167\u001b[0m     \u001b[38;5;28;01massert\u001b[39;00m \u001b[38;5;129;01mnot\u001b[39;00m \u001b[38;5;28mself\u001b[39m\u001b[38;5;241m.\u001b[39m_stopped, \u001b[38;5;124m\"\u001b[39m\u001b[38;5;124mAlready stopped\u001b[39m\u001b[38;5;124m\"\u001b[39m\n\u001b[1;32m    168\u001b[0m     \u001b[38;5;28mself\u001b[39m\u001b[38;5;241m.\u001b[39m_stopped \u001b[38;5;241m=\u001b[39m \u001b[38;5;28;01mTrue\u001b[39;00m\n\u001b[1;32m    169\u001b[0m     \u001b[38;5;28mself\u001b[39m\u001b[38;5;241m.\u001b[39m_tornado\u001b[38;5;241m.\u001b[39mstop(wait)\n",
      "\u001b[0;31mAssertionError\u001b[0m: Already stopped"
     ]
    }
   ],
   "source": [
    "srv.stop()"
   ]
  },
  {
   "cell_type": "code",
   "execution_count": 7,
   "metadata": {},
   "outputs": [
    {
     "data": {
      "application/vnd.jupyter.widget-view+json": {
       "model_id": "58cb442f978b458ab42fba6d059a4ae8",
       "version_major": 2,
       "version_minor": 0
      },
      "text/plain": [
       "BokehModel(combine_events=True, render_bundle={'docs_json': {'41ff5161-490c-4273-baaf-146bf39774db': {'version…"
      ]
     },
     "execution_count": 7,
     "metadata": {},
     "output_type": "execute_result"
    },
    {
     "name": "stdout",
     "output_type": "stream",
     "text": [
      "\u001b[32m2024-07-26 23:55:51.933\u001b[0m | \u001b[1mINFO    \u001b[0m | Staging: ChatInterfaceElement | message_output | Staged Item: new_message: MessagePayload\n",
      "\u001b[32m2024-07-26 23:55:51.934\u001b[0m | \u001b[1mINFO    \u001b[0m | Emitting from ChatInterfaceElement | Port: message_output | Payload: MessagePayload\n",
      "\u001b[32m2024-07-26 23:55:51.934\u001b[0m | \u001b[1mINFO    \u001b[0m | Receiving in ContextBuilderElement | Port: message_input | Payload: MessagePayload\n",
      "\u001b[32m2024-07-26 23:55:52.148\u001b[0m | \u001b[1mINFO    \u001b[0m | Staging: ContextBuilderElement | messages_output | Staged Item: context: deque\n",
      "\u001b[32m2024-07-26 23:55:52.149\u001b[0m | \u001b[1mINFO    \u001b[0m | Emitting from ContextBuilderElement | Port: messages_output | Payload: list\n"
     ]
    }
   ],
   "source": [
    "chat_interface = ChatInterfaceElement() \n",
    "context_builder = ContextBuilderElement() \n",
    "\n",
    "chat_interface.ports.output['message_output'] > context_builder.ports.input['message_input']\n",
    "\n",
    "context_builder.model.context\n",
    "\n",
    "chatfeed_view = chat_interface.create_chatfeed_view(height=300, auto_scroll_limit=1, width=500)\n",
    "send_button_view = chat_interface.create_send_button_view(width=70, height=70)\n",
    "chat_input_view = chat_interface.create_chat_input_view(width=400)\n",
    "context_view = context_builder.create_context_view()\n",
    "\n",
    "pn.Column(\n",
    "    pn.Row(chatfeed_view, context_view),\n",
    "    pn.Row(chat_input_view, send_button_view),\n",
    "    \n",
    ").servable()"
   ]
  },
  {
   "cell_type": "code",
   "execution_count": null,
   "metadata": {},
   "outputs": [],
   "source": []
  },
  {
   "cell_type": "code",
   "execution_count": 5,
   "metadata": {},
   "outputs": [
    {
     "data": {
      "application/vnd.jupyter.widget-view+json": {
       "model_id": "2c3899b7873c4ee88d821f529034a31d",
       "version_major": 2,
       "version_minor": 0
      },
      "text/plain": [
       "BokehModel(combine_events=True, render_bundle={'docs_json': {'4def90a0-f6f2-4969-a74b-fb272ec5b402': {'version…"
      ]
     },
     "execution_count": 5,
     "metadata": {},
     "output_type": "execute_result"
    }
   ],
   "source": [
    "from pyllments.payloads.message import MessagePayload\n",
    "from langchain_core.messages import HumanMessage, AIMessage\n",
    "\n",
    "mp = MessagePayload(message=HumanMessage(content='Hello'))\n",
    "mp.create_message_view()\n"
   ]
  },
  {
   "cell_type": "code",
   "execution_count": 8,
   "metadata": {},
   "outputs": [],
   "source": [
    "from pyllments.payloads.message import MessagePayload\n",
    "from langchain_core.messages import HumanMessage, AIMessage\n",
    "\n",
    "ci = ChatInterfaceElement()"
   ]
  },
  {
   "cell_type": "code",
   "execution_count": 9,
   "metadata": {},
   "outputs": [],
   "source": [
    "ci.model.message_list.extend([\n",
    "    MessagePayload(message=HumanMessage(content='Hello'), role='human'),\n",
    "    MessagePayload(message=AIMessage(content='Hello, I am AI'), role='ai'),\n",
    "])"
   ]
  },
  {
   "cell_type": "code",
   "execution_count": 10,
   "metadata": {},
   "outputs": [
    {
     "name": "stdout",
     "output_type": "stream",
     "text": [
      "\u001b[32m2024-07-29 05:51:29.265\u001b[0m | \u001b[33m\u001b[1mWARNING \u001b[0m | CSS file not found: /workspaces/pyllments/pyllments/elements/chat_interface/css/payload_human_markdown.css\n",
      "\u001b[32m2024-07-29 05:51:29.267\u001b[0m | \u001b[33m\u001b[1mWARNING \u001b[0m | CSS file not found: /workspaces/pyllments/pyllments/elements/chat_interface/css/payload_human_row.css\n",
      "\u001b[32m2024-07-29 05:51:29.268\u001b[0m | \u001b[33m\u001b[1mWARNING \u001b[0m | CSS file not found: /workspaces/pyllments/pyllments/elements/chat_interface/css/payload_ai_markdown.css\n",
      "\u001b[32m2024-07-29 05:51:29.270\u001b[0m | \u001b[33m\u001b[1mWARNING \u001b[0m | CSS file not found: /workspaces/pyllments/pyllments/elements/chat_interface/css/payload_ai_row.css\n"
     ]
    },
    {
     "data": {
      "application/vnd.jupyter.widget-view+json": {
       "model_id": "a8feefd56f81402995a9977f4b4a44c8",
       "version_major": 2,
       "version_minor": 0
      },
      "text/plain": [
       "BokehModel(combine_events=True, render_bundle={'docs_json': {'58b124be-6a00-4d8a-9123-8947b4bf21c7': {'version…"
      ]
     },
     "execution_count": 10,
     "metadata": {},
     "output_type": "execute_result"
    }
   ],
   "source": [
    "ci.create_chatfeed_view()"
   ]
  }
 ],
 "metadata": {
  "kernelspec": {
   "display_name": "pyllments",
   "language": "python",
   "name": "python3"
  },
  "language_info": {
   "codemirror_mode": {
    "name": "ipython",
    "version": 3
   },
   "file_extension": ".py",
   "mimetype": "text/x-python",
   "name": "python",
   "nbconvert_exporter": "python",
   "pygments_lexer": "ipython3",
   "version": "3.12.4"
  }
 },
 "nbformat": 4,
 "nbformat_minor": 2
}
