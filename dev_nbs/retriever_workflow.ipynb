{
 "cells": [
  {
   "cell_type": "markdown",
   "metadata": {},
   "source": [
    "# Load"
   ]
  },
  {
   "cell_type": "code",
   "execution_count": 1,
   "metadata": {},
   "outputs": [
    {
     "data": {
      "application/javascript": "(function(root) {\n  function now() {\n    return new Date();\n  }\n\n  var force = true;\n  var py_version = '3.4.1'.replace('rc', '-rc.').replace('.dev', '-dev.');\n  var reloading = false;\n  var Bokeh = root.Bokeh;\n\n  if (typeof (root._bokeh_timeout) === \"undefined\" || force) {\n    root._bokeh_timeout = Date.now() + 5000;\n    root._bokeh_failed_load = false;\n  }\n\n  function run_callbacks() {\n    try {\n      root._bokeh_onload_callbacks.forEach(function(callback) {\n        if (callback != null)\n          callback();\n      });\n    } finally {\n      delete root._bokeh_onload_callbacks;\n    }\n    console.debug(\"Bokeh: all callbacks have finished\");\n  }\n\n  function load_libs(css_urls, js_urls, js_modules, js_exports, callback) {\n    if (css_urls == null) css_urls = [];\n    if (js_urls == null) js_urls = [];\n    if (js_modules == null) js_modules = [];\n    if (js_exports == null) js_exports = {};\n\n    root._bokeh_onload_callbacks.push(callback);\n\n    if (root._bokeh_is_loading > 0) {\n      console.debug(\"Bokeh: BokehJS is being loaded, scheduling callback at\", now());\n      return null;\n    }\n    if (js_urls.length === 0 && js_modules.length === 0 && Object.keys(js_exports).length === 0) {\n      run_callbacks();\n      return null;\n    }\n    if (!reloading) {\n      console.debug(\"Bokeh: BokehJS not loaded, scheduling load and callback at\", now());\n    }\n\n    function on_load() {\n      root._bokeh_is_loading--;\n      if (root._bokeh_is_loading === 0) {\n        console.debug(\"Bokeh: all BokehJS libraries/stylesheets loaded\");\n        run_callbacks()\n      }\n    }\n    window._bokeh_on_load = on_load\n\n    function on_error() {\n      console.error(\"failed to load \" + url);\n    }\n\n    var skip = [];\n    if (window.requirejs) {\n      window.requirejs.config({'packages': {}, 'paths': {}, 'shim': {}});\n      root._bokeh_is_loading = css_urls.length + 0;\n    } else {\n      root._bokeh_is_loading = css_urls.length + js_urls.length + js_modules.length + Object.keys(js_exports).length;\n    }\n\n    var existing_stylesheets = []\n    var links = document.getElementsByTagName('link')\n    for (var i = 0; i < links.length; i++) {\n      var link = links[i]\n      if (link.href != null) {\n\texisting_stylesheets.push(link.href)\n      }\n    }\n    for (var i = 0; i < css_urls.length; i++) {\n      var url = css_urls[i];\n      if (existing_stylesheets.indexOf(url) !== -1) {\n\ton_load()\n\tcontinue;\n      }\n      const element = document.createElement(\"link\");\n      element.onload = on_load;\n      element.onerror = on_error;\n      element.rel = \"stylesheet\";\n      element.type = \"text/css\";\n      element.href = url;\n      console.debug(\"Bokeh: injecting link tag for BokehJS stylesheet: \", url);\n      document.body.appendChild(element);\n    }    var existing_scripts = []\n    var scripts = document.getElementsByTagName('script')\n    for (var i = 0; i < scripts.length; i++) {\n      var script = scripts[i]\n      if (script.src != null) {\n\texisting_scripts.push(script.src)\n      }\n    }\n    for (var i = 0; i < js_urls.length; i++) {\n      var url = js_urls[i];\n      if (skip.indexOf(url) !== -1 || existing_scripts.indexOf(url) !== -1) {\n\tif (!window.requirejs) {\n\t  on_load();\n\t}\n\tcontinue;\n      }\n      var element = document.createElement('script');\n      element.onload = on_load;\n      element.onerror = on_error;\n      element.async = false;\n      element.src = url;\n      console.debug(\"Bokeh: injecting script tag for BokehJS library: \", url);\n      document.head.appendChild(element);\n    }\n    for (var i = 0; i < js_modules.length; i++) {\n      var url = js_modules[i];\n      if (skip.indexOf(url) !== -1 || existing_scripts.indexOf(url) !== -1) {\n\tif (!window.requirejs) {\n\t  on_load();\n\t}\n\tcontinue;\n      }\n      var element = document.createElement('script');\n      element.onload = on_load;\n      element.onerror = on_error;\n      element.async = false;\n      element.src = url;\n      element.type = \"module\";\n      console.debug(\"Bokeh: injecting script tag for BokehJS library: \", url);\n      document.head.appendChild(element);\n    }\n    for (const name in js_exports) {\n      var url = js_exports[name];\n      if (skip.indexOf(url) >= 0 || root[name] != null) {\n\tif (!window.requirejs) {\n\t  on_load();\n\t}\n\tcontinue;\n      }\n      var element = document.createElement('script');\n      element.onerror = on_error;\n      element.async = false;\n      element.type = \"module\";\n      console.debug(\"Bokeh: injecting script tag for BokehJS library: \", url);\n      element.textContent = `\n      import ${name} from \"${url}\"\n      window.${name} = ${name}\n      window._bokeh_on_load()\n      `\n      document.head.appendChild(element);\n    }\n    if (!js_urls.length && !js_modules.length) {\n      on_load()\n    }\n  };\n\n  function inject_raw_css(css) {\n    const element = document.createElement(\"style\");\n    element.appendChild(document.createTextNode(css));\n    document.body.appendChild(element);\n  }\n\n  var js_urls = [\"https://cdn.bokeh.org/bokeh/release/bokeh-3.4.1.min.js\", \"https://cdn.bokeh.org/bokeh/release/bokeh-gl-3.4.1.min.js\", \"https://cdn.bokeh.org/bokeh/release/bokeh-widgets-3.4.1.min.js\", \"https://cdn.bokeh.org/bokeh/release/bokeh-tables-3.4.1.min.js\", \"https://cdn.holoviz.org/panel/1.4.4/dist/panel.min.js\"];\n  var js_modules = [];\n  var js_exports = {};\n  var css_urls = [];\n  var inline_js = [    function(Bokeh) {\n      Bokeh.set_log_level(\"info\");\n    },\nfunction(Bokeh) {} // ensure no trailing comma for IE\n  ];\n\n  function run_inline_js() {\n    if ((root.Bokeh !== undefined) || (force === true)) {\n      for (var i = 0; i < inline_js.length; i++) {\n\ttry {\n          inline_js[i].call(root, root.Bokeh);\n\t} catch(e) {\n\t  if (!reloading) {\n\t    throw e;\n\t  }\n\t}\n      }\n      // Cache old bokeh versions\n      if (Bokeh != undefined && !reloading) {\n\tvar NewBokeh = root.Bokeh;\n\tif (Bokeh.versions === undefined) {\n\t  Bokeh.versions = new Map();\n\t}\n\tif (NewBokeh.version !== Bokeh.version) {\n\t  Bokeh.versions.set(NewBokeh.version, NewBokeh)\n\t}\n\troot.Bokeh = Bokeh;\n      }} else if (Date.now() < root._bokeh_timeout) {\n      setTimeout(run_inline_js, 100);\n    } else if (!root._bokeh_failed_load) {\n      console.log(\"Bokeh: BokehJS failed to load within specified timeout.\");\n      root._bokeh_failed_load = true;\n    }\n    root._bokeh_is_initializing = false\n  }\n\n  function load_or_wait() {\n    // Implement a backoff loop that tries to ensure we do not load multiple\n    // versions of Bokeh and its dependencies at the same time.\n    // In recent versions we use the root._bokeh_is_initializing flag\n    // to determine whether there is an ongoing attempt to initialize\n    // bokeh, however for backward compatibility we also try to ensure\n    // that we do not start loading a newer (Panel>=1.0 and Bokeh>3) version\n    // before older versions are fully initialized.\n    if (root._bokeh_is_initializing && Date.now() > root._bokeh_timeout) {\n      root._bokeh_is_initializing = false;\n      root._bokeh_onload_callbacks = undefined;\n      console.log(\"Bokeh: BokehJS was loaded multiple times but one version failed to initialize.\");\n      load_or_wait();\n    } else if (root._bokeh_is_initializing || (typeof root._bokeh_is_initializing === \"undefined\" && root._bokeh_onload_callbacks !== undefined)) {\n      setTimeout(load_or_wait, 100);\n    } else {\n      root._bokeh_is_initializing = true\n      root._bokeh_onload_callbacks = []\n      var bokeh_loaded = Bokeh != null && (Bokeh.version === py_version || (Bokeh.versions !== undefined && Bokeh.versions.has(py_version)));\n      if (!reloading && !bokeh_loaded) {\n\troot.Bokeh = undefined;\n      }\n      load_libs(css_urls, js_urls, js_modules, js_exports, function() {\n\tconsole.debug(\"Bokeh: BokehJS plotting callback run at\", now());\n\trun_inline_js();\n      });\n    }\n  }\n  // Give older versions of the autoload script a head-start to ensure\n  // they initialize before we start loading newer version.\n  setTimeout(load_or_wait, 100)\n}(window));",
      "application/vnd.holoviews_load.v0+json": ""
     },
     "metadata": {},
     "output_type": "display_data"
    },
    {
     "data": {
      "application/javascript": "\nif ((window.PyViz === undefined) || (window.PyViz instanceof HTMLElement)) {\n  window.PyViz = {comms: {}, comm_status:{}, kernels:{}, receivers: {}, plot_index: []}\n}\n\n\n    function JupyterCommManager() {\n    }\n\n    JupyterCommManager.prototype.register_target = function(plot_id, comm_id, msg_handler) {\n      if (window.comm_manager || ((window.Jupyter !== undefined) && (Jupyter.notebook.kernel != null))) {\n        var comm_manager = window.comm_manager || Jupyter.notebook.kernel.comm_manager;\n        comm_manager.register_target(comm_id, function(comm) {\n          comm.on_msg(msg_handler);\n        });\n      } else if ((plot_id in window.PyViz.kernels) && (window.PyViz.kernels[plot_id])) {\n        window.PyViz.kernels[plot_id].registerCommTarget(comm_id, function(comm) {\n          comm.onMsg = msg_handler;\n        });\n      } else if (typeof google != 'undefined' && google.colab.kernel != null) {\n        google.colab.kernel.comms.registerTarget(comm_id, (comm) => {\n          var messages = comm.messages[Symbol.asyncIterator]();\n          function processIteratorResult(result) {\n            var message = result.value;\n            console.log(message)\n            var content = {data: message.data, comm_id};\n            var buffers = []\n            for (var buffer of message.buffers || []) {\n              buffers.push(new DataView(buffer))\n            }\n            var metadata = message.metadata || {};\n            var msg = {content, buffers, metadata}\n            msg_handler(msg);\n            return messages.next().then(processIteratorResult);\n          }\n          return messages.next().then(processIteratorResult);\n        })\n      }\n    }\n\n    JupyterCommManager.prototype.get_client_comm = function(plot_id, comm_id, msg_handler) {\n      if (comm_id in window.PyViz.comms) {\n        return window.PyViz.comms[comm_id];\n      } else if (window.comm_manager || ((window.Jupyter !== undefined) && (Jupyter.notebook.kernel != null))) {\n        var comm_manager = window.comm_manager || Jupyter.notebook.kernel.comm_manager;\n        var comm = comm_manager.new_comm(comm_id, {}, {}, {}, comm_id);\n        if (msg_handler) {\n          comm.on_msg(msg_handler);\n        }\n      } else if ((plot_id in window.PyViz.kernels) && (window.PyViz.kernels[plot_id])) {\n        var comm = window.PyViz.kernels[plot_id].connectToComm(comm_id);\n        comm.open();\n        if (msg_handler) {\n          comm.onMsg = msg_handler;\n        }\n      } else if (typeof google != 'undefined' && google.colab.kernel != null) {\n        var comm_promise = google.colab.kernel.comms.open(comm_id)\n        comm_promise.then((comm) => {\n          window.PyViz.comms[comm_id] = comm;\n          if (msg_handler) {\n            var messages = comm.messages[Symbol.asyncIterator]();\n            function processIteratorResult(result) {\n              var message = result.value;\n              var content = {data: message.data};\n              var metadata = message.metadata || {comm_id};\n              var msg = {content, metadata}\n              msg_handler(msg);\n              return messages.next().then(processIteratorResult);\n            }\n            return messages.next().then(processIteratorResult);\n          }\n        }) \n        var sendClosure = (data, metadata, buffers, disposeOnDone) => {\n          return comm_promise.then((comm) => {\n            comm.send(data, metadata, buffers, disposeOnDone);\n          });\n        };\n        var comm = {\n          send: sendClosure\n        };\n      }\n      window.PyViz.comms[comm_id] = comm;\n      return comm;\n    }\n    window.PyViz.comm_manager = new JupyterCommManager();\n    \n\n\nvar JS_MIME_TYPE = 'application/javascript';\nvar HTML_MIME_TYPE = 'text/html';\nvar EXEC_MIME_TYPE = 'application/vnd.holoviews_exec.v0+json';\nvar CLASS_NAME = 'output';\n\n/**\n * Render data to the DOM node\n */\nfunction render(props, node) {\n  var div = document.createElement(\"div\");\n  var script = document.createElement(\"script\");\n  node.appendChild(div);\n  node.appendChild(script);\n}\n\n/**\n * Handle when a new output is added\n */\nfunction handle_add_output(event, handle) {\n  var output_area = handle.output_area;\n  var output = handle.output;\n  if ((output.data == undefined) || (!output.data.hasOwnProperty(EXEC_MIME_TYPE))) {\n    return\n  }\n  var id = output.metadata[EXEC_MIME_TYPE][\"id\"];\n  var toinsert = output_area.element.find(\".\" + CLASS_NAME.split(' ')[0]);\n  if (id !== undefined) {\n    var nchildren = toinsert.length;\n    var html_node = toinsert[nchildren-1].children[0];\n    html_node.innerHTML = output.data[HTML_MIME_TYPE];\n    var scripts = [];\n    var nodelist = html_node.querySelectorAll(\"script\");\n    for (var i in nodelist) {\n      if (nodelist.hasOwnProperty(i)) {\n        scripts.push(nodelist[i])\n      }\n    }\n\n    scripts.forEach( function (oldScript) {\n      var newScript = document.createElement(\"script\");\n      var attrs = [];\n      var nodemap = oldScript.attributes;\n      for (var j in nodemap) {\n        if (nodemap.hasOwnProperty(j)) {\n          attrs.push(nodemap[j])\n        }\n      }\n      attrs.forEach(function(attr) { newScript.setAttribute(attr.name, attr.value) });\n      newScript.appendChild(document.createTextNode(oldScript.innerHTML));\n      oldScript.parentNode.replaceChild(newScript, oldScript);\n    });\n    if (JS_MIME_TYPE in output.data) {\n      toinsert[nchildren-1].children[1].textContent = output.data[JS_MIME_TYPE];\n    }\n    output_area._hv_plot_id = id;\n    if ((window.Bokeh !== undefined) && (id in Bokeh.index)) {\n      window.PyViz.plot_index[id] = Bokeh.index[id];\n    } else {\n      window.PyViz.plot_index[id] = null;\n    }\n  } else if (output.metadata[EXEC_MIME_TYPE][\"server_id\"] !== undefined) {\n    var bk_div = document.createElement(\"div\");\n    bk_div.innerHTML = output.data[HTML_MIME_TYPE];\n    var script_attrs = bk_div.children[0].attributes;\n    for (var i = 0; i < script_attrs.length; i++) {\n      toinsert[toinsert.length - 1].childNodes[1].setAttribute(script_attrs[i].name, script_attrs[i].value);\n    }\n    // store reference to server id on output_area\n    output_area._bokeh_server_id = output.metadata[EXEC_MIME_TYPE][\"server_id\"];\n  }\n}\n\n/**\n * Handle when an output is cleared or removed\n */\nfunction handle_clear_output(event, handle) {\n  var id = handle.cell.output_area._hv_plot_id;\n  var server_id = handle.cell.output_area._bokeh_server_id;\n  if (((id === undefined) || !(id in PyViz.plot_index)) && (server_id !== undefined)) { return; }\n  var comm = window.PyViz.comm_manager.get_client_comm(\"hv-extension-comm\", \"hv-extension-comm\", function () {});\n  if (server_id !== null) {\n    comm.send({event_type: 'server_delete', 'id': server_id});\n    return;\n  } else if (comm !== null) {\n    comm.send({event_type: 'delete', 'id': id});\n  }\n  delete PyViz.plot_index[id];\n  if ((window.Bokeh !== undefined) & (id in window.Bokeh.index)) {\n    var doc = window.Bokeh.index[id].model.document\n    doc.clear();\n    const i = window.Bokeh.documents.indexOf(doc);\n    if (i > -1) {\n      window.Bokeh.documents.splice(i, 1);\n    }\n  }\n}\n\n/**\n * Handle kernel restart event\n */\nfunction handle_kernel_cleanup(event, handle) {\n  delete PyViz.comms[\"hv-extension-comm\"];\n  window.PyViz.plot_index = {}\n}\n\n/**\n * Handle update_display_data messages\n */\nfunction handle_update_output(event, handle) {\n  handle_clear_output(event, {cell: {output_area: handle.output_area}})\n  handle_add_output(event, handle)\n}\n\nfunction register_renderer(events, OutputArea) {\n  function append_mime(data, metadata, element) {\n    // create a DOM node to render to\n    var toinsert = this.create_output_subarea(\n    metadata,\n    CLASS_NAME,\n    EXEC_MIME_TYPE\n    );\n    this.keyboard_manager.register_events(toinsert);\n    // Render to node\n    var props = {data: data, metadata: metadata[EXEC_MIME_TYPE]};\n    render(props, toinsert[0]);\n    element.append(toinsert);\n    return toinsert\n  }\n\n  events.on('output_added.OutputArea', handle_add_output);\n  events.on('output_updated.OutputArea', handle_update_output);\n  events.on('clear_output.CodeCell', handle_clear_output);\n  events.on('delete.Cell', handle_clear_output);\n  events.on('kernel_ready.Kernel', handle_kernel_cleanup);\n\n  OutputArea.prototype.register_mime_type(EXEC_MIME_TYPE, append_mime, {\n    safe: true,\n    index: 0\n  });\n}\n\nif (window.Jupyter !== undefined) {\n  try {\n    var events = require('base/js/events');\n    var OutputArea = require('notebook/js/outputarea').OutputArea;\n    if (OutputArea.prototype.mime_types().indexOf(EXEC_MIME_TYPE) == -1) {\n      register_renderer(events, OutputArea);\n    }\n  } catch(err) {\n  }\n}\n",
      "application/vnd.holoviews_load.v0+json": ""
     },
     "metadata": {},
     "output_type": "display_data"
    },
    {
     "data": {
      "text/html": [
       "<style>*[data-root-id],\n",
       "*[data-root-id] > * {\n",
       "  box-sizing: border-box;\n",
       "  font-family: var(--jp-ui-font-family);\n",
       "  font-size: var(--jp-ui-font-size1);\n",
       "  color: var(--vscode-editor-foreground, var(--jp-ui-font-color1));\n",
       "}\n",
       "\n",
       "/* Override VSCode background color */\n",
       ".cell-output-ipywidget-background:has(\n",
       "    > .cell-output-ipywidget-background > .lm-Widget > *[data-root-id]\n",
       "  ),\n",
       ".cell-output-ipywidget-background:has(> .lm-Widget > *[data-root-id]) {\n",
       "  background-color: transparent !important;\n",
       "}\n",
       "</style>"
      ]
     },
     "metadata": {},
     "output_type": "display_data"
    },
    {
     "data": {
      "application/vnd.holoviews_exec.v0+json": "",
      "text/html": [
       "<div id='b357c015-bdc1-45d9-ab1f-ac9437d4cd38'>\n",
       "  <div id=\"aeb40b12-eed8-4fd4-80b2-38dae2a43976\" data-root-id=\"b357c015-bdc1-45d9-ab1f-ac9437d4cd38\" style=\"display: contents;\"></div>\n",
       "</div>\n",
       "<script type=\"application/javascript\">(function(root) {\n",
       "  var docs_json = {\"64e40031-6601-448d-878e-7adc565430f8\":{\"version\":\"3.4.1\",\"title\":\"Bokeh Application\",\"roots\":[{\"type\":\"object\",\"name\":\"panel.models.browser.BrowserInfo\",\"id\":\"b357c015-bdc1-45d9-ab1f-ac9437d4cd38\"},{\"type\":\"object\",\"name\":\"panel.models.comm_manager.CommManager\",\"id\":\"53e21b35-f2bb-4897-b7ab-f63f819b9991\",\"attributes\":{\"plot_id\":\"b357c015-bdc1-45d9-ab1f-ac9437d4cd38\",\"comm_id\":\"7669318844e444cdbe140609970896d1\",\"client_comm_id\":\"bdbc466fc0b74c3aa828672ca1a2769d\"}}],\"defs\":[{\"type\":\"model\",\"name\":\"ReactiveHTML1\"},{\"type\":\"model\",\"name\":\"FlexBox1\",\"properties\":[{\"name\":\"align_content\",\"kind\":\"Any\",\"default\":\"flex-start\"},{\"name\":\"align_items\",\"kind\":\"Any\",\"default\":\"flex-start\"},{\"name\":\"flex_direction\",\"kind\":\"Any\",\"default\":\"row\"},{\"name\":\"flex_wrap\",\"kind\":\"Any\",\"default\":\"wrap\"},{\"name\":\"gap\",\"kind\":\"Any\",\"default\":\"\"},{\"name\":\"justify_content\",\"kind\":\"Any\",\"default\":\"flex-start\"}]},{\"type\":\"model\",\"name\":\"FloatPanel1\",\"properties\":[{\"name\":\"config\",\"kind\":\"Any\",\"default\":{\"type\":\"map\"}},{\"name\":\"contained\",\"kind\":\"Any\",\"default\":true},{\"name\":\"position\",\"kind\":\"Any\",\"default\":\"right-top\"},{\"name\":\"offsetx\",\"kind\":\"Any\",\"default\":null},{\"name\":\"offsety\",\"kind\":\"Any\",\"default\":null},{\"name\":\"theme\",\"kind\":\"Any\",\"default\":\"primary\"},{\"name\":\"status\",\"kind\":\"Any\",\"default\":\"normalized\"}]},{\"type\":\"model\",\"name\":\"GridStack1\",\"properties\":[{\"name\":\"mode\",\"kind\":\"Any\",\"default\":\"warn\"},{\"name\":\"ncols\",\"kind\":\"Any\",\"default\":null},{\"name\":\"nrows\",\"kind\":\"Any\",\"default\":null},{\"name\":\"allow_resize\",\"kind\":\"Any\",\"default\":true},{\"name\":\"allow_drag\",\"kind\":\"Any\",\"default\":true},{\"name\":\"state\",\"kind\":\"Any\",\"default\":[]}]},{\"type\":\"model\",\"name\":\"drag1\",\"properties\":[{\"name\":\"slider_width\",\"kind\":\"Any\",\"default\":5},{\"name\":\"slider_color\",\"kind\":\"Any\",\"default\":\"black\"},{\"name\":\"value\",\"kind\":\"Any\",\"default\":50}]},{\"type\":\"model\",\"name\":\"click1\",\"properties\":[{\"name\":\"terminal_output\",\"kind\":\"Any\",\"default\":\"\"},{\"name\":\"debug_name\",\"kind\":\"Any\",\"default\":\"\"},{\"name\":\"clears\",\"kind\":\"Any\",\"default\":0}]},{\"type\":\"model\",\"name\":\"FastWrapper1\",\"properties\":[{\"name\":\"object\",\"kind\":\"Any\",\"default\":null},{\"name\":\"style\",\"kind\":\"Any\",\"default\":null}]},{\"type\":\"model\",\"name\":\"NotificationAreaBase1\",\"properties\":[{\"name\":\"js_events\",\"kind\":\"Any\",\"default\":{\"type\":\"map\"}},{\"name\":\"position\",\"kind\":\"Any\",\"default\":\"bottom-right\"},{\"name\":\"_clear\",\"kind\":\"Any\",\"default\":0}]},{\"type\":\"model\",\"name\":\"NotificationArea1\",\"properties\":[{\"name\":\"js_events\",\"kind\":\"Any\",\"default\":{\"type\":\"map\"}},{\"name\":\"notifications\",\"kind\":\"Any\",\"default\":[]},{\"name\":\"position\",\"kind\":\"Any\",\"default\":\"bottom-right\"},{\"name\":\"_clear\",\"kind\":\"Any\",\"default\":0},{\"name\":\"types\",\"kind\":\"Any\",\"default\":[{\"type\":\"map\",\"entries\":[[\"type\",\"warning\"],[\"background\",\"#ffc107\"],[\"icon\",{\"type\":\"map\",\"entries\":[[\"className\",\"fas fa-exclamation-triangle\"],[\"tagName\",\"i\"],[\"color\",\"white\"]]}]]},{\"type\":\"map\",\"entries\":[[\"type\",\"info\"],[\"background\",\"#007bff\"],[\"icon\",{\"type\":\"map\",\"entries\":[[\"className\",\"fas fa-info-circle\"],[\"tagName\",\"i\"],[\"color\",\"white\"]]}]]}]}]},{\"type\":\"model\",\"name\":\"Notification\",\"properties\":[{\"name\":\"background\",\"kind\":\"Any\",\"default\":null},{\"name\":\"duration\",\"kind\":\"Any\",\"default\":3000},{\"name\":\"icon\",\"kind\":\"Any\",\"default\":null},{\"name\":\"message\",\"kind\":\"Any\",\"default\":\"\"},{\"name\":\"notification_type\",\"kind\":\"Any\",\"default\":null},{\"name\":\"_destroyed\",\"kind\":\"Any\",\"default\":false}]},{\"type\":\"model\",\"name\":\"TemplateActions1\",\"properties\":[{\"name\":\"open_modal\",\"kind\":\"Any\",\"default\":0},{\"name\":\"close_modal\",\"kind\":\"Any\",\"default\":0}]},{\"type\":\"model\",\"name\":\"BootstrapTemplateActions1\",\"properties\":[{\"name\":\"open_modal\",\"kind\":\"Any\",\"default\":0},{\"name\":\"close_modal\",\"kind\":\"Any\",\"default\":0}]},{\"type\":\"model\",\"name\":\"TemplateEditor1\",\"properties\":[{\"name\":\"layout\",\"kind\":\"Any\",\"default\":[]}]},{\"type\":\"model\",\"name\":\"MaterialTemplateActions1\",\"properties\":[{\"name\":\"open_modal\",\"kind\":\"Any\",\"default\":0},{\"name\":\"close_modal\",\"kind\":\"Any\",\"default\":0}]},{\"type\":\"model\",\"name\":\"copy_to_clipboard1\",\"properties\":[{\"name\":\"fill\",\"kind\":\"Any\",\"default\":\"none\"},{\"name\":\"value\",\"kind\":\"Any\",\"default\":null}]}]}};\n",
       "  var render_items = [{\"docid\":\"64e40031-6601-448d-878e-7adc565430f8\",\"roots\":{\"b357c015-bdc1-45d9-ab1f-ac9437d4cd38\":\"aeb40b12-eed8-4fd4-80b2-38dae2a43976\"},\"root_ids\":[\"b357c015-bdc1-45d9-ab1f-ac9437d4cd38\"]}];\n",
       "  var docs = Object.values(docs_json)\n",
       "  if (!docs) {\n",
       "    return\n",
       "  }\n",
       "  const py_version = docs[0].version.replace('rc', '-rc.').replace('.dev', '-dev.')\n",
       "  async function embed_document(root) {\n",
       "    var Bokeh = get_bokeh(root)\n",
       "    await Bokeh.embed.embed_items_notebook(docs_json, render_items);\n",
       "    for (const render_item of render_items) {\n",
       "      for (const root_id of render_item.root_ids) {\n",
       "\tconst id_el = document.getElementById(root_id)\n",
       "\tif (id_el.children.length && id_el.children[0].hasAttribute('data-root-id')) {\n",
       "\t  const root_el = id_el.children[0]\n",
       "\t  root_el.id = root_el.id + '-rendered'\n",
       "\t  for (const child of root_el.children) {\n",
       "            // Ensure JupyterLab does not capture keyboard shortcuts\n",
       "            // see: https://jupyterlab.readthedocs.io/en/4.1.x/extension/notebook.html#keyboard-interaction-model\n",
       "\t    child.setAttribute('data-lm-suppress-shortcuts', 'true')\n",
       "\t  }\n",
       "\t}\n",
       "      }\n",
       "    }\n",
       "  }\n",
       "  function get_bokeh(root) {\n",
       "    if (root.Bokeh === undefined) {\n",
       "      return null\n",
       "    } else if (root.Bokeh.version !== py_version) {\n",
       "      if (root.Bokeh.versions === undefined || !root.Bokeh.versions.has(py_version)) {\n",
       "\treturn null\n",
       "      }\n",
       "      return root.Bokeh.versions.get(py_version);\n",
       "    } else if (root.Bokeh.version === py_version) {\n",
       "      return root.Bokeh\n",
       "    }\n",
       "    return null\n",
       "  }\n",
       "  function is_loaded(root) {\n",
       "    var Bokeh = get_bokeh(root)\n",
       "    return (Bokeh != null && Bokeh.Panel !== undefined)\n",
       "  }\n",
       "  if (is_loaded(root)) {\n",
       "    embed_document(root);\n",
       "  } else {\n",
       "    var attempts = 0;\n",
       "    var timer = setInterval(function(root) {\n",
       "      if (is_loaded(root)) {\n",
       "        clearInterval(timer);\n",
       "        embed_document(root);\n",
       "      } else if (document.readyState == \"complete\") {\n",
       "        attempts++;\n",
       "        if (attempts > 200) {\n",
       "          clearInterval(timer);\n",
       "\t  var Bokeh = get_bokeh(root)\n",
       "\t  if (Bokeh == null || Bokeh.Panel == null) {\n",
       "            console.warn(\"Panel: ERROR: Unable to run Panel code because Bokeh or Panel library is missing\");\n",
       "\t  } else {\n",
       "\t    console.warn(\"Panel: WARNING: Attempting to render but not all required libraries could be resolved.\")\n",
       "\t    embed_document(root)\n",
       "\t  }\n",
       "        }\n",
       "      }\n",
       "    }, 25, root)\n",
       "  }\n",
       "})(window);</script>"
      ]
     },
     "metadata": {
      "application/vnd.holoviews_exec.v0+json": {
       "id": "b357c015-bdc1-45d9-ab1f-ac9437d4cd38"
      }
     },
     "output_type": "display_data"
    }
   ],
   "source": [
    "import panel as pn\n",
    "from dotenv import load_dotenv\n",
    "import param\n",
    "\n",
    "import sys\n",
    "sys.path.append('..')\n",
    "\n",
    "load_dotenv()\n",
    "\n",
    "pn.extension()"
   ]
  },
  {
   "cell_type": "code",
   "execution_count": 2,
   "metadata": {},
   "outputs": [],
   "source": [
    "# Try to use --design-... variables first\n",
    "pn.config.global_css = [\n",
    "    \"\"\"\n",
    "@import url('https://fonts.googleapis.com/css2?family=Hanken+Grotesk:ital,wght@0,100..900;1,100..900&family=Ubuntu:ital,wght@0,300;0,400;0,500;0,700;1,300;1,400;1,500;1,700&display=swap');\n",
    "body {\n",
    "    --primary-background-color: #0C1314;\n",
    "    --secondary-background-color: #111926;\n",
    "    --light-outline-color: #455368;\n",
    "    --primary-accent-color: #D33A4B;\n",
    "    --secondary-accent-color: #EDB737;\n",
    "    --tertiary-accent-color: #12B86C;\n",
    "    --white: #F4F6F8;\n",
    "    --faded-text-color: #6083B8;\n",
    "\n",
    "    --base-font: 'Hanken Grotesk', sans-serif;\n",
    "    --bokeh-base-font: 'Hanken Grotesk', sans-serif;\n",
    "    --bokeh-font-size: 16px;\n",
    "    --line-height: 1.55;\n",
    "    --design-background-text-color: var(--white);\n",
    "\n",
    "    \n",
    "    background-color: var(--primary-background-color);\n",
    "    /* Centering Body */\n",
    "    display: flex;\n",
    "    justify-content: center;\n",
    "    align-items: center;\n",
    "}\n",
    "\"\"\"\n",
    "]\n",
    "\n",
    "# Icon asset loading\n",
    "assets_map = {'assets': '/workspaces/pyllments/pyllments/assets'}\n",
    "pn.config.css_files = ['assets/file_icons/tabler-icons-outline.min.css']\n",
    "\n",
    "def serve(servable, **kwargs):\n",
    "    return pn.serve(servable, static_dirs=assets_map, **kwargs)\n"
   ]
  },
  {
   "cell_type": "markdown",
   "metadata": {},
   "source": [
    "# Main"
   ]
  },
  {
   "cell_type": "code",
   "execution_count": null,
   "metadata": {},
   "outputs": [],
   "source": []
  },
  {
   "cell_type": "code",
   "execution_count": 11,
   "metadata": {},
   "outputs": [
    {
     "name": "stdout",
     "output_type": "stream",
     "text": [
      "Launching server at http://localhost:42849\n"
     ]
    },
    {
     "name": "stderr",
     "output_type": "stream",
     "text": [
      "WARNING:tornado.access:404 GET /assets/file_icons/tabler-icons-outline.min.css (127.0.0.1) 0.21ms\n",
      "WARNING:tornado.access:404 GET /assets/file_icons/tabler-icons-outline.min.css (127.0.0.1) 0.54ms\n",
      "WARNING:tornado.access:404 GET /assets/file_icons/tabler-icons-outline.min.css (127.0.0.1) 0.21ms\n",
      "WARNING:tornado.access:404 GET /assets/file_icons/tabler-icons-outline.min.css (127.0.0.1) 0.23ms\n"
     ]
    }
   ],
   "source": [
    "from pyllments.elements.file_loader import FileLoaderElement\n",
    "\n",
    "fl = FileLoaderElement()\n",
    "\n",
    "file_loader_view = fl.create_file_loader_view(sizing_mode='fixed', width=300, height=400)\n",
    "# file_input_view = fl.create_file_input_view(width=200, height=200)\n",
    "# srv = pn.serve(file_input_view)\n",
    "srv = pn.serve(file_loader_view)"
   ]
  },
  {
   "cell_type": "code",
   "execution_count": 6,
   "metadata": {},
   "outputs": [
    {
     "name": "stdout",
     "output_type": "stream",
     "text": [
      "Launching server at http://localhost:34365\n"
     ]
    },
    {
     "name": "stderr",
     "output_type": "stream",
     "text": [
      "WARNING:tornado.access:404 GET /assets/file_icons/tabler-icons-outline.min.css (127.0.0.1) 0.21ms\n",
      "WARNING:tornado.access:404 GET /assets/file_icons/tabler-icons-outline.min.css (127.0.0.1) 2.27ms\n"
     ]
    }
   ],
   "source": [
    "from pyllments.payloads.file import FilePayload\n",
    "\n",
    "fp = FilePayload(name='test.png', b_file=b'test', mime_type='image/png')\n",
    "fv = fp.create_file_view()\n",
    "\n",
    "sv = pn.serve(fv)\n"
   ]
  },
  {
   "cell_type": "code",
   "execution_count": 19,
   "metadata": {},
   "outputs": [
    {
     "name": "stdout",
     "output_type": "stream",
     "text": [
      "\n"
     ]
    }
   ],
   "source": [
    "print(fv[1].object)"
   ]
  },
  {
   "cell_type": "code",
   "execution_count": 7,
   "metadata": {},
   "outputs": [],
   "source": [
    "s.stop()"
   ]
  },
  {
   "cell_type": "code",
   "execution_count": 8,
   "metadata": {},
   "outputs": [
    {
     "name": "stdout",
     "output_type": "stream",
     "text": [
      "Launching server at http://localhost:34573\n"
     ]
    }
   ],
   "source": [
    "\n",
    "s = serve(pn.pane.Markdown('# something here'))\n"
   ]
  },
  {
   "cell_type": "code",
   "execution_count": 9,
   "metadata": {},
   "outputs": [],
   "source": [
    "s.stop()"
   ]
  },
  {
   "cell_type": "code",
   "execution_count": 6,
   "metadata": {},
   "outputs": [
    {
     "name": "stderr",
     "output_type": "stream",
     "text": [
      "WARNING:tornado.access:404 GET /assets/file_icons/tabler-icons-outline.min.css (127.0.0.1) 0.23ms\n",
      "WARNING:tornado.access:404 GET /assets/file_icons/tabler-icons-outline.min.css (127.0.0.1) 0.21ms\n",
      "WARNING:tornado.access:404 GET /assets/file_icons/tabler-icons-outline.min.css (127.0.0.1) 0.21ms\n",
      "WARNING:tornado.access:404 GET /assets/file_icons/tabler-icons-outline.min.css (127.0.0.1) 0.22ms\n"
     ]
    }
   ],
   "source": [
    "fl.file_input_view.stylesheets = []"
   ]
  },
  {
   "cell_type": "code",
   "execution_count": 8,
   "metadata": {},
   "outputs": [
    {
     "name": "stdout",
     "output_type": "stream",
     "text": [
      "Column(sizing_mode='stretch_both')\n",
      "    [0] Row(sizing_mode='stretch_width', stylesheets=[':host {\\n   ...])\n",
      "        [0] HTML(str, align='center', stylesheets=[':host {\\n   ...])\n",
      "        [1] Markdown(str, stylesheets=['p {\\n    margin: 1...])\n"
     ]
    }
   ],
   "source": [
    "print(fl.file_container_view)"
   ]
  },
  {
   "cell_type": "code",
   "execution_count": 9,
   "metadata": {},
   "outputs": [
    {
     "name": "stdout",
     "output_type": "stream",
     "text": [
      "Column(sizing_mode='stretch_both')\n"
     ]
    }
   ],
   "source": [
    "print(fl.file_container_view)"
   ]
  },
  {
   "cell_type": "code",
   "execution_count": 7,
   "metadata": {},
   "outputs": [
    {
     "data": {
      "text/html": [
       "<style>\n",
       ".param-doc-tooltip{\n",
       "  position: relative;\n",
       "  cursor: help;\n",
       "}\n",
       ".param-doc-tooltip:hover:after{\n",
       "  content: attr(data-tooltip);\n",
       "  background-color: black;\n",
       "  color: #fff;\n",
       "  border-radius: 3px;\n",
       "  padding: 10px;\n",
       "  position: absolute;\n",
       "  z-index: 1;\n",
       "  top: -5px;\n",
       "  left: 100%;\n",
       "  margin-left: 10px;\n",
       "  min-width: 250px;\n",
       "}\n",
       ".param-doc-tooltip:hover:before {\n",
       "  content: \"\";\n",
       "  position: absolute;\n",
       "  top: 50%;\n",
       "  left: 100%;\n",
       "  margin-top: -5px;\n",
       "  border-width: 5px;\n",
       "  border-style: solid;\n",
       "  border-color: transparent black transparent transparent;\n",
       "}\n",
       "</style>\n",
       "<details  open>\n",
       " <summary style=\"display:list-item; outline:none;\">\n",
       "  <tt>FileModel()</tt>\n",
       " </summary>\n",
       " <div style=\"padding-left:10px; padding-bottom:5px;\">\n",
       "  <table style=\"max-width:100%; border:1px solid #AAAAAA;\">\n",
       "   <tr><th style=\"text-align:left;\">Name</th><th style=\"text-align:left;\">Value</th><th style=\"text-align:left;\">Type</th><th>Range</th></tr>\n",
       "<tr>  <td><p style=\"margin-bottom: 0px;\" class=\"param-doc-tooltip\" data-tooltip=\"Bytes object of file\">b_file</p></td>  <td style=\"max-width: 200px; text-align:left;\">b&#x27;\\x89PNG\\r\\n\\x1a\\n\\x00\\x00\\..</td>  <td style=\"text-align:left;\">ClassSelector</td>  <td style=\"max-width: 300px;\"><i>nullable</i> bytes</td></tr>\n",
       "<tr>  <td><p style=\"margin-bottom: 0px;\" class=\"param-doc-tooltip\" data-tooltip=\"Name of file\">filename</p></td>  <td style=\"max-width: 200px; text-align:left;\">&#x27;Clipboard01.png&#x27;</td>  <td style=\"text-align:left;\">String</td>  <td style=\"max-width: 300px;\"></td></tr>\n",
       "<tr>  <td><p style=\"margin-bottom: 0px;\" class=\"param-doc-tooltip\" data-tooltip=\"Local path of file\">local_path</p></td>  <td style=\"max-width: 200px; text-align:left;\">&#x27;Clipboard01.png&#x27;</td>  <td style=\"text-align:left;\">String</td>  <td style=\"max-width: 300px;\"></td></tr>\n",
       "<tr>  <td><p style=\"margin-bottom: 0px;\" class=\"param-doc-tooltip\" data-tooltip=\"Mime type of file\">mime_type</p></td>  <td style=\"max-width: 200px; text-align:left;\">&#x27;image/png&#x27;</td>  <td style=\"text-align:left;\">String</td>  <td style=\"max-width: 300px;\"></td></tr>\n",
       "<tr>  <td><p style=\"margin-bottom: 0px;\" class=\"param-doc-tooltip\" data-tooltip=\"String identifier for this object.\">name</p></td>  <td style=\"max-width: 200px; text-align:left;\">&#x27;FileModel00133&#x27;</td>  <td style=\"text-align:left;\">String</td>  <td style=\"max-width: 300px;\"><i>nullable</i> <i>constant</i></td></tr>\n",
       "<tr>  <td><p style=\"margin-bottom: 0px;\" class=\"param-doc-tooltip\" data-tooltip=\"Remote path of file\">remote_path</p></td>  <td style=\"max-width: 200px; text-align:left;\">&#x27;&#x27;</td>  <td style=\"text-align:left;\">String</td>  <td style=\"max-width: 300px;\"></td></tr>\n",
       "\n",
       "  </table>\n",
       " </div>\n",
       "</details>\n"
      ],
      "text/plain": [
       "<param.parameterized.Parameters at 0x7f1856169940>"
      ]
     },
     "execution_count": 7,
     "metadata": {},
     "output_type": "execute_result"
    },
    {
     "name": "stderr",
     "output_type": "stream",
     "text": [
      "WARNING:tornado.access:404 GET /assets/file_icons/tabler-icons-outline.min.css (127.0.0.1) 0.21ms\n",
      "WARNING:tornado.access:404 GET /assets/file_icons/tabler-icons-outline.min.css (127.0.0.1) 0.30ms\n"
     ]
    }
   ],
   "source": [
    "fl.model.file_list[0]."
   ]
  },
  {
   "cell_type": "code",
   "execution_count": null,
   "metadata": {},
   "outputs": [],
   "source": [
    "css = \"\"\"\n",
    "\n",
    "\"\"\""
   ]
  },
  {
   "cell_type": "code",
   "execution_count": 36,
   "metadata": {},
   "outputs": [
    {
     "name": "stderr",
     "output_type": "stream",
     "text": [
      "WARNING:tornado.access:404 GET /assets/file_icons/tabler-icons-outline.min.css (127.0.0.1) 0.20ms\n",
      "WARNING:tornado.access:404 GET /assets/file_icons/tabler-icons-outline.min.css (127.0.0.1) 0.20ms\n",
      "WARNING:tornado.access:404 GET /assets/file_icons/tabler-icons-outline.min.css (127.0.0.1) 0.20ms\n",
      "WARNING:tornado.access:404 GET /assets/file_icons/tabler-icons-outline.min.css (127.0.0.1) 0.19ms\n",
      "WARNING:tornado.access:404 GET /assets/file_icons/tabler-icons-outline.min.css (127.0.0.1) 0.19ms\n"
     ]
    }
   ],
   "source": [
    "file_loader_view[0].stylesheets = []"
   ]
  },
  {
   "cell_type": "code",
   "execution_count": 10,
   "metadata": {},
   "outputs": [],
   "source": [
    "payload_view = fl.model.file_list[0].create_file_view()"
   ]
  },
  {
   "cell_type": "code",
   "execution_count": 13,
   "metadata": {},
   "outputs": [
    {
     "data": {
      "application/vnd.jupyter.widget-view+json": {
       "model_id": "7452720f2c2c4d119b9240bba954635e",
       "version_major": 2,
       "version_minor": 0
      },
      "text/plain": [
       "BokehModel(combine_events=True, render_bundle={'docs_json': {'6f0c0977-9abf-493c-b89f-e0aed3d386a8': {'version…"
      ]
     },
     "execution_count": 13,
     "metadata": {},
     "output_type": "execute_result"
    }
   ],
   "source": [
    "payload_view"
   ]
  },
  {
   "cell_type": "code",
   "execution_count": 41,
   "metadata": {},
   "outputs": [
    {
     "data": {
      "text/plain": [
       "Watcher(inst=FileInput(sizing_mode='stretch_width', value=b''), cls=<class 'panel.widgets.input.FileInput'>, fn=<function new_file at 0x7f6079ece0c0>, mode='args', onlychanged=True, parameter_names=('value',), what='value', queued=False, precedence=0)"
      ]
     },
     "execution_count": 41,
     "metadata": {},
     "output_type": "execute_result"
    },
    {
     "name": "stdout",
     "output_type": "stream",
     "text": [
      "Event(what='value', name='value', obj=FileInput(filename='delve.txt', mime_type='text/plain', sizing_mode='stretch_width', value=b'delve delve d...), cls=FileInput(filename='delve.txt', mime_type='text/plain', sizing_mode='stretch_width', value=b'delve delve d...), old=b'', new=b'delve delve delve delve delve delve delve delve delve delve delve delve delve delve delve delve delve delve delve delve delve delve delve delve delve delve delve delve delve delve delve delve delve delve delve delve delve delve delve delve delve delve delve delve delve delve delve delve delve delve delve delve delve delve delve delve delve delve delve delve delve delve delve delve delve delve delve delve delve delve delve delve delve delve delve delve delve delve delve delve delve delve delve delve delve delve delve delve delve delve delve delve delve delve delve delve delve delve delve delve delve delve delve delve delve ', type='changed')\n"
     ]
    }
   ],
   "source": [
    "\n"
   ]
  },
  {
   "cell_type": "code",
   "execution_count": 6,
   "metadata": {},
   "outputs": [
    {
     "name": "stdout",
     "output_type": "stream",
     "text": [
      "Launching server at http://localhost:40043\n"
     ]
    },
    {
     "name": "stderr",
     "output_type": "stream",
     "text": [
      "WARNING:tornado.access:404 GET /assets/file_icons/tabler-icons-outline.min.css (127.0.0.1) 0.20ms\n",
      "WARNING:tornado.access:404 GET /assets/file_icons/tabler-icons-outline.min.css (127.0.0.1) 0.97ms\n"
     ]
    }
   ],
   "source": [
    "file_input = pn.widgets.FileInput(sizing_mode='stretch_width')\n",
    "f_container = pn.Column(sizing_mode='stretch_both')\n",
    "send_button = pn.widgets.Button(name='Send', sizing_mode='stretch_width')\n",
    "\n",
    "def new_file(event):\n",
    "    print(event)\n",
    "file_input.param.watch(new_file, 'value')\n",
    "\n",
    "container = pn.Column(file_input, f_container, send_button, width=300, height=500)\n",
    "srv00 = pn.serve(container)\n"
   ]
  },
  {
   "cell_type": "code",
   "execution_count": 5,
   "metadata": {},
   "outputs": [],
   "source": [
    "srv00.stop()"
   ]
  },
  {
   "cell_type": "code",
   "execution_count": 7,
   "metadata": {},
   "outputs": [
    {
     "name": "stderr",
     "output_type": "stream",
     "text": [
      "WARNING:tornado.access:404 GET /assets/file_icons/tabler-icons-outline.min.css (127.0.0.1) 0.20ms\n"
     ]
    }
   ],
   "source": [
    "css = \"\"\"\n",
    "input[type=\"file\"] {\n",
    "    width: 100%;\n",
    "    height: 38px; /* Adjust as needed */\n",
    "    padding: 0;\n",
    "    margin: 0;\n",
    "    background: transparent;\n",
    "    color: transparent;\n",
    "    border: none;\n",
    "    overflow: hidden;\n",
    "  }\n",
    "  \n",
    "  input[type=\"file\"]::before {\n",
    "    content: 'Click to Add FIles';\n",
    "    display: block;\n",
    "    width: 100%;\n",
    "    height: 100%;\n",
    "    background: var(--primary-accent-color);\n",
    "    color: var(--white);\n",
    "    text-align: center;\n",
    "    line-height: 38px;\n",
    "    font-size: 1.4em;\n",
    "    border-radius: var(--border-radius);\n",
    "    cursor: pointer;\n",
    "    white-space: nowrap;\n",
    "  }\n",
    "  \n",
    "  input[type=\"file\"]::-webkit-file-upload-button {\n",
    "    visibility: hidden;\n",
    "    width: 0;\n",
    "    height: 0;\n",
    "  }\n",
    "\"\"\"\n",
    "\n",
    "file_input.stylesheets = [css]"
   ]
  },
  {
   "cell_type": "code",
   "execution_count": 15,
   "metadata": {},
   "outputs": [],
   "source": [
    "payload_view.width=100\n",
    "payload_view.height=100\n"
   ]
  },
  {
   "cell_type": "code",
   "execution_count": 20,
   "metadata": {},
   "outputs": [
    {
     "name": "stderr",
     "output_type": "stream",
     "text": [
      "WARNING:tornado.access:404 GET /assets/file_icons/tabler-icons-outline.min.css (127.0.0.1) 0.21ms\n"
     ]
    }
   ],
   "source": [
    "file_input_view.width= None\n",
    "file_input_view.height= 40\n"
   ]
  },
  {
   "cell_type": "code",
   "execution_count": 19,
   "metadata": {},
   "outputs": [
    {
     "data": {
      "application/vnd.jupyter.widget-view+json": {
       "model_id": "72053e1b3bd5455bb92dccc954af5d5a",
       "version_major": 2,
       "version_minor": 0
      },
      "text/plain": [
       "BokehModel(combine_events=True, render_bundle={'docs_json': {'a80bccb8-8387-46a3-b4a8-e0bb50bed529': {'version…"
      ]
     },
     "execution_count": 19,
     "metadata": {},
     "output_type": "execute_result"
    }
   ],
   "source": [
    "from pyllments.payloads.file import FilePayload\n",
    "fp = FilePayload(name='test.png', b_file=b'test', mime_type='image/png')\n",
    "fv = fp.create_file_view()\n",
    "fv"
   ]
  },
  {
   "cell_type": "code",
   "execution_count": 21,
   "metadata": {},
   "outputs": [
    {
     "name": "stdout",
     "output_type": "stream",
     "text": [
      "Launching server at http://localhost:37725\n"
     ]
    },
    {
     "name": "stderr",
     "output_type": "stream",
     "text": [
      "WARNING:tornado.access:404 GET /assets/file_icons/tabler-icons-outline.min.css (127.0.0.1) 0.24ms\n",
      "WARNING:tornado.access:404 GET /assets/file_icons/tabler-icons-outline.min.css (127.0.0.1) 1.17ms\n",
      "WARNING:tornado.access:404 GET /assets/file_icons/tabler-icons-outline.min.css (127.0.0.1) 0.25ms\n"
     ]
    }
   ],
   "source": [
    "srv0 = pn.serve(fv)"
   ]
  },
  {
   "cell_type": "code",
   "execution_count": 30,
   "metadata": {},
   "outputs": [
    {
     "name": "stderr",
     "output_type": "stream",
     "text": [
      "WARNING:tornado.access:404 GET /assets/file_icons/tabler-icons-outline.min.css (127.0.0.1) 0.19ms\n",
      "WARNING:tornado.access:404 GET /assets/file_icons/tabler-icons-outline.min.css (127.0.0.1) 0.20ms\n"
     ]
    }
   ],
   "source": [
    "fv.width=100\n",
    "fv.height=100\n"
   ]
  },
  {
   "cell_type": "code",
   "execution_count": 5,
   "metadata": {},
   "outputs": [
    {
     "data": {
      "text/plain": [
       "3"
      ]
     },
     "execution_count": 5,
     "metadata": {},
     "output_type": "execute_result"
    }
   ],
   "source": [
    "len(fl.model.file_list)"
   ]
  },
  {
   "cell_type": "code",
   "execution_count": 29,
   "metadata": {},
   "outputs": [],
   "source": [
    "cont.append(pn.pane.Markdown(\"# Hello\"))"
   ]
  },
  {
   "cell_type": "code",
   "execution_count": 7,
   "metadata": {},
   "outputs": [],
   "source": [
    "css = \"\"\"\n",
    ":host(.pn-loading):before, .pn-loading:before {\n",
    "    background-color: red;\n",
    "}\n",
    "\"\"\"\n"
   ]
  },
  {
   "cell_type": "markdown",
   "metadata": {},
   "source": [
    "# STop"
   ]
  },
  {
   "cell_type": "code",
   "execution_count": 31,
   "metadata": {},
   "outputs": [],
   "source": [
    "srv.stop()"
   ]
  },
  {
   "cell_type": "code",
   "execution_count": null,
   "metadata": {},
   "outputs": [],
   "source": []
  },
  {
   "cell_type": "markdown",
   "metadata": {},
   "source": [
    "# Step Testing"
   ]
  },
  {
   "cell_type": "markdown",
   "metadata": {},
   "source": [
    "## FileLoader"
   ]
  },
  {
   "cell_type": "markdown",
   "metadata": {},
   "source": [
    "# Switch-FlowController Testing"
   ]
  },
  {
   "cell_type": "code",
   "execution_count": 3,
   "metadata": {},
   "outputs": [],
   "source": [
    "from pyllments.elements.flow_control.flow_controllers.switch.switch import Switch\n",
    "from pyllments.elements.flow_control.flow_controller import FlowController\n",
    "from pyllments.payloads.message import MessagePayload\n",
    "\n",
    "\n"
   ]
  },
  {
   "cell_type": "code",
   "execution_count": 20,
   "metadata": {},
   "outputs": [],
   "source": [
    "import param\n",
    "\n",
    "from pyllments.base.element_base import Element\n",
    "from pyllments.base.payload_base import Payload\n",
    "from pyllments.elements.flow_control import FlowController\n",
    "from pyllments.ports import OutputPort, InputPort, Ports\n",
    "\n",
    "\n",
    "class Switch(Element):\n",
    "    \"\"\"\n",
    "    The Switch class routes an input payload to one of multiple output ports based on the current_output setting.\n",
    "    You set specify the output port aliases in the 'outputs' parameter, or in the 'connected_map' parameter while\n",
    "    the input port has the standard name 'payload_input'.\n",
    "    Parameters:\n",
    "    -----------\n",
    "    payload_type : Type[Payload]\n",
    "        The type of payload that this switch will handle.\n",
    "    outputs : List[str], optional\n",
    "        A list of output port aliases.\n",
    "    connected_map : Dict[str, Dict[str, Union[InputPort, OutputPort, List[InputPort], List[OutputPort]]]], optional\n",
    "        A dictionary mapping input and output aliases to ports for connection.\n",
    "    current_output : str\n",
    "        The currently active output port alias.\n",
    "\n",
    "    Attributes:\n",
    "    -----------\n",
    "    flow_controller : FlowController\n",
    "        The underlying FlowController managing the routing logic.\n",
    "    ports : Ports\n",
    "        The ports object containing all input and output ports.\n",
    "\n",
    "    Usage:\n",
    "    ------\n",
    "    # Create a Switch with a list of output aliases, then connect it. \n",
    "    switch = Switch(\n",
    "        outputs=['output1', 'output2'],\n",
    "        payload_type=MessagePayload,\n",
    "        current_output='output1'\n",
    "    )\n",
    "    input_element.ports.output['test_output'] > switch.ports.input['payload_input']\n",
    "    switch.ports.output['output1'] > output_element1.ports.input['test_input']\n",
    "    switch.ports.output['output2'] > output_element2.ports.input['test_input']\n",
    "\n",
    "\n",
    "    # Create a Switch with a connected map specifying input and output ports\n",
    "    switch = Switch(\n",
    "        payload_type=MessagePayload,\n",
    "        connected_map={\n",
    "            'input': {\n",
    "                'payload_input': [el1.ports.output['output1'], el2.ports.output['output2']],\n",
    "            },\n",
    "            'output': {\n",
    "                'port1': [el3.ports.input['input1'], el4.ports.input['input2']],\n",
    "                'port2': el5.ports.input['input3']\n",
    "            }\n",
    "        },\n",
    "        current_output='port1'\n",
    "    )\n",
    "\n",
    "    # To change the active output port:\n",
    "    switch.current_output = 'port2'\n",
    "    \"\"\"\n",
    "\n",
    "    payload_type = param.ClassSelector(class_=Payload, is_instance=False, doc=\"Type of payload this switch will handle\")\n",
    "    outputs = param.List(default=[], item_type=str, doc=\"List of output port aliases\")\n",
    "    connected_map = param.Dict(default={}, doc=\"\"\"\n",
    "        Dictionary of input and output aliases mapped to ports for connection.\n",
    "        Example:\n",
    "        {\n",
    "            'input': {\n",
    "                'payload_input': [el1.ports.output['output1'], el2.ports.output['output2']],\n",
    "            },\n",
    "            'output': {\n",
    "                'port1': [el3.ports.input['input1'], el4.ports.input['input2']],\n",
    "                'port2': el5.ports.input['input3']\n",
    "            }\n",
    "        }\n",
    "        \"\"\")\n",
    "    \n",
    "    current_output = param.String(doc=\"Currently active output port\")\n",
    "\n",
    "    flow_controller = param.ClassSelector(class_=FlowController, doc=\"FlowController object\")\n",
    "    ports = param.ClassSelector(class_=Ports, allow_None=False, doc=\"Ports object\")\n",
    "\n",
    "    def __init__(self, **params):\n",
    "        super().__init__(**params)\n",
    "        # self._flow_controller_setup()\n",
    "\n",
    "    def _flow_controller_setup(self):\n",
    "        flow_map = self._prepare_flow_map()\n",
    "        connected_flow_map = self._prepare_connected_flow_map()\n",
    "\n",
    "        def flow_fn(active_input_port, c, **kwargs):\n",
    "            if self.current_output in kwargs:\n",
    "                kwargs[self.current_output].emit(active_input_port.payload)\n",
    "\n",
    "        self.flow_controller = FlowController(\n",
    "            flow_fn=flow_fn,\n",
    "            flow_map=flow_map,\n",
    "            connected_flow_map=connected_flow_map\n",
    "        )\n",
    "\n",
    "        # Set up the ports attribute to match the flow_controller's ports\n",
    "        self.ports = self.flow_controller.ports\n",
    "\n",
    "        # Set up the current_output parameter if not already set\n",
    "        if not self.current_output and self.outputs:\n",
    "            self.current_output = self.outputs[0]\n",
    "\n",
    "    def _prepare_flow_map(self):\n",
    "        flow_map = {'input': {'payload_input': self.payload_type}, 'output': {}}\n",
    "        for output in self.outputs:\n",
    "            flow_map['output'][output] = self.payload_type\n",
    "        return flow_map\n",
    "    def _prepare_connected_flow_map(self):\n",
    "        connected_flow_map = {'input': {'payload_input': []}, 'output': {}}\n",
    "        \n",
    "        # Only allow 'payload_input' as the input port\n",
    "        if 'input' in self.connected_map and 'payload_input' in self.connected_map['input']:\n",
    "            connected_flow_map['input']['payload_input'] = self.connected_map['input']['payload_input']\n",
    "        \n",
    "        if 'output' in self.connected_map:\n",
    "            connected_flow_map['output'] = self.connected_map['output']\n",
    "        \n",
    "        return connected_flow_map\n",
    "\n"
   ]
  },
  {
   "cell_type": "code",
   "execution_count": 4,
   "metadata": {},
   "outputs": [],
   "source": [
    "switch = Switch(\n",
    "    payload_type=MessagePayload, \n",
    "    outputs=['with_retrieval', 'without_retrieval'], \n",
    "    current_output='without_retrieval'\n",
    ")"
   ]
  },
  {
   "cell_type": "code",
   "execution_count": 5,
   "metadata": {},
   "outputs": [
    {
     "data": {
      "text/html": [
       "<style>\n",
       ".param-doc-tooltip{\n",
       "  position: relative;\n",
       "  cursor: help;\n",
       "}\n",
       ".param-doc-tooltip:hover:after{\n",
       "  content: attr(data-tooltip);\n",
       "  background-color: black;\n",
       "  color: #fff;\n",
       "  border-radius: 3px;\n",
       "  padding: 10px;\n",
       "  position: absolute;\n",
       "  z-index: 1;\n",
       "  top: -5px;\n",
       "  left: 100%;\n",
       "  margin-left: 10px;\n",
       "  min-width: 250px;\n",
       "}\n",
       ".param-doc-tooltip:hover:before {\n",
       "  content: \"\";\n",
       "  position: absolute;\n",
       "  top: 50%;\n",
       "  left: 100%;\n",
       "  margin-top: -5px;\n",
       "  border-width: 5px;\n",
       "  border-style: solid;\n",
       "  border-color: transparent black transparent transparent;\n",
       "}\n",
       "</style>\n",
       "<details  open>\n",
       " <summary style=\"display:list-item; outline:none;\">\n",
       "  <tt>Switch()</tt>\n",
       " </summary>\n",
       " <div style=\"padding-left:10px; padding-bottom:5px;\">\n",
       "  <table style=\"max-width:100%; border:1px solid #AAAAAA;\">\n",
       "   <tr><th style=\"text-align:left;\">Name</th><th style=\"text-align:left;\">Value</th><th style=\"text-align:left;\">Type</th><th>Range</th></tr>\n",
       "<tr>  <td><p style=\"margin-bottom: 0px;\" class=\"param-doc-tooltip\" data-tooltip=\"Dictionary of input and output aliases mapped to ports for connection.\n",
       "        Example:\n",
       "        {\n",
       "            &#x27;input&#x27;: {\n",
       "                &#x27;payload_input&#x27;: [el1.ports.output[&#x27;output1&#x27;], el2.ports.output[&#x27;output2&#x27;]],\n",
       "            },\n",
       "            &#x27;output&#x27;: {\n",
       "                &#x27;port1&#x27;: [el3.ports.input[&#x27;input1&#x27;], el4.ports.input[&#x27;input2&#x27;]],\n",
       "                &#x27;port2&#x27;: el5.ports.input[&#x27;input3&#x27;]\n",
       "            }\n",
       "        }\">connected_map</p></td>  <td style=\"max-width: 200px; text-align:left;\">{}</td>  <td style=\"text-align:left;\">Dict</td>  <td style=\"max-width: 300px;\">dict</td></tr>\n",
       "<tr>  <td><p style=\"margin-bottom: 0px;\" class=\"param-doc-tooltip\" data-tooltip=\"Cache for CSS files - Set on the Class Level\">css_cache</p></td>  <td style=\"max-width: 200px; text-align:left;\">{}</td>  <td style=\"text-align:left;\">Dict</td>  <td style=\"max-width: 300px;\">dict</td></tr>\n",
       "<tr>  <td><p style=\"margin-bottom: 0px;\" class=\"param-doc-tooltip\" data-tooltip=\"Currently active output port\">current_output</p></td>  <td style=\"max-width: 200px; text-align:left;\">&#x27;without_retrieval&#x27;</td>  <td style=\"text-align:left;\">String</td>  <td style=\"max-width: 300px;\"></td></tr>\n",
       "<tr>  <td><p style=\"margin-bottom: 0px;\" class=\"param-doc-tooltip\" data-tooltip=\"FlowController object\">flow_controller</p></td>  <td style=\"max-width: 200px; text-align:left;\"><style>\n",
       ".param-doc-tooltip{\n",
       "  position: relative;\n",
       "  cursor: help;\n",
       "}\n",
       ".param-doc-tooltip:hover:after{\n",
       "  content: attr(data-tooltip);\n",
       "  background-color: black;\n",
       "  color: #fff;\n",
       "  border-radius: 3px;\n",
       "  padding: 10px;\n",
       "  position: absolute;\n",
       "  z-index: 1;\n",
       "  top: -5px;\n",
       "  left: 100%;\n",
       "  margin-left: 10px;\n",
       "  min-width: 250px;\n",
       "}\n",
       ".param-doc-tooltip:hover:before {\n",
       "  content: \"\";\n",
       "  position: absolute;\n",
       "  top: 50%;\n",
       "  left: 100%;\n",
       "  margin-top: -5px;\n",
       "  border-width: 5px;\n",
       "  border-style: solid;\n",
       "  border-color: transparent black transparent transparent;\n",
       "}\n",
       "</style>\n",
       "<details >\n",
       " <summary style=\"display:list-item; outline:none;\">\n",
       "  <tt>FlowController()</tt>\n",
       " </summary>\n",
       " <div style=\"padding-left:10px; padding-bottom:5px;\">\n",
       "  <table style=\"max-width:100%; border:1px solid #AAAAAA;\">\n",
       "   <tr><th style=\"text-align:left;\">Name</th><th style=\"text-align:left;\">Value</th><th style=\"text-align:left;\">Type</th><th>Range</th></tr>\n",
       "<tr>  <td><p style=\"margin-bottom: 0px;\" class=\"param-doc-tooltip\" data-tooltip=\"Alias map to the input and output ports which are to be connected.\n",
       "        Can be used during instantiation or after instantiation.\n",
       "        Example of how to structure the connected flow map:\n",
       "        {\n",
       "            &#x27;input&#x27;: {\n",
       "                &#x27;flow_port_input1&#x27;: [el1.ports.output[&#x27;output1&#x27;], el2.ports.output[&#x27;output2&#x27;]],\n",
       "                &#x27;multi_input1&#x27;: [el3.ports.output[&#x27;output3&#x27;]]\n",
       "            },\n",
       "            &#x27;output&#x27;: {\n",
       "                &#x27;flow_port_output1&#x27;: [el4.ports.input[&#x27;input1&#x27;], el5.ports.input[&#x27;input2&#x27;]],\n",
       "                &#x27;multi_output1&#x27;: [el6.ports.input[&#x27;input3&#x27;]]\n",
       "            }\n",
       "        }\">connected_flow_map</p></td>  <td style=\"max-width: 200px; text-align:left;\">{&#x27;input&#x27;: {&#x27;payload_input&#x27;: ..</td>  <td style=\"text-align:left;\">Dict</td>  <td style=\"max-width: 300px;\">dict</td></tr>\n",
       "<tr>  <td><p style=\"margin-bottom: 0px;\" class=\"param-doc-tooltip\" data-tooltip=\"Context for the user to manage\">context</p></td>  <td style=\"max-width: 200px; text-align:left;\">{}</td>  <td style=\"text-align:left;\">Dict</td>  <td style=\"max-width: 300px;\">dict</td></tr>\n",
       "<tr>  <td><p style=\"margin-bottom: 0px;\" class=\"param-doc-tooltip\" data-tooltip=\"Cache for CSS files - Set on the Class Level\">css_cache</p></td>  <td style=\"max-width: 200px; text-align:left;\">{}</td>  <td style=\"text-align:left;\">Dict</td>  <td style=\"max-width: 300px;\">dict</td></tr>\n",
       "<tr>  <td><p style=\"margin-bottom: 0px;\" class=\"param-doc-tooltip\" data-tooltip=\"User-provided callback to run every time a new input payload is received\n",
       "        Looks like:\n",
       "        def flow_fn(active_input_port, c, input_alias, output_alias):\n",
       "            ...\n",
       "        where the input and output aliases are the port aliases you created in\n",
       "        the flow_map or connected_flow_map\">flow_fn</p></td>  <td style=\"max-width: 200px; text-align:left;\">&lt;function Switch._flow_contr..</td>  <td style=\"text-align:left;\">Callable</td>  <td style=\"max-width: 300px;\"><i>nullable</i></td></tr>\n",
       "<tr>  <td><p style=\"margin-bottom: 0px;\" class=\"param-doc-tooltip\" data-tooltip=\"Alias map to the input and output payload types which are to be used in the\n",
       "        callback signature\n",
       "        Example of how to structure the flow map:\n",
       "        {\n",
       "            &#x27;input&#x27;: {\n",
       "                &#x27;flow_port_input1&#x27;: MessagePayload,\n",
       "                &#x27;multi_input1&#x27;: MessagePayload\n",
       "            },\n",
       "            &#x27;output&#x27;: {\n",
       "                &#x27;flow_port_output1&#x27;: MessagePayload,\n",
       "                &#x27;multi_output1&#x27;: MessagePayload\n",
       "            }\n",
       "        }\">flow_map</p></td>  <td style=\"max-width: 200px; text-align:left;\">{&#x27;input&#x27;: {&#x27;payload_input&#x27;: ..</td>  <td style=\"text-align:left;\">Dict</td>  <td style=\"max-width: 300px;\">dict</td></tr>\n",
       "<tr>  <td><p style=\"margin-bottom: 0px;\" class=\"param-doc-tooltip\" data-tooltip=\"Alias map to the input and output flow ports which are to be used in the\n",
       "        callback signature\">flow_port_map</p></td>  <td style=\"max-width: 200px; text-align:left;\">{&#x27;payload_input&#x27;: InputFlowP..</td>  <td style=\"text-align:left;\">ClassSelector</td>  <td style=\"max-width: 300px;\">FlowPortMap</td></tr>\n",
       "<tr>  <td><p style=\"margin-bottom: 0px;\">id</p></td>  <td style=\"max-width: 200px; text-align:left;\">&#x27;bfdd50fc-9ef6-4ec2-8fb8-5ed..</td>  <td style=\"text-align:left;\">String</td>  <td style=\"max-width: 300px;\"></td></tr>\n",
       "<tr>  <td><p style=\"margin-bottom: 0px;\">model</p></td>  <td style=\"max-width: 200px; text-align:left;\">None</td>  <td style=\"text-align:left;\">ClassSelector</td>  <td style=\"max-width: 300px;\"><i>nullable</i> Model</td></tr>\n",
       "<tr>  <td><p style=\"margin-bottom: 0px;\" class=\"param-doc-tooltip\" data-tooltip=\"String identifier for this object.\">name</p></td>  <td style=\"max-width: 200px; text-align:left;\">&#x27;FlowController00119&#x27;</td>  <td style=\"text-align:left;\">String</td>  <td style=\"max-width: 300px;\"><i>nullable</i> <i>constant</i></td></tr>\n",
       "<tr>  <td><p style=\"margin-bottom: 0px;\" class=\"param-doc-tooltip\" data-tooltip=\"Cache for CSS files - Set on the Class Level\n",
       "        Structure: payload_name: {}\">payload_css_cache</p></td>  <td style=\"max-width: 200px; text-align:left;\">{}</td>  <td style=\"text-align:left;\">Dict</td>  <td style=\"max-width: 300px;\">dict</td></tr>\n",
       "<tr>  <td><p style=\"margin-bottom: 0px;\" class=\"param-doc-tooltip\" data-tooltip=\"Handles the Port interface for the Element\">ports</p></td>  <td style=\"max-width: 200px; text-align:left;\"><style>\n",
       ".param-doc-tooltip{\n",
       "  position: relative;\n",
       "  cursor: help;\n",
       "}\n",
       ".param-doc-tooltip:hover:after{\n",
       "  content: attr(data-tooltip);\n",
       "  background-color: black;\n",
       "  color: #fff;\n",
       "  border-radius: 3px;\n",
       "  padding: 10px;\n",
       "  position: absolute;\n",
       "  z-index: 1;\n",
       "  top: -5px;\n",
       "  left: 100%;\n",
       "  margin-left: 10px;\n",
       "  min-width: 250px;\n",
       "}\n",
       ".param-doc-tooltip:hover:before {\n",
       "  content: \"\";\n",
       "  position: absolute;\n",
       "  top: 50%;\n",
       "  left: 100%;\n",
       "  margin-top: -5px;\n",
       "  border-width: 5px;\n",
       "  border-style: solid;\n",
       "  border-color: transparent black transparent transparent;\n",
       "}\n",
       "</style>\n",
       "<details >\n",
       " <summary style=\"display:list-item; outline:none;\">\n",
       "  <tt>Ports()</tt>\n",
       " </summary>\n",
       " <div style=\"padding-left:10px; padding-bottom:5px;\">\n",
       "  <table style=\"max-width:100%; border:1px solid #AAAAAA;\">\n",
       "   <tr><th style=\"text-align:left;\">Name</th><th style=\"text-align:left;\">Value</th><th style=\"text-align:left;\">Type</th><th>Range</th></tr>\n",
       "<tr>  <td><p style=\"margin-bottom: 0px;\" class=\"param-doc-tooltip\" data-tooltip=\"Dictionary to store input ports\">input</p></td>  <td style=\"max-width: 200px; text-align:left;\">{&#x27;payload_input&#x27;: InputPort(..</td>  <td style=\"text-align:left;\">Dict</td>  <td style=\"max-width: 300px;\">dict</td></tr>\n",
       "<tr>  <td><p style=\"margin-bottom: 0px;\" class=\"param-doc-tooltip\" data-tooltip=\"String identifier for this object.\">name</p></td>  <td style=\"max-width: 200px; text-align:left;\">&#x27;Ports00120&#x27;</td>  <td style=\"text-align:left;\">String</td>  <td style=\"max-width: 300px;\"><i>nullable</i> <i>constant</i></td></tr>\n",
       "<tr>  <td><p style=\"margin-bottom: 0px;\" class=\"param-doc-tooltip\" data-tooltip=\"Dictionary to store output ports\">output</p></td>  <td style=\"max-width: 200px; text-align:left;\">{&#x27;without_retrieval&#x27;: Output..</td>  <td style=\"text-align:left;\">Dict</td>  <td style=\"max-width: 300px;\">dict</td></tr>\n",
       "\n",
       "  </table>\n",
       " </div>\n",
       "</details>\n",
       "</td>  <td style=\"text-align:left;\">ClassSelector</td>  <td style=\"max-width: 300px;\"><i>nullable</i> Ports</td></tr>\n",
       "\n",
       "  </table>\n",
       " </div>\n",
       "</details>\n",
       "</td>  <td style=\"text-align:left;\">ClassSelector</td>  <td style=\"max-width: 300px;\"><i>nullable</i> FlowController</td></tr>\n",
       "<tr>  <td><p style=\"margin-bottom: 0px;\">id</p></td>  <td style=\"max-width: 200px; text-align:left;\">&#x27;edb8e0bb-5539-41ed-8b37-e66..</td>  <td style=\"text-align:left;\">String</td>  <td style=\"max-width: 300px;\"></td></tr>\n",
       "<tr>  <td><p style=\"margin-bottom: 0px;\">model</p></td>  <td style=\"max-width: 200px; text-align:left;\">None</td>  <td style=\"text-align:left;\">ClassSelector</td>  <td style=\"max-width: 300px;\"><i>nullable</i> Model</td></tr>\n",
       "<tr>  <td><p style=\"margin-bottom: 0px;\" class=\"param-doc-tooltip\" data-tooltip=\"String identifier for this object.\">name</p></td>  <td style=\"max-width: 200px; text-align:left;\">&#x27;Switch00117&#x27;</td>  <td style=\"text-align:left;\">String</td>  <td style=\"max-width: 300px;\"><i>nullable</i> <i>constant</i></td></tr>\n",
       "<tr>  <td><p style=\"margin-bottom: 0px;\" class=\"param-doc-tooltip\" data-tooltip=\"List of output port aliases\">outputs</p></td>  <td style=\"max-width: 200px; text-align:left;\">[&#x27;with_retrieval&#x27;, &#x27;without_..</td>  <td style=\"text-align:left;\">List</td>  <td style=\"max-width: 300px;\">(0, None)</td></tr>\n",
       "<tr>  <td><p style=\"margin-bottom: 0px;\" class=\"param-doc-tooltip\" data-tooltip=\"Cache for CSS files - Set on the Class Level\n",
       "        Structure: payload_name: {}\">payload_css_cache</p></td>  <td style=\"max-width: 200px; text-align:left;\">{}</td>  <td style=\"text-align:left;\">Dict</td>  <td style=\"max-width: 300px;\">dict</td></tr>\n",
       "<tr>  <td><p style=\"margin-bottom: 0px;\" class=\"param-doc-tooltip\" data-tooltip=\"Type of payload this switch will handle\">payload_type</p></td>  <td style=\"max-width: 200px; text-align:left;\">&lt;class &#x27;pyllments.payloads.m..</td>  <td style=\"text-align:left;\">ClassSelector</td>  <td style=\"max-width: 300px;\"><i>nullable</i> Payload</td></tr>\n",
       "<tr>  <td><p style=\"margin-bottom: 0px;\" class=\"param-doc-tooltip\" data-tooltip=\"Ports object\">ports</p></td>  <td style=\"max-width: 200px; text-align:left;\"><style>\n",
       ".param-doc-tooltip{\n",
       "  position: relative;\n",
       "  cursor: help;\n",
       "}\n",
       ".param-doc-tooltip:hover:after{\n",
       "  content: attr(data-tooltip);\n",
       "  background-color: black;\n",
       "  color: #fff;\n",
       "  border-radius: 3px;\n",
       "  padding: 10px;\n",
       "  position: absolute;\n",
       "  z-index: 1;\n",
       "  top: -5px;\n",
       "  left: 100%;\n",
       "  margin-left: 10px;\n",
       "  min-width: 250px;\n",
       "}\n",
       ".param-doc-tooltip:hover:before {\n",
       "  content: \"\";\n",
       "  position: absolute;\n",
       "  top: 50%;\n",
       "  left: 100%;\n",
       "  margin-top: -5px;\n",
       "  border-width: 5px;\n",
       "  border-style: solid;\n",
       "  border-color: transparent black transparent transparent;\n",
       "}\n",
       "</style>\n",
       "<details >\n",
       " <summary style=\"display:list-item; outline:none;\">\n",
       "  <tt>Ports()</tt>\n",
       " </summary>\n",
       " <div style=\"padding-left:10px; padding-bottom:5px;\">\n",
       "  <table style=\"max-width:100%; border:1px solid #AAAAAA;\">\n",
       "   <tr><th style=\"text-align:left;\">Name</th><th style=\"text-align:left;\">Value</th><th style=\"text-align:left;\">Type</th><th>Range</th></tr>\n",
       "<tr>  <td><p style=\"margin-bottom: 0px;\" class=\"param-doc-tooltip\" data-tooltip=\"Dictionary to store input ports\">input</p></td>  <td style=\"max-width: 200px; text-align:left;\">{&#x27;payload_input&#x27;: InputPort(..</td>  <td style=\"text-align:left;\">Dict</td>  <td style=\"max-width: 300px;\">dict</td></tr>\n",
       "<tr>  <td><p style=\"margin-bottom: 0px;\" class=\"param-doc-tooltip\" data-tooltip=\"String identifier for this object.\">name</p></td>  <td style=\"max-width: 200px; text-align:left;\">&#x27;Ports00120&#x27;</td>  <td style=\"text-align:left;\">String</td>  <td style=\"max-width: 300px;\"><i>nullable</i> <i>constant</i></td></tr>\n",
       "<tr>  <td><p style=\"margin-bottom: 0px;\" class=\"param-doc-tooltip\" data-tooltip=\"Dictionary to store output ports\">output</p></td>  <td style=\"max-width: 200px; text-align:left;\">{&#x27;without_retrieval&#x27;: Output..</td>  <td style=\"text-align:left;\">Dict</td>  <td style=\"max-width: 300px;\">dict</td></tr>\n",
       "\n",
       "  </table>\n",
       " </div>\n",
       "</details>\n",
       "</td>  <td style=\"text-align:left;\">ClassSelector</td>  <td style=\"max-width: 300px;\"><i>nullable</i> Ports</td></tr>\n",
       "\n",
       "  </table>\n",
       " </div>\n",
       "</details>\n"
      ],
      "text/plain": [
       "<param.parameterized.Parameters at 0x7f6e22d993a0>"
      ]
     },
     "execution_count": 5,
     "metadata": {},
     "output_type": "execute_result"
    }
   ],
   "source": [
    "switch.param"
   ]
  },
  {
   "cell_type": "code",
   "execution_count": 17,
   "metadata": {},
   "outputs": [],
   "source": [
    "switch.payload_type = MessagePayload"
   ]
  },
  {
   "cell_type": "code",
   "execution_count": 18,
   "metadata": {},
   "outputs": [
    {
     "data": {
      "text/plain": [
       "pyllments.payloads.message.message_payload.MessagePayload"
      ]
     },
     "execution_count": 18,
     "metadata": {},
     "output_type": "execute_result"
    }
   ],
   "source": [
    "switch.payload_type"
   ]
  },
  {
   "cell_type": "code",
   "execution_count": 57,
   "metadata": {},
   "outputs": [],
   "source": [
    "class Component(param.Parameterized):\n",
    "    comp_param = param.String()\n",
    "\n",
    "    def __init__(self, **params):\n",
    "        for p in self.param:\n",
    "            print(p)\n",
    "        super().__init__(**params)\n",
    "        \n",
    "\n",
    "class Element(Component):\n",
    "    elem_param = param.String()\n",
    "\n",
    "    def __init__(self, **params):\n",
    "        super().__init__(**params)\n",
    "\n"
   ]
  },
  {
   "cell_type": "code",
   "execution_count": null,
   "metadata": {},
   "outputs": [],
   "source": []
  },
  {
   "cell_type": "code",
   "execution_count": 3,
   "metadata": {},
   "outputs": [
    {
     "data": {
      "text/html": [
       "<style>\n",
       ".param-doc-tooltip{\n",
       "  position: relative;\n",
       "  cursor: help;\n",
       "}\n",
       ".param-doc-tooltip:hover:after{\n",
       "  content: attr(data-tooltip);\n",
       "  background-color: black;\n",
       "  color: #fff;\n",
       "  border-radius: 3px;\n",
       "  padding: 10px;\n",
       "  position: absolute;\n",
       "  z-index: 1;\n",
       "  top: -5px;\n",
       "  left: 100%;\n",
       "  margin-left: 10px;\n",
       "  min-width: 250px;\n",
       "}\n",
       ".param-doc-tooltip:hover:before {\n",
       "  content: \"\";\n",
       "  position: absolute;\n",
       "  top: 50%;\n",
       "  left: 100%;\n",
       "  margin-top: -5px;\n",
       "  border-width: 5px;\n",
       "  border-style: solid;\n",
       "  border-color: transparent black transparent transparent;\n",
       "}\n",
       "</style>\n",
       "<details  open>\n",
       " <summary style=\"display:list-item; outline:none;\">\n",
       "  <tt>TestElement()</tt>\n",
       " </summary>\n",
       " <div style=\"padding-left:10px; padding-bottom:5px;\">\n",
       "  <table style=\"max-width:100%; border:1px solid #AAAAAA;\">\n",
       "   <tr><th style=\"text-align:left;\">Name</th><th style=\"text-align:left;\">Value</th><th style=\"text-align:left;\">Type</th><th>Range</th></tr>\n",
       "<tr>  <td><p style=\"margin-bottom: 0px;\" class=\"param-doc-tooltip\" data-tooltip=\"Cache for CSS files - Set on the Class Level\">css_cache</p></td>  <td style=\"max-width: 200px; text-align:left;\">{}</td>  <td style=\"text-align:left;\">Dict</td>  <td style=\"max-width: 300px;\">dict</td></tr>\n",
       "<tr>  <td><p style=\"margin-bottom: 0px;\">id</p></td>  <td style=\"max-width: 200px; text-align:left;\">&#x27;de4872cb-c3d8-4b5e-960a-d09..</td>  <td style=\"text-align:left;\">String</td>  <td style=\"max-width: 300px;\"></td></tr>\n",
       "<tr>  <td><p style=\"margin-bottom: 0px;\">model</p></td>  <td style=\"max-width: 200px; text-align:left;\">None</td>  <td style=\"text-align:left;\">ClassSelector</td>  <td style=\"max-width: 300px;\"><i>nullable</i> Model</td></tr>\n",
       "<tr>  <td><p style=\"margin-bottom: 0px;\" class=\"param-doc-tooltip\" data-tooltip=\"String identifier for this object.\">name</p></td>  <td style=\"max-width: 200px; text-align:left;\">&#x27;TestElement00117&#x27;</td>  <td style=\"text-align:left;\">String</td>  <td style=\"max-width: 300px;\"><i>nullable</i> <i>constant</i></td></tr>\n",
       "<tr>  <td><p style=\"margin-bottom: 0px;\" class=\"param-doc-tooltip\" data-tooltip=\"Cache for CSS files - Set on the Class Level\n",
       "        Structure: payload_name: {}\">payload_css_cache</p></td>  <td style=\"max-width: 200px; text-align:left;\">{}</td>  <td style=\"text-align:left;\">Dict</td>  <td style=\"max-width: 300px;\">dict</td></tr>\n",
       "<tr>  <td><p style=\"margin-bottom: 0px;\" class=\"param-doc-tooltip\" data-tooltip=\"Handles the Port interface for the Element\">ports</p></td>  <td style=\"max-width: 200px; text-align:left;\"><style>\n",
       ".param-doc-tooltip{\n",
       "  position: relative;\n",
       "  cursor: help;\n",
       "}\n",
       ".param-doc-tooltip:hover:after{\n",
       "  content: attr(data-tooltip);\n",
       "  background-color: black;\n",
       "  color: #fff;\n",
       "  border-radius: 3px;\n",
       "  padding: 10px;\n",
       "  position: absolute;\n",
       "  z-index: 1;\n",
       "  top: -5px;\n",
       "  left: 100%;\n",
       "  margin-left: 10px;\n",
       "  min-width: 250px;\n",
       "}\n",
       ".param-doc-tooltip:hover:before {\n",
       "  content: \"\";\n",
       "  position: absolute;\n",
       "  top: 50%;\n",
       "  left: 100%;\n",
       "  margin-top: -5px;\n",
       "  border-width: 5px;\n",
       "  border-style: solid;\n",
       "  border-color: transparent black transparent transparent;\n",
       "}\n",
       "</style>\n",
       "<details >\n",
       " <summary style=\"display:list-item; outline:none;\">\n",
       "  <tt>Ports()</tt>\n",
       " </summary>\n",
       " <div style=\"padding-left:10px; padding-bottom:5px;\">\n",
       "  <table style=\"max-width:100%; border:1px solid #AAAAAA;\">\n",
       "   <tr><th style=\"text-align:left;\">Name</th><th style=\"text-align:left;\">Value</th><th style=\"text-align:left;\">Type</th><th>Range</th></tr>\n",
       "<tr>  <td><p style=\"margin-bottom: 0px;\" class=\"param-doc-tooltip\" data-tooltip=\"Dictionary to store input ports\">input</p></td>  <td style=\"max-width: 200px; text-align:left;\">{}</td>  <td style=\"text-align:left;\">Dict</td>  <td style=\"max-width: 300px;\">dict</td></tr>\n",
       "<tr>  <td><p style=\"margin-bottom: 0px;\" class=\"param-doc-tooltip\" data-tooltip=\"String identifier for this object.\">name</p></td>  <td style=\"max-width: 200px; text-align:left;\">&#x27;Ports00118&#x27;</td>  <td style=\"text-align:left;\">String</td>  <td style=\"max-width: 300px;\"><i>nullable</i> <i>constant</i></td></tr>\n",
       "<tr>  <td><p style=\"margin-bottom: 0px;\" class=\"param-doc-tooltip\" data-tooltip=\"Dictionary to store output ports\">output</p></td>  <td style=\"max-width: 200px; text-align:left;\">{}</td>  <td style=\"text-align:left;\">Dict</td>  <td style=\"max-width: 300px;\">dict</td></tr>\n",
       "\n",
       "  </table>\n",
       " </div>\n",
       "</details>\n",
       "</td>  <td style=\"text-align:left;\">ClassSelector</td>  <td style=\"max-width: 300px;\"><i>nullable</i> Ports</td></tr>\n",
       "<tr>  <td><p style=\"margin-bottom: 0px;\">test_param</p></td>  <td style=\"max-width: 200px; text-align:left;\">&#x27;test&#x27;</td>  <td style=\"text-align:left;\">String</td>  <td style=\"max-width: 300px;\"></td></tr>\n",
       "\n",
       "  </table>\n",
       " </div>\n",
       "</details>\n"
      ],
      "text/plain": [
       "<param.parameterized.Parameters at 0x7f45bf209eb0>"
      ]
     },
     "execution_count": 3,
     "metadata": {},
     "output_type": "execute_result"
    }
   ],
   "source": [
    "from pyllments.base.element_base import Element\n",
    "\n",
    "class TestElement(Element):\n",
    "    test_param = param.String()\n",
    "\n",
    "    def __init__(self, **params):\n",
    "        super().__init__(**params)\n",
    "        \n",
    "test = TestElement(test_param='test', mrow='some param')\n",
    "test.param\n"
   ]
  },
  {
   "cell_type": "code",
   "execution_count": 4,
   "metadata": {},
   "outputs": [
    {
     "data": {
      "text/plain": [
       "'de4872cb-c3d8-4b5e-960a-d09497facd83'"
      ]
     },
     "execution_count": 4,
     "metadata": {},
     "output_type": "execute_result"
    }
   ],
   "source": [
    "test.id"
   ]
  }
 ],
 "metadata": {
  "kernelspec": {
   "display_name": "pyllments",
   "language": "python",
   "name": "python3"
  },
  "language_info": {
   "codemirror_mode": {
    "name": "ipython",
    "version": 3
   },
   "file_extension": ".py",
   "mimetype": "text/x-python",
   "name": "python",
   "nbconvert_exporter": "python",
   "pygments_lexer": "ipython3",
   "version": "3.12.4"
  }
 },
 "nbformat": 4,
 "nbformat_minor": 2
}
