{
 "cells": [
  {
   "cell_type": "code",
   "execution_count": 1,
   "metadata": {},
   "outputs": [],
   "source": [
    "from pydantic import BaseModel, Field, create_model, RootModel\n",
    "from typing import Literal, Union, Dict, Any"
   ]
  },
  {
   "cell_type": "code",
   "execution_count": 4,
   "metadata": {},
   "outputs": [],
   "source": [
    "\n",
    "\n",
    "class Address(BaseModel):\n",
    "    street: str\n",
    "    \n",
    "class User(BaseModel):\n",
    "    id: int\n",
    "    name: str = Field(..., min_length=3, max_length=15)\n",
    "    address: Address"
   ]
  },
  {
   "cell_type": "code",
   "execution_count": 6,
   "metadata": {},
   "outputs": [
    {
     "data": {
      "text/plain": [
       "{'$defs': {'Address': {'properties': {'street': {'title': 'Street',\n",
       "     'type': 'string'}},\n",
       "   'required': ['street'],\n",
       "   'title': 'Address',\n",
       "   'type': 'object'}},\n",
       " 'properties': {'id': {'title': 'Id', 'type': 'integer'},\n",
       "  'name': {'maxLength': 15, 'minLength': 3, 'title': 'Name', 'type': 'string'},\n",
       "  'address': {'$ref': '#/$defs/Address'}},\n",
       " 'required': ['id', 'name', 'address'],\n",
       " 'title': 'User',\n",
       " 'type': 'object'}"
      ]
     },
     "execution_count": 6,
     "metadata": {},
     "output_type": "execute_result"
    }
   ],
   "source": [
    "User.model_json_schema()"
   ]
  },
  {
   "cell_type": "code",
   "execution_count": 10,
   "metadata": {},
   "outputs": [],
   "source": [
    "from typing import Literal\n",
    "\n",
    "class Route(BaseModel):\n",
    "    method: Literal['reply', 'tool'] = Field(..., description=\"The method to use for the route\")"
   ]
  },
  {
   "cell_type": "code",
   "execution_count": 31,
   "metadata": {},
   "outputs": [
    {
     "data": {
      "text/plain": [
       "typing.Union[__main__.Route, __main__.Route]"
      ]
     },
     "execution_count": 31,
     "metadata": {},
     "output_type": "execute_result"
    }
   ],
   "source": [
    "from typing import Union\n",
    "\n",
    "def make_route(method: str = 'reply') -> type:\n",
    "    \"\"\"Creates a Pydantic model for Route with a specified method.\"\"\"\n",
    "    return create_model('Route', method=(Literal[method], ...))\n",
    "reply = make_route('reply')\n",
    "tools = make_route('tool')\n",
    "Union[reply, tools]"
   ]
  },
  {
   "cell_type": "code",
   "execution_count": 1,
   "metadata": {},
   "outputs": [
    {
     "ename": "NameError",
     "evalue": "name 'BaseModel' is not defined",
     "output_type": "error",
     "traceback": [
      "\u001b[0;31m---------------------------------------------------------------------------\u001b[0m",
      "\u001b[0;31mNameError\u001b[0m                                 Traceback (most recent call last)",
      "Cell \u001b[0;32mIn[1], line 1\u001b[0m\n\u001b[0;32m----> 1\u001b[0m \u001b[38;5;28;01mclass\u001b[39;00m \u001b[38;5;21;01mTools\u001b[39;00m(\u001b[43mBaseModel\u001b[49m):\n\u001b[1;32m      2\u001b[0m     tools: \u001b[38;5;28mdict\u001b[39m[\u001b[38;5;28mstr\u001b[39m, \u001b[38;5;28mdict\u001b[39m[\u001b[38;5;28mstr\u001b[39m, \u001b[38;5;28mstr\u001b[39m]] \u001b[38;5;241m=\u001b[39m Field(\u001b[38;5;241m.\u001b[39m\u001b[38;5;241m.\u001b[39m\u001b[38;5;241m.\u001b[39m, description\u001b[38;5;241m=\u001b[39m\u001b[38;5;124m\"\u001b[39m\u001b[38;5;124mThe tools to use for the route\u001b[39m\u001b[38;5;124m\"\u001b[39m)\n\u001b[1;32m      4\u001b[0m \u001b[38;5;28;01mclass\u001b[39;00m \u001b[38;5;21;01mReply\u001b[39;00m(BaseModel):\n",
      "\u001b[0;31mNameError\u001b[0m: name 'BaseModel' is not defined"
     ]
    }
   ],
   "source": [
    "class Tools(BaseModel):\n",
    "    tools: dict[str, dict[str, str]] = Field(..., description=\"The tools to use for the route\")\n",
    "\n",
    "class Reply(BaseModel):\n",
    "    reply: str = Field(..., description=\"The reply to the route\")\n",
    "\n",
    "class ToolCalling(BaseModel):\n",
    "    tools: Tools\n"
   ]
  },
  {
   "cell_type": "code",
   "execution_count": 2,
   "metadata": {},
   "outputs": [
    {
     "ename": "NameError",
     "evalue": "name 'Route' is not defined",
     "output_type": "error",
     "traceback": [
      "\u001b[0;31m---------------------------------------------------------------------------\u001b[0m",
      "\u001b[0;31mNameError\u001b[0m                                 Traceback (most recent call last)",
      "Cell \u001b[0;32mIn[2], line 1\u001b[0m\n\u001b[0;32m----> 1\u001b[0m \u001b[43mRoute\u001b[49m\u001b[38;5;241m.\u001b[39mmodel_json_schema()\n",
      "\u001b[0;31mNameError\u001b[0m: name 'Route' is not defined"
     ]
    }
   ],
   "source": [
    "Route.model_json_schema()"
   ]
  },
  {
   "cell_type": "code",
   "execution_count": 37,
   "metadata": {},
   "outputs": [
    {
     "name": "stdout",
     "output_type": "stream",
     "text": [
      "route=Route(method='reply', payload='Hello, reply!')\n",
      "route=Route(method='tools', payload='Hello, tools!')\n"
     ]
    }
   ],
   "source": [
    "from pydantic import BaseModel, Field\n",
    "\n",
    "def make_route(method: str = 'reply') -> type:\n",
    "    return create_model(\n",
    "        'Route',\n",
    "        method=(Literal[method], ...),\n",
    "        payload=(str, 'default_payload')\n",
    "    )\n",
    "\n",
    "ReplyRoute = make_route('reply')\n",
    "ToolsRoute = make_route('tools')\n",
    "\n",
    "class Message(BaseModel):\n",
    "    route: Union[ReplyRoute, ToolsRoute] = Field(..., discriminator='method')\n",
    "\n",
    "# Test with data\n",
    "reply_data = {'route': {'method': 'reply', 'payload': 'Hello, reply!'}}\n",
    "message1 = Message.model_validate(reply_data)\n",
    "print(message1)\n",
    "\n",
    "tools_data = {'route': {'method': 'tools', 'payload': 'Hello, tools!'}}\n",
    "message2 = Message.model_validate(tools_data)\n",
    "print(message2)"
   ]
  },
  {
   "cell_type": "code",
   "execution_count": 36,
   "metadata": {},
   "outputs": [
    {
     "data": {
      "text/plain": [
       "{'$defs': {'__main____Route__1': {'properties': {'method': {'const': 'reply',\n",
       "     'title': 'Method',\n",
       "     'type': 'string'},\n",
       "    'payload': {'default': 'default_payload',\n",
       "     'title': 'Payload',\n",
       "     'type': 'string'}},\n",
       "   'required': ['method'],\n",
       "   'title': 'Route',\n",
       "   'type': 'object'},\n",
       "  '__main____Route__2': {'properties': {'method': {'const': 'tools',\n",
       "     'title': 'Method',\n",
       "     'type': 'string'},\n",
       "    'payload': {'default': 'default_payload',\n",
       "     'title': 'Payload',\n",
       "     'type': 'string'}},\n",
       "   'required': ['method'],\n",
       "   'title': 'Route',\n",
       "   'type': 'object'}},\n",
       " 'properties': {'route': {'anyOf': [{'$ref': '#/$defs/__main____Route__1'},\n",
       "    {'$ref': '#/$defs/__main____Route__2'}],\n",
       "   'title': 'Route'}},\n",
       " 'required': ['route'],\n",
       " 'title': 'Message',\n",
       " 'type': 'object'}"
      ]
     },
     "execution_count": 36,
     "metadata": {},
     "output_type": "execute_result"
    }
   ],
   "source": [
    "Message.model_json_schema()"
   ]
  },
  {
   "cell_type": "code",
   "execution_count": 38,
   "metadata": {},
   "outputs": [
    {
     "data": {
      "text/plain": [
       "{'$defs': {'__main____Route__1': {'properties': {'method': {'const': 'reply',\n",
       "     'title': 'Method',\n",
       "     'type': 'string'},\n",
       "    'payload': {'default': 'default_payload',\n",
       "     'title': 'Payload',\n",
       "     'type': 'string'}},\n",
       "   'required': ['method'],\n",
       "   'title': 'Route',\n",
       "   'type': 'object'},\n",
       "  '__main____Route__2': {'properties': {'method': {'const': 'tools',\n",
       "     'title': 'Method',\n",
       "     'type': 'string'},\n",
       "    'payload': {'default': 'default_payload',\n",
       "     'title': 'Payload',\n",
       "     'type': 'string'}},\n",
       "   'required': ['method'],\n",
       "   'title': 'Route',\n",
       "   'type': 'object'}},\n",
       " 'properties': {'route': {'discriminator': {'mapping': {'reply': '#/$defs/__main____Route__1',\n",
       "     'tools': '#/$defs/__main____Route__2'},\n",
       "    'propertyName': 'method'},\n",
       "   'oneOf': [{'$ref': '#/$defs/__main____Route__1'},\n",
       "    {'$ref': '#/$defs/__main____Route__2'}],\n",
       "   'title': 'Route'}},\n",
       " 'required': ['route'],\n",
       " 'title': 'Message',\n",
       " 'type': 'object'}"
      ]
     },
     "execution_count": 38,
     "metadata": {},
     "output_type": "execute_result"
    }
   ],
   "source": [
    "Message.model_json_schema()"
   ]
  },
  {
   "cell_type": "code",
   "execution_count": 20,
   "metadata": {},
   "outputs": [],
   "source": [
    "ReplyRoute = create_model('ReplyRoute', __base__=(Reply, Route))\n",
    "ToolCallingRoute = create_model('ToolCallingRoute', __base__=(ToolCalling, Route))"
   ]
  },
  {
   "cell_type": "code",
   "execution_count": 21,
   "metadata": {},
   "outputs": [
    {
     "data": {
      "text/plain": [
       "{'$defs': {'Tools': {'properties': {'tools': {'additionalProperties': {'additionalProperties': {'type': 'string'},\n",
       "      'type': 'object'},\n",
       "     'description': 'The tools to use for the route',\n",
       "     'title': 'Tools',\n",
       "     'type': 'object'}},\n",
       "   'required': ['tools'],\n",
       "   'title': 'Tools',\n",
       "   'type': 'object'}},\n",
       " 'properties': {'method': {'description': 'The method to use for the route',\n",
       "   'enum': ['reply', 'tool'],\n",
       "   'title': 'Method',\n",
       "   'type': 'string'},\n",
       "  'tools': {'$ref': '#/$defs/Tools'}},\n",
       " 'required': ['method', 'tools'],\n",
       " 'title': 'ToolCallingRoute',\n",
       " 'type': 'object'}"
      ]
     },
     "execution_count": 21,
     "metadata": {},
     "output_type": "execute_result"
    }
   ],
   "source": [
    "ReplyRoute.model_json_schema()\n",
    "ToolCallingRoute.model_json_schema()\n"
   ]
  },
  {
   "cell_type": "code",
   "execution_count": null,
   "metadata": {},
   "outputs": [],
   "source": [
    "{\n",
    "    method: 'tools',\n",
    "}\n",
    "\n"
   ]
  },
  {
   "cell_type": "code",
   "execution_count": null,
   "metadata": {},
   "outputs": [],
   "source": [
    "\"\"\"\n",
    "routing_map takes either ports or a payload_type key for connecting and/or inferring\n",
    "the payload type\n",
    "\n",
    "\"\"\"\n",
    "\n",
    "StructuredRouterTransformer(\n",
    "    routing_map={\n",
    "        'reply': {\n",
    "            'schema': {'response': str}\n",
    "        },\n",
    "        'tools': {\n",
    "            'schema_input_ports': [mcp_el.ports.tool_list_output],\n",
    "            'transform': lambda structured_input: ToolCallPayload(tools=structured_input),\n",
    "            'payload_type': ToolCallPayload,\n",
    "            'ports': [mcp_el.ports.tool_call_input]\n",
    "        }\n",
    "    }\n",
    ")"
   ]
  },
  {
   "cell_type": "code",
   "execution_count": null,
   "metadata": {},
   "outputs": [],
   "source": [
    "{\n",
    "    'method': 'tools' # the routing specifier\n",
    "    'tools': ['weather_mcp_get_weather': {'location': 'New York'}]\n",
    "}\n",
    "\n",
    "{\n",
    "    'method': 'reply' # the routing specifier\n",
    "    'reply': 'Hello, reply!'\n",
    "}"
   ]
  },
  {
   "cell_type": "code",
   "execution_count": 3,
   "metadata": {},
   "outputs": [],
   "source": [
    "from pydantic import BaseModel, Field\n",
    "from typing import Union, List, Dict\n",
    "\n",
    "class MethodModel(BaseModel):\n",
    "    method: str = Field(..., description=\"The method to use for the route\")\n",
    "\n",
    "class ToolsModel(BaseModel):\n",
    "    tools: Dict[str, Dict[str, str]] = Field(..., description=\"The tools to use for the route\")\n",
    "\n",
    "class ReplyModel(BaseModel):\n",
    "    reply: str = Field(..., description=\"The reply message\")\n",
    "\n",
    "# Define a union type for the combined models\n",
    "# This allows for validation of either a ToolsModel or a ReplyModel alongside the MethodModel\n",
    "class ToolCallingRouteWithTools(BaseModel):\n",
    "    method: str\n",
    "    tools: Dict[str, Dict[str, str]] = Field(..., description=\"The tools to use for the route\")\n",
    "\n",
    "class ToolCallingRouteWithReply(BaseModel):\n",
    "    method: str\n",
    "    reply: str = Field(..., description=\"The reply message\")\n",
    "\n",
    "# Define a union type for the combined models\n",
    "Route = Union[ToolCallingRouteWithTools, ToolCallingRouteWithReply]\n",
    "\n"
   ]
  },
  {
   "cell_type": "code",
   "execution_count": 5,
   "metadata": {},
   "outputs": [],
   "source": [
    "class ToolCallingRoute(BaseModel):\n",
    "    \"\"\"A model that validates either a ToolCallingRouteWithTools or ToolCallingRouteWithReply.\"\"\"\n",
    "    route: Union[ToolCallingRouteWithTools, ToolCallingRouteWithReply] = Field(..., description=\"The route specification\")\n"
   ]
  },
  {
   "cell_type": "code",
   "execution_count": 6,
   "metadata": {},
   "outputs": [
    {
     "data": {
      "text/plain": [
       "{'$defs': {'ToolCallingRouteWithReply': {'properties': {'method': {'title': 'Method',\n",
       "     'type': 'string'},\n",
       "    'reply': {'description': 'The reply message',\n",
       "     'title': 'Reply',\n",
       "     'type': 'string'}},\n",
       "   'required': ['method', 'reply'],\n",
       "   'title': 'ToolCallingRouteWithReply',\n",
       "   'type': 'object'},\n",
       "  'ToolCallingRouteWithTools': {'properties': {'method': {'title': 'Method',\n",
       "     'type': 'string'},\n",
       "    'tools': {'additionalProperties': {'additionalProperties': {'type': 'string'},\n",
       "      'type': 'object'},\n",
       "     'description': 'The tools to use for the route',\n",
       "     'title': 'Tools',\n",
       "     'type': 'object'}},\n",
       "   'required': ['method', 'tools'],\n",
       "   'title': 'ToolCallingRouteWithTools',\n",
       "   'type': 'object'}},\n",
       " 'description': 'A model that validates either a ToolCallingRouteWithTools or ToolCallingRouteWithReply.',\n",
       " 'properties': {'route': {'anyOf': [{'$ref': '#/$defs/ToolCallingRouteWithTools'},\n",
       "    {'$ref': '#/$defs/ToolCallingRouteWithReply'}],\n",
       "   'description': 'The route specification',\n",
       "   'title': 'Route'}},\n",
       " 'required': ['route'],\n",
       " 'title': 'ToolCallingRoute',\n",
       " 'type': 'object'}"
      ]
     },
     "execution_count": 6,
     "metadata": {},
     "output_type": "execute_result"
    }
   ],
   "source": [
    "ToolCallingRoute.model_json_schema()"
   ]
  },
  {
   "cell_type": "code",
   "execution_count": null,
   "metadata": {},
   "outputs": [],
   "source": [
    "# Example JSONs that follow the defined schema for ToolCallingRoute\n",
    "\n",
    "example_json_reply = {\n",
    "    \"route\": {\n",
    "        \"method\": \"reply\",\n",
    "        \"reply\": \"Hello, this is a reply!\"\n",
    "    }\n",
    "}\n",
    "\n",
    "example_json_tools = {\n",
    "    \"route\": {\n",
    "        \"method\": \"tools\",\n",
    "        \"tools\": {\n",
    "            \"tool1\": {\n",
    "                \"name\": \"Tool One\",\n",
    "                \"description\": \"This is the first tool.\"\n",
    "            },\n",
    "            \"tool2\": {\n",
    "                \"name\": \"Tool Two\",\n",
    "                \"description\": \"This is the second tool.\"\n",
    "            }\n",
    "        }\n",
    "    }\n",
    "}\n",
    "\n",
    "# These examples demonstrate how to structure the JSON according to the defined models.\n",
    "# The first example is for a reply, while the second is for tools.\n"
   ]
  },
  {
   "cell_type": "code",
   "execution_count": 9,
   "metadata": {},
   "outputs": [],
   "source": [
    "from pydantic import BaseModel, Field\n",
    "from typing import Union\n",
    "\n",
    "class ToolCallingRouteWithReply(BaseModel):\n",
    "    \"\"\"A model for routes that return a reply.\"\"\"\n",
    "    method: str = Field(..., description=\"The method to use for the route\", enum=[\"reply\"])\n",
    "    reply: str = Field(..., description=\"The reply message\")\n",
    "\n",
    "class ToolCallingRouteWithTools(BaseModel):\n",
    "    \"\"\"A model for routes that utilize tools.\"\"\"\n",
    "    method: str = Field(..., description=\"The method to use for the route\", enum=[\"tools\"])\n",
    "    tools: dict = Field(..., description=\"The tools to use for the route\")\n",
    "\n",
    "class ToolCallingRoute(BaseModel):\n",
    "    \"\"\"A model that validates either a ToolCallingRouteWithTools or ToolCallingRouteWithReply without an external 'route' key.\"\"\"\n",
    "    route: Union[ToolCallingRouteWithTools, ToolCallingRouteWithReply] = Field(..., description=\"The route specification\")\n",
    "\n",
    "# Note: The previous implementation incorrectly used a field called '__root__' in a root model.\n",
    "# This has been corrected by directly including the 'route' field in the ToolCallingRoute model.\n",
    "\n",
    "\n",
    "\n",
    "\n",
    "\n"
   ]
  },
  {
   "cell_type": "code",
   "execution_count": 11,
   "metadata": {},
   "outputs": [
    {
     "data": {
      "text/plain": [
       "{'$defs': {'ToolCallingRouteWithReply': {'description': 'A model for routes that return a reply.',\n",
       "   'properties': {'method': {'description': 'The method to use for the route',\n",
       "     'enum': ['reply'],\n",
       "     'title': 'Method',\n",
       "     'type': 'string'},\n",
       "    'reply': {'description': 'The reply message',\n",
       "     'title': 'Reply',\n",
       "     'type': 'string'}},\n",
       "   'required': ['method', 'reply'],\n",
       "   'title': 'ToolCallingRouteWithReply',\n",
       "   'type': 'object'},\n",
       "  'ToolCallingRouteWithTools': {'description': 'A model for routes that utilize tools.',\n",
       "   'properties': {'method': {'description': 'The method to use for the route',\n",
       "     'enum': ['tools'],\n",
       "     'title': 'Method',\n",
       "     'type': 'string'},\n",
       "    'tools': {'description': 'The tools to use for the route',\n",
       "     'title': 'Tools',\n",
       "     'type': 'object'}},\n",
       "   'required': ['method', 'tools'],\n",
       "   'title': 'ToolCallingRouteWithTools',\n",
       "   'type': 'object'}},\n",
       " 'description': \"A model that validates either a ToolCallingRouteWithTools or ToolCallingRouteWithReply without an external 'route' key.\",\n",
       " 'properties': {'route': {'anyOf': [{'$ref': '#/$defs/ToolCallingRouteWithTools'},\n",
       "    {'$ref': '#/$defs/ToolCallingRouteWithReply'}],\n",
       "   'description': 'The route specification',\n",
       "   'title': 'Route'}},\n",
       " 'required': ['route'],\n",
       " 'title': 'ToolCallingRoute',\n",
       " 'type': 'object'}"
      ]
     },
     "execution_count": 11,
     "metadata": {},
     "output_type": "execute_result"
    }
   ],
   "source": [
    "ToolCallingRoute.model_json_schema()"
   ]
  },
  {
   "cell_type": "code",
   "execution_count": null,
   "metadata": {},
   "outputs": [],
   "source": [
    "# Creating example JSONs that conform to the ToolCallingRoute schema\n",
    "\n",
    "example_reply_route = {\n",
    "    \"route\": {\n",
    "        \"method\": \"reply\",\n",
    "        \"reply\": \"This is a reply message.\"\n",
    "    }\n",
    "}\n",
    "\n",
    "example_tools_route = {\n",
    "    \"route\": {\n",
    "        \"method\": \"tools\",\n",
    "        \"tools\": {\n",
    "            \"tool1\": {\n",
    "                \"name\": \"Tool One\",\n",
    "                \"description\": \"This is the first tool.\"\n",
    "            },\n",
    "            \"tool2\": {\n",
    "                \"name\": \"Tool Two\",\n",
    "                \"description\": \"This is the second tool.\"\n",
    "            }\n",
    "        }\n",
    "    }\n",
    "}\n",
    "\n",
    "# Example JSONs for testing\n",
    "print(example_reply_route)\n",
    "print(example_tools_route)\n"
   ]
  },
  {
   "cell_type": "code",
   "execution_count": 13,
   "metadata": {},
   "outputs": [],
   "source": [
    "from typing import Dict, Union, Literal, Any\n",
    "from pydantic import BaseModel, Field, RootModel\n",
    "\n",
    "# Defines the structure for a single tool with its name and description.\n",
    "class Tool(BaseModel):\n",
    "    name: str\n",
    "    description: str\n",
    "\n",
    "# Model for a reply route.\n",
    "class ReplyRoute(BaseModel):\n",
    "    method: Literal[\"reply\"]\n",
    "    reply: str\n",
    "\n",
    "# Model for a tools route where a mapping between tool keys and Tool definitions is provided.\n",
    "class ToolsRoute(BaseModel):\n",
    "    method: Literal[\"tools\"]\n",
    "    tools: Dict[str, Tool]\n",
    "\n",
    "# The discriminated union that accepts either a ReplyRoute or a ToolsRoute.\n",
    "# The use of __root__ with a discriminator on \"method\" means that this model directly\n",
    "# validates JSON objects like {\"method\": \"reply\", ...} or {\"method\": \"tools\", ...}\n",
    "# without requiring an outer key (e.g. \"route\").\n",
    "class Route(RootModel):\n",
    "    root: Union[ReplyRoute, ToolsRoute] = Field(..., discriminator=\"method\")\n",
    "\n",
    "# # Example usage:\n",
    "# if __name__ == \"__main__\":\n",
    "#     # JSON for a reply - note no outer \"route\" key is used.\n",
    "#     reply_json: Any = {\n",
    "#         \"method\": \"reply\",\n",
    "#         \"reply\": \"Hello, this is a reply!\"\n",
    "#     }\n",
    "    \n",
    "#     # JSON for tools.\n",
    "#     tools_json: Any = {\n",
    "#         \"method\": \"tools\",\n",
    "#         \"tools\": {\n",
    "#             \"tool1\": {\"name\": \"Tool One\", \"description\": \"This is the first tool.\"},\n",
    "#             \"tool2\": {\"name\": \"Tool Two\", \"description\": \"This is the second tool.\"}\n",
    "#         }\n",
    "#     }\n",
    "    \n",
    "#     # Validate the reply JSON.\n",
    "#     route_reply = Route.parse_obj(reply_json)\n",
    "#     print(\"Validated reply route:\", route_reply)\n",
    "    \n",
    "#     # Validate the tools JSON.\n",
    "#     route_tools = Route.parse_obj(tools_json)\n",
    "#     print(\"Validated tools route:\", route_tools)\n",
    "    \n",
    "#     # Output the generated JSON schema for inspection.\n",
    "#     print(Route.schema_json(indent=2))"
   ]
  },
  {
   "cell_type": "code",
   "execution_count": 14,
   "metadata": {},
   "outputs": [
    {
     "data": {
      "text/plain": [
       "{'$defs': {'ReplyRoute': {'properties': {'method': {'const': 'reply',\n",
       "     'title': 'Method',\n",
       "     'type': 'string'},\n",
       "    'reply': {'title': 'Reply', 'type': 'string'}},\n",
       "   'required': ['method', 'reply'],\n",
       "   'title': 'ReplyRoute',\n",
       "   'type': 'object'},\n",
       "  'Tool': {'properties': {'name': {'title': 'Name', 'type': 'string'},\n",
       "    'description': {'title': 'Description', 'type': 'string'}},\n",
       "   'required': ['name', 'description'],\n",
       "   'title': 'Tool',\n",
       "   'type': 'object'},\n",
       "  'ToolsRoute': {'properties': {'method': {'const': 'tools',\n",
       "     'title': 'Method',\n",
       "     'type': 'string'},\n",
       "    'tools': {'additionalProperties': {'$ref': '#/$defs/Tool'},\n",
       "     'title': 'Tools',\n",
       "     'type': 'object'}},\n",
       "   'required': ['method', 'tools'],\n",
       "   'title': 'ToolsRoute',\n",
       "   'type': 'object'}},\n",
       " 'discriminator': {'mapping': {'reply': '#/$defs/ReplyRoute',\n",
       "   'tools': '#/$defs/ToolsRoute'},\n",
       "  'propertyName': 'method'},\n",
       " 'oneOf': [{'$ref': '#/$defs/ReplyRoute'}, {'$ref': '#/$defs/ToolsRoute'}],\n",
       " 'title': 'Route'}"
      ]
     },
     "execution_count": 14,
     "metadata": {},
     "output_type": "execute_result"
    }
   ],
   "source": [
    "Route.model_json_schema()"
   ]
  },
  {
   "cell_type": "code",
   "execution_count": null,
   "metadata": {},
   "outputs": [],
   "source": [
    "# Example JSON objects that conform to the defined Route schema.\n",
    "\n",
    "# JSON for a reply route\n",
    "reply_json_example = {\n",
    "    \"method\": \"reply\",\n",
    "    \"reply\": \"This is a sample reply message.\"\n",
    "}\n",
    "\n",
    "# JSON for a tools route\n",
    "tools_json_example = {\n",
    "    \"method\": \"tools\",\n",
    "    \"tools\": {\n",
    "        \"tool1\": {\"name\": \"Sample Tool One\", \"description\": \"Description for tool one.\"},\n",
    "        \"tool2\": {\"name\": \"Sample Tool Two\", \"description\": \"Description for tool two.\"}\n",
    "    }\n",
    "}\n",
    "\n",
    "# Print the examples to verify their structure\n",
    "print(\"Reply JSON Example:\", reply_json_example)\n",
    "print(\"Tools JSON Example:\", tools_json_example)\n"
   ]
  },
  {
   "cell_type": "code",
   "execution_count": 46,
   "metadata": {},
   "outputs": [
    {
     "data": {
      "text/plain": [
       "{'$defs': {'RouteReplay': {'properties': {'reply': {'title': 'Reply',\n",
       "     'type': 'string'},\n",
       "    'method': {'const': 'reply', 'title': 'Method', 'type': 'string'}},\n",
       "   'required': ['reply', 'method'],\n",
       "   'title': 'RouteReplay',\n",
       "   'type': 'object'},\n",
       "  'RouteTools': {'properties': {'tools': {'title': 'Tools', 'type': 'object'},\n",
       "    'method': {'const': 'Tools', 'title': 'Method', 'type': 'string'}},\n",
       "   'required': ['tools', 'method'],\n",
       "   'title': 'RouteTools',\n",
       "   'type': 'object'}},\n",
       " 'discriminator': {'mapping': {'Tools': '#/$defs/RouteTools',\n",
       "   'reply': '#/$defs/RouteReplay'},\n",
       "  'propertyName': 'method'},\n",
       " 'oneOf': [{'$ref': '#/$defs/RouteReplay'}, {'$ref': '#/$defs/RouteTools'}],\n",
       " 'title': 'Routes'}"
      ]
     },
     "execution_count": 46,
     "metadata": {},
     "output_type": "execute_result"
    }
   ],
   "source": [
    "from pydantic import BaseModel, RootModel, Field\n",
    "from typing import Literal, Union\n",
    "\n",
    "class Reply(BaseModel):\n",
    "    reply: str\n",
    "\n",
    "class Tools(BaseModel):\n",
    "    tools: dict\n",
    "\n",
    "RouteReply = create_model(\n",
    "    'RouteReplay',\n",
    "    method=(Literal[Reply.__name__.lower()], ...),\n",
    "    __base__=Reply\n",
    "    )\n",
    "\n",
    "RouteTools = create_model(\n",
    "    'RouteTools',\n",
    "    method=(Literal[Tools.__name__], ...),\n",
    "    __base__=Tools\n",
    ")\n",
    "class Routes(RootModel):\n",
    "    root: Union[RouteReply, RouteTools] = Field(discriminator='method')\n",
    "\n",
    "# Check the schema\n",
    "Routes.model_json_schema()"
   ]
  },
  {
   "cell_type": "code",
   "execution_count": 43,
   "metadata": {},
   "outputs": [],
   "source": [
    "import json\n",
    "validate_dict = json.loads(\"\"\"\n",
    "  {\n",
    "    \"method\": \"Reply\",\n",
    "    \"reply\": \"Hi\"\n",
    "  }\n",
    "\"\"\")"
   ]
  },
  {
   "cell_type": "code",
   "execution_count": 44,
   "metadata": {},
   "outputs": [
    {
     "data": {
      "text/plain": [
       "Routes(root=RouteReplay(reply='Hi', method='Reply'))"
      ]
     },
     "execution_count": 44,
     "metadata": {},
     "output_type": "execute_result"
    }
   ],
   "source": [
    "Routes(root=validate_dict)"
   ]
  },
  {
   "cell_type": "code",
   "execution_count": 34,
   "metadata": {},
   "outputs": [
    {
     "data": {
      "text/plain": [
       "'Reply'"
      ]
     },
     "execution_count": 34,
     "metadata": {},
     "output_type": "execute_result"
    }
   ],
   "source": [
    "Reply.__name__"
   ]
  },
  {
   "cell_type": "code",
   "execution_count": 17,
   "metadata": {},
   "outputs": [
    {
     "data": {
      "text/plain": [
       "{'properties': {'method': {'title': 'Method', 'type': 'string'},\n",
       "  'reply': {'title': 'Reply', 'type': 'string'}},\n",
       " 'required': ['method', 'reply'],\n",
       " 'title': 'Route',\n",
       " 'type': 'object'}"
      ]
     },
     "execution_count": 17,
     "metadata": {},
     "output_type": "execute_result"
    }
   ],
   "source": [
    "_.model_json_schema()"
   ]
  },
  {
   "cell_type": "code",
   "execution_count": 9,
   "metadata": {},
   "outputs": [
    {
     "data": {
      "text/plain": [
       "{'$defs': {'my_cool_name': {'const': 'my LITERAL cool name',\n",
       "   'title': 'my cool name',\n",
       "   'type': 'string'},\n",
       "  'my_cool_name2': {'const': 'my LITERAL cool name2',\n",
       "   'title': 'my cool name2',\n",
       "   'type': 'string'}},\n",
       " 'anyOf': [{'$ref': '#/$defs/my_cool_name'},\n",
       "  {'$ref': '#/$defs/my_cool_name2'}],\n",
       " 'title': 'my cool name3'}"
      ]
     },
     "execution_count": 9,
     "metadata": {},
     "output_type": "execute_result"
    }
   ],
   "source": [
    "m1 = create_model(\n",
    "    'my cool name',\n",
    "    __base__=RootModel[Literal['my LITERAL cool name']]\n",
    "    )\n",
    "m2 = create_model(\n",
    "    'my cool name2',\n",
    "    __base__=RootModel[Literal['my LITERAL cool name2']]\n",
    "    )\n",
    "m3 = create_model(\n",
    "    'my cool name3',\n",
    "    __base__=RootModel[Union[m1, m2]]\n",
    "    )\n",
    "m3.model_json_schema()"
   ]
  },
  {
   "cell_type": "code",
   "execution_count": 1,
   "metadata": {},
   "outputs": [
    {
     "ename": "PydanticUserError",
     "evalue": "`const` is removed, use `Literal` instead\n\nFor further information visit https://errors.pydantic.dev/2.10/u/removed-kwargs",
     "output_type": "error",
     "traceback": [
      "\u001b[0;31m---------------------------------------------------------------------------\u001b[0m",
      "\u001b[0;31mPydanticUserError\u001b[0m                         Traceback (most recent call last)",
      "Cell \u001b[0;32mIn[1], line 37\u001b[0m\n\u001b[1;32m     34\u001b[0m \u001b[38;5;28;01mfrom\u001b[39;00m \u001b[38;5;21;01mpydantic\u001b[39;00m \u001b[38;5;28;01mimport\u001b[39;00m BaseModel, Field, create_model\n\u001b[1;32m     35\u001b[0m \u001b[38;5;28;01mfrom\u001b[39;00m \u001b[38;5;21;01mtyping\u001b[39;00m \u001b[38;5;28;01mimport\u001b[39;00m List, Union, Optional\n\u001b[0;32m---> 37\u001b[0m \u001b[38;5;28;43;01mclass\u001b[39;49;00m\u001b[43m \u001b[49m\u001b[38;5;21;43;01mTestMCPCalculate\u001b[39;49;00m\u001b[43m(\u001b[49m\u001b[43mBaseModel\u001b[49m\u001b[43m)\u001b[49m\u001b[43m:\u001b[49m\n\u001b[1;32m     38\u001b[0m \u001b[43m    \u001b[49m\u001b[43mname\u001b[49m\u001b[43m:\u001b[49m\u001b[43m \u001b[49m\u001b[38;5;28;43mstr\u001b[39;49m\u001b[43m \u001b[49m\u001b[38;5;241;43m=\u001b[39;49m\u001b[43m \u001b[49m\u001b[43mField\u001b[49m\u001b[43m(\u001b[49m\u001b[43mconst\u001b[49m\u001b[38;5;241;43m=\u001b[39;49m\u001b[38;5;124;43m'\u001b[39;49m\u001b[38;5;124;43mtest_mcp_calculate\u001b[39;49m\u001b[38;5;124;43m'\u001b[39;49m\u001b[43m)\u001b[49m\n\u001b[1;32m     39\u001b[0m \u001b[43m    \u001b[49m\u001b[43mparameters\u001b[49m\u001b[43m:\u001b[49m\u001b[43m \u001b[49m\u001b[38;5;28;43mdict\u001b[39;49m\u001b[43m \u001b[49m\u001b[38;5;241;43m=\u001b[39;49m\u001b[43m \u001b[49m\u001b[43mField\u001b[49m\u001b[43m(\u001b[49m\u001b[38;5;241;43m.\u001b[39;49m\u001b[38;5;241;43m.\u001b[39;49m\u001b[38;5;241;43m.\u001b[39;49m\u001b[43m,\u001b[49m\u001b[43m \u001b[49m\u001b[43mdescription\u001b[49m\u001b[38;5;241;43m=\u001b[39;49m\u001b[38;5;124;43m\"\u001b[39;49m\u001b[38;5;124;43mParameters for the calculation operation.\u001b[39;49m\u001b[38;5;124;43m\"\u001b[39;49m\u001b[43m)\u001b[49m\n",
      "Cell \u001b[0;32mIn[1], line 38\u001b[0m, in \u001b[0;36mTestMCPCalculate\u001b[0;34m()\u001b[0m\n\u001b[1;32m     37\u001b[0m \u001b[38;5;28;01mclass\u001b[39;00m \u001b[38;5;21;01mTestMCPCalculate\u001b[39;00m(BaseModel):\n\u001b[0;32m---> 38\u001b[0m     name: \u001b[38;5;28mstr\u001b[39m \u001b[38;5;241m=\u001b[39m \u001b[43mField\u001b[49m\u001b[43m(\u001b[49m\u001b[43mconst\u001b[49m\u001b[38;5;241;43m=\u001b[39;49m\u001b[38;5;124;43m'\u001b[39;49m\u001b[38;5;124;43mtest_mcp_calculate\u001b[39;49m\u001b[38;5;124;43m'\u001b[39;49m\u001b[43m)\u001b[49m\n\u001b[1;32m     39\u001b[0m     parameters: \u001b[38;5;28mdict\u001b[39m \u001b[38;5;241m=\u001b[39m Field(\u001b[38;5;241m.\u001b[39m\u001b[38;5;241m.\u001b[39m\u001b[38;5;241m.\u001b[39m, description\u001b[38;5;241m=\u001b[39m\u001b[38;5;124m\"\u001b[39m\u001b[38;5;124mParameters for the calculation operation.\u001b[39m\u001b[38;5;124m\"\u001b[39m)\n",
      "File \u001b[0;32m/workspaces/pyllments/.venv/lib/python3.13/site-packages/pydantic/fields.py:1007\u001b[0m, in \u001b[0;36mField\u001b[0;34m(default, default_factory, alias, alias_priority, validation_alias, serialization_alias, title, field_title_generator, description, examples, exclude, discriminator, deprecated, json_schema_extra, frozen, validate_default, repr, init, init_var, kw_only, pattern, strict, coerce_numbers_to_str, gt, ge, lt, le, multiple_of, allow_inf_nan, max_digits, decimal_places, min_length, max_length, union_mode, fail_fast, **extra)\u001b[0m\n\u001b[1;32m   1005\u001b[0m const \u001b[38;5;241m=\u001b[39m extra\u001b[38;5;241m.\u001b[39mpop(\u001b[38;5;124m'\u001b[39m\u001b[38;5;124mconst\u001b[39m\u001b[38;5;124m'\u001b[39m, \u001b[38;5;28;01mNone\u001b[39;00m)  \u001b[38;5;66;03m# type: ignore\u001b[39;00m\n\u001b[1;32m   1006\u001b[0m \u001b[38;5;28;01mif\u001b[39;00m const \u001b[38;5;129;01mis\u001b[39;00m \u001b[38;5;129;01mnot\u001b[39;00m \u001b[38;5;28;01mNone\u001b[39;00m:\n\u001b[0;32m-> 1007\u001b[0m     \u001b[38;5;28;01mraise\u001b[39;00m PydanticUserError(\u001b[38;5;124m'\u001b[39m\u001b[38;5;124m`const` is removed, use `Literal` instead\u001b[39m\u001b[38;5;124m'\u001b[39m, code\u001b[38;5;241m=\u001b[39m\u001b[38;5;124m'\u001b[39m\u001b[38;5;124mremoved-kwargs\u001b[39m\u001b[38;5;124m'\u001b[39m)\n\u001b[1;32m   1009\u001b[0m min_items \u001b[38;5;241m=\u001b[39m extra\u001b[38;5;241m.\u001b[39mpop(\u001b[38;5;124m'\u001b[39m\u001b[38;5;124mmin_items\u001b[39m\u001b[38;5;124m'\u001b[39m, \u001b[38;5;28;01mNone\u001b[39;00m)  \u001b[38;5;66;03m# type: ignore\u001b[39;00m\n\u001b[1;32m   1010\u001b[0m \u001b[38;5;28;01mif\u001b[39;00m min_items \u001b[38;5;129;01mis\u001b[39;00m \u001b[38;5;129;01mnot\u001b[39;00m \u001b[38;5;28;01mNone\u001b[39;00m:\n",
      "\u001b[0;31mPydanticUserError\u001b[0m: `const` is removed, use `Literal` instead\n\nFor further information visit https://errors.pydantic.dev/2.10/u/removed-kwargs"
     ]
    }
   ],
   "source": [
    "js = '''\n",
    "{\n",
    "  \"route\": \"tools\",\n",
    "  \"tools\": [\n",
    "    {\n",
    "      \"name\": \"test_mcp_calculate\",\n",
    "      \"parameters\": {\n",
    "        \"operation\": \"multiply\",\n",
    "        \"a\": 6,\n",
    "        \"b\": 7\n",
    "      }\n",
    "    },\n",
    "    {\n",
    "      \"name\": \"test_mcp2_format_text\",\n",
    "      \"parameters\": {\n",
    "        \"text\": \"hello world\",\n",
    "        \"format_type\": \"title\"\n",
    "      }\n",
    "    },\n",
    "    {\n",
    "      \"name\": \"test_mcp2_generate_password\",\n",
    "      \"parameters\": {\n",
    "        \"length\": 8,\n",
    "        \"include_special\": false\n",
    "      }\n",
    "    },\n",
    "    {\n",
    "      \"name\": \"test_mcp_get_current_time\"\n",
    "    }\n",
    "  ]\n",
    "}\n",
    "'''\n",
    "\n",
    "from pydantic import BaseModel, Field, create_model\n",
    "from typing import List, Union, Optional\n",
    "\n",
    "class TestMCPCalculate(BaseModel):\n",
    "    name: str = Field(const='test_mcp_calculate')\n",
    "    parameters: dict = Field(..., description=\"Parameters for the calculation operation.\")\n",
    "\n",
    "class TestMCP2FormatText(BaseModel):\n",
    "    name: str = Field(const='test_mcp2_format_text')\n",
    "    parameters: dict = Field(..., description=\"Parameters for formatting text.\")\n",
    "\n",
    "class TestMCP2GeneratePassword(BaseModel):\n",
    "    name: str = Field(const='test_mcp2_generate_password')\n",
    "    parameters: dict = Field(..., description=\"Parameters for generating a password.\")\n",
    "\n",
    "class TestMCP2GetTimestamp(BaseModel):\n",
    "    name: str = Field(const='test_mcp2_get_timestamp')\n",
    "    parameters: dict = Field(..., description=\"Parameters for getting the current timestamp.\")\n",
    "\n",
    "class TestMCPGenerateRandomNumber(BaseModel):\n",
    "    name: str = Field(const='test_mcp_generate_random_number')\n",
    "    parameters: dict = Field(..., description=\"Parameters for generating a random number.\")\n",
    "\n",
    "class TestMCPGetCurrentTime(BaseModel):\n",
    "    name: str = Field(const='test_mcp_get_current_time')\n",
    "\n",
    "# Create a union of all tool models\n",
    "MCPElement = Union[TestMCPCalculate, TestMCP2FormatText, TestMCP2GeneratePassword, \n",
    "                   TestMCP2GetTimestamp, TestMCPGenerateRandomNumber, \n",
    "                   TestMCPGetCurrentTime]\n",
    "\n",
    "class ReplyRoute(BaseModel):\n",
    "    route: str = Field(const='reply')\n",
    "    reply: str\n",
    "\n",
    "class ToolsRoute(BaseModel):\n",
    "    route: str = Field(const='tools')\n",
    "    tools: List[MCPElement]  # List of tools as defined by the union\n",
    "\n"
   ]
  }
 ],
 "metadata": {
  "kernelspec": {
   "display_name": ".venv",
   "language": "python",
   "name": "python3"
  },
  "language_info": {
   "codemirror_mode": {
    "name": "ipython",
    "version": 3
   },
   "file_extension": ".py",
   "mimetype": "text/x-python",
   "name": "python",
   "nbconvert_exporter": "python",
   "pygments_lexer": "ipython3",
   "version": "3.13.1"
  }
 },
 "nbformat": 4,
 "nbformat_minor": 2
}
