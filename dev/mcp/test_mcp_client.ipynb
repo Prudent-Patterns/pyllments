{
 "cells": [
  {
   "cell_type": "code",
   "execution_count": 1,
   "metadata": {},
   "outputs": [],
   "source": [
    "import asyncio\n",
    "from contextlib import AsyncExitStack\n",
    "from typing import Union, Literal\n",
    "\n",
    "\n",
    "from mcp import ClientSession, StdioServerParameters\n",
    "from mcp.client.stdio import stdio_client\n",
    "\n",
    "from pydantic import BaseModel, create_model, Field"
   ]
  },
  {
   "cell_type": "code",
   "execution_count": 2,
   "metadata": {},
   "outputs": [],
   "source": [
    "server_params = StdioServerParameters(\n",
    "    command=\"python\", # Executable\n",
    "    args=[\"test_mcp_server.py\"], # Optional command line arguments\n",
    "    env=None # Optional environment variables\n",
    ")"
   ]
  },
  {
   "cell_type": "code",
   "execution_count": 3,
   "metadata": {},
   "outputs": [],
   "source": [
    "context_stack = AsyncExitStack()"
   ]
  },
  {
   "cell_type": "markdown",
   "metadata": {},
   "source": []
  },
  {
   "cell_type": "code",
   "execution_count": null,
   "metadata": {},
   "outputs": [
    {
     "data": {
      "text/plain": [
       "<Task pending name='Task-7' coro=<ClientSession.initialize() running at /workspaces/pyllments/.venv/lib/python3.13/site-packages/mcp/client/session.py:76>>"
      ]
     },
     "execution_count": 4,
     "metadata": {},
     "output_type": "execute_result"
    }
   ],
   "source": [
    "read, write = await context_stack.enter_async_context(stdio_client(server_params))\n",
    "session = await context_stack.enter_async_context(ClientSession(read, write))\n",
    "\n",
    "cur_loop = asyncio.get_event_loop()\n",
    "cur_loop.create_task(session.initialize())\n",
    "\n"
   ]
  },
  {
   "cell_type": "code",
   "execution_count": 5,
   "metadata": {},
   "outputs": [],
   "source": [
    "tools =await session.list_tools()"
   ]
  },
  {
   "cell_type": "code",
   "execution_count": 9,
   "metadata": {},
   "outputs": [
    {
     "data": {
      "text/plain": [
       "{'name': 'calculate',\n",
       " 'description': \"\\nPerform a mathematical operation on two numbers.\\n\\nArgs:\\n    operation: One of 'add', 'subtract', 'multiply', 'divide'\\n    a: First number\\n    b: Second number\\n    \\nReturns:\\n    Result of the operation as a string\\n\",\n",
       " 'inputSchema': {'properties': {'operation': {'title': 'Operation',\n",
       "    'type': 'string'},\n",
       "   'a': {'title': 'A', 'type': 'number'},\n",
       "   'b': {'title': 'B', 'type': 'number'}},\n",
       "  'required': ['operation', 'a', 'b'],\n",
       "  'title': 'calculateArguments',\n",
       "  'type': 'object'}}"
      ]
     },
     "execution_count": 9,
     "metadata": {},
     "output_type": "execute_result"
    }
   ],
   "source": [
    "tools.tools[0].model_dump()"
   ]
  },
  {
   "cell_type": "code",
   "execution_count": 12,
   "metadata": {},
   "outputs": [],
   "source": [
    "tc1 = await session.call_tool('calculate', arguments={'a': 1, 'b': 2, 'operation': 'add'})"
   ]
  },
  {
   "cell_type": "code",
   "execution_count": 14,
   "metadata": {},
   "outputs": [
    {
     "data": {
      "text/plain": [
       "{'meta': None,\n",
       " 'content': [{'type': 'text',\n",
       "   'text': 'Result of 1.0 add 2.0 = 3.0',\n",
       "   'annotations': None}],\n",
       " 'isError': False}"
      ]
     },
     "execution_count": 14,
     "metadata": {},
     "output_type": "execute_result"
    }
   ],
   "source": [
    "tc1.model_dump()"
   ]
  },
  {
   "cell_type": "code",
   "execution_count": 16,
   "metadata": {},
   "outputs": [
    {
     "data": {
      "text/plain": [
       "{'meta': None,\n",
       " 'content': [{'type': 'text',\n",
       "   'text': \"Error: Unknown operation 'dddd'. Use add, subtract, multiply, or divide.\",\n",
       "   'annotations': None}],\n",
       " 'isError': False}"
      ]
     },
     "execution_count": 16,
     "metadata": {},
     "output_type": "execute_result"
    }
   ],
   "source": [
    "tc1fail =  await session.call_tool('calculate', arguments={'a': 1, 'b': 2, 'operation': 'dddd'})\n",
    "tc1fail.model_dump()"
   ]
  },
  {
   "cell_type": "code",
   "execution_count": 17,
   "metadata": {},
   "outputs": [
    {
     "data": {
      "text/plain": [
       "{'meta': None,\n",
       " 'content': [{'type': 'text', 'text': '70', 'annotations': None}],\n",
       " 'isError': False}"
      ]
     },
     "execution_count": 17,
     "metadata": {},
     "output_type": "execute_result"
    }
   ],
   "source": [
    "tc2 = await session.call_tool('generate_random_number', arguments={'min_value': 1})\n",
    "tc2.model_dump()\n"
   ]
  },
  {
   "cell_type": "code",
   "execution_count": 18,
   "metadata": {},
   "outputs": [
    {
     "name": "stdout",
     "output_type": "stream",
     "text": [
      "[{'type': 'text', 'text': '70', 'annotations': None}]\n"
     ]
    }
   ],
   "source": [
    "print(tc2.model_dump()['content'])"
   ]
  },
  {
   "cell_type": "code",
   "execution_count": 6,
   "metadata": {},
   "outputs": [
    {
     "data": {
      "text/plain": [
       "{'meta': None,\n",
       " 'nextCursor': None,\n",
       " 'tools': [{'name': 'calculate',\n",
       "   'description': \"\\nPerform a mathematical operation on two numbers.\\n\\nArgs:\\n    operation: One of 'add', 'subtract', 'multiply', 'divide'\\n    a: First number\\n    b: Second number\\n    \\nReturns:\\n    Result of the operation as a string\\n\",\n",
       "   'inputSchema': {'properties': {'operation': {'title': 'Operation',\n",
       "      'type': 'string'},\n",
       "     'a': {'title': 'A', 'type': 'number'},\n",
       "     'b': {'title': 'B', 'type': 'number'}},\n",
       "    'required': ['operation', 'a', 'b'],\n",
       "    'title': 'calculateArguments',\n",
       "    'type': 'object'}},\n",
       "  {'name': 'get_current_time',\n",
       "   'description': 'Get the current date and time.',\n",
       "   'inputSchema': {'properties': {},\n",
       "    'title': 'get_current_timeArguments',\n",
       "    'type': 'object'}},\n",
       "  {'name': 'generate_random_number',\n",
       "   'description': '\\nGenerate a random number between min_value and max_value (inclusive).\\n\\nArgs:\\n    min_value: Minimum value (default: 1)\\n    max_value: Maximum value (default: 100)\\n    \\nReturns:\\n    A random integer\\n',\n",
       "   'inputSchema': {'properties': {'min_value': {'default': 1,\n",
       "      'title': 'Min Value',\n",
       "      'type': 'integer'},\n",
       "     'max_value': {'default': 100, 'title': 'Max Value', 'type': 'integer'}},\n",
       "    'title': 'generate_random_numberArguments',\n",
       "    'type': 'object'}}]}"
      ]
     },
     "execution_count": 6,
     "metadata": {},
     "output_type": "execute_result"
    }
   ],
   "source": [
    "tools.model_dump()"
   ]
  },
  {
   "cell_type": "code",
   "execution_count": 29,
   "metadata": {},
   "outputs": [
    {
     "data": {
      "text/plain": [
       "{'name': 'calculate',\n",
       " 'description': \"\\nPerform a mathematical operation on two numbers.\\n\\nArgs:\\n    operation: One of 'add', 'subtract', 'multiply', 'divide'\\n    a: First number\\n    b: Second number\\n    \\nReturns:\\n    Result of the operation as a string\\n\",\n",
       " 'inputSchema': {'properties': {'operation': {'title': 'Operation',\n",
       "    'type': 'string'},\n",
       "   'a': {'title': 'A', 'type': 'number'},\n",
       "   'b': {'title': 'B', 'type': 'number'}},\n",
       "  'required': ['operation', 'a', 'b'],\n",
       "  'title': 'calculateArguments',\n",
       "  'type': 'object'}}"
      ]
     },
     "execution_count": 29,
     "metadata": {},
     "output_type": "execute_result"
    }
   ],
   "source": [
    "tool.model_dump()"
   ]
  },
  {
   "cell_type": "code",
   "execution_count": 31,
   "metadata": {},
   "outputs": [
    {
     "data": {
      "text/html": [
       "<script type=\"esms-options\">{\"shimMode\": true}</script><style>*[data-root-id],\n",
       "*[data-root-id] > * {\n",
       "  box-sizing: border-box;\n",
       "  font-family: var(--jp-ui-font-family);\n",
       "  font-size: var(--jp-ui-font-size1);\n",
       "  color: var(--vscode-editor-foreground, var(--jp-ui-font-color1));\n",
       "}\n",
       "\n",
       "/* Override VSCode background color */\n",
       ".cell-output-ipywidget-background:has(\n",
       "    > .cell-output-ipywidget-background > .lm-Widget > *[data-root-id]\n",
       "  ),\n",
       ".cell-output-ipywidget-background:has(> .lm-Widget > *[data-root-id]) {\n",
       "  background-color: transparent !important;\n",
       "}\n",
       "</style>"
      ]
     },
     "metadata": {},
     "output_type": "display_data"
    },
    {
     "data": {
      "application/javascript": "(function(root) {\n  function now() {\n    return new Date();\n  }\n\n  const force = true;\n  const py_version = '3.6.2'.replace('rc', '-rc.').replace('.dev', '-dev.');\n  const reloading = false;\n  const Bokeh = root.Bokeh;\n\n  // Set a timeout for this load but only if we are not already initializing\n  if (typeof (root._bokeh_timeout) === \"undefined\" || (force || !root._bokeh_is_initializing)) {\n    root._bokeh_timeout = Date.now() + 5000;\n    root._bokeh_failed_load = false;\n  }\n\n  function run_callbacks() {\n    try {\n      root._bokeh_onload_callbacks.forEach(function(callback) {\n        if (callback != null)\n          callback();\n      });\n    } finally {\n      delete root._bokeh_onload_callbacks;\n    }\n    console.debug(\"Bokeh: all callbacks have finished\");\n  }\n\n  function load_libs(css_urls, js_urls, js_modules, js_exports, callback) {\n    if (css_urls == null) css_urls = [];\n    if (js_urls == null) js_urls = [];\n    if (js_modules == null) js_modules = [];\n    if (js_exports == null) js_exports = {};\n\n    root._bokeh_onload_callbacks.push(callback);\n\n    if (root._bokeh_is_loading > 0) {\n      // Don't load bokeh if it is still initializing\n      console.debug(\"Bokeh: BokehJS is being loaded, scheduling callback at\", now());\n      return null;\n    } else if (js_urls.length === 0 && js_modules.length === 0 && Object.keys(js_exports).length === 0) {\n      // There is nothing to load\n      run_callbacks();\n      return null;\n    }\n\n    function on_load() {\n      root._bokeh_is_loading--;\n      if (root._bokeh_is_loading === 0) {\n        console.debug(\"Bokeh: all BokehJS libraries/stylesheets loaded\");\n        run_callbacks()\n      }\n    }\n    window._bokeh_on_load = on_load\n\n    function on_error(e) {\n      const src_el = e.srcElement\n      console.error(\"failed to load \" + (src_el.href || src_el.src));\n    }\n\n    const skip = [];\n    if (window.requirejs) {\n      window.requirejs.config({'packages': {}, 'paths': {}, 'shim': {}});\n      root._bokeh_is_loading = css_urls.length + 0;\n    } else {\n      root._bokeh_is_loading = css_urls.length + js_urls.length + js_modules.length + Object.keys(js_exports).length;\n    }\n\n    const existing_stylesheets = []\n    const links = document.getElementsByTagName('link')\n    for (let i = 0; i < links.length; i++) {\n      const link = links[i]\n      if (link.href != null) {\n        existing_stylesheets.push(link.href)\n      }\n    }\n    for (let i = 0; i < css_urls.length; i++) {\n      const url = css_urls[i];\n      const escaped = encodeURI(url)\n      if (existing_stylesheets.indexOf(escaped) !== -1) {\n        on_load()\n        continue;\n      }\n      const element = document.createElement(\"link\");\n      element.onload = on_load;\n      element.onerror = on_error;\n      element.rel = \"stylesheet\";\n      element.type = \"text/css\";\n      element.href = url;\n      console.debug(\"Bokeh: injecting link tag for BokehJS stylesheet: \", url);\n      document.body.appendChild(element);\n    }    var existing_scripts = []\n    const scripts = document.getElementsByTagName('script')\n    for (let i = 0; i < scripts.length; i++) {\n      var script = scripts[i]\n      if (script.src != null) {\n        existing_scripts.push(script.src)\n      }\n    }\n    for (let i = 0; i < js_urls.length; i++) {\n      const url = js_urls[i];\n      const escaped = encodeURI(url)\n      if (skip.indexOf(escaped) !== -1 || existing_scripts.indexOf(escaped) !== -1) {\n        if (!window.requirejs) {\n          on_load();\n        }\n        continue;\n      }\n      const element = document.createElement('script');\n      element.onload = on_load;\n      element.onerror = on_error;\n      element.async = false;\n      element.src = url;\n      console.debug(\"Bokeh: injecting script tag for BokehJS library: \", url);\n      document.head.appendChild(element);\n    }\n    for (let i = 0; i < js_modules.length; i++) {\n      const url = js_modules[i];\n      const escaped = encodeURI(url)\n      if (skip.indexOf(escaped) !== -1 || existing_scripts.indexOf(escaped) !== -1) {\n        if (!window.requirejs) {\n          on_load();\n        }\n        continue;\n      }\n      var element = document.createElement('script');\n      element.onload = on_load;\n      element.onerror = on_error;\n      element.async = false;\n      element.src = url;\n      element.type = \"module\";\n      console.debug(\"Bokeh: injecting script tag for BokehJS library: \", url);\n      document.head.appendChild(element);\n    }\n    for (const name in js_exports) {\n      const url = js_exports[name];\n      const escaped = encodeURI(url)\n      if (skip.indexOf(escaped) >= 0 || root[name] != null) {\n        if (!window.requirejs) {\n          on_load();\n        }\n        continue;\n      }\n      var element = document.createElement('script');\n      element.onerror = on_error;\n      element.async = false;\n      element.type = \"module\";\n      console.debug(\"Bokeh: injecting script tag for BokehJS library: \", url);\n      element.textContent = `\n      import ${name} from \"${url}\"\n      window.${name} = ${name}\n      window._bokeh_on_load()\n      `\n      document.head.appendChild(element);\n    }\n    if (!js_urls.length && !js_modules.length) {\n      on_load()\n    }\n  };\n\n  function inject_raw_css(css) {\n    const element = document.createElement(\"style\");\n    element.appendChild(document.createTextNode(css));\n    document.body.appendChild(element);\n  }\n\n  const js_urls = [\"https://cdn.holoviz.org/panel/1.5.4/dist/bundled/reactiveesm/es-module-shims@^1.10.0/dist/es-module-shims.min.js\", \"https://cdn.bokeh.org/bokeh/release/bokeh-3.6.2.min.js\", \"https://cdn.bokeh.org/bokeh/release/bokeh-gl-3.6.2.min.js\", \"https://cdn.bokeh.org/bokeh/release/bokeh-widgets-3.6.2.min.js\", \"https://cdn.bokeh.org/bokeh/release/bokeh-tables-3.6.2.min.js\", \"https://cdn.holoviz.org/panel/1.5.4/dist/panel.min.js\"];\n  const js_modules = [];\n  const js_exports = {};\n  const css_urls = [];\n  const inline_js = [    function(Bokeh) {\n      Bokeh.set_log_level(\"info\");\n    },\nfunction(Bokeh) {} // ensure no trailing comma for IE\n  ];\n\n  function run_inline_js() {\n    if ((root.Bokeh !== undefined) || (force === true)) {\n      for (let i = 0; i < inline_js.length; i++) {\n        try {\n          inline_js[i].call(root, root.Bokeh);\n        } catch(e) {\n          if (!reloading) {\n            throw e;\n          }\n        }\n      }\n      // Cache old bokeh versions\n      if (Bokeh != undefined && !reloading) {\n        var NewBokeh = root.Bokeh;\n        if (Bokeh.versions === undefined) {\n          Bokeh.versions = new Map();\n        }\n        if (NewBokeh.version !== Bokeh.version) {\n          Bokeh.versions.set(NewBokeh.version, NewBokeh)\n        }\n        root.Bokeh = Bokeh;\n      }\n    } else if (Date.now() < root._bokeh_timeout) {\n      setTimeout(run_inline_js, 100);\n    } else if (!root._bokeh_failed_load) {\n      console.log(\"Bokeh: BokehJS failed to load within specified timeout.\");\n      root._bokeh_failed_load = true;\n    }\n    root._bokeh_is_initializing = false\n  }\n\n  function load_or_wait() {\n    // Implement a backoff loop that tries to ensure we do not load multiple\n    // versions of Bokeh and its dependencies at the same time.\n    // In recent versions we use the root._bokeh_is_initializing flag\n    // to determine whether there is an ongoing attempt to initialize\n    // bokeh, however for backward compatibility we also try to ensure\n    // that we do not start loading a newer (Panel>=1.0 and Bokeh>3) version\n    // before older versions are fully initialized.\n    if (root._bokeh_is_initializing && Date.now() > root._bokeh_timeout) {\n      // If the timeout and bokeh was not successfully loaded we reset\n      // everything and try loading again\n      root._bokeh_timeout = Date.now() + 5000;\n      root._bokeh_is_initializing = false;\n      root._bokeh_onload_callbacks = undefined;\n      root._bokeh_is_loading = 0\n      console.log(\"Bokeh: BokehJS was loaded multiple times but one version failed to initialize.\");\n      load_or_wait();\n    } else if (root._bokeh_is_initializing || (typeof root._bokeh_is_initializing === \"undefined\" && root._bokeh_onload_callbacks !== undefined)) {\n      setTimeout(load_or_wait, 100);\n    } else {\n      root._bokeh_is_initializing = true\n      root._bokeh_onload_callbacks = []\n      const bokeh_loaded = root.Bokeh != null && (root.Bokeh.version === py_version || (root.Bokeh.versions !== undefined && root.Bokeh.versions.has(py_version)));\n      if (!reloading && !bokeh_loaded) {\n        if (root.Bokeh) {\n          root.Bokeh = undefined;\n        }\n        console.debug(\"Bokeh: BokehJS not loaded, scheduling load and callback at\", now());\n      }\n      load_libs(css_urls, js_urls, js_modules, js_exports, function() {\n        console.debug(\"Bokeh: BokehJS plotting callback run at\", now());\n        run_inline_js();\n      });\n    }\n  }\n  // Give older versions of the autoload script a head-start to ensure\n  // they initialize before we start loading newer version.\n  setTimeout(load_or_wait, 100)\n}(window));",
      "application/vnd.holoviews_load.v0+json": ""
     },
     "metadata": {},
     "output_type": "display_data"
    },
    {
     "data": {
      "application/javascript": "\nif ((window.PyViz === undefined) || (window.PyViz instanceof HTMLElement)) {\n  window.PyViz = {comms: {}, comm_status:{}, kernels:{}, receivers: {}, plot_index: []}\n}\n\n\n    function JupyterCommManager() {\n    }\n\n    JupyterCommManager.prototype.register_target = function(plot_id, comm_id, msg_handler) {\n      if (window.comm_manager || ((window.Jupyter !== undefined) && (Jupyter.notebook.kernel != null))) {\n        var comm_manager = window.comm_manager || Jupyter.notebook.kernel.comm_manager;\n        comm_manager.register_target(comm_id, function(comm) {\n          comm.on_msg(msg_handler);\n        });\n      } else if ((plot_id in window.PyViz.kernels) && (window.PyViz.kernels[plot_id])) {\n        window.PyViz.kernels[plot_id].registerCommTarget(comm_id, function(comm) {\n          comm.onMsg = msg_handler;\n        });\n      } else if (typeof google != 'undefined' && google.colab.kernel != null) {\n        google.colab.kernel.comms.registerTarget(comm_id, (comm) => {\n          var messages = comm.messages[Symbol.asyncIterator]();\n          function processIteratorResult(result) {\n            var message = result.value;\n            console.log(message)\n            var content = {data: message.data, comm_id};\n            var buffers = []\n            for (var buffer of message.buffers || []) {\n              buffers.push(new DataView(buffer))\n            }\n            var metadata = message.metadata || {};\n            var msg = {content, buffers, metadata}\n            msg_handler(msg);\n            return messages.next().then(processIteratorResult);\n          }\n          return messages.next().then(processIteratorResult);\n        })\n      }\n    }\n\n    JupyterCommManager.prototype.get_client_comm = function(plot_id, comm_id, msg_handler) {\n      if (comm_id in window.PyViz.comms) {\n        return window.PyViz.comms[comm_id];\n      } else if (window.comm_manager || ((window.Jupyter !== undefined) && (Jupyter.notebook.kernel != null))) {\n        var comm_manager = window.comm_manager || Jupyter.notebook.kernel.comm_manager;\n        var comm = comm_manager.new_comm(comm_id, {}, {}, {}, comm_id);\n        if (msg_handler) {\n          comm.on_msg(msg_handler);\n        }\n      } else if ((plot_id in window.PyViz.kernels) && (window.PyViz.kernels[plot_id])) {\n        var comm = window.PyViz.kernels[plot_id].connectToComm(comm_id);\n        comm.open();\n        if (msg_handler) {\n          comm.onMsg = msg_handler;\n        }\n      } else if (typeof google != 'undefined' && google.colab.kernel != null) {\n        var comm_promise = google.colab.kernel.comms.open(comm_id)\n        comm_promise.then((comm) => {\n          window.PyViz.comms[comm_id] = comm;\n          if (msg_handler) {\n            var messages = comm.messages[Symbol.asyncIterator]();\n            function processIteratorResult(result) {\n              var message = result.value;\n              var content = {data: message.data};\n              var metadata = message.metadata || {comm_id};\n              var msg = {content, metadata}\n              msg_handler(msg);\n              return messages.next().then(processIteratorResult);\n            }\n            return messages.next().then(processIteratorResult);\n          }\n        }) \n        var sendClosure = (data, metadata, buffers, disposeOnDone) => {\n          return comm_promise.then((comm) => {\n            comm.send(data, metadata, buffers, disposeOnDone);\n          });\n        };\n        var comm = {\n          send: sendClosure\n        };\n      }\n      window.PyViz.comms[comm_id] = comm;\n      return comm;\n    }\n    window.PyViz.comm_manager = new JupyterCommManager();\n    \n\n\nvar JS_MIME_TYPE = 'application/javascript';\nvar HTML_MIME_TYPE = 'text/html';\nvar EXEC_MIME_TYPE = 'application/vnd.holoviews_exec.v0+json';\nvar CLASS_NAME = 'output';\n\n/**\n * Render data to the DOM node\n */\nfunction render(props, node) {\n  var div = document.createElement(\"div\");\n  var script = document.createElement(\"script\");\n  node.appendChild(div);\n  node.appendChild(script);\n}\n\n/**\n * Handle when a new output is added\n */\nfunction handle_add_output(event, handle) {\n  var output_area = handle.output_area;\n  var output = handle.output;\n  if ((output.data == undefined) || (!output.data.hasOwnProperty(EXEC_MIME_TYPE))) {\n    return\n  }\n  var id = output.metadata[EXEC_MIME_TYPE][\"id\"];\n  var toinsert = output_area.element.find(\".\" + CLASS_NAME.split(' ')[0]);\n  if (id !== undefined) {\n    var nchildren = toinsert.length;\n    var html_node = toinsert[nchildren-1].children[0];\n    html_node.innerHTML = output.data[HTML_MIME_TYPE];\n    var scripts = [];\n    var nodelist = html_node.querySelectorAll(\"script\");\n    for (var i in nodelist) {\n      if (nodelist.hasOwnProperty(i)) {\n        scripts.push(nodelist[i])\n      }\n    }\n\n    scripts.forEach( function (oldScript) {\n      var newScript = document.createElement(\"script\");\n      var attrs = [];\n      var nodemap = oldScript.attributes;\n      for (var j in nodemap) {\n        if (nodemap.hasOwnProperty(j)) {\n          attrs.push(nodemap[j])\n        }\n      }\n      attrs.forEach(function(attr) { newScript.setAttribute(attr.name, attr.value) });\n      newScript.appendChild(document.createTextNode(oldScript.innerHTML));\n      oldScript.parentNode.replaceChild(newScript, oldScript);\n    });\n    if (JS_MIME_TYPE in output.data) {\n      toinsert[nchildren-1].children[1].textContent = output.data[JS_MIME_TYPE];\n    }\n    output_area._hv_plot_id = id;\n    if ((window.Bokeh !== undefined) && (id in Bokeh.index)) {\n      window.PyViz.plot_index[id] = Bokeh.index[id];\n    } else {\n      window.PyViz.plot_index[id] = null;\n    }\n  } else if (output.metadata[EXEC_MIME_TYPE][\"server_id\"] !== undefined) {\n    var bk_div = document.createElement(\"div\");\n    bk_div.innerHTML = output.data[HTML_MIME_TYPE];\n    var script_attrs = bk_div.children[0].attributes;\n    for (var i = 0; i < script_attrs.length; i++) {\n      toinsert[toinsert.length - 1].childNodes[1].setAttribute(script_attrs[i].name, script_attrs[i].value);\n    }\n    // store reference to server id on output_area\n    output_area._bokeh_server_id = output.metadata[EXEC_MIME_TYPE][\"server_id\"];\n  }\n}\n\n/**\n * Handle when an output is cleared or removed\n */\nfunction handle_clear_output(event, handle) {\n  var id = handle.cell.output_area._hv_plot_id;\n  var server_id = handle.cell.output_area._bokeh_server_id;\n  if (((id === undefined) || !(id in PyViz.plot_index)) && (server_id !== undefined)) { return; }\n  var comm = window.PyViz.comm_manager.get_client_comm(\"hv-extension-comm\", \"hv-extension-comm\", function () {});\n  if (server_id !== null) {\n    comm.send({event_type: 'server_delete', 'id': server_id});\n    return;\n  } else if (comm !== null) {\n    comm.send({event_type: 'delete', 'id': id});\n  }\n  delete PyViz.plot_index[id];\n  if ((window.Bokeh !== undefined) & (id in window.Bokeh.index)) {\n    var doc = window.Bokeh.index[id].model.document\n    doc.clear();\n    const i = window.Bokeh.documents.indexOf(doc);\n    if (i > -1) {\n      window.Bokeh.documents.splice(i, 1);\n    }\n  }\n}\n\n/**\n * Handle kernel restart event\n */\nfunction handle_kernel_cleanup(event, handle) {\n  delete PyViz.comms[\"hv-extension-comm\"];\n  window.PyViz.plot_index = {}\n}\n\n/**\n * Handle update_display_data messages\n */\nfunction handle_update_output(event, handle) {\n  handle_clear_output(event, {cell: {output_area: handle.output_area}})\n  handle_add_output(event, handle)\n}\n\nfunction register_renderer(events, OutputArea) {\n  function append_mime(data, metadata, element) {\n    // create a DOM node to render to\n    var toinsert = this.create_output_subarea(\n    metadata,\n    CLASS_NAME,\n    EXEC_MIME_TYPE\n    );\n    this.keyboard_manager.register_events(toinsert);\n    // Render to node\n    var props = {data: data, metadata: metadata[EXEC_MIME_TYPE]};\n    render(props, toinsert[0]);\n    element.append(toinsert);\n    return toinsert\n  }\n\n  events.on('output_added.OutputArea', handle_add_output);\n  events.on('output_updated.OutputArea', handle_update_output);\n  events.on('clear_output.CodeCell', handle_clear_output);\n  events.on('delete.Cell', handle_clear_output);\n  events.on('kernel_ready.Kernel', handle_kernel_cleanup);\n\n  OutputArea.prototype.register_mime_type(EXEC_MIME_TYPE, append_mime, {\n    safe: true,\n    index: 0\n  });\n}\n\nif (window.Jupyter !== undefined) {\n  try {\n    var events = require('base/js/events');\n    var OutputArea = require('notebook/js/outputarea').OutputArea;\n    if (OutputArea.prototype.mime_types().indexOf(EXEC_MIME_TYPE) == -1) {\n      register_renderer(events, OutputArea);\n    }\n  } catch(err) {\n  }\n}\n",
      "application/vnd.holoviews_load.v0+json": ""
     },
     "metadata": {},
     "output_type": "display_data"
    },
    {
     "data": {
      "application/vnd.holoviews_exec.v0+json": "",
      "text/html": [
       "<div id='e2ca16b3-8ddb-4b0e-9965-0b4a242cee53'>\n",
       "  <div id=\"ec711282-d664-4cb0-b111-7a489b0d1a9d\" data-root-id=\"e2ca16b3-8ddb-4b0e-9965-0b4a242cee53\" style=\"display: contents;\"></div>\n",
       "</div>\n",
       "<script type=\"application/javascript\">(function(root) {\n",
       "  var docs_json = {\"cadba06e-1ac7-4aff-abe5-efa5bcbc5d12\":{\"version\":\"3.6.2\",\"title\":\"Bokeh Application\",\"roots\":[{\"type\":\"object\",\"name\":\"panel.models.browser.BrowserInfo\",\"id\":\"e2ca16b3-8ddb-4b0e-9965-0b4a242cee53\"},{\"type\":\"object\",\"name\":\"panel.models.comm_manager.CommManager\",\"id\":\"dcaecf76-49ed-492d-a8ab-9533101359e4\",\"attributes\":{\"plot_id\":\"e2ca16b3-8ddb-4b0e-9965-0b4a242cee53\",\"comm_id\":\"099dcd90c2fd45a3a39470c65717ff8b\",\"client_comm_id\":\"d3ed70eb62754568a1cc14f7b2a72123\"}}],\"defs\":[{\"type\":\"model\",\"name\":\"ReactiveHTML1\"},{\"type\":\"model\",\"name\":\"FlexBox1\",\"properties\":[{\"name\":\"align_content\",\"kind\":\"Any\",\"default\":\"flex-start\"},{\"name\":\"align_items\",\"kind\":\"Any\",\"default\":\"flex-start\"},{\"name\":\"flex_direction\",\"kind\":\"Any\",\"default\":\"row\"},{\"name\":\"flex_wrap\",\"kind\":\"Any\",\"default\":\"wrap\"},{\"name\":\"gap\",\"kind\":\"Any\",\"default\":\"\"},{\"name\":\"justify_content\",\"kind\":\"Any\",\"default\":\"flex-start\"}]},{\"type\":\"model\",\"name\":\"FloatPanel1\",\"properties\":[{\"name\":\"config\",\"kind\":\"Any\",\"default\":{\"type\":\"map\"}},{\"name\":\"contained\",\"kind\":\"Any\",\"default\":true},{\"name\":\"position\",\"kind\":\"Any\",\"default\":\"right-top\"},{\"name\":\"offsetx\",\"kind\":\"Any\",\"default\":null},{\"name\":\"offsety\",\"kind\":\"Any\",\"default\":null},{\"name\":\"theme\",\"kind\":\"Any\",\"default\":\"primary\"},{\"name\":\"status\",\"kind\":\"Any\",\"default\":\"normalized\"}]},{\"type\":\"model\",\"name\":\"GridStack1\",\"properties\":[{\"name\":\"mode\",\"kind\":\"Any\",\"default\":\"warn\"},{\"name\":\"ncols\",\"kind\":\"Any\",\"default\":null},{\"name\":\"nrows\",\"kind\":\"Any\",\"default\":null},{\"name\":\"allow_resize\",\"kind\":\"Any\",\"default\":true},{\"name\":\"allow_drag\",\"kind\":\"Any\",\"default\":true},{\"name\":\"state\",\"kind\":\"Any\",\"default\":[]}]},{\"type\":\"model\",\"name\":\"drag1\",\"properties\":[{\"name\":\"slider_width\",\"kind\":\"Any\",\"default\":5},{\"name\":\"slider_color\",\"kind\":\"Any\",\"default\":\"black\"},{\"name\":\"value\",\"kind\":\"Any\",\"default\":50}]},{\"type\":\"model\",\"name\":\"click1\",\"properties\":[{\"name\":\"terminal_output\",\"kind\":\"Any\",\"default\":\"\"},{\"name\":\"debug_name\",\"kind\":\"Any\",\"default\":\"\"},{\"name\":\"clears\",\"kind\":\"Any\",\"default\":0}]},{\"type\":\"model\",\"name\":\"FastWrapper1\",\"properties\":[{\"name\":\"object\",\"kind\":\"Any\",\"default\":null},{\"name\":\"style\",\"kind\":\"Any\",\"default\":null}]},{\"type\":\"model\",\"name\":\"NotificationAreaBase1\",\"properties\":[{\"name\":\"js_events\",\"kind\":\"Any\",\"default\":{\"type\":\"map\"}},{\"name\":\"position\",\"kind\":\"Any\",\"default\":\"bottom-right\"},{\"name\":\"_clear\",\"kind\":\"Any\",\"default\":0}]},{\"type\":\"model\",\"name\":\"NotificationArea1\",\"properties\":[{\"name\":\"js_events\",\"kind\":\"Any\",\"default\":{\"type\":\"map\"}},{\"name\":\"notifications\",\"kind\":\"Any\",\"default\":[]},{\"name\":\"position\",\"kind\":\"Any\",\"default\":\"bottom-right\"},{\"name\":\"_clear\",\"kind\":\"Any\",\"default\":0},{\"name\":\"types\",\"kind\":\"Any\",\"default\":[{\"type\":\"map\",\"entries\":[[\"type\",\"warning\"],[\"background\",\"#ffc107\"],[\"icon\",{\"type\":\"map\",\"entries\":[[\"className\",\"fas fa-exclamation-triangle\"],[\"tagName\",\"i\"],[\"color\",\"white\"]]}]]},{\"type\":\"map\",\"entries\":[[\"type\",\"info\"],[\"background\",\"#007bff\"],[\"icon\",{\"type\":\"map\",\"entries\":[[\"className\",\"fas fa-info-circle\"],[\"tagName\",\"i\"],[\"color\",\"white\"]]}]]}]}]},{\"type\":\"model\",\"name\":\"Notification\",\"properties\":[{\"name\":\"background\",\"kind\":\"Any\",\"default\":null},{\"name\":\"duration\",\"kind\":\"Any\",\"default\":3000},{\"name\":\"icon\",\"kind\":\"Any\",\"default\":null},{\"name\":\"message\",\"kind\":\"Any\",\"default\":\"\"},{\"name\":\"notification_type\",\"kind\":\"Any\",\"default\":null},{\"name\":\"_destroyed\",\"kind\":\"Any\",\"default\":false}]},{\"type\":\"model\",\"name\":\"TemplateActions1\",\"properties\":[{\"name\":\"open_modal\",\"kind\":\"Any\",\"default\":0},{\"name\":\"close_modal\",\"kind\":\"Any\",\"default\":0}]},{\"type\":\"model\",\"name\":\"BootstrapTemplateActions1\",\"properties\":[{\"name\":\"open_modal\",\"kind\":\"Any\",\"default\":0},{\"name\":\"close_modal\",\"kind\":\"Any\",\"default\":0}]},{\"type\":\"model\",\"name\":\"TemplateEditor1\",\"properties\":[{\"name\":\"layout\",\"kind\":\"Any\",\"default\":[]}]},{\"type\":\"model\",\"name\":\"MaterialTemplateActions1\",\"properties\":[{\"name\":\"open_modal\",\"kind\":\"Any\",\"default\":0},{\"name\":\"close_modal\",\"kind\":\"Any\",\"default\":0}]},{\"type\":\"model\",\"name\":\"ReactiveESM1\",\"properties\":[{\"name\":\"esm_constants\",\"kind\":\"Any\",\"default\":{\"type\":\"map\"}}]},{\"type\":\"model\",\"name\":\"JSComponent1\",\"properties\":[{\"name\":\"esm_constants\",\"kind\":\"Any\",\"default\":{\"type\":\"map\"}}]},{\"type\":\"model\",\"name\":\"ReactComponent1\",\"properties\":[{\"name\":\"esm_constants\",\"kind\":\"Any\",\"default\":{\"type\":\"map\"}}]},{\"type\":\"model\",\"name\":\"AnyWidgetComponent1\",\"properties\":[{\"name\":\"esm_constants\",\"kind\":\"Any\",\"default\":{\"type\":\"map\"}}]},{\"type\":\"model\",\"name\":\"request_value1\",\"properties\":[{\"name\":\"fill\",\"kind\":\"Any\",\"default\":\"none\"},{\"name\":\"_synced\",\"kind\":\"Any\",\"default\":null},{\"name\":\"_request_sync\",\"kind\":\"Any\",\"default\":0}]}]}};\n",
       "  var render_items = [{\"docid\":\"cadba06e-1ac7-4aff-abe5-efa5bcbc5d12\",\"roots\":{\"e2ca16b3-8ddb-4b0e-9965-0b4a242cee53\":\"ec711282-d664-4cb0-b111-7a489b0d1a9d\"},\"root_ids\":[\"e2ca16b3-8ddb-4b0e-9965-0b4a242cee53\"]}];\n",
       "  var docs = Object.values(docs_json)\n",
       "  if (!docs) {\n",
       "    return\n",
       "  }\n",
       "  const py_version = docs[0].version.replace('rc', '-rc.').replace('.dev', '-dev.')\n",
       "  async function embed_document(root) {\n",
       "    var Bokeh = get_bokeh(root)\n",
       "    await Bokeh.embed.embed_items_notebook(docs_json, render_items);\n",
       "    for (const render_item of render_items) {\n",
       "      for (const root_id of render_item.root_ids) {\n",
       "\tconst id_el = document.getElementById(root_id)\n",
       "\tif (id_el.children.length && id_el.children[0].hasAttribute('data-root-id')) {\n",
       "\t  const root_el = id_el.children[0]\n",
       "\t  root_el.id = root_el.id + '-rendered'\n",
       "\t  for (const child of root_el.children) {\n",
       "            // Ensure JupyterLab does not capture keyboard shortcuts\n",
       "            // see: https://jupyterlab.readthedocs.io/en/4.1.x/extension/notebook.html#keyboard-interaction-model\n",
       "\t    child.setAttribute('data-lm-suppress-shortcuts', 'true')\n",
       "\t  }\n",
       "\t}\n",
       "      }\n",
       "    }\n",
       "  }\n",
       "  function get_bokeh(root) {\n",
       "    if (root.Bokeh === undefined) {\n",
       "      return null\n",
       "    } else if (root.Bokeh.version !== py_version) {\n",
       "      if (root.Bokeh.versions === undefined || !root.Bokeh.versions.has(py_version)) {\n",
       "\treturn null\n",
       "      }\n",
       "      return root.Bokeh.versions.get(py_version);\n",
       "    } else if (root.Bokeh.version === py_version) {\n",
       "      return root.Bokeh\n",
       "    }\n",
       "    return null\n",
       "  }\n",
       "  function is_loaded(root) {\n",
       "    var Bokeh = get_bokeh(root)\n",
       "    return (Bokeh != null && Bokeh.Panel !== undefined)\n",
       "  }\n",
       "  if (is_loaded(root)) {\n",
       "    embed_document(root);\n",
       "  } else {\n",
       "    var attempts = 0;\n",
       "    var timer = setInterval(function(root) {\n",
       "      if (is_loaded(root)) {\n",
       "        clearInterval(timer);\n",
       "        embed_document(root);\n",
       "      } else if (document.readyState == \"complete\") {\n",
       "        attempts++;\n",
       "        if (attempts > 200) {\n",
       "          clearInterval(timer);\n",
       "\t  var Bokeh = get_bokeh(root)\n",
       "\t  if (Bokeh == null || Bokeh.Panel == null) {\n",
       "            console.warn(\"Panel: ERROR: Unable to run Panel code because Bokeh or Panel library is missing\");\n",
       "\t  } else {\n",
       "\t    console.warn(\"Panel: WARNING: Attempting to render but not all required libraries could be resolved.\")\n",
       "\t    embed_document(root)\n",
       "\t  }\n",
       "        }\n",
       "      }\n",
       "    }, 25, root)\n",
       "  }\n",
       "})(window);</script>"
      ]
     },
     "metadata": {
      "application/vnd.holoviews_exec.v0+json": {
       "id": "e2ca16b3-8ddb-4b0e-9965-0b4a242cee53"
      }
     },
     "output_type": "display_data"
    }
   ],
   "source": [
    "import panel as pn\n",
    "pn.extension()"
   ]
  },
  {
   "cell_type": "code",
   "execution_count": 33,
   "metadata": {},
   "outputs": [
    {
     "data": {
      "application/vnd.jupyter.widget-view+json": {
       "model_id": "f7b2a6748f3748bebbdde8245979a528",
       "version_major": 2,
       "version_minor": 0
      },
      "text/plain": [
       "BokehModel(combine_events=True, render_bundle={'docs_json': {'181f398c-1430-4705-a382-088001268591': {'version…"
      ]
     },
     "execution_count": 33,
     "metadata": {},
     "output_type": "execute_result"
    }
   ],
   "source": [
    "pn.pane.JSON(tools.model_dump())"
   ]
  },
  {
   "cell_type": "code",
   "execution_count": 41,
   "metadata": {},
   "outputs": [],
   "source": [
    "import json"
   ]
  },
  {
   "cell_type": "code",
   "execution_count": 47,
   "metadata": {},
   "outputs": [],
   "source": [
    "rs = resources.model_dump()"
   ]
  },
  {
   "cell_type": "code",
   "execution_count": 49,
   "metadata": {},
   "outputs": [
    {
     "data": {
      "text/plain": [
       "{'meta': None,\n",
       " 'nextCursor': None,\n",
       " 'resources': [{'uri': AnyUrl('weather://current'),\n",
       "   'name': 'weather://current',\n",
       "   'description': None,\n",
       "   'mimeType': 'text/plain',\n",
       "   'size': None,\n",
       "   'annotations': None},\n",
       "  {'uri': AnyUrl('help://commands'),\n",
       "   'name': 'help://commands',\n",
       "   'description': None,\n",
       "   'mimeType': 'text/plain',\n",
       "   'size': None,\n",
       "   'annotations': None}]}"
      ]
     },
     "execution_count": 49,
     "metadata": {},
     "output_type": "execute_result"
    }
   ],
   "source": [
    "rs"
   ]
  },
  {
   "cell_type": "code",
   "execution_count": 51,
   "metadata": {},
   "outputs": [
    {
     "data": {
      "text/plain": [
       "ReadResourceResult(meta=None, contents=[TextResourceContents(uri=AnyUrl('weather://current'), mimeType='text/plain', text='Current weather: Snowy, 15°C')])"
      ]
     },
     "execution_count": 51,
     "metadata": {},
     "output_type": "execute_result"
    }
   ],
   "source": [
    "await session.read_resource('weather://current')"
   ]
  },
  {
   "cell_type": "code",
   "execution_count": 45,
   "metadata": {},
   "outputs": [
    {
     "data": {
      "text/plain": [
       "dict"
      ]
     },
     "execution_count": 45,
     "metadata": {},
     "output_type": "execute_result"
    }
   ],
   "source": [
    "type(resources.model_dump())"
   ]
  },
  {
   "cell_type": "code",
   "execution_count": 40,
   "metadata": {},
   "outputs": [
    {
     "ename": "ValueError",
     "evalue": "JSON pane does not support objects of type 'dict'.",
     "output_type": "error",
     "traceback": [
      "\u001b[0;31m---------------------------------------------------------------------------\u001b[0m",
      "\u001b[0;31mValueError\u001b[0m                                Traceback (most recent call last)",
      "Cell \u001b[0;32mIn[40], line 1\u001b[0m\n\u001b[0;32m----> 1\u001b[0m \u001b[43mpn\u001b[49m\u001b[38;5;241;43m.\u001b[39;49m\u001b[43mpane\u001b[49m\u001b[38;5;241;43m.\u001b[39;49m\u001b[43mJSON\u001b[49m\u001b[43m(\u001b[49m\u001b[43mresources\u001b[49m\u001b[38;5;241;43m.\u001b[39;49m\u001b[43mmodel_dump\u001b[49m\u001b[43m(\u001b[49m\u001b[43m)\u001b[49m\u001b[43m)\u001b[49m\n",
      "File \u001b[0;32m/workspaces/pyllments/.venv/lib/python3.13/site-packages/panel/pane/base.py:310\u001b[0m, in \u001b[0;36mPane.__init__\u001b[0;34m(self, object, **params)\u001b[0m\n\u001b[1;32m    309\u001b[0m \u001b[38;5;28;01mdef\u001b[39;00m \u001b[38;5;21m__init__\u001b[39m(\u001b[38;5;28mself\u001b[39m, \u001b[38;5;28mobject\u001b[39m\u001b[38;5;241m=\u001b[39m\u001b[38;5;28;01mNone\u001b[39;00m, \u001b[38;5;241m*\u001b[39m\u001b[38;5;241m*\u001b[39mparams):\n\u001b[0;32m--> 310\u001b[0m     \u001b[38;5;28;43msuper\u001b[39;49m\u001b[43m(\u001b[49m\u001b[43m)\u001b[49m\u001b[38;5;241;43m.\u001b[39;49m\u001b[38;5;21;43m__init__\u001b[39;49m\u001b[43m(\u001b[49m\u001b[38;5;28;43mobject\u001b[39;49m\u001b[38;5;241;43m=\u001b[39;49m\u001b[38;5;28;43mobject\u001b[39;49m\u001b[43m,\u001b[49m\u001b[43m \u001b[49m\u001b[38;5;241;43m*\u001b[39;49m\u001b[38;5;241;43m*\u001b[39;49m\u001b[43mparams\u001b[49m\u001b[43m)\u001b[49m\n\u001b[1;32m    311\u001b[0m     \u001b[38;5;28mself\u001b[39m\u001b[38;5;241m.\u001b[39m_internal_callbacks\u001b[38;5;241m.\u001b[39mappend(\n\u001b[1;32m    312\u001b[0m         \u001b[38;5;28mself\u001b[39m\u001b[38;5;241m.\u001b[39mparam\u001b[38;5;241m.\u001b[39mwatch(\u001b[38;5;28mself\u001b[39m\u001b[38;5;241m.\u001b[39m_update_pane, \u001b[38;5;28mself\u001b[39m\u001b[38;5;241m.\u001b[39m_rerender_params)\n\u001b[1;32m    313\u001b[0m     )\n",
      "File \u001b[0;32m/workspaces/pyllments/.venv/lib/python3.13/site-packages/panel/pane/base.py:159\u001b[0m, in \u001b[0;36mPaneBase.__init__\u001b[0;34m(self, object, **params)\u001b[0m\n\u001b[1;32m    157\u001b[0m applies \u001b[38;5;241m=\u001b[39m \u001b[38;5;28mself\u001b[39m\u001b[38;5;241m.\u001b[39mapplies(\u001b[38;5;28mself\u001b[39m\u001b[38;5;241m.\u001b[39mobject, \u001b[38;5;241m*\u001b[39m\u001b[38;5;241m*\u001b[39m(params \u001b[38;5;28;01mif\u001b[39;00m \u001b[38;5;28mself\u001b[39m\u001b[38;5;241m.\u001b[39m_applies_kw \u001b[38;5;28;01melse\u001b[39;00m {}))\n\u001b[1;32m    158\u001b[0m \u001b[38;5;28;01mif\u001b[39;00m (\u001b[38;5;28misinstance\u001b[39m(applies, \u001b[38;5;28mbool\u001b[39m) \u001b[38;5;129;01mand\u001b[39;00m \u001b[38;5;129;01mnot\u001b[39;00m applies) \u001b[38;5;129;01mand\u001b[39;00m \u001b[38;5;28mself\u001b[39m\u001b[38;5;241m.\u001b[39mobject \u001b[38;5;129;01mis\u001b[39;00m \u001b[38;5;129;01mnot\u001b[39;00m \u001b[38;5;28;01mNone\u001b[39;00m:\n\u001b[0;32m--> 159\u001b[0m     \u001b[38;5;28;43mself\u001b[39;49m\u001b[38;5;241;43m.\u001b[39;49m\u001b[43m_type_error\u001b[49m\u001b[43m(\u001b[49m\u001b[38;5;28;43mself\u001b[39;49m\u001b[38;5;241;43m.\u001b[39;49m\u001b[43mobject\u001b[49m\u001b[43m)\u001b[49m\n\u001b[1;32m    161\u001b[0m kwargs \u001b[38;5;241m=\u001b[39m {\n\u001b[1;32m    162\u001b[0m     k: v \u001b[38;5;28;01mfor\u001b[39;00m k, v \u001b[38;5;129;01min\u001b[39;00m params\u001b[38;5;241m.\u001b[39mitems() \u001b[38;5;28;01mif\u001b[39;00m k \u001b[38;5;129;01min\u001b[39;00m Layoutable\u001b[38;5;241m.\u001b[39mparam \u001b[38;5;129;01mand\u001b[39;00m\n\u001b[1;32m    163\u001b[0m     k \u001b[38;5;129;01mnot\u001b[39;00m \u001b[38;5;129;01min\u001b[39;00m \u001b[38;5;28mself\u001b[39m\u001b[38;5;241m.\u001b[39m_skip_layoutable\n\u001b[1;32m    164\u001b[0m }\n\u001b[1;32m    165\u001b[0m \u001b[38;5;28mself\u001b[39m\u001b[38;5;241m.\u001b[39mlayout \u001b[38;5;241m=\u001b[39m \u001b[38;5;28mself\u001b[39m\u001b[38;5;241m.\u001b[39mdefault_layout(\u001b[38;5;28mself\u001b[39m, \u001b[38;5;241m*\u001b[39m\u001b[38;5;241m*\u001b[39mkwargs)\n",
      "File \u001b[0;32m/workspaces/pyllments/.venv/lib/python3.13/site-packages/panel/pane/base.py:206\u001b[0m, in \u001b[0;36mPaneBase._type_error\u001b[0;34m(self, object)\u001b[0m\n\u001b[1;32m    205\u001b[0m \u001b[38;5;28;01mdef\u001b[39;00m \u001b[38;5;21m_type_error\u001b[39m(\u001b[38;5;28mself\u001b[39m, \u001b[38;5;28mobject\u001b[39m):\n\u001b[0;32m--> 206\u001b[0m     \u001b[38;5;28;01mraise\u001b[39;00m \u001b[38;5;167;01mValueError\u001b[39;00m(\u001b[38;5;124mf\u001b[39m\u001b[38;5;124m\"\u001b[39m\u001b[38;5;132;01m{\u001b[39;00m\u001b[38;5;28mtype\u001b[39m(\u001b[38;5;28mself\u001b[39m)\u001b[38;5;241m.\u001b[39m\u001b[38;5;18m__name__\u001b[39m\u001b[38;5;132;01m}\u001b[39;00m\u001b[38;5;124m pane does not support objects of type \u001b[39m\u001b[38;5;124m'\u001b[39m\u001b[38;5;132;01m{\u001b[39;00m\u001b[38;5;28mtype\u001b[39m(\u001b[38;5;28mobject\u001b[39m)\u001b[38;5;241m.\u001b[39m\u001b[38;5;18m__name__\u001b[39m\u001b[38;5;132;01m}\u001b[39;00m\u001b[38;5;124m'\u001b[39m\u001b[38;5;124m.\u001b[39m\u001b[38;5;124m\"\u001b[39m)\n",
      "\u001b[0;31mValueError\u001b[0m: JSON pane does not support objects of type 'dict'."
     ]
    }
   ],
   "source": [
    "pn.pane.JSON(resources.model_dump())"
   ]
  },
  {
   "cell_type": "code",
   "execution_count": 36,
   "metadata": {},
   "outputs": [
    {
     "ename": "ValueError",
     "evalue": "JSON pane does not support objects of type 'dict'.",
     "output_type": "error",
     "traceback": [
      "\u001b[0;31m---------------------------------------------------------------------------\u001b[0m",
      "\u001b[0;31mValueError\u001b[0m                                Traceback (most recent call last)",
      "Cell \u001b[0;32mIn[36], line 2\u001b[0m\n\u001b[1;32m      1\u001b[0m resources \u001b[38;5;241m=\u001b[39m \u001b[38;5;28;01mawait\u001b[39;00m session\u001b[38;5;241m.\u001b[39mlist_resources()\n\u001b[0;32m----> 2\u001b[0m \u001b[43mpn\u001b[49m\u001b[38;5;241;43m.\u001b[39;49m\u001b[43mpane\u001b[49m\u001b[38;5;241;43m.\u001b[39;49m\u001b[43mJSON\u001b[49m\u001b[43m(\u001b[49m\u001b[43mresources\u001b[49m\u001b[38;5;241;43m.\u001b[39;49m\u001b[43mmodel_dump\u001b[49m\u001b[43m(\u001b[49m\u001b[43m)\u001b[49m\u001b[43m)\u001b[49m\n",
      "File \u001b[0;32m/workspaces/pyllments/.venv/lib/python3.13/site-packages/panel/pane/base.py:310\u001b[0m, in \u001b[0;36mPane.__init__\u001b[0;34m(self, object, **params)\u001b[0m\n\u001b[1;32m    309\u001b[0m \u001b[38;5;28;01mdef\u001b[39;00m \u001b[38;5;21m__init__\u001b[39m(\u001b[38;5;28mself\u001b[39m, \u001b[38;5;28mobject\u001b[39m\u001b[38;5;241m=\u001b[39m\u001b[38;5;28;01mNone\u001b[39;00m, \u001b[38;5;241m*\u001b[39m\u001b[38;5;241m*\u001b[39mparams):\n\u001b[0;32m--> 310\u001b[0m     \u001b[38;5;28;43msuper\u001b[39;49m\u001b[43m(\u001b[49m\u001b[43m)\u001b[49m\u001b[38;5;241;43m.\u001b[39;49m\u001b[38;5;21;43m__init__\u001b[39;49m\u001b[43m(\u001b[49m\u001b[38;5;28;43mobject\u001b[39;49m\u001b[38;5;241;43m=\u001b[39;49m\u001b[38;5;28;43mobject\u001b[39;49m\u001b[43m,\u001b[49m\u001b[43m \u001b[49m\u001b[38;5;241;43m*\u001b[39;49m\u001b[38;5;241;43m*\u001b[39;49m\u001b[43mparams\u001b[49m\u001b[43m)\u001b[49m\n\u001b[1;32m    311\u001b[0m     \u001b[38;5;28mself\u001b[39m\u001b[38;5;241m.\u001b[39m_internal_callbacks\u001b[38;5;241m.\u001b[39mappend(\n\u001b[1;32m    312\u001b[0m         \u001b[38;5;28mself\u001b[39m\u001b[38;5;241m.\u001b[39mparam\u001b[38;5;241m.\u001b[39mwatch(\u001b[38;5;28mself\u001b[39m\u001b[38;5;241m.\u001b[39m_update_pane, \u001b[38;5;28mself\u001b[39m\u001b[38;5;241m.\u001b[39m_rerender_params)\n\u001b[1;32m    313\u001b[0m     )\n",
      "File \u001b[0;32m/workspaces/pyllments/.venv/lib/python3.13/site-packages/panel/pane/base.py:159\u001b[0m, in \u001b[0;36mPaneBase.__init__\u001b[0;34m(self, object, **params)\u001b[0m\n\u001b[1;32m    157\u001b[0m applies \u001b[38;5;241m=\u001b[39m \u001b[38;5;28mself\u001b[39m\u001b[38;5;241m.\u001b[39mapplies(\u001b[38;5;28mself\u001b[39m\u001b[38;5;241m.\u001b[39mobject, \u001b[38;5;241m*\u001b[39m\u001b[38;5;241m*\u001b[39m(params \u001b[38;5;28;01mif\u001b[39;00m \u001b[38;5;28mself\u001b[39m\u001b[38;5;241m.\u001b[39m_applies_kw \u001b[38;5;28;01melse\u001b[39;00m {}))\n\u001b[1;32m    158\u001b[0m \u001b[38;5;28;01mif\u001b[39;00m (\u001b[38;5;28misinstance\u001b[39m(applies, \u001b[38;5;28mbool\u001b[39m) \u001b[38;5;129;01mand\u001b[39;00m \u001b[38;5;129;01mnot\u001b[39;00m applies) \u001b[38;5;129;01mand\u001b[39;00m \u001b[38;5;28mself\u001b[39m\u001b[38;5;241m.\u001b[39mobject \u001b[38;5;129;01mis\u001b[39;00m \u001b[38;5;129;01mnot\u001b[39;00m \u001b[38;5;28;01mNone\u001b[39;00m:\n\u001b[0;32m--> 159\u001b[0m     \u001b[38;5;28;43mself\u001b[39;49m\u001b[38;5;241;43m.\u001b[39;49m\u001b[43m_type_error\u001b[49m\u001b[43m(\u001b[49m\u001b[38;5;28;43mself\u001b[39;49m\u001b[38;5;241;43m.\u001b[39;49m\u001b[43mobject\u001b[49m\u001b[43m)\u001b[49m\n\u001b[1;32m    161\u001b[0m kwargs \u001b[38;5;241m=\u001b[39m {\n\u001b[1;32m    162\u001b[0m     k: v \u001b[38;5;28;01mfor\u001b[39;00m k, v \u001b[38;5;129;01min\u001b[39;00m params\u001b[38;5;241m.\u001b[39mitems() \u001b[38;5;28;01mif\u001b[39;00m k \u001b[38;5;129;01min\u001b[39;00m Layoutable\u001b[38;5;241m.\u001b[39mparam \u001b[38;5;129;01mand\u001b[39;00m\n\u001b[1;32m    163\u001b[0m     k \u001b[38;5;129;01mnot\u001b[39;00m \u001b[38;5;129;01min\u001b[39;00m \u001b[38;5;28mself\u001b[39m\u001b[38;5;241m.\u001b[39m_skip_layoutable\n\u001b[1;32m    164\u001b[0m }\n\u001b[1;32m    165\u001b[0m \u001b[38;5;28mself\u001b[39m\u001b[38;5;241m.\u001b[39mlayout \u001b[38;5;241m=\u001b[39m \u001b[38;5;28mself\u001b[39m\u001b[38;5;241m.\u001b[39mdefault_layout(\u001b[38;5;28mself\u001b[39m, \u001b[38;5;241m*\u001b[39m\u001b[38;5;241m*\u001b[39mkwargs)\n",
      "File \u001b[0;32m/workspaces/pyllments/.venv/lib/python3.13/site-packages/panel/pane/base.py:206\u001b[0m, in \u001b[0;36mPaneBase._type_error\u001b[0;34m(self, object)\u001b[0m\n\u001b[1;32m    205\u001b[0m \u001b[38;5;28;01mdef\u001b[39;00m \u001b[38;5;21m_type_error\u001b[39m(\u001b[38;5;28mself\u001b[39m, \u001b[38;5;28mobject\u001b[39m):\n\u001b[0;32m--> 206\u001b[0m     \u001b[38;5;28;01mraise\u001b[39;00m \u001b[38;5;167;01mValueError\u001b[39;00m(\u001b[38;5;124mf\u001b[39m\u001b[38;5;124m\"\u001b[39m\u001b[38;5;132;01m{\u001b[39;00m\u001b[38;5;28mtype\u001b[39m(\u001b[38;5;28mself\u001b[39m)\u001b[38;5;241m.\u001b[39m\u001b[38;5;18m__name__\u001b[39m\u001b[38;5;132;01m}\u001b[39;00m\u001b[38;5;124m pane does not support objects of type \u001b[39m\u001b[38;5;124m'\u001b[39m\u001b[38;5;132;01m{\u001b[39;00m\u001b[38;5;28mtype\u001b[39m(\u001b[38;5;28mobject\u001b[39m)\u001b[38;5;241m.\u001b[39m\u001b[38;5;18m__name__\u001b[39m\u001b[38;5;132;01m}\u001b[39;00m\u001b[38;5;124m'\u001b[39m\u001b[38;5;124m.\u001b[39m\u001b[38;5;124m\"\u001b[39m)\n",
      "\u001b[0;31mValueError\u001b[0m: JSON pane does not support objects of type 'dict'."
     ]
    }
   ],
   "source": [
    "resources = await session.list_resources()\n",
    "pn.pane.JSON(resources.model_dump())\n",
    "\n",
    "\n",
    "\n"
   ]
  },
  {
   "cell_type": "markdown",
   "metadata": {},
   "source": [
    "# Truthiness testing in chaining classes"
   ]
  },
  {
   "cell_type": "code",
   "execution_count": 61,
   "metadata": {},
   "outputs": [],
   "source": [
    "class A:\n",
    "    def __init__(self, val: list):\n",
    "        self.val = val\n",
    "    def __gt__(self, other):\n",
    "        self.val.extend(other.val)\n",
    "        return self"
   ]
  },
  {
   "cell_type": "code",
   "execution_count": 62,
   "metadata": {},
   "outputs": [
    {
     "data": {
      "text/plain": [
       "([1, 2, 3, 4, 5, 6], [4, 5, 6, 7, 8, 9], [7, 8, 9])"
      ]
     },
     "execution_count": 62,
     "metadata": {},
     "output_type": "execute_result"
    }
   ],
   "source": [
    "a = A(val=[1,2,3])\n",
    "b = A(val=[4,5,6])\n",
    "c = A(val=[7,8,9])\n",
    "a > b > c\n",
    "a.val, b.val, c.val\n"
   ]
  },
  {
   "cell_type": "code",
   "execution_count": 57,
   "metadata": {},
   "outputs": [
    {
     "data": {
      "text/plain": [
       "<__main__.A at 0x7f1059693b10>"
      ]
     },
     "execution_count": 57,
     "metadata": {},
     "output_type": "execute_result"
    }
   ],
   "source": [
    "a"
   ]
  },
  {
   "cell_type": "code",
   "execution_count": 13,
   "metadata": {},
   "outputs": [],
   "source": [
    "import jinja2"
   ]
  },
  {
   "cell_type": "code",
   "execution_count": 17,
   "metadata": {},
   "outputs": [
    {
     "data": {
      "text/plain": [
       "{'message': 'blah blah blah'}"
      ]
     },
     "execution_count": 17,
     "metadata": {},
     "output_type": "execute_result"
    }
   ],
   "source": [
    "from jinja2 import Template\n",
    "import json\n",
    "\n",
    "def get_str():\n",
    "    \"\"\"Return a Jinja template string for rendering.\"\"\"\n",
    "    return \"\"\"{\n",
    "    \"message\": \"{{ content }}\"\n",
    "}\"\"\"  # Jinja template string with a placeholder for content\n",
    "\n",
    "json.loads(Template(get_str()).render(content=\"blah blah blah\"))"
   ]
  },
  {
   "cell_type": "code",
   "execution_count": 1,
   "metadata": {},
   "outputs": [],
   "source": [
    "from pyllments.payloads import ToolResponsePayload"
   ]
  },
  {
   "cell_type": "markdown",
   "metadata": {},
   "source": [
    "# Pydantic"
   ]
  },
  {
   "cell_type": "code",
   "execution_count": 8,
   "metadata": {},
   "outputs": [],
   "source": [
    "from pydantic import BaseModel"
   ]
  },
  {
   "cell_type": "code",
   "execution_count": 12,
   "metadata": {},
   "outputs": [
    {
     "data": {
      "text/plain": [
       "{'name': 'calculate',\n",
       " 'description': \"\\nPerform a mathematical operation on two numbers.\\n\\nArgs:\\n    operation: One of 'add', 'subtract', 'multiply', 'divide'\\n    a: First number\\n    b: Second number\\n    \\nReturns:\\n    Result of the operation as a string\\n\",\n",
       " 'inputSchema': {'properties': {'operation': {'title': 'Operation',\n",
       "    'type': 'string'},\n",
       "   'a': {'title': 'A', 'type': 'number'},\n",
       "   'b': {'title': 'B', 'type': 'number'}},\n",
       "  'required': ['operation', 'a', 'b'],\n",
       "  'title': 'calculateArguments',\n",
       "  'type': 'object'}}"
      ]
     },
     "execution_count": 12,
     "metadata": {},
     "output_type": "execute_result"
    }
   ],
   "source": [
    "tools.tools[0].model_dump()"
   ]
  },
  {
   "cell_type": "code",
   "execution_count": null,
   "metadata": {},
   "outputs": [],
   "source": []
  },
  {
   "cell_type": "code",
   "execution_count": 30,
   "metadata": {},
   "outputs": [],
   "source": [
    "from mcp import Tool\n",
    "from typing import Union"
   ]
  },
  {
   "cell_type": "code",
   "execution_count": 56,
   "metadata": {},
   "outputs": [
    {
     "ename": "AttributeError",
     "evalue": "'Tool' object has no attribute 'parameters'",
     "output_type": "error",
     "traceback": [
      "\u001b[0;31m---------------------------------------------------------------------------\u001b[0m",
      "\u001b[0;31mAttributeError\u001b[0m                            Traceback (most recent call last)",
      "Cell \u001b[0;32mIn[56], line 2\u001b[0m\n\u001b[1;32m      1\u001b[0m tool \u001b[38;5;241m=\u001b[39m tools\u001b[38;5;241m.\u001b[39mtools[\u001b[38;5;241m0\u001b[39m]\n\u001b[0;32m----> 2\u001b[0m \u001b[43mtool\u001b[49m\u001b[38;5;241;43m.\u001b[39;49m\u001b[43mparameters\u001b[49m\n",
      "File \u001b[0;32m/workspaces/pyllments/.venv/lib/python3.13/site-packages/pydantic/main.py:892\u001b[0m, in \u001b[0;36mBaseModel.__getattr__\u001b[0;34m(self, item)\u001b[0m\n\u001b[1;32m    889\u001b[0m     \u001b[38;5;28;01mreturn\u001b[39;00m \u001b[38;5;28msuper\u001b[39m()\u001b[38;5;241m.\u001b[39m\u001b[38;5;21m__getattribute__\u001b[39m(item)  \u001b[38;5;66;03m# Raises AttributeError if appropriate\u001b[39;00m\n\u001b[1;32m    890\u001b[0m \u001b[38;5;28;01melse\u001b[39;00m:\n\u001b[1;32m    891\u001b[0m     \u001b[38;5;66;03m# this is the current error\u001b[39;00m\n\u001b[0;32m--> 892\u001b[0m     \u001b[38;5;28;01mraise\u001b[39;00m \u001b[38;5;167;01mAttributeError\u001b[39;00m(\u001b[38;5;124mf\u001b[39m\u001b[38;5;124m'\u001b[39m\u001b[38;5;132;01m{\u001b[39;00m\u001b[38;5;28mtype\u001b[39m(\u001b[38;5;28mself\u001b[39m)\u001b[38;5;241m.\u001b[39m\u001b[38;5;18m__name__\u001b[39m\u001b[38;5;132;01m!r}\u001b[39;00m\u001b[38;5;124m object has no attribute \u001b[39m\u001b[38;5;132;01m{\u001b[39;00mitem\u001b[38;5;132;01m!r}\u001b[39;00m\u001b[38;5;124m'\u001b[39m)\n",
      "\u001b[0;31mAttributeError\u001b[0m: 'Tool' object has no attribute 'parameters'"
     ]
    }
   ],
   "source": [
    "tool = tools.tools[0]\n"
   ]
  },
  {
   "cell_type": "code",
   "execution_count": 57,
   "metadata": {},
   "outputs": [
    {
     "data": {
      "text/plain": [
       "{'extra': 'allow'}"
      ]
     },
     "execution_count": 57,
     "metadata": {},
     "output_type": "execute_result"
    }
   ],
   "source": [
    "tool.model_config"
   ]
  },
  {
   "cell_type": "code",
   "execution_count": 36,
   "metadata": {},
   "outputs": [],
   "source": [
    "class ToolResponse(BaseModel):\n",
    "    tools: list[Union[*tools.tools]]"
   ]
  },
  {
   "cell_type": "code",
   "execution_count": 40,
   "metadata": {},
   "outputs": [
    {
     "data": {
      "text/plain": [
       "{'$defs': {'Tool': {'additionalProperties': True,\n",
       "   'description': 'Definition for a tool the client can call.',\n",
       "   'properties': {'name': {'title': 'Name', 'type': 'string'},\n",
       "    'description': {'anyOf': [{'type': 'string'}, {'type': 'null'}],\n",
       "     'default': None,\n",
       "     'title': 'Description'},\n",
       "    'inputSchema': {'title': 'Inputschema', 'type': 'object'}},\n",
       "   'required': ['name', 'inputSchema'],\n",
       "   'title': 'Tool',\n",
       "   'type': 'object'}},\n",
       " 'properties': {'tools': {'items': {'$ref': '#/$defs/Tool'},\n",
       "   'title': 'Tools',\n",
       "   'type': 'array'}},\n",
       " 'required': ['tools'],\n",
       " 'title': 'ToolResponse',\n",
       " 'type': 'object'}"
      ]
     },
     "execution_count": 40,
     "metadata": {},
     "output_type": "execute_result"
    }
   ],
   "source": [
    "ToolResponse.model_json_schema()"
   ]
  },
  {
   "cell_type": "code",
   "execution_count": 29,
   "metadata": {},
   "outputs": [
    {
     "data": {
      "text/plain": [
       "{'tools': [{'name': 'calculate',\n",
       "   'description': \"\\nPerform a mathematical operation on two numbers.\\n\\nArgs:\\n    operation: One of 'add', 'subtract', 'multiply', 'divide'\\n    a: First number\\n    b: Second number\\n    \\nReturns:\\n    Result of the operation as a string\\n\",\n",
       "   'inputSchema': {'properties': {'operation': {'title': 'Operation',\n",
       "      'type': 'string'},\n",
       "     'a': {'title': 'A', 'type': 'number'},\n",
       "     'b': {'title': 'B', 'type': 'number'}},\n",
       "    'required': ['operation', 'a', 'b'],\n",
       "    'title': 'calculateArguments',\n",
       "    'type': 'object'}},\n",
       "  {'name': 'get_current_time',\n",
       "   'description': 'Get the current date and time.',\n",
       "   'inputSchema': {'properties': {},\n",
       "    'title': 'get_current_timeArguments',\n",
       "    'type': 'object'}},\n",
       "  {'name': 'generate_random_number',\n",
       "   'description': '\\nGenerate a random number between min_value and max_value (inclusive).\\n\\nArgs:\\n    min_value: Minimum value (default: 1)\\n    max_value: Maximum value (default: 100)\\n    \\nReturns:\\n    A random integer\\n',\n",
       "   'inputSchema': {'properties': {'min_value': {'default': 1,\n",
       "      'title': 'Min Value',\n",
       "      'type': 'integer'},\n",
       "     'max_value': {'default': 100, 'title': 'Max Value', 'type': 'integer'}},\n",
       "    'title': 'generate_random_numberArguments',\n",
       "    'type': 'object'}}]}"
      ]
     },
     "execution_count": 29,
     "metadata": {},
     "output_type": "execute_result"
    }
   ],
   "source": [
    "ToolResponse(tools=tools.tools).model_dump()"
   ]
  },
  {
   "cell_type": "code",
   "execution_count": 61,
   "metadata": {},
   "outputs": [
    {
     "data": {
      "text/plain": [
       "{'meta': None,\n",
       " 'nextCursor': None,\n",
       " 'tools': [{'name': 'calculate',\n",
       "   'description': \"\\nPerform a mathematical operation on two numbers.\\n\\nArgs:\\n    operation: One of 'add', 'subtract', 'multiply', 'divide'\\n    a: First number\\n    b: Second number\\n    \\nReturns:\\n    Result of the operation as a string\\n\",\n",
       "   'inputSchema': {'properties': {'operation': {'title': 'Operation',\n",
       "      'type': 'string'},\n",
       "     'a': {'title': 'A', 'type': 'number'},\n",
       "     'b': {'title': 'B', 'type': 'number'}},\n",
       "    'required': ['operation', 'a', 'b'],\n",
       "    'title': 'calculateArguments',\n",
       "    'type': 'object'}},\n",
       "  {'name': 'get_current_time',\n",
       "   'description': 'Get the current date and time.',\n",
       "   'inputSchema': {'properties': {},\n",
       "    'title': 'get_current_timeArguments',\n",
       "    'type': 'object'}},\n",
       "  {'name': 'generate_random_number',\n",
       "   'description': '\\nGenerate a random number between min_value and max_value (inclusive).\\n\\nArgs:\\n    min_value: Minimum value (default: 1)\\n    max_value: Maximum value (default: 100)\\n    \\nReturns:\\n    A random integer\\n',\n",
       "   'inputSchema': {'properties': {'min_value': {'default': 1,\n",
       "      'title': 'Min Value',\n",
       "      'type': 'integer'},\n",
       "     'max_value': {'default': 100, 'title': 'Max Value', 'type': 'integer'}},\n",
       "    'title': 'generate_random_numberArguments',\n",
       "    'type': 'object'}}]}"
      ]
     },
     "execution_count": 61,
     "metadata": {},
     "output_type": "execute_result"
    }
   ],
   "source": [
    "tools.model_dump()"
   ]
  },
  {
   "cell_type": "code",
   "execution_count": 66,
   "metadata": {},
   "outputs": [
    {
     "data": {
      "text/plain": [
       "{'name': 'calculate',\n",
       " 'description': \"\\nPerform a mathematical operation on two numbers.\\n\\nArgs:\\n    operation: One of 'add', 'subtract', 'multiply', 'divide'\\n    a: First number\\n    b: Second number\\n    \\nReturns:\\n    Result of the operation as a string\\n\",\n",
       " 'inputSchema': {'properties': {'operation': {'title': 'Operation',\n",
       "    'type': 'string'},\n",
       "   'a': {'title': 'A', 'type': 'number'},\n",
       "   'b': {'title': 'B', 'type': 'number'}},\n",
       "  'required': ['operation', 'a', 'b'],\n",
       "  'title': 'calculateArguments',\n",
       "  'type': 'object'}}"
      ]
     },
     "execution_count": 66,
     "metadata": {},
     "output_type": "execute_result"
    }
   ],
   "source": []
  },
  {
   "cell_type": "code",
   "execution_count": null,
   "metadata": {},
   "outputs": [],
   "source": [
    "tools[]"
   ]
  },
  {
   "cell_type": "markdown",
   "metadata": {},
   "source": [
    "# Make a union of the specific tool specs"
   ]
  },
  {
   "cell_type": "code",
   "execution_count": 7,
   "metadata": {},
   "outputs": [
    {
     "data": {
      "text/plain": [
       "{'meta': None,\n",
       " 'nextCursor': None,\n",
       " 'tools': [{'name': 'calculate',\n",
       "   'description': \"\\nPerform a mathematical operation on two numbers.\\n\\nArgs:\\n    operation: One of 'add', 'subtract', 'multiply', 'divide'\\n    a: First number\\n    b: Second number\\n    \\nReturns:\\n    Result of the operation as a string\\n\",\n",
       "   'inputSchema': {'properties': {'operation': {'title': 'Operation',\n",
       "      'type': 'string'},\n",
       "     'a': {'title': 'A', 'type': 'number'},\n",
       "     'b': {'title': 'B', 'type': 'number'}},\n",
       "    'required': ['operation', 'a', 'b'],\n",
       "    'title': 'calculateArguments',\n",
       "    'type': 'object'}},\n",
       "  {'name': 'get_current_time',\n",
       "   'description': 'Get the current date and time.',\n",
       "   'inputSchema': {'properties': {},\n",
       "    'title': 'get_current_timeArguments',\n",
       "    'type': 'object'}},\n",
       "  {'name': 'generate_random_number',\n",
       "   'description': '\\nGenerate a random number between min_value and max_value (inclusive).\\n\\nArgs:\\n    min_value: Minimum value (default: 1)\\n    max_value: Maximum value (default: 100)\\n    \\nReturns:\\n    A random integer\\n',\n",
       "   'inputSchema': {'properties': {'min_value': {'default': 1,\n",
       "      'title': 'Min Value',\n",
       "      'type': 'integer'},\n",
       "     'max_value': {'default': 100, 'title': 'Max Value', 'type': 'integer'}},\n",
       "    'title': 'generate_random_numberArguments',\n",
       "    'type': 'object'}}]}"
      ]
     },
     "execution_count": 7,
     "metadata": {},
     "output_type": "execute_result"
    }
   ],
   "source": [
    "tools.model_dump()"
   ]
  },
  {
   "cell_type": "code",
   "execution_count": 13,
   "metadata": {},
   "outputs": [
    {
     "data": {
      "text/plain": [
       "[Tool(name='calculate', description=\"\\nPerform a mathematical operation on two numbers.\\n\\nArgs:\\n    operation: One of 'add', 'subtract', 'multiply', 'divide'\\n    a: First number\\n    b: Second number\\n    \\nReturns:\\n    Result of the operation as a string\\n\", inputSchema={'properties': {'operation': {'title': 'Operation', 'type': 'string'}, 'a': {'title': 'A', 'type': 'number'}, 'b': {'title': 'B', 'type': 'number'}}, 'required': ['operation', 'a', 'b'], 'title': 'calculateArguments', 'type': 'object'}),\n",
       " Tool(name='get_current_time', description='Get the current date and time.', inputSchema={'properties': {}, 'title': 'get_current_timeArguments', 'type': 'object'}),\n",
       " Tool(name='generate_random_number', description='\\nGenerate a random number between min_value and max_value (inclusive).\\n\\nArgs:\\n    min_value: Minimum value (default: 1)\\n    max_value: Maximum value (default: 100)\\n    \\nReturns:\\n    A random integer\\n', inputSchema={'properties': {'min_value': {'default': 1, 'title': 'Min Value', 'type': 'integer'}, 'max_value': {'default': 100, 'title': 'Max Value', 'type': 'integer'}}, 'title': 'generate_random_numberArguments', 'type': 'object'})]"
      ]
     },
     "execution_count": 13,
     "metadata": {},
     "output_type": "execute_result"
    }
   ],
   "source": [
    "tools.tools"
   ]
  },
  {
   "cell_type": "code",
   "execution_count": 11,
   "metadata": {},
   "outputs": [
    {
     "data": {
      "text/plain": [
       "{'name': 'calculate',\n",
       " 'description': \"\\nPerform a mathematical operation on two numbers.\\n\\nArgs:\\n    operation: One of 'add', 'subtract', 'multiply', 'divide'\\n    a: First number\\n    b: Second number\\n    \\nReturns:\\n    Result of the operation as a string\\n\",\n",
       " 'inputSchema': {'properties': {'operation': {'title': 'Operation',\n",
       "    'type': 'string'},\n",
       "   'a': {'title': 'A', 'type': 'number'},\n",
       "   'b': {'title': 'B', 'type': 'number'}},\n",
       "  'required': ['operation', 'a', 'b'],\n",
       "  'title': 'calculateArguments',\n",
       "  'type': 'object'}}"
      ]
     },
     "execution_count": 11,
     "metadata": {},
     "output_type": "execute_result"
    }
   ],
   "source": [
    "tools.tools[0].model_dump()\n"
   ]
  },
  {
   "cell_type": "code",
   "execution_count": 15,
   "metadata": {},
   "outputs": [
    {
     "data": {
      "text/plain": [
       "{'$defs': {'Tool': {'additionalProperties': True,\n",
       "   'description': 'Definition for a tool the client can call.',\n",
       "   'properties': {'name': {'title': 'Name', 'type': 'string'},\n",
       "    'description': {'anyOf': [{'type': 'string'}, {'type': 'null'}],\n",
       "     'default': None,\n",
       "     'title': 'Description'},\n",
       "    'inputSchema': {'title': 'Inputschema', 'type': 'object'}},\n",
       "   'required': ['name', 'inputSchema'],\n",
       "   'title': 'Tool',\n",
       "   'type': 'object'}},\n",
       " 'properties': {'tools': {'items': {'$ref': '#/$defs/Tool'},\n",
       "   'title': 'Tools',\n",
       "   'type': 'array'}},\n",
       " 'required': ['tools'],\n",
       " 'title': 'ToolList',\n",
       " 'type': 'object'}"
      ]
     },
     "execution_count": 15,
     "metadata": {},
     "output_type": "execute_result"
    }
   ],
   "source": [
    "from typing import Union\n",
    "from pydantic import BaseModel\n",
    "\n",
    "class ToolList(BaseModel):\n",
    "    tools: list[Union[*tools.tools]]\n",
    "\n",
    "ToolList.model_json_schema()\n",
    "\n",
    "\n",
    "\n"
   ]
  },
  {
   "cell_type": "code",
   "execution_count": 16,
   "metadata": {},
   "outputs": [],
   "source": []
  },
  {
   "cell_type": "code",
   "execution_count": 36,
   "metadata": {},
   "outputs": [
    {
     "data": {
      "text/plain": [
       "{'$defs': {'Tool1': {'properties': {'name': {'const': 'tool1',\n",
       "     'title': 'Name',\n",
       "     'type': 'string'},\n",
       "    'parameters': {'properties': {'operation': {'title': 'Operation',\n",
       "       'type': 'string'},\n",
       "      'a': {'title': 'A', 'type': 'number'},\n",
       "      'b': {'title': 'B', 'type': 'number'}},\n",
       "     'required': ['operation', 'a', 'b'],\n",
       "     'title': 'calculateArguments',\n",
       "     'type': 'object'}},\n",
       "   'required': ['name', 'parameters'],\n",
       "   'title': 'Tool1',\n",
       "   'type': 'object'},\n",
       "  'Tool2': {'properties': {'name': {'const': 'tool2',\n",
       "     'title': 'Name',\n",
       "     'type': 'string'},\n",
       "    'parameters': {'properties': {},\n",
       "     'title': 'get_current_timeArguments',\n",
       "     'type': 'object'}},\n",
       "   'required': ['name', 'parameters'],\n",
       "   'title': 'Tool2',\n",
       "   'type': 'object'}},\n",
       " 'properties': {'tools': {'items': {'anyOf': [{'$ref': '#/$defs/Tool1'},\n",
       "     {'$ref': '#/$defs/Tool2'}]},\n",
       "   'title': 'Tools',\n",
       "   'type': 'array'}},\n",
       " 'required': ['tools'],\n",
       " 'title': 'ToolList',\n",
       " 'type': 'object'}"
      ]
     },
     "execution_count": 36,
     "metadata": {},
     "output_type": "execute_result"
    }
   ],
   "source": [
    "from typing import Union, Literal\n",
    "from pydantic import BaseModel, create_model, Field\n",
    "\n",
    "class Tool(BaseModel):\n",
    "    \"\"\"A model representing a tool with a name.\"\"\"\n",
    "    name: str\n",
    "\n",
    "# Create specific tool models with predefined names\n",
    "tool1 = create_model(\n",
    "    'Tool1',\n",
    "    name=(Literal['tool1'], ...),\n",
    "    parameters=(object, Field(json_schema_extra=tools.tools[0].inputSchema))\n",
    "    )\n",
    "tool2 = create_model(\n",
    "    'Tool2',\n",
    "    name=(Literal['tool2'], ...),\n",
    "    parameters=(object, Field(json_schema_extra=tools.tools[1].inputSchema))\n",
    "    )\n",
    "\n",
    "# Create a model for a list of tools that can be either tool1 or tool2\n",
    "ToolList = create_model('ToolList', tools=(list[Union[tool1, tool2]], ...))\n",
    "ToolList.model_json_schema()\n"
   ]
  },
  {
   "cell_type": "code",
   "execution_count": 45,
   "metadata": {},
   "outputs": [
    {
     "data": {
      "text/plain": [
       "{'properties': {'operation': {'title': 'Operation', 'type': 'string'},\n",
       "  'a': {'title': 'A', 'type': 'number'},\n",
       "  'b': {'title': 'B', 'type': 'number'}},\n",
       " 'required': ['operation', 'a', 'b'],\n",
       " 'title': 'calculateArguments',\n",
       " 'type': 'object'}"
      ]
     },
     "execution_count": 45,
     "metadata": {},
     "output_type": "execute_result"
    }
   ],
   "source": [
    "tools.tools[0].inputSchema"
   ]
  },
  {
   "cell_type": "code",
   "execution_count": 46,
   "metadata": {},
   "outputs": [
    {
     "data": {
      "text/plain": [
       "{'properties': {}, 'title': 'get_current_timeArguments', 'type': 'object'}"
      ]
     },
     "execution_count": 46,
     "metadata": {},
     "output_type": "execute_result"
    }
   ],
   "source": [
    "tools.tools[1].inputSchema"
   ]
  },
  {
   "cell_type": "code",
   "execution_count": 48,
   "metadata": {},
   "outputs": [
    {
     "data": {
      "text/plain": [
       "{'properties': {'name': {'const': 'tool3', 'title': 'Name', 'type': 'string'},\n",
       "  'parameters': {'title': 'Parameters'}},\n",
       " 'required': ['name', 'parameters'],\n",
       " 'title': 'Tool3',\n",
       " 'type': 'object'}"
      ]
     },
     "execution_count": 48,
     "metadata": {},
     "output_type": "execute_result"
    }
   ],
   "source": [
    "tool3 = create_model(\n",
    "    'Tool3',\n",
    "    name=(Literal['tool3'], ...),\n",
    "    parameters=(object, ...)\n",
    "    )\n",
    "tool3.model_json_schema()"
   ]
  },
  {
   "cell_type": "code",
   "execution_count": 72,
   "metadata": {},
   "outputs": [
    {
     "data": {
      "text/plain": [
       "{'properties': {'name': {'const': 'tool2', 'type': 'string'},\n",
       "  'parameters': {'properties': {'x': {'description': 'Some X value',\n",
       "     'type': 'string'}},\n",
       "   'required': ['x'],\n",
       "   'type': 'object'}},\n",
       " 'required': ['name', 'parameters'],\n",
       " 'type': 'object'}"
      ]
     },
     "execution_count": 72,
     "metadata": {},
     "output_type": "execute_result"
    }
   ],
   "source": [
    "\n",
    "class CleanModel(BaseModel):\n",
    "    @classmethod\n",
    "    def remove_titles_recursively(cls,obj):\n",
    "        if isinstance(obj, dict):\n",
    "            if \"title\" in obj:\n",
    "                del obj[\"title\"]\n",
    "            for value in obj.values():\n",
    "                cls.remove_titles_recursively(value)\n",
    "        elif isinstance(obj, list):\n",
    "            for item in obj:\n",
    "                cls.remove_titles_recursively(item)\n",
    "\n",
    "    model_config = {\n",
    "        \"json_schema_extra\": lambda schema, model: model.remove_titles_recursively(schema)\n",
    "    }\n",
    "\n",
    "# Tools definition (same as before)\n",
    "tools = {\n",
    "    \"tools\": [\n",
    "        None,\n",
    "        {\n",
    "            \"inputSchema\": {\n",
    "                \"type\": \"object\",\n",
    "                \"title\": \"InputParams\",\n",
    "                \"properties\": {\n",
    "                    \"x\": {\n",
    "                        \"type\": \"string\",\n",
    "                        \"title\": \"XValue\",\n",
    "                        \"description\": \"Some X value\"\n",
    "                    }\n",
    "                },\n",
    "                \"required\": [\"x\"]\n",
    "            }\n",
    "        }\n",
    "    ]\n",
    "}\n",
    "\n",
    "# Create the model\n",
    "tool2 = create_model(\n",
    "    'Tool2',\n",
    "    __base__=CleanModel,\n",
    "    name=(Literal['tool2'], ...),\n",
    "    parameters=(object, Field(json_schema_extra=tools[\"tools\"][1][\"inputSchema\"]))\n",
    ")\n",
    "\n",
    "tool2.model_json_schema()"
   ]
  },
  {
   "cell_type": "code",
   "execution_count": null,
   "metadata": {},
   "outputs": [],
   "source": []
  },
  {
   "cell_type": "code",
   "execution_count": 80,
   "metadata": {},
   "outputs": [
    {
     "data": {
      "text/plain": [
       "Tool(name='calculate', description=\"\\nPerform a mathematical operation on two numbers.\\n\\nArgs:\\n    operation: One of 'add', 'subtract', 'multiply', 'divide'\\n    a: First number\\n    b: Second number\\n    \\nReturns:\\n    Result of the operation as a string\\n\", inputSchema={'properties': {'operation': {'title': 'Operation', 'type': 'string'}, 'a': {'title': 'A', 'type': 'number'}, 'b': {'title': 'B', 'type': 'number'}}, 'required': ['operation', 'a', 'b'], 'title': 'calculateArguments', 'type': 'object'})"
      ]
     },
     "execution_count": 80,
     "metadata": {},
     "output_type": "execute_result"
    }
   ],
   "source": [
    "tools.tools[0]"
   ]
  },
  {
   "cell_type": "code",
   "execution_count": 85,
   "metadata": {},
   "outputs": [
    {
     "ename": "TypeError",
     "evalue": "'Tool' object is not subscriptable",
     "output_type": "error",
     "traceback": [
      "\u001b[0;31m---------------------------------------------------------------------------\u001b[0m",
      "\u001b[0;31mTypeError\u001b[0m                                 Traceback (most recent call last)",
      "Cell \u001b[0;32mIn[85], line 1\u001b[0m\n\u001b[0;32m----> 1\u001b[0m \u001b[43mtools\u001b[49m\u001b[38;5;241;43m.\u001b[39;49m\u001b[43mtools\u001b[49m\u001b[43m[\u001b[49m\u001b[38;5;241;43m0\u001b[39;49m\u001b[43m]\u001b[49m\u001b[43m[\u001b[49m\u001b[38;5;124;43m'\u001b[39;49m\u001b[38;5;124;43mdescription\u001b[39;49m\u001b[38;5;124;43m'\u001b[39;49m\u001b[43m]\u001b[49m\n",
      "\u001b[0;31mTypeError\u001b[0m: 'Tool' object is not subscriptable"
     ]
    }
   ],
   "source": [
    "tools.tools[0]['description']"
   ]
  },
  {
   "cell_type": "code",
   "execution_count": 90,
   "metadata": {},
   "outputs": [
    {
     "name": "stdout",
     "output_type": "stream",
     "text": [
      "\n",
      "Perform a mathematical operation on two numbers.\n",
      "\n",
      "Args:\n",
      "    operation: One of 'add', 'subtract', 'multiply', 'divide'\n",
      "    a: First number\n",
      "    b: Second number\n",
      "    \n",
      "Returns:\n",
      "    Result of the operation as a string\n",
      "\n"
     ]
    }
   ],
   "source": [
    "print(tools.tools[0].description)"
   ]
  },
  {
   "cell_type": "code",
   "execution_count": 108,
   "metadata": {},
   "outputs": [
    {
     "data": {
      "text/plain": [
       "[{'properties': {'operation': {'title': 'Operation', 'type': 'string'},\n",
       "   'a': {'title': 'A', 'type': 'number'},\n",
       "   'b': {'title': 'B', 'type': 'number'}},\n",
       "  'required': ['operation', 'a', 'b'],\n",
       "  'title': 'calculateArguments',\n",
       "  'type': 'object'},\n",
       " {'properties': {}, 'title': 'get_current_timeArguments', 'type': 'object'},\n",
       " {'properties': {'min_value': {'default': 1,\n",
       "    'title': 'Min Value',\n",
       "    'type': 'integer'},\n",
       "   'max_value': {'default': 100, 'title': 'Max Value', 'type': 'integer'}},\n",
       "  'title': 'generate_random_numberArguments',\n",
       "  'type': 'object'}]"
      ]
     },
     "execution_count": 108,
     "metadata": {},
     "output_type": "execute_result"
    }
   ],
   "source": [
    "[tool.inputSchema for tool in tools.tools]"
   ]
  },
  {
   "cell_type": "code",
   "execution_count": 11,
   "metadata": {},
   "outputs": [],
   "source": [
    "class CleanModel(BaseModel):\n",
    "    @classmethod\n",
    "    def remove_titles_recursively(cls,obj):\n",
    "        if isinstance(obj, dict):\n",
    "            if \"title\" in obj:\n",
    "                del obj[\"title\"]\n",
    "            for value in obj.values():\n",
    "                cls.remove_titles_recursively(value)\n",
    "        elif isinstance(obj, list):\n",
    "            for item in obj:\n",
    "                cls.remove_titles_recursively(item)\n",
    "\n",
    "    model_config = {\n",
    "        \"json_schema_extra\": lambda schema, model: model.remove_titles_recursively(schema)\n",
    "    }\n",
    "\n",
    "\n",
    "def create_tool_model(mcp_name, tool):\n",
    "    model_args = {}\n",
    "    model_args['name'] = (Literal[mcp_name + '_' + tool.name], ...)\n",
    "    if tool.inputSchema.get('properties'):\n",
    "        model_args['parameters'] = (object, Field(json_schema_extra=tool.inputSchema))\n",
    "    model_args['__base__'] = CleanModel\n",
    "    model_args['model_config'] = {**CleanModel.model_config, \"json_schema_extra\": lambda schema, model: (\n",
    "            CleanModel.model_config[\"json_schema_extra\"](schema, model),\n",
    "            schema.update({\"description\": tool.description})\n",
    "        )}\n",
    "\n",
    "    tool_model = create_model(\n",
    "        tool.name,\n",
    "        **model_args\n",
    "    )\n",
    "    return tool_model\n",
    "\n",
    "def create_tool_model(tool):\n",
    "    model_args = {}\n",
    "    model_args['name'] = (Literal[tool.name], ...)\n",
    "    if tool.inputSchema.get('properties'):\n",
    "        model_args['parameters'] = (object, Field(json_schema_extra=tool.inputSchema))\n",
    "    model_args['__doc__'] = tool.description\n",
    "    model_args['__base__'] = CleanModel\n",
    "\n",
    "\n",
    "    tool_model = create_model(\n",
    "        '',\n",
    "        **model_args\n",
    "    )\n",
    "    return tool_model\n",
    "\n",
    "\n",
    "\n",
    "# m = create_model(\n",
    "#     tools.tools[0].name,\n",
    "#     __base__=CleanModel,\n",
    "#     name=(Literal[tools.tools[0].name], ...),\n",
    "#     parameters=(object, Field(json_schema_extra=tools.tools[0].inputSchema)),\n",
    "#     model_config={\n",
    "#         **CleanModel.model_config,\n",
    "#         \"json_schema_extra\": lambda schema, model: (\n",
    "#             CleanModel.model_config[\"json_schema_extra\"](schema, model),\n",
    "#             schema.update({\"description\": tools.tools[0].description})\n",
    "#         )\n",
    "#     }\n",
    "#     )"
   ]
  },
  {
   "cell_type": "code",
   "execution_count": 13,
   "metadata": {},
   "outputs": [],
   "source": [
    "tools_for_schema = [create_tool_model(tool) for tool in tools.tools]"
   ]
  },
  {
   "cell_type": "code",
   "execution_count": 15,
   "metadata": {},
   "outputs": [
    {
     "data": {
      "text/plain": [
       "{'$defs': {'__main______1': {'description': \"Perform a mathematical operation on two numbers.\\n\\nArgs:\\n    operation: One of 'add', 'subtract', 'multiply', 'divide'\\n    a: First number\\n    b: Second number\\n    \\nReturns:\\n    Result of the operation as a string\",\n",
       "   'properties': {'name': {'const': 'calculate', 'type': 'string'},\n",
       "    'parameters': {'properties': {'operation': {'type': 'string'},\n",
       "      'a': {'type': 'number'},\n",
       "      'b': {'type': 'number'}},\n",
       "     'required': ['operation', 'a', 'b'],\n",
       "     'type': 'object'}},\n",
       "   'required': ['name', 'parameters'],\n",
       "   'type': 'object'},\n",
       "  '__main______2': {'description': 'Get the current date and time.',\n",
       "   'properties': {'name': {'const': 'get_current_time', 'type': 'string'}},\n",
       "   'required': ['name'],\n",
       "   'type': 'object'},\n",
       "  '__main______3': {'description': 'Generate a random number between min_value and max_value (inclusive).\\n\\nArgs:\\n    min_value: Minimum value (default: 1)\\n    max_value: Maximum value (default: 100)\\n    \\nReturns:\\n    A random integer',\n",
       "   'properties': {'name': {'const': 'generate_random_number',\n",
       "     'type': 'string'},\n",
       "    'parameters': {'properties': {'min_value': {'default': 1,\n",
       "       'type': 'integer'},\n",
       "      'max_value': {'default': 100, 'type': 'integer'}},\n",
       "     'type': 'object'}},\n",
       "   'required': ['name', 'parameters'],\n",
       "   'type': 'object'}},\n",
       " 'items': {'anyOf': [{'$ref': '#/$defs/__main______1'},\n",
       "   {'$ref': '#/$defs/__main______2'},\n",
       "   {'$ref': '#/$defs/__main______3'}]},\n",
       " 'title': 'RootModel[list[Union[, , ]]]',\n",
       " 'type': 'array'}"
      ]
     },
     "execution_count": 15,
     "metadata": {},
     "output_type": "execute_result"
    }
   ],
   "source": [
    "from pydantic import RootModel\n",
    "RootModel[list[Union[*tools_for_schema]]].model_json_schema()"
   ]
  },
  {
   "cell_type": "code",
   "execution_count": 134,
   "metadata": {},
   "outputs": [
    {
     "data": {
      "text/plain": [
       "{'description': \"Perform a mathematical operation on two numbers.\\n\\nArgs:\\n    operation: One of 'add', 'subtract', 'multiply', 'divide'\\n    a: First number\\n    b: Second number\\n    \\nReturns:\\n    Result of the operation as a string\",\n",
       " 'properties': {'name': {'const': 'maths_calculate',\n",
       "   'default': 'maths_calculate',\n",
       "   'type': 'string'},\n",
       "  'parameters': {'properties': {'operation': {'type': 'string'},\n",
       "    'a': {'type': 'number'},\n",
       "    'b': {'type': 'number'}},\n",
       "   'required': ['operation', 'a', 'b'],\n",
       "   'type': 'object'}},\n",
       " 'required': ['parameters'],\n",
       " 'type': 'object'}"
      ]
     },
     "execution_count": 134,
     "metadata": {},
     "output_type": "execute_result"
    }
   ],
   "source": [
    "create_tool_model('maths', tools.tools[0]).model_json_schema()"
   ]
  },
  {
   "cell_type": "code",
   "execution_count": 119,
   "metadata": {},
   "outputs": [
    {
     "data": {
      "text/plain": [
       "{'meta': None,\n",
       " 'nextCursor': None,\n",
       " 'tools': [{'name': 'calculate',\n",
       "   'description': \"\\nPerform a mathematical operation on two numbers.\\n\\nArgs:\\n    operation: One of 'add', 'subtract', 'multiply', 'divide'\\n    a: First number\\n    b: Second number\\n    \\nReturns:\\n    Result of the operation as a string\\n\",\n",
       "   'inputSchema': {'properties': {'operation': {'title': 'Operation',\n",
       "      'type': 'string'},\n",
       "     'a': {'title': 'A', 'type': 'number'},\n",
       "     'b': {'title': 'B', 'type': 'number'}},\n",
       "    'required': ['operation', 'a', 'b'],\n",
       "    'title': 'calculateArguments',\n",
       "    'type': 'object'}},\n",
       "  {'name': 'get_current_time',\n",
       "   'description': 'Get the current date and time.',\n",
       "   'inputSchema': {'properties': {},\n",
       "    'title': 'get_current_timeArguments',\n",
       "    'type': 'object'}},\n",
       "  {'name': 'generate_random_number',\n",
       "   'description': '\\nGenerate a random number between min_value and max_value (inclusive).\\n\\nArgs:\\n    min_value: Minimum value (default: 1)\\n    max_value: Maximum value (default: 100)\\n    \\nReturns:\\n    A random integer\\n',\n",
       "   'inputSchema': {'properties': {'min_value': {'default': 1,\n",
       "      'title': 'Min Value',\n",
       "      'type': 'integer'},\n",
       "     'max_value': {'default': 100, 'title': 'Max Value', 'type': 'integer'}},\n",
       "    'title': 'generate_random_numberArguments',\n",
       "    'type': 'object'}}]}"
      ]
     },
     "execution_count": 119,
     "metadata": {},
     "output_type": "execute_result"
    }
   ],
   "source": [
    "tools.model_dump()"
   ]
  },
  {
   "cell_type": "code",
   "execution_count": 96,
   "metadata": {},
   "outputs": [],
   "source": [
    "from typing import Optional"
   ]
  },
  {
   "cell_type": "code",
   "execution_count": 99,
   "metadata": {},
   "outputs": [
    {
     "data": {
      "text/plain": [
       "{'$defs': {'calculate': {'description': \"\\nPerform a mathematical operation on two numbers.\\n\\nArgs:\\n    operation: One of 'add', 'subtract', 'multiply', 'divide'\\n    a: First number\\n    b: Second number\\n    \\nReturns:\\n    Result of the operation as a string\\n\",\n",
       "   'properties': {'name': {'const': 'calculate', 'type': 'string'},\n",
       "    'parameters': {'properties': {'operation': {'type': 'string'},\n",
       "      'a': {'type': 'number'},\n",
       "      'b': {'type': 'number'}},\n",
       "     'required': ['operation', 'a', 'b'],\n",
       "     'type': 'object'}},\n",
       "   'required': ['name', 'parameters'],\n",
       "   'type': 'object'}},\n",
       " 'properties': {'tools': {'anyOf': [{'items': {'$ref': '#/$defs/calculate'},\n",
       "     'type': 'array'},\n",
       "    {'type': 'null'}],\n",
       "   'title': 'Tools'}},\n",
       " 'required': ['tools'],\n",
       " 'title': 'model',\n",
       " 'type': 'object'}"
      ]
     },
     "execution_count": 99,
     "metadata": {},
     "output_type": "execute_result"
    }
   ],
   "source": [
    "create_model('model', tools=(Optional[list[Union[m,m]]], ...)).model_json_schema()"
   ]
  },
  {
   "cell_type": "code",
   "execution_count": 122,
   "metadata": {},
   "outputs": [
    {
     "data": {
      "text/plain": [
       "{'name': 'calculate',\n",
       " 'description': \"\\nPerform a mathematical operation on two numbers.\\n\\nArgs:\\n    operation: One of 'add', 'subtract', 'multiply', 'divide'\\n    a: First number\\n    b: Second number\\n    \\nReturns:\\n    Result of the operation as a string\\n\",\n",
       " 'inputSchema': {'properties': {'operation': {'title': 'Operation',\n",
       "    'type': 'string'},\n",
       "   'a': {'title': 'A', 'type': 'number'},\n",
       "   'b': {'title': 'B', 'type': 'number'}},\n",
       "  'required': ['operation', 'a', 'b'],\n",
       "  'title': 'calculateArguments',\n",
       "  'type': 'object'}}"
      ]
     },
     "execution_count": 122,
     "metadata": {},
     "output_type": "execute_result"
    }
   ],
   "source": [
    "tools.tools[0].model_dump()"
   ]
  },
  {
   "cell_type": "markdown",
   "metadata": {},
   "source": [
    "# Make sure cleanup happens with the asyncexitstack -- explore further"
   ]
  },
  {
   "cell_type": "code",
   "execution_count": 27,
   "metadata": {},
   "outputs": [],
   "source": [
    "import param\n",
    "\n",
    "class A(param.Parameterized):\n",
    "    a = param.Number(default=1)\n",
    "    b = param.Number(default=2)\n",
    "\n",
    "    @property\n",
    "    def c(self):\n",
    "        return_val = 2 + self.a\n",
    "        self.a = return_val\n",
    "        return  return_val\n"
   ]
  },
  {
   "cell_type": "code",
   "execution_count": 28,
   "metadata": {},
   "outputs": [],
   "source": [
    "test_a = A()"
   ]
  },
  {
   "cell_type": "code",
   "execution_count": 43,
   "metadata": {},
   "outputs": [
    {
     "data": {
      "text/plain": [
       "31"
      ]
     },
     "execution_count": 43,
     "metadata": {},
     "output_type": "execute_result"
    }
   ],
   "source": [
    "test_a.c"
   ]
  }
 ],
 "metadata": {
  "kernelspec": {
   "display_name": ".venv",
   "language": "python",
   "name": "python3"
  },
  "language_info": {
   "codemirror_mode": {
    "name": "ipython",
    "version": 3
   },
   "file_extension": ".py",
   "mimetype": "text/x-python",
   "name": "python",
   "nbconvert_exporter": "python",
   "pygments_lexer": "ipython3",
   "version": "3.13.1"
  }
 },
 "nbformat": 4,
 "nbformat_minor": 2
}
