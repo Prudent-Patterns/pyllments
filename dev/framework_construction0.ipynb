{
 "cells": [
  {
   "cell_type": "markdown",
   "metadata": {},
   "source": [
    "# Loadout"
   ]
  },
  {
   "cell_type": "code",
   "execution_count": 3,
   "metadata": {},
   "outputs": [
    {
     "data": {
      "application/javascript": "(function(root) {\n  function now() {\n    return new Date();\n  }\n\n  var force = true;\n  var py_version = '3.4.1'.replace('rc', '-rc.').replace('.dev', '-dev.');\n  var reloading = false;\n  var Bokeh = root.Bokeh;\n\n  if (typeof (root._bokeh_timeout) === \"undefined\" || force) {\n    root._bokeh_timeout = Date.now() + 5000;\n    root._bokeh_failed_load = false;\n  }\n\n  function run_callbacks() {\n    try {\n      root._bokeh_onload_callbacks.forEach(function(callback) {\n        if (callback != null)\n          callback();\n      });\n    } finally {\n      delete root._bokeh_onload_callbacks;\n    }\n    console.debug(\"Bokeh: all callbacks have finished\");\n  }\n\n  function load_libs(css_urls, js_urls, js_modules, js_exports, callback) {\n    if (css_urls == null) css_urls = [];\n    if (js_urls == null) js_urls = [];\n    if (js_modules == null) js_modules = [];\n    if (js_exports == null) js_exports = {};\n\n    root._bokeh_onload_callbacks.push(callback);\n\n    if (root._bokeh_is_loading > 0) {\n      console.debug(\"Bokeh: BokehJS is being loaded, scheduling callback at\", now());\n      return null;\n    }\n    if (js_urls.length === 0 && js_modules.length === 0 && Object.keys(js_exports).length === 0) {\n      run_callbacks();\n      return null;\n    }\n    if (!reloading) {\n      console.debug(\"Bokeh: BokehJS not loaded, scheduling load and callback at\", now());\n    }\n\n    function on_load() {\n      root._bokeh_is_loading--;\n      if (root._bokeh_is_loading === 0) {\n        console.debug(\"Bokeh: all BokehJS libraries/stylesheets loaded\");\n        run_callbacks()\n      }\n    }\n    window._bokeh_on_load = on_load\n\n    function on_error() {\n      console.error(\"failed to load \" + url);\n    }\n\n    var skip = [];\n    if (window.requirejs) {\n      window.requirejs.config({'packages': {}, 'paths': {}, 'shim': {}});\n      root._bokeh_is_loading = css_urls.length + 0;\n    } else {\n      root._bokeh_is_loading = css_urls.length + js_urls.length + js_modules.length + Object.keys(js_exports).length;\n    }\n\n    var existing_stylesheets = []\n    var links = document.getElementsByTagName('link')\n    for (var i = 0; i < links.length; i++) {\n      var link = links[i]\n      if (link.href != null) {\n\texisting_stylesheets.push(link.href)\n      }\n    }\n    for (var i = 0; i < css_urls.length; i++) {\n      var url = css_urls[i];\n      if (existing_stylesheets.indexOf(url) !== -1) {\n\ton_load()\n\tcontinue;\n      }\n      const element = document.createElement(\"link\");\n      element.onload = on_load;\n      element.onerror = on_error;\n      element.rel = \"stylesheet\";\n      element.type = \"text/css\";\n      element.href = url;\n      console.debug(\"Bokeh: injecting link tag for BokehJS stylesheet: \", url);\n      document.body.appendChild(element);\n    }    var existing_scripts = []\n    var scripts = document.getElementsByTagName('script')\n    for (var i = 0; i < scripts.length; i++) {\n      var script = scripts[i]\n      if (script.src != null) {\n\texisting_scripts.push(script.src)\n      }\n    }\n    for (var i = 0; i < js_urls.length; i++) {\n      var url = js_urls[i];\n      if (skip.indexOf(url) !== -1 || existing_scripts.indexOf(url) !== -1) {\n\tif (!window.requirejs) {\n\t  on_load();\n\t}\n\tcontinue;\n      }\n      var element = document.createElement('script');\n      element.onload = on_load;\n      element.onerror = on_error;\n      element.async = false;\n      element.src = url;\n      console.debug(\"Bokeh: injecting script tag for BokehJS library: \", url);\n      document.head.appendChild(element);\n    }\n    for (var i = 0; i < js_modules.length; i++) {\n      var url = js_modules[i];\n      if (skip.indexOf(url) !== -1 || existing_scripts.indexOf(url) !== -1) {\n\tif (!window.requirejs) {\n\t  on_load();\n\t}\n\tcontinue;\n      }\n      var element = document.createElement('script');\n      element.onload = on_load;\n      element.onerror = on_error;\n      element.async = false;\n      element.src = url;\n      element.type = \"module\";\n      console.debug(\"Bokeh: injecting script tag for BokehJS library: \", url);\n      document.head.appendChild(element);\n    }\n    for (const name in js_exports) {\n      var url = js_exports[name];\n      if (skip.indexOf(url) >= 0 || root[name] != null) {\n\tif (!window.requirejs) {\n\t  on_load();\n\t}\n\tcontinue;\n      }\n      var element = document.createElement('script');\n      element.onerror = on_error;\n      element.async = false;\n      element.type = \"module\";\n      console.debug(\"Bokeh: injecting script tag for BokehJS library: \", url);\n      element.textContent = `\n      import ${name} from \"${url}\"\n      window.${name} = ${name}\n      window._bokeh_on_load()\n      `\n      document.head.appendChild(element);\n    }\n    if (!js_urls.length && !js_modules.length) {\n      on_load()\n    }\n  };\n\n  function inject_raw_css(css) {\n    const element = document.createElement(\"style\");\n    element.appendChild(document.createTextNode(css));\n    document.body.appendChild(element);\n  }\n\n  var js_urls = [\"https://cdn.bokeh.org/bokeh/release/bokeh-3.4.1.min.js\", \"https://cdn.bokeh.org/bokeh/release/bokeh-gl-3.4.1.min.js\", \"https://cdn.bokeh.org/bokeh/release/bokeh-widgets-3.4.1.min.js\", \"https://cdn.bokeh.org/bokeh/release/bokeh-tables-3.4.1.min.js\", \"https://cdn.holoviz.org/panel/1.4.4/dist/panel.min.js\"];\n  var js_modules = [];\n  var js_exports = {};\n  var css_urls = [];\n  var inline_js = [    function(Bokeh) {\n      Bokeh.set_log_level(\"info\");\n    },\nfunction(Bokeh) {} // ensure no trailing comma for IE\n  ];\n\n  function run_inline_js() {\n    if ((root.Bokeh !== undefined) || (force === true)) {\n      for (var i = 0; i < inline_js.length; i++) {\n\ttry {\n          inline_js[i].call(root, root.Bokeh);\n\t} catch(e) {\n\t  if (!reloading) {\n\t    throw e;\n\t  }\n\t}\n      }\n      // Cache old bokeh versions\n      if (Bokeh != undefined && !reloading) {\n\tvar NewBokeh = root.Bokeh;\n\tif (Bokeh.versions === undefined) {\n\t  Bokeh.versions = new Map();\n\t}\n\tif (NewBokeh.version !== Bokeh.version) {\n\t  Bokeh.versions.set(NewBokeh.version, NewBokeh)\n\t}\n\troot.Bokeh = Bokeh;\n      }} else if (Date.now() < root._bokeh_timeout) {\n      setTimeout(run_inline_js, 100);\n    } else if (!root._bokeh_failed_load) {\n      console.log(\"Bokeh: BokehJS failed to load within specified timeout.\");\n      root._bokeh_failed_load = true;\n    }\n    root._bokeh_is_initializing = false\n  }\n\n  function load_or_wait() {\n    // Implement a backoff loop that tries to ensure we do not load multiple\n    // versions of Bokeh and its dependencies at the same time.\n    // In recent versions we use the root._bokeh_is_initializing flag\n    // to determine whether there is an ongoing attempt to initialize\n    // bokeh, however for backward compatibility we also try to ensure\n    // that we do not start loading a newer (Panel>=1.0 and Bokeh>3) version\n    // before older versions are fully initialized.\n    if (root._bokeh_is_initializing && Date.now() > root._bokeh_timeout) {\n      root._bokeh_is_initializing = false;\n      root._bokeh_onload_callbacks = undefined;\n      console.log(\"Bokeh: BokehJS was loaded multiple times but one version failed to initialize.\");\n      load_or_wait();\n    } else if (root._bokeh_is_initializing || (typeof root._bokeh_is_initializing === \"undefined\" && root._bokeh_onload_callbacks !== undefined)) {\n      setTimeout(load_or_wait, 100);\n    } else {\n      root._bokeh_is_initializing = true\n      root._bokeh_onload_callbacks = []\n      var bokeh_loaded = Bokeh != null && (Bokeh.version === py_version || (Bokeh.versions !== undefined && Bokeh.versions.has(py_version)));\n      if (!reloading && !bokeh_loaded) {\n\troot.Bokeh = undefined;\n      }\n      load_libs(css_urls, js_urls, js_modules, js_exports, function() {\n\tconsole.debug(\"Bokeh: BokehJS plotting callback run at\", now());\n\trun_inline_js();\n      });\n    }\n  }\n  // Give older versions of the autoload script a head-start to ensure\n  // they initialize before we start loading newer version.\n  setTimeout(load_or_wait, 100)\n}(window));",
      "application/vnd.holoviews_load.v0+json": ""
     },
     "metadata": {},
     "output_type": "display_data"
    },
    {
     "data": {
      "application/javascript": "\nif ((window.PyViz === undefined) || (window.PyViz instanceof HTMLElement)) {\n  window.PyViz = {comms: {}, comm_status:{}, kernels:{}, receivers: {}, plot_index: []}\n}\n\n\n    function JupyterCommManager() {\n    }\n\n    JupyterCommManager.prototype.register_target = function(plot_id, comm_id, msg_handler) {\n      if (window.comm_manager || ((window.Jupyter !== undefined) && (Jupyter.notebook.kernel != null))) {\n        var comm_manager = window.comm_manager || Jupyter.notebook.kernel.comm_manager;\n        comm_manager.register_target(comm_id, function(comm) {\n          comm.on_msg(msg_handler);\n        });\n      } else if ((plot_id in window.PyViz.kernels) && (window.PyViz.kernels[plot_id])) {\n        window.PyViz.kernels[plot_id].registerCommTarget(comm_id, function(comm) {\n          comm.onMsg = msg_handler;\n        });\n      } else if (typeof google != 'undefined' && google.colab.kernel != null) {\n        google.colab.kernel.comms.registerTarget(comm_id, (comm) => {\n          var messages = comm.messages[Symbol.asyncIterator]();\n          function processIteratorResult(result) {\n            var message = result.value;\n            console.log(message)\n            var content = {data: message.data, comm_id};\n            var buffers = []\n            for (var buffer of message.buffers || []) {\n              buffers.push(new DataView(buffer))\n            }\n            var metadata = message.metadata || {};\n            var msg = {content, buffers, metadata}\n            msg_handler(msg);\n            return messages.next().then(processIteratorResult);\n          }\n          return messages.next().then(processIteratorResult);\n        })\n      }\n    }\n\n    JupyterCommManager.prototype.get_client_comm = function(plot_id, comm_id, msg_handler) {\n      if (comm_id in window.PyViz.comms) {\n        return window.PyViz.comms[comm_id];\n      } else if (window.comm_manager || ((window.Jupyter !== undefined) && (Jupyter.notebook.kernel != null))) {\n        var comm_manager = window.comm_manager || Jupyter.notebook.kernel.comm_manager;\n        var comm = comm_manager.new_comm(comm_id, {}, {}, {}, comm_id);\n        if (msg_handler) {\n          comm.on_msg(msg_handler);\n        }\n      } else if ((plot_id in window.PyViz.kernels) && (window.PyViz.kernels[plot_id])) {\n        var comm = window.PyViz.kernels[plot_id].connectToComm(comm_id);\n        comm.open();\n        if (msg_handler) {\n          comm.onMsg = msg_handler;\n        }\n      } else if (typeof google != 'undefined' && google.colab.kernel != null) {\n        var comm_promise = google.colab.kernel.comms.open(comm_id)\n        comm_promise.then((comm) => {\n          window.PyViz.comms[comm_id] = comm;\n          if (msg_handler) {\n            var messages = comm.messages[Symbol.asyncIterator]();\n            function processIteratorResult(result) {\n              var message = result.value;\n              var content = {data: message.data};\n              var metadata = message.metadata || {comm_id};\n              var msg = {content, metadata}\n              msg_handler(msg);\n              return messages.next().then(processIteratorResult);\n            }\n            return messages.next().then(processIteratorResult);\n          }\n        }) \n        var sendClosure = (data, metadata, buffers, disposeOnDone) => {\n          return comm_promise.then((comm) => {\n            comm.send(data, metadata, buffers, disposeOnDone);\n          });\n        };\n        var comm = {\n          send: sendClosure\n        };\n      }\n      window.PyViz.comms[comm_id] = comm;\n      return comm;\n    }\n    window.PyViz.comm_manager = new JupyterCommManager();\n    \n\n\nvar JS_MIME_TYPE = 'application/javascript';\nvar HTML_MIME_TYPE = 'text/html';\nvar EXEC_MIME_TYPE = 'application/vnd.holoviews_exec.v0+json';\nvar CLASS_NAME = 'output';\n\n/**\n * Render data to the DOM node\n */\nfunction render(props, node) {\n  var div = document.createElement(\"div\");\n  var script = document.createElement(\"script\");\n  node.appendChild(div);\n  node.appendChild(script);\n}\n\n/**\n * Handle when a new output is added\n */\nfunction handle_add_output(event, handle) {\n  var output_area = handle.output_area;\n  var output = handle.output;\n  if ((output.data == undefined) || (!output.data.hasOwnProperty(EXEC_MIME_TYPE))) {\n    return\n  }\n  var id = output.metadata[EXEC_MIME_TYPE][\"id\"];\n  var toinsert = output_area.element.find(\".\" + CLASS_NAME.split(' ')[0]);\n  if (id !== undefined) {\n    var nchildren = toinsert.length;\n    var html_node = toinsert[nchildren-1].children[0];\n    html_node.innerHTML = output.data[HTML_MIME_TYPE];\n    var scripts = [];\n    var nodelist = html_node.querySelectorAll(\"script\");\n    for (var i in nodelist) {\n      if (nodelist.hasOwnProperty(i)) {\n        scripts.push(nodelist[i])\n      }\n    }\n\n    scripts.forEach( function (oldScript) {\n      var newScript = document.createElement(\"script\");\n      var attrs = [];\n      var nodemap = oldScript.attributes;\n      for (var j in nodemap) {\n        if (nodemap.hasOwnProperty(j)) {\n          attrs.push(nodemap[j])\n        }\n      }\n      attrs.forEach(function(attr) { newScript.setAttribute(attr.name, attr.value) });\n      newScript.appendChild(document.createTextNode(oldScript.innerHTML));\n      oldScript.parentNode.replaceChild(newScript, oldScript);\n    });\n    if (JS_MIME_TYPE in output.data) {\n      toinsert[nchildren-1].children[1].textContent = output.data[JS_MIME_TYPE];\n    }\n    output_area._hv_plot_id = id;\n    if ((window.Bokeh !== undefined) && (id in Bokeh.index)) {\n      window.PyViz.plot_index[id] = Bokeh.index[id];\n    } else {\n      window.PyViz.plot_index[id] = null;\n    }\n  } else if (output.metadata[EXEC_MIME_TYPE][\"server_id\"] !== undefined) {\n    var bk_div = document.createElement(\"div\");\n    bk_div.innerHTML = output.data[HTML_MIME_TYPE];\n    var script_attrs = bk_div.children[0].attributes;\n    for (var i = 0; i < script_attrs.length; i++) {\n      toinsert[toinsert.length - 1].childNodes[1].setAttribute(script_attrs[i].name, script_attrs[i].value);\n    }\n    // store reference to server id on output_area\n    output_area._bokeh_server_id = output.metadata[EXEC_MIME_TYPE][\"server_id\"];\n  }\n}\n\n/**\n * Handle when an output is cleared or removed\n */\nfunction handle_clear_output(event, handle) {\n  var id = handle.cell.output_area._hv_plot_id;\n  var server_id = handle.cell.output_area._bokeh_server_id;\n  if (((id === undefined) || !(id in PyViz.plot_index)) && (server_id !== undefined)) { return; }\n  var comm = window.PyViz.comm_manager.get_client_comm(\"hv-extension-comm\", \"hv-extension-comm\", function () {});\n  if (server_id !== null) {\n    comm.send({event_type: 'server_delete', 'id': server_id});\n    return;\n  } else if (comm !== null) {\n    comm.send({event_type: 'delete', 'id': id});\n  }\n  delete PyViz.plot_index[id];\n  if ((window.Bokeh !== undefined) & (id in window.Bokeh.index)) {\n    var doc = window.Bokeh.index[id].model.document\n    doc.clear();\n    const i = window.Bokeh.documents.indexOf(doc);\n    if (i > -1) {\n      window.Bokeh.documents.splice(i, 1);\n    }\n  }\n}\n\n/**\n * Handle kernel restart event\n */\nfunction handle_kernel_cleanup(event, handle) {\n  delete PyViz.comms[\"hv-extension-comm\"];\n  window.PyViz.plot_index = {}\n}\n\n/**\n * Handle update_display_data messages\n */\nfunction handle_update_output(event, handle) {\n  handle_clear_output(event, {cell: {output_area: handle.output_area}})\n  handle_add_output(event, handle)\n}\n\nfunction register_renderer(events, OutputArea) {\n  function append_mime(data, metadata, element) {\n    // create a DOM node to render to\n    var toinsert = this.create_output_subarea(\n    metadata,\n    CLASS_NAME,\n    EXEC_MIME_TYPE\n    );\n    this.keyboard_manager.register_events(toinsert);\n    // Render to node\n    var props = {data: data, metadata: metadata[EXEC_MIME_TYPE]};\n    render(props, toinsert[0]);\n    element.append(toinsert);\n    return toinsert\n  }\n\n  events.on('output_added.OutputArea', handle_add_output);\n  events.on('output_updated.OutputArea', handle_update_output);\n  events.on('clear_output.CodeCell', handle_clear_output);\n  events.on('delete.Cell', handle_clear_output);\n  events.on('kernel_ready.Kernel', handle_kernel_cleanup);\n\n  OutputArea.prototype.register_mime_type(EXEC_MIME_TYPE, append_mime, {\n    safe: true,\n    index: 0\n  });\n}\n\nif (window.Jupyter !== undefined) {\n  try {\n    var events = require('base/js/events');\n    var OutputArea = require('notebook/js/outputarea').OutputArea;\n    if (OutputArea.prototype.mime_types().indexOf(EXEC_MIME_TYPE) == -1) {\n      register_renderer(events, OutputArea);\n    }\n  } catch(err) {\n  }\n}\n",
      "application/vnd.holoviews_load.v0+json": ""
     },
     "metadata": {},
     "output_type": "display_data"
    },
    {
     "data": {
      "text/html": [
       "<style>*[data-root-id],\n",
       "*[data-root-id] > * {\n",
       "  box-sizing: border-box;\n",
       "  font-family: var(--jp-ui-font-family);\n",
       "  font-size: var(--jp-ui-font-size1);\n",
       "  color: var(--vscode-editor-foreground, var(--jp-ui-font-color1));\n",
       "}\n",
       "\n",
       "/* Override VSCode background color */\n",
       ".cell-output-ipywidget-background:has(\n",
       "    > .cell-output-ipywidget-background > .lm-Widget > *[data-root-id]\n",
       "  ),\n",
       ".cell-output-ipywidget-background:has(> .lm-Widget > *[data-root-id]) {\n",
       "  background-color: transparent !important;\n",
       "}\n",
       "</style>"
      ]
     },
     "metadata": {},
     "output_type": "display_data"
    },
    {
     "data": {
      "application/vnd.holoviews_exec.v0+json": "",
      "text/html": [
       "<div id='5026c421-6bb3-471a-be25-bf6aec9b5a94'>\n",
       "  <div id=\"a82f6b79-8ca7-4bd1-8f1e-c3a8a1c3a796\" data-root-id=\"5026c421-6bb3-471a-be25-bf6aec9b5a94\" style=\"display: contents;\"></div>\n",
       "</div>\n",
       "<script type=\"application/javascript\">(function(root) {\n",
       "  var docs_json = {\"542d590e-6356-4fc0-95fc-35d0d48f4f63\":{\"version\":\"3.4.1\",\"title\":\"Bokeh Application\",\"roots\":[{\"type\":\"object\",\"name\":\"panel.models.browser.BrowserInfo\",\"id\":\"5026c421-6bb3-471a-be25-bf6aec9b5a94\"},{\"type\":\"object\",\"name\":\"panel.models.comm_manager.CommManager\",\"id\":\"c2815a84-65fa-45f0-8c03-7a95b04d5c5d\",\"attributes\":{\"plot_id\":\"5026c421-6bb3-471a-be25-bf6aec9b5a94\",\"comm_id\":\"38590ef6c77543a3b823f9928a33ee70\",\"client_comm_id\":\"5f400df13fb243dca30fc3341e938523\"}}],\"defs\":[{\"type\":\"model\",\"name\":\"ReactiveHTML1\"},{\"type\":\"model\",\"name\":\"FlexBox1\",\"properties\":[{\"name\":\"align_content\",\"kind\":\"Any\",\"default\":\"flex-start\"},{\"name\":\"align_items\",\"kind\":\"Any\",\"default\":\"flex-start\"},{\"name\":\"flex_direction\",\"kind\":\"Any\",\"default\":\"row\"},{\"name\":\"flex_wrap\",\"kind\":\"Any\",\"default\":\"wrap\"},{\"name\":\"gap\",\"kind\":\"Any\",\"default\":\"\"},{\"name\":\"justify_content\",\"kind\":\"Any\",\"default\":\"flex-start\"}]},{\"type\":\"model\",\"name\":\"FloatPanel1\",\"properties\":[{\"name\":\"config\",\"kind\":\"Any\",\"default\":{\"type\":\"map\"}},{\"name\":\"contained\",\"kind\":\"Any\",\"default\":true},{\"name\":\"position\",\"kind\":\"Any\",\"default\":\"right-top\"},{\"name\":\"offsetx\",\"kind\":\"Any\",\"default\":null},{\"name\":\"offsety\",\"kind\":\"Any\",\"default\":null},{\"name\":\"theme\",\"kind\":\"Any\",\"default\":\"primary\"},{\"name\":\"status\",\"kind\":\"Any\",\"default\":\"normalized\"}]},{\"type\":\"model\",\"name\":\"GridStack1\",\"properties\":[{\"name\":\"mode\",\"kind\":\"Any\",\"default\":\"warn\"},{\"name\":\"ncols\",\"kind\":\"Any\",\"default\":null},{\"name\":\"nrows\",\"kind\":\"Any\",\"default\":null},{\"name\":\"allow_resize\",\"kind\":\"Any\",\"default\":true},{\"name\":\"allow_drag\",\"kind\":\"Any\",\"default\":true},{\"name\":\"state\",\"kind\":\"Any\",\"default\":[]}]},{\"type\":\"model\",\"name\":\"drag1\",\"properties\":[{\"name\":\"slider_width\",\"kind\":\"Any\",\"default\":5},{\"name\":\"slider_color\",\"kind\":\"Any\",\"default\":\"black\"},{\"name\":\"value\",\"kind\":\"Any\",\"default\":50}]},{\"type\":\"model\",\"name\":\"click1\",\"properties\":[{\"name\":\"terminal_output\",\"kind\":\"Any\",\"default\":\"\"},{\"name\":\"debug_name\",\"kind\":\"Any\",\"default\":\"\"},{\"name\":\"clears\",\"kind\":\"Any\",\"default\":0}]},{\"type\":\"model\",\"name\":\"FastWrapper1\",\"properties\":[{\"name\":\"object\",\"kind\":\"Any\",\"default\":null},{\"name\":\"style\",\"kind\":\"Any\",\"default\":null}]},{\"type\":\"model\",\"name\":\"NotificationAreaBase1\",\"properties\":[{\"name\":\"js_events\",\"kind\":\"Any\",\"default\":{\"type\":\"map\"}},{\"name\":\"position\",\"kind\":\"Any\",\"default\":\"bottom-right\"},{\"name\":\"_clear\",\"kind\":\"Any\",\"default\":0}]},{\"type\":\"model\",\"name\":\"NotificationArea1\",\"properties\":[{\"name\":\"js_events\",\"kind\":\"Any\",\"default\":{\"type\":\"map\"}},{\"name\":\"notifications\",\"kind\":\"Any\",\"default\":[]},{\"name\":\"position\",\"kind\":\"Any\",\"default\":\"bottom-right\"},{\"name\":\"_clear\",\"kind\":\"Any\",\"default\":0},{\"name\":\"types\",\"kind\":\"Any\",\"default\":[{\"type\":\"map\",\"entries\":[[\"type\",\"warning\"],[\"background\",\"#ffc107\"],[\"icon\",{\"type\":\"map\",\"entries\":[[\"className\",\"fas fa-exclamation-triangle\"],[\"tagName\",\"i\"],[\"color\",\"white\"]]}]]},{\"type\":\"map\",\"entries\":[[\"type\",\"info\"],[\"background\",\"#007bff\"],[\"icon\",{\"type\":\"map\",\"entries\":[[\"className\",\"fas fa-info-circle\"],[\"tagName\",\"i\"],[\"color\",\"white\"]]}]]}]}]},{\"type\":\"model\",\"name\":\"Notification\",\"properties\":[{\"name\":\"background\",\"kind\":\"Any\",\"default\":null},{\"name\":\"duration\",\"kind\":\"Any\",\"default\":3000},{\"name\":\"icon\",\"kind\":\"Any\",\"default\":null},{\"name\":\"message\",\"kind\":\"Any\",\"default\":\"\"},{\"name\":\"notification_type\",\"kind\":\"Any\",\"default\":null},{\"name\":\"_destroyed\",\"kind\":\"Any\",\"default\":false}]},{\"type\":\"model\",\"name\":\"TemplateActions1\",\"properties\":[{\"name\":\"open_modal\",\"kind\":\"Any\",\"default\":0},{\"name\":\"close_modal\",\"kind\":\"Any\",\"default\":0}]},{\"type\":\"model\",\"name\":\"BootstrapTemplateActions1\",\"properties\":[{\"name\":\"open_modal\",\"kind\":\"Any\",\"default\":0},{\"name\":\"close_modal\",\"kind\":\"Any\",\"default\":0}]},{\"type\":\"model\",\"name\":\"TemplateEditor1\",\"properties\":[{\"name\":\"layout\",\"kind\":\"Any\",\"default\":[]}]},{\"type\":\"model\",\"name\":\"MaterialTemplateActions1\",\"properties\":[{\"name\":\"open_modal\",\"kind\":\"Any\",\"default\":0},{\"name\":\"close_modal\",\"kind\":\"Any\",\"default\":0}]},{\"type\":\"model\",\"name\":\"copy_to_clipboard1\",\"properties\":[{\"name\":\"fill\",\"kind\":\"Any\",\"default\":\"none\"},{\"name\":\"value\",\"kind\":\"Any\",\"default\":null}]}]}};\n",
       "  var render_items = [{\"docid\":\"542d590e-6356-4fc0-95fc-35d0d48f4f63\",\"roots\":{\"5026c421-6bb3-471a-be25-bf6aec9b5a94\":\"a82f6b79-8ca7-4bd1-8f1e-c3a8a1c3a796\"},\"root_ids\":[\"5026c421-6bb3-471a-be25-bf6aec9b5a94\"]}];\n",
       "  var docs = Object.values(docs_json)\n",
       "  if (!docs) {\n",
       "    return\n",
       "  }\n",
       "  const py_version = docs[0].version.replace('rc', '-rc.').replace('.dev', '-dev.')\n",
       "  async function embed_document(root) {\n",
       "    var Bokeh = get_bokeh(root)\n",
       "    await Bokeh.embed.embed_items_notebook(docs_json, render_items);\n",
       "    for (const render_item of render_items) {\n",
       "      for (const root_id of render_item.root_ids) {\n",
       "\tconst id_el = document.getElementById(root_id)\n",
       "\tif (id_el.children.length && id_el.children[0].hasAttribute('data-root-id')) {\n",
       "\t  const root_el = id_el.children[0]\n",
       "\t  root_el.id = root_el.id + '-rendered'\n",
       "\t  for (const child of root_el.children) {\n",
       "            // Ensure JupyterLab does not capture keyboard shortcuts\n",
       "            // see: https://jupyterlab.readthedocs.io/en/4.1.x/extension/notebook.html#keyboard-interaction-model\n",
       "\t    child.setAttribute('data-lm-suppress-shortcuts', 'true')\n",
       "\t  }\n",
       "\t}\n",
       "      }\n",
       "    }\n",
       "  }\n",
       "  function get_bokeh(root) {\n",
       "    if (root.Bokeh === undefined) {\n",
       "      return null\n",
       "    } else if (root.Bokeh.version !== py_version) {\n",
       "      if (root.Bokeh.versions === undefined || !root.Bokeh.versions.has(py_version)) {\n",
       "\treturn null\n",
       "      }\n",
       "      return root.Bokeh.versions.get(py_version);\n",
       "    } else if (root.Bokeh.version === py_version) {\n",
       "      return root.Bokeh\n",
       "    }\n",
       "    return null\n",
       "  }\n",
       "  function is_loaded(root) {\n",
       "    var Bokeh = get_bokeh(root)\n",
       "    return (Bokeh != null && Bokeh.Panel !== undefined)\n",
       "  }\n",
       "  if (is_loaded(root)) {\n",
       "    embed_document(root);\n",
       "  } else {\n",
       "    var attempts = 0;\n",
       "    var timer = setInterval(function(root) {\n",
       "      if (is_loaded(root)) {\n",
       "        clearInterval(timer);\n",
       "        embed_document(root);\n",
       "      } else if (document.readyState == \"complete\") {\n",
       "        attempts++;\n",
       "        if (attempts > 200) {\n",
       "          clearInterval(timer);\n",
       "\t  var Bokeh = get_bokeh(root)\n",
       "\t  if (Bokeh == null || Bokeh.Panel == null) {\n",
       "            console.warn(\"Panel: ERROR: Unable to run Panel code because Bokeh or Panel library is missing\");\n",
       "\t  } else {\n",
       "\t    console.warn(\"Panel: WARNING: Attempting to render but not all required libraries could be resolved.\")\n",
       "\t    embed_document(root)\n",
       "\t  }\n",
       "        }\n",
       "      }\n",
       "    }, 25, root)\n",
       "  }\n",
       "})(window);</script>"
      ]
     },
     "metadata": {
      "application/vnd.holoviews_exec.v0+json": {
       "id": "5026c421-6bb3-471a-be25-bf6aec9b5a94"
      }
     },
     "output_type": "display_data"
    }
   ],
   "source": [
    "from abc import ABCMeta, abstractmethod, ABC\n",
    "from pathlib import Path\n",
    "from uuid import uuid4\n",
    "from typing import Optional, Callable, List\n",
    "from typing import TYPE_CHECKING, Union, List\n",
    "import inspect\n",
    "import asyncio\n",
    "\n",
    "from ruamel.yaml import YAML\n",
    "\n",
    "import panel as pn\n",
    "from panel.viewable import Viewer\n",
    "\n",
    "import param\n",
    "from param import rx, Parameterized\n",
    "\n",
    "from langchain_core.language_models import BaseLanguageModel\n",
    "from langchain_openai import ChatOpenAI\n",
    "from langchain_anthropic import ChatAnthropic\n",
    "from langchain_text_splitters import RecursiveCharacterTextSplitter\n",
    "from langchain_community.document_loaders import UnstructuredPDFLoader\n",
    "from langchain_community.embeddings import HuggingFaceBgeEmbeddings\n",
    "from langchain_chroma import Chroma # Useless\n",
    "from langchain_core.documents import Document\n",
    "from langchain_core.retrievers import BaseRetriever\n",
    "from langchain_core.documents import Document\n",
    "from langchain_core.prompts import ChatPromptTemplate, MessagesPlaceholder\n",
    "from langchain_core.messages import SystemMessage, HumanMessage\n",
    "\n",
    "import chromadb\n",
    "from chromadb.api.client import Client\n",
    "from chromadb.api.models.Collection import Collection\n",
    "\n",
    "import tiktoken\n",
    "\n",
    "from dotenv import load_dotenv\n",
    "\n",
    "\n",
    "###################Other Thangs#######################################\n",
    "import sys\n",
    "sys.path.append(\"..\")\n",
    "\n",
    "from pyllments.config import BASE_DIR\n",
    "\n",
    "load_dotenv()\n",
    "pn.extension()"
   ]
  },
  {
   "cell_type": "code",
   "execution_count": 132,
   "metadata": {},
   "outputs": [
    {
     "name": "stdout",
     "output_type": "stream",
     "text": [
      "The autoreload extension is already loaded. To reload it, use:\n",
      "  %reload_ext autoreload\n"
     ]
    }
   ],
   "source": [
    "%load_ext autoreload\n",
    "%autoreload 2\n"
   ]
  },
  {
   "cell_type": "markdown",
   "metadata": {},
   "source": [
    "# Framework Construction"
   ]
  },
  {
   "cell_type": "markdown",
   "metadata": {},
   "source": [
    "## Ports"
   ]
  },
  {
   "cell_type": "code",
   "execution_count": 134,
   "metadata": {},
   "outputs": [
    {
     "name": "stdout",
     "output_type": "stream",
     "text": [
      "Overwriting /workspaces/pyllments/pyllments/ports/ports.py\n"
     ]
    }
   ],
   "source": [
    "%%writefile /workspaces/pyllments/pyllments/ports/ports.py\n",
    "# from typing import TYPE_CHECKING, Union, List\n",
    "# import inspect\n",
    "# import warnings\n",
    "\n",
    "# import param\n",
    "\n",
    "# from pyllments.base import Payload\n",
    "\n",
    "\n",
    "class Port(param.Parameterized):\n",
    "    payload = param.ClassSelector(class_=Payload)\n",
    "    containing_element = param.Parameter(default=None, precedence=-1)\n",
    "    connected_elements = param.List()\n",
    "\n",
    "    def __init__(self, **params):\n",
    "        super().__init__(**params)\n",
    "        # Set as attribute and clear parameter to avoid circular param __repl__\n",
    "        self._containing_element = self.containing_element\n",
    "        self.containing_element = None\n",
    "\n",
    "\n",
    "class InputPort(Port):\n",
    "    subject_ports = param.List(item_type=Port)\n",
    "\n",
    "    unpack_payload_callback = param.Callable(doc=\"\"\"\n",
    "        The callback used to unpack the payload - has payload as its only argument.\n",
    "        Unpacks the payload and connects it to the element's model\n",
    "        \"\"\")\n",
    "\n",
    "    def receive(self, payload):\n",
    "        ### Just TESTING\n",
    "        self.payload = payload\n",
    "        if not self.unpack_payload_callback:\n",
    "            raise ValueError('unpack_payload_callback must be set')\n",
    "        self.unpack_payload_callback(payload)\n",
    "\n",
    "class OutputPort(Port):\n",
    "    \"\"\"\n",
    "    Handles the intake of data and packing into a payload and\n",
    "    is meant to connect to an InputPort in order to emit the packed payload\n",
    "    \"\"\"\n",
    "    # Add a watcher IF updating of required_items becomes necessary\n",
    "    required_items = param.List(item_type=Union[str, tuple[str, type]], doc=\"\"\"\n",
    "        Type checking automatically enabled if (name, type) tuple is passed\"\"\")\n",
    "\n",
    "    emit_when_ready = param.Boolean(default=True, doc=\"\"\"\n",
    "        If true, the payload will be emitted when the required items are staged\"\"\")\n",
    "\n",
    "    emit_ready = param.Boolean(default=False, doc=\"\"\"\n",
    "        True when the required items have been staged and the payload can be emitted\"\"\")\n",
    "\n",
    "    infer_from_callback = param.Boolean(default=True, doc=\"\"\"\n",
    "        If true, infers the required items from pack_payload_callback\n",
    "        and required_items is set to None\"\"\")\n",
    "\n",
    "    observer_ports = param.List(item_type=Port, doc=\"\"\"\n",
    "        The connected InputPorts which emit() will contact\"\"\")\n",
    "\n",
    "    pack_payload_callback = param.Callable(default=None, doc=\"\"\"\n",
    "        The callback used to create the payload. When used in conjunction with\n",
    "        infer_required_items == True, an annotated callback can replace passing in\n",
    "        a payload and required_items while enabling type-checking.\n",
    "        Kwargs, their types, and the return type are required annotations.\"\"\")\n",
    "        \n",
    "    staged_items = param.List(item_type=str, doc=\"\"\"\n",
    "        The items that have been staged and are awaiting emission\"\"\")\n",
    "    \n",
    "    type_checking = param.Boolean(default=False, doc=\"\"\"\n",
    "        If true, type-checking is enabled\"\"\")\n",
    "\n",
    "    def __init__(self, **params: param.Parameter):\n",
    "        super().__init__(**params)\n",
    "\n",
    "        # In the case when pack_payload_callback is passed and so is infer_from_callback\n",
    "        if self.pack_payload_callback and self.infer_from_callback:\n",
    "            if (self.infer_from_callback and\n",
    "                not inspect.getfullargspec(self.pack_payload_callback).annotations):\n",
    "\n",
    "                raise ValueError(\"\"\"\n",
    "                    pack_payload_callback must have annotations if infer_from_callback\n",
    "                    is False\"\"\")\n",
    "            if self.payload is not None:\n",
    "                warnings.warn(\"\"\"payload will be overridden with the return type of \n",
    "                    pack_payload_callback\"\"\")\n",
    "            self.type_checking = True\n",
    "            annotations = inspect.getfullargspec(self.pack_payload_callback).annotations\n",
    "            self.param.payload.class_ = annotations.pop('return')\n",
    "            self.required_items =  tuple(annotations.items())\n",
    "        # In the case of desired type-checking\n",
    "        elif self.required_items and (isinstance(self.required_items[0], tuple)):\n",
    "            self.type_checking = True\n",
    "            for item in self.required_items:\n",
    "                self.param.add_parameter(\n",
    "                    item[0],\n",
    "                    param.ClassSelector(class_=[item[1]])\n",
    "                    )\n",
    "        # In case of no type-checking but required_items specified\n",
    "        elif str and (not self.required_items):\n",
    "            for item in self.required_items:\n",
    "                self.param.add_parameter(item, param.Parameter())\n",
    "        elif not self.required_items:\n",
    "            self.type_checking = False\n",
    "\n",
    "    def connect(self, other: InputPort):\n",
    "        \"\"\"Connects self and the other InputPort\"\"\"\n",
    "        if not isinstance(other, InputPort):\n",
    "            raise ValueError('Can only connect OutputPorts to InputPorts')\n",
    "        if not isinstance(other.payload, type(self.payload)):\n",
    "            raise ValueError('InputPort and OutputPort payload types must match')\n",
    "        \n",
    "        self.observer_ports.append(other)\n",
    "        self.connected_elements.append(other._containing_element)\n",
    "        other.connected_elements.append(self._containing_element)\n",
    "    \n",
    "    def stage(self, **kwargs: param.Parameter):\n",
    "        \"\"\"Stages the values within the port before packing\"\"\"\n",
    "        if self.type_checking:\n",
    "            for name, value in kwargs.items():\n",
    "                class_ = self.param[name].class_\n",
    "                if isinstance(value, class_):\n",
    "                    self.staged_items.append(name)\n",
    "                    self.param[name] = value\n",
    "            # Compare equality of staged_items and required_items\n",
    "            if set(self.staged_items) == set(item[0] for item in self.required_items):\n",
    "                self.emit_ready = True\n",
    "        else:\n",
    "            for name, value in kwargs.items():\n",
    "                self.staged_items.append(name)\n",
    "                self.param[name] = value\n",
    "            if set(self.staged_items) == set(item[0] for item in self.required_items):\n",
    "                self.emit_ready = True\n",
    "        if self.emit_when_ready and self.emit_ready:\n",
    "            self.emit()\n",
    "\n",
    "    def emit(self):\n",
    "        \"\"\"Packs the payload and emits it to all registered observers\"\"\"\n",
    "        if not self.emit_ready:\n",
    "            raise Exception('Staged items do not match required items')\n",
    "        else:\n",
    "            self.payload = self.pack_payload()\n",
    "        for port in self.observer_ports:\n",
    "            port.receive(self.payload)\n",
    "        # For returning the payload to the caller \n",
    "        return self.payload\n",
    "    \n",
    "    def stage_and_emit(self, **kwargs):\n",
    "        \"\"\"Stages the payload and emits it - All required params need be present\"\"\"\n",
    "        self.stage(**kwargs)\n",
    "        self.emit()\n",
    "\n",
    "    def pack_payload(self):\n",
    "        if self.pack_payload_callback:\n",
    "            staged_dict = {}\n",
    "            for item in self.staged_items:\n",
    "                staged_dict[item] = getattr(self, item)\n",
    "            return self.pack_payload_callback(**staged_dict)\n",
    "        else:\n",
    "            raise ValueError('pack_payload_callback must be set')\n",
    "            #TODO Implement default callback based on the payload type\n",
    "\n",
    "    def __gt__(self, other):\n",
    "        \"\"\"Implements self.connect(other) through el1.some_input > el2.some_output\"\"\"\n",
    "        self.connect(other)\n",
    "        \n",
    "\n",
    "\n",
    "class InputPorts(param.Parameterized):\n",
    "    containing_element = param.Parameter(precedence=-1)\n",
    "\n",
    "    def __init__(self, **params):\n",
    "        self._containing_element = self.containing_element\n",
    "        self.containing_element = None\n",
    "\n",
    "    def add(self, name, payload_type, **kwargs): \n",
    "        input_port = InputPort(\n",
    "            payload=payload_type(), # Overridden if pack_payload_callback is passed\n",
    "            **kwargs\n",
    "            )\n",
    "\n",
    "        self.param.add_parameter(name, param.Parameter(input_port))\n",
    "        return input_port\n",
    "\n",
    "class OutputPorts(param.Parameterized):\n",
    "    containing_element = param.Parameter(precedence=-1)\n",
    "\n",
    "    def __init__(self, **params):\n",
    "        self._containing_element = self.containing_element\n",
    "        self.containing_element = None\n",
    "\n",
    "    def add(self, name, payload_type=None, **kwargs):\n",
    "        if payload_type:\n",
    "            if kwargs.get('payload'):\n",
    "                warnings.warn(\n",
    "                    \"payload_type will override the payload argument if both are provided.\" \n",
    "                )\n",
    "            kwargs['payload'] = payload_type()\n",
    "        output_port = OutputPort(**kwargs)\n",
    "        self.param.add_parameter(name, param.Parameter(output_port))\n",
    "        return output_port\n",
    "\n",
    "class Ports(param.Parameterized):\n",
    "    \"\"\"Keeps track of InputPorts and OutputPorts and handles their creation\"\"\"\n",
    "    input = param.ClassSelector(class_=InputPorts, default=InputPorts())\n",
    "    output = param.ClassSelector(class_=OutputPorts, default=OutputPorts())\n",
    "    containing_element = param.Parameter(precedence=-1)\n",
    "\n",
    "    def __init__(self, **params):\n",
    "        super().__init__(**params)\n",
    "        self._containing_element = self.containing_element\n",
    "        self.containing_element = None\n",
    "\n",
    "    def add_input(self, **kwargs): \n",
    "        self.input.add(\n",
    "            containing_element=self._containing_element,\n",
    "            **kwargs\n",
    "            )\n",
    "    \n",
    "    def add_output(self, **kwargs):\n",
    "        self.output.add(\n",
    "            containing_element=self._containing_element,\n",
    "            **kwargs\n",
    "            )\n"
   ]
  },
  {
   "cell_type": "code",
   "execution_count": 114,
   "metadata": {},
   "outputs": [],
   "source": [
    "port = InputPort(containing_element='some_element')"
   ]
  },
  {
   "cell_type": "code",
   "execution_count": 131,
   "metadata": {},
   "outputs": [
    {
     "name": "stdout",
     "output_type": "stream",
     "text": [
      "payload of el1:  <Payload Payload00379> \n",
      "payload of el2:  <Payload Payload00381>\n"
     ]
    }
   ],
   "source": [
    "def test_port_connection():\n",
    "    \"\"\"\n",
    "    Connects the output port of one element to the input port of another\n",
    "    and tests whether the connected elements in each port are indeed connected\n",
    "    \"\"\"\n",
    "    el1 = Element()\n",
    "    el2 = Element()\n",
    "\n",
    "    el1.ports.add_output(name='some_output', payload_type=Payload)\n",
    "    el2.ports.add_input(name='some_input', payload_type=Payload)\n",
    "    print('payload of el1: ', el1.ports.output.some_output.payload, \n",
    "        '\\npayload of el2: ', el2.ports.input.some_input.payload)\n",
    "\n",
    "    el1.ports.output.some_output > el2.ports.input.some_input\n",
    "\n",
    "    assert el1.ports.output.some_output.connected_elements[0] is el2\n",
    "    assert el2.ports.input.some_input.connected_elements[0] is el1\n",
    "\n",
    "test_port_connection()\n"
   ]
  },
  {
   "cell_type": "markdown",
   "metadata": {},
   "source": [
    "## Base"
   ]
  },
  {
   "cell_type": "code",
   "execution_count": 5,
   "metadata": {},
   "outputs": [],
   "source": [
    "# %%writefile /workspaces/pyllments/pyllments/base/model.py\n",
    "# import param\n",
    "\n",
    "class Model(param.Parameterized):\n",
    "    def __init__(self, **params):\n",
    "        super().__init__(**params)"
   ]
  },
  {
   "cell_type": "code",
   "execution_count": 8,
   "metadata": {},
   "outputs": [],
   "source": [
    "# %%writefile /workspaces/pyllments/pyllments/base/payload.py\n",
    "# import param\n",
    "\n",
    "class Payload(param.Parameterized):\n",
    "    pass"
   ]
  },
  {
   "cell_type": "code",
   "execution_count": 129,
   "metadata": {},
   "outputs": [],
   "source": [
    "# %%writefile /workspaces/pyllments/pyllments/base/element.py\n",
    "# import param\n",
    "\n",
    "# from pyllments.ports import InputPorts, OutputPorts\n",
    "\n",
    "class Element(param.Parameterized):\n",
    "    model = param.ClassSelector(class_=Model, default=None)\n",
    "    ports = param.ClassSelector(class_=Ports)\n",
    "\n",
    "    def __init__(self, **params):\n",
    "        super().__init__(**params)\n",
    "        self.ports = Ports(containing_element=self)\n"
   ]
  },
  {
   "cell_type": "code",
   "execution_count": 99,
   "metadata": {},
   "outputs": [
    {
     "name": "stdout",
     "output_type": "stream",
     "text": [
      "Overwriting /workspaces/pyllments/pyllments/base/listing.py\n"
     ]
    }
   ],
   "source": [
    "# %%writefile /workspaces/pyllments/pyllments/base/listing.py\n",
    "# import param\n",
    "\n",
    "class Listing(param.Parameterized):\n",
    "    def __init__(self, **params):\n",
    "        super().__init__(**params)"
   ]
  },
  {
   "cell_type": "markdown",
   "metadata": {},
   "source": [
    "## Payload"
   ]
  },
  {
   "cell_type": "markdown",
   "metadata": {},
   "source": [
    "### Message Payload"
   ]
  },
  {
   "cell_type": "code",
   "execution_count": 9,
   "metadata": {},
   "outputs": [],
   "source": [
    "# %%writefile /workspaces/pyllments/pyllments/payloads/message_payload/message_model.py\n",
    "# import param\n",
    "\n",
    "# from pyllments.base import Model\n",
    "\n",
    "class MessageModel(Model):\n",
    "    message = param.String(default=None, per_instance=True)\n",
    "    message_type = param.String(default=None, per_instance=True)\n",
    "\n",
    "    # payload_pack"
   ]
  },
  {
   "cell_type": "code",
   "execution_count": 14,
   "metadata": {},
   "outputs": [],
   "source": [
    "# %%writefile /workspaces/pyllments/pyllments/payloads/message/message_payload.py\n",
    "# import param\n",
    "# import panel as pn\n",
    "\n",
    "# from pyllments.base import Payload\n",
    "# from pyllments.payloads.message.message_model import MessageModel\n",
    "\n",
    "class MessagePayload(Payload):\n",
    "    model = param.ClassSelector(class_=MessageModel, is_instance=True)\n",
    "    message_type = param.String(default=None, per_instance=True)\n",
    "    message_view = param.ClassSelector(class_=pn.pane.Markdown, is_instance=True)\n",
    "\n",
    "    def create_message_view(self, **kwargs):\n",
    "        self.message_view = pn.pane.Markdown(self.message)\n",
    "        return self.message_view"
   ]
  },
  {
   "cell_type": "markdown",
   "metadata": {},
   "source": [
    "## ChatInterface"
   ]
  },
  {
   "cell_type": "markdown",
   "metadata": {},
   "source": [
    "### ChatInterfaceModel"
   ]
  },
  {
   "cell_type": "code",
   "execution_count": 6,
   "metadata": {},
   "outputs": [
    {
     "name": "stdout",
     "output_type": "stream",
     "text": [
      "Overwriting /workspaces/pyllments/pyllments/elements/chat_interface/chat_interface_model.py\n"
     ]
    }
   ],
   "source": [
    "%%writefile /workspaces/pyllments/pyllments/elements/chat_interface/chat_interface_model.py\n",
    "import param\n",
    "\n",
    "from pyllments.base import Model\n",
    "from pyllments.payloads.message import MessagePayload\n",
    "\n",
    "class ChatInterfaceModel(Model):\n",
    "    message_list = param.List(default=[], per_instance=True)\n",
    "    \n",
    "    def __init__(self, **params):\n",
    "        super().__init__(**params)\n",
    "        self.param.add_parameter(\n",
    "            'created_message',\n",
    "            param.ClassSelector(class_=MessagePayload)\n",
    "            )\n",
    "        self.message_list.append(('human', 'what is the capital of the moon?'))"
   ]
  },
  {
   "cell_type": "markdown",
   "metadata": {},
   "source": [
    "### ChatInterfaceElement"
   ]
  },
  {
   "cell_type": "code",
   "execution_count": 2,
   "metadata": {},
   "outputs": [
    {
     "name": "stdout",
     "output_type": "stream",
     "text": [
      "Overwriting /workspaces/pyllments/pyllments/elements/chat_interface/chat_interface_element.py\n"
     ]
    }
   ],
   "source": [
    "# %%writefile /workspaces/pyllments/pyllments/elements/chat_interface/chat_interface_element.py\n",
    "# import panel as pn\n",
    "# import param\n",
    "\n",
    "# from pyllments.base import Element, Model\n",
    "# from pyllments.elements.chat_interface import ChatInterfaceModel\n",
    "\n",
    "class ChatInterfaceElement(Element):\n",
    "    '''Responsible for creating the chat feed, input, and send button views'''\n",
    "    model = param.ClassSelector(class_=Model, default=ChatInterfaceModel())\n",
    "\n",
    "    chatfeed_view = param.ClassSelector(class_=pn.chat.ChatFeed, is_instance=True)\n",
    "    chat_input_view = param.ClassSelector(class_=pn.chat.ChatAreaInput, is_instance=True)\n",
    "    send_button_view = param.ClassSelector(class_=pn.widgets.Button, is_instance=True)\n",
    "\n",
    "    def create_chatfeed_view(self, **kwargs):\n",
    "        self.chatfeed_view = pn.chat.ChatFeed(**kwargs)\n",
    "        return self.chatfeed_view\n",
    "    \n",
    "    def create_chat_input_view(self, **kwargs):\n",
    "        self.chat_input_view = pn.chat.ChatAreaInput(**kwargs)\n",
    "        return self.chat_input_view\n",
    "\n",
    "    def create_send_button_view(self, **kwargs):\n",
    "        self.send_button_view = pn.widgets.Button(**kwargs)\n",
    "        return self.send_button_view\n",
    "\n",
    "    def _on_send(self, event):\n",
    "        self.chat_interface_model.message_list.append(('human', self.chat_input_view.value))\n",
    "        self.chat_input_view.value = ''\n",
    "        self.chatfeed_view.update()"
   ]
  },
  {
   "cell_type": "code",
   "execution_count": 3,
   "metadata": {},
   "outputs": [],
   "source": [
    "from pyllments.elements.chat_interface import ChatInterfaceElement"
   ]
  },
  {
   "cell_type": "markdown",
   "metadata": {},
   "source": [
    "## LLM Chat"
   ]
  },
  {
   "cell_type": "markdown",
   "metadata": {},
   "source": [
    "### LLM Chat Model"
   ]
  },
  {
   "cell_type": "code",
   "execution_count": 4,
   "metadata": {},
   "outputs": [
    {
     "name": "stdout",
     "output_type": "stream",
     "text": [
      "Writing /workspaces/pyllments/pyllments/elements/llm_chat/llm_chat_model.py\n"
     ]
    }
   ],
   "source": [
    "# %%writefile /workspaces/pyllments/pyllments/elements/llm_chat/llm_chat_model.py\n",
    "# import param\n",
    "\n",
    "# from langchain_core.language_models import BaseLanguageModel\n",
    "# from langchain_openai import ChatOpenAI\n",
    "\n",
    "# from pyllments.base import Model\n",
    "\n",
    "class LLMChatModel(Model):\n",
    "    model_class = param.ClassSelector(\n",
    "        class_=BaseLanguageModel,\n",
    "        is_instance=False,\n",
    "        doc='Class of a LangChain Chat Model',\n",
    "        default=ChatOpenAI\n",
    "    )\n",
    "    model_args = param.ClassSelector(\n",
    "        class_=(dict, list), #TODO: May replace with dict, as the elements will the logic for view creation\n",
    "        doc='''Takes a dictionary of arguments to pass to expose and send to the\n",
    "        model class. If you set a None value as the key, the argument will be exposed,\n",
    "        with the default value set. Passing a list is the same as passing a dict\n",
    "        with all values set to None.''',\n",
    "        is_instance=True,\n",
    "        default={}\n",
    "        )\n",
    "\n",
    "    model = param.ClassSelector(class_=BaseLanguageModel, default=None, pickle_default_value=False)\n",
    "\n",
    "    def __init__(self, **params):\n",
    "        super().__init__(**params)\n",
    "\n",
    "        self._set_params()\n",
    "        self._create_model()\n",
    "\n",
    "    def _set_params(self):\n",
    "        \"\"\"Sets specified model_args as params of the object\"\"\"\n",
    "        if self.model_args:\n",
    "            for arg, val in self.model_args.items():\n",
    "                if arg in self.model_class.__fields__:\n",
    "                    if val is None:\n",
    "                        default = self.model_class.__fields__[arg].default\n",
    "                        self.model_args[arg] = default\n",
    "                        self.param.add_parameter(arg, param.Parameter(default, per_instance=True))\n",
    "                    else:\n",
    "                        self.param.add_parameter(arg, param.Parameter(val, per_instance=True))\n",
    "                    # self.model_args_list.append(arg)\n",
    "                else:\n",
    "                    raise ValueError(f\"'{arg}' is missing from the model class's signature\")\n",
    "                self.param.watch(self._create_model, [*self.model_args.keys()])\n",
    "\n",
    "\n",
    "    def _create_model(self, event=None):\n",
    "        \"\"\"Creates the model instance on init and when any of the parameters change\"\"\"\n",
    "        arg_vals = {arg: self.param.values()[arg] for arg in self.model_args.keys()}\n",
    "        self.model = self.model_class(**arg_vals)\n",
    "\n",
    "    def stream(self, messages):\n",
    "        # TODO: Set it up to be async\n",
    "        return self.model.stream(messages)"
   ]
  },
  {
   "cell_type": "code",
   "execution_count": 1,
   "metadata": {},
   "outputs": [],
   "source": [
    "from pyllments.elements.llm_chat import LLMChatModel"
   ]
  },
  {
   "cell_type": "markdown",
   "metadata": {},
   "source": [
    "### LLM Chat Element"
   ]
  },
  {
   "cell_type": "code",
   "execution_count": 6,
   "metadata": {},
   "outputs": [
    {
     "name": "stdout",
     "output_type": "stream",
     "text": [
      "Writing /workspaces/pyllments/pyllments/elements/llm_chat/llm_chat_element.py\n"
     ]
    }
   ],
   "source": [
    "# %%writefile /workspaces/pyllments/pyllments/elements/llm_chat/llm_chat_element.py\n",
    "# import param\n",
    "# import panel as pn\n",
    "\n",
    "# from pyllments.base import Element\n",
    "# from pyllments.elements.llm_chat import LLMChatModel\n",
    "\n",
    "class LLMChatElement(Element):\n",
    "    model = param.ClassSelector(class_=LLMChatModel)\n",
    "\n",
    "    temperature = param.Number(default=0.5)\n",
    "    temperature_view = param.ClassSelector(class_=pn.widgets.FloatSlider, is_instance=True)\n",
    "\n",
    "    def __init__(self, **params):\n",
    "        super().__init__(**params)\n",
    "\n",
    "    def create_temperature_view(self, **kwargs):\n",
    "        self.temperature_view = pn.widgets.FloatSlider(**kwargs)\n",
    "        return self.temperature_view"
   ]
  },
  {
   "cell_type": "code",
   "execution_count": 9,
   "metadata": {},
   "outputs": [],
   "source": [
    "from pyllments.elements.llm_chat import LLMChatElement"
   ]
  },
  {
   "cell_type": "markdown",
   "metadata": {},
   "source": [
    "### LLM Chat Listing"
   ]
  },
  {
   "cell_type": "code",
   "execution_count": 10,
   "metadata": {},
   "outputs": [
    {
     "name": "stdout",
     "output_type": "stream",
     "text": [
      "Writing /workspaces/pyllments/pyllments/elements/llm_chat/llm_chat_listing.py\n"
     ]
    }
   ],
   "source": [
    "%%writefile /workspaces/pyllments/pyllments/elements/llm_chat/llm_chat_listing.py\n",
    "import param\n",
    "import panel as pn\n",
    "from langchain_openai import ChatOpenAI\n",
    "from langchain_anthropic import ChatAnthropic\n",
    "\n",
    "from pyllments.base import Listing\n",
    "from pyllments.elements.llm_chat import LLMChatElement, LLMChatModel\n",
    "\n",
    "class LLMChatListing(Listing):\n",
    "    selector = param.ClassSelector(class_=pn.widgets.Select, is_instance=True)\n",
    "    llm_chat_element = param.ClassSelector(class_=LLMChatElement, is_instance=True)\n",
    "    chat_model_dict = param.Dict(default={\n",
    "        'gpt-3.5-turbo': ChatOpenAI,\n",
    "        'gpt-4o': ChatOpenAI,\n",
    "        'claude-3-opus-20240229': ChatAnthropic,\n",
    "    })\n",
    "    model_args = param.Dict(default={\n",
    "        'temperature': 0.5\n",
    "    })\n",
    "    \n",
    "    def __init__(self, **kwargs):\n",
    "        super().__init__(**kwargs)\n",
    "        \n",
    "        default_model_name = next(iter(self.chat_model_dict))\n",
    "        self.create_llm_chat_element(default_model_name)\n",
    "\n",
    "    def create_llm_chat_element(self, chat_model_name):\n",
    "        \"\"\"Creates and sets the chat model element\"\"\"\n",
    "        llm_chat_model = LLMChatModel(\n",
    "            model_class=self.chat_model_dict[chat_model_name],\n",
    "            model_args=self.model_args | {'model_name': chat_model_name}\n",
    "            )\n",
    "        self.llm_chat_element = LLMChatElement(llm_chat_model=llm_chat_model)\n",
    "        return self.llm_chat_element\n",
    "\n",
    "    def create_selector(self):\n",
    "        self.selector = pn.widgets.Select(options=list(self.chat_model_dict.keys()))\n",
    "        self.selector.param.watch(self._on_selector_change, 'value')\n",
    "        return self.selector\n",
    "    \n",
    "    def _on_selector_change(self, event):\n",
    "        \"\"\"Callback method triggered when the selector value changes\"\"\"\n",
    "        # print(event)\n",
    "        self.create_llm_chat_element(event.new)\n"
   ]
  },
  {
   "cell_type": "code",
   "execution_count": 1,
   "metadata": {},
   "outputs": [],
   "source": [
    "from pyllments.elements.llm_chat import LLMChatListing"
   ]
  },
  {
   "cell_type": "code",
   "execution_count": 245,
   "metadata": {},
   "outputs": [
    {
     "data": {
      "application/vnd.jupyter.widget-view+json": {
       "model_id": "f9eba488174544feb81953f6cadcacfe",
       "version_major": 2,
       "version_minor": 0
      },
      "text/plain": [
       "BokehModel(combine_events=True, render_bundle={'docs_json': {'2d711ee2-5b70-4054-adda-f61d0e46ab54': {'version…"
      ]
     },
     "execution_count": 245,
     "metadata": {},
     "output_type": "execute_result"
    }
   ],
   "source": [
    "chat_listing = LLMChatListing()\n",
    "\n",
    "chat_listing.create_selector()\n",
    "chat_listing.selector"
   ]
  },
  {
   "cell_type": "markdown",
   "metadata": {},
   "source": [
    "### Chat"
   ]
  },
  {
   "cell_type": "code",
   "execution_count": 3,
   "metadata": {},
   "outputs": [],
   "source": [
    "class ConversationHistory:\n",
    "    pass\n",
    "\n",
    "class ContextHandler:\n",
    "    pass\n",
    "\n",
    "class RetrieverStore:\n",
    "    pass\n",
    "\n",
    "class ReplyHandler:\n",
    "    pass\n"
   ]
  },
  {
   "cell_type": "code",
   "execution_count": 219,
   "metadata": {},
   "outputs": [],
   "source": []
  },
  {
   "cell_type": "code",
   "execution_count": 221,
   "metadata": {},
   "outputs": [
    {
     "data": {
      "text/html": [
       "<style>\n",
       ".param-doc-tooltip{\n",
       "  position: relative;\n",
       "  cursor: help;\n",
       "}\n",
       ".param-doc-tooltip:hover:after{\n",
       "  content: attr(data-tooltip);\n",
       "  background-color: black;\n",
       "  color: #fff;\n",
       "  border-radius: 3px;\n",
       "  padding: 10px;\n",
       "  position: absolute;\n",
       "  z-index: 1;\n",
       "  top: -5px;\n",
       "  left: 100%;\n",
       "  margin-left: 10px;\n",
       "  min-width: 250px;\n",
       "}\n",
       ".param-doc-tooltip:hover:before {\n",
       "  content: \"\";\n",
       "  position: absolute;\n",
       "  top: 50%;\n",
       "  left: 100%;\n",
       "  margin-top: -5px;\n",
       "  border-width: 5px;\n",
       "  border-style: solid;\n",
       "  border-color: transparent black transparent transparent;\n",
       "}\n",
       "</style>\n",
       "<details  open>\n",
       " <summary style=\"display:list-item; outline:none;\">\n",
       "  <tt>ChatInterfaceElement</tt>\n",
       " </summary>\n",
       " <div style=\"padding-left:10px; padding-bottom:5px;\">\n",
       "  <table style=\"max-width:100%; border:1px solid #AAAAAA;\">\n",
       "   <tr><th style=\"text-align:left;\">Name</th><th style=\"text-align:left;\">Default</th><th style=\"text-align:left;\">Type</th><th>Range</th></tr>\n",
       "<tr>  <td><p style=\"margin-bottom: 0px;\">chat_input_view</p></td>  <td style=\"max-width: 200px; text-align:left;\">None</td>  <td style=\"text-align:left;\">ClassSelector</td>  <td style=\"max-width: 300px;\"><i>nullable</i> ChatAreaInput</td></tr>\n",
       "<tr>  <td><p style=\"margin-bottom: 0px;\">chatfeed_view</p></td>  <td style=\"max-width: 200px; text-align:left;\">None</td>  <td style=\"text-align:left;\">ClassSelector</td>  <td style=\"max-width: 300px;\"><i>nullable</i> ChatFeed</td></tr>\n",
       "<tr>  <td><p style=\"margin-bottom: 0px;\" class=\"param-doc-tooltip\" data-tooltip=\"String identifier for this object.\">name</p></td>  <td style=\"max-width: 200px; text-align:left;\">&#x27;ChatInterfaceElement&#x27;</td>  <td style=\"text-align:left;\">String</td>  <td style=\"max-width: 300px;\"><i>nullable</i> <i>constant</i></td></tr>\n",
       "\n",
       "  </table>\n",
       " </div>\n",
       "</details>\n"
      ],
      "text/plain": [
       "<param.parameterized.Parameters at 0x7fc7d0d7f920>"
      ]
     },
     "execution_count": 221,
     "metadata": {},
     "output_type": "execute_result"
    }
   ],
   "source": [
    "ChatInterfaceElement.param"
   ]
  },
  {
   "cell_type": "code",
   "execution_count": 55,
   "metadata": {},
   "outputs": [],
   "source": [
    "# Model layer\n",
    "class Chat(param.Parameterized):\n",
    "    conversation_history = param.ClassSelector(\n",
    "       class_=ConversationHistory,\n",
    "       default=None,\n",
    "       doc=\"Message handler between AI and User - could contain source messages as well\")\n",
    "    context_history = param.ClassSelector(\n",
    "        class_=ContextHandler,\n",
    "        default=None,\n",
    "        is_instance=True,\n",
    "        doc=\"Context handler\")\n",
    "    use_context = param.Boolean(\n",
    "        default=False,\n",
    "        doc=\"Whether to use context from the context handler\"\n",
    "    )\n",
    "    retriever_store = param.ClassSelector(\n",
    "        class_=RetrieverStore,\n",
    "        default=None,\n",
    "        is_instance=True,\n",
    "        doc=\"Retriever store\")\n",
    "    retrieval = param.ClassSelector(\n",
    "        class_=BaseRAG,\n",
    "        default=None,\n",
    "        is_instance=True,\n",
    "        doc=\"RAG handler\")\n",
    "    reply = param.ClassSelector(\n",
    "        class_=ReplyHandler,\n",
    "        default=None,\n",
    "        is_instance=True,\n",
    "        doc=\"Last Generated Reply\")\n",
    "    # sources = param.List(default=[], doc=\"List of sources to retrieve\")\n",
    "    prompt_template = param.ClassSelector(\n",
    "        class_=ChatPromptTemplate,\n",
    "        is_instance=True,\n",
    "        doc=\"Prompt template for the chat model\")\n",
    "    system_message = param.String(\n",
    "        default=\"You're a helpful assistant\",\n",
    "        doc=\"System message for the prompt\"\n",
    "    )\n",
    "    chat_model = param.ClassSelector(\n",
    "        class_=LLMChatModel,\n",
    "        is_instance=True,\n",
    "        doc=\"Chat model\"\n",
    "    )\n",
    "\n",
    "    \n",
    "    def generate_reply(self, message, astream=True):\n",
    "        \"\"\"\"\"\"\n",
    "        # sources = self.rag.get_sources(message) \n",
    "        # context = self.context_history.get_context(sources)\n",
    "        messages = [SystemMessage(self.system_message), HumanMessage(message)]\n",
    "        if self.use_context:\n",
    "            messages.insert(1, 'history goes here')\n",
    "        prompt_template = ChatPromptTemplate.from_messages(messages)\n",
    "        chain = prompt_template | self.chat_model.model\n",
    "        if astream:\n",
    "            stream = chain.astream({'message': message})\n",
    "            return stream\n",
    "        else:\n",
    "            return chain.stream({'message': message})"
   ]
  },
  {
   "cell_type": "code",
   "execution_count": 56,
   "metadata": {},
   "outputs": [],
   "source": [
    "openai_chat_model = ChatOpenAI\n",
    "llm_chat_model = LLMChatModel(model_class=ChatOpenAI, model_args={'model_name': 'gpt-3.5-turbo'})"
   ]
  },
  {
   "cell_type": "code",
   "execution_count": 57,
   "metadata": {},
   "outputs": [],
   "source": [
    "chat = Chat(\n",
    "    chat_model=llm_chat_model,\n",
    "    system_message='You are a posh model that answers questions verbosely.')"
   ]
  },
  {
   "cell_type": "code",
   "execution_count": 173,
   "metadata": {},
   "outputs": [
    {
     "data": {
      "application/vnd.jupyter.widget-view+json": {
       "model_id": "a5c2600344054bfea3a91df8846abb00",
       "version_major": 2,
       "version_minor": 0
      },
      "text/plain": [
       "BokehModel(combine_events=True, render_bundle={'docs_json': {'7b91a5e7-4a10-42fc-83e8-9b1a58f2582e': {'version…"
      ]
     },
     "execution_count": 173,
     "metadata": {},
     "output_type": "execute_result"
    }
   ],
   "source": [
    "reply_stream = chat.generate_reply('what is the capital of the moon?', astream=True)\n",
    "md = pn.pane.Markdown('# ')\n",
    "cm = pn.chat.ChatMessage(md, user=\"Wise guy\", avatar=\"🤓\")\n",
    "cm"
   ]
  },
  {
   "cell_type": "code",
   "execution_count": 175,
   "metadata": {},
   "outputs": [],
   "source": [
    "async for token in reply_stream:\n",
    "    md.object += f' {token.content}'"
   ]
  },
  {
   "cell_type": "code",
   "execution_count": 90,
   "metadata": {},
   "outputs": [
    {
     "data": {
      "text/plain": [
       "async_generator"
      ]
     },
     "execution_count": 90,
     "metadata": {},
     "output_type": "execute_result"
    }
   ],
   "source": [
    "type(reply_stream)"
   ]
  },
  {
   "cell_type": "code",
   "execution_count": 170,
   "metadata": {},
   "outputs": [
    {
     "data": {
      "application/vnd.jupyter.widget-view+json": {
       "model_id": "2d711602b2f14389b94a6cc2e35bcf42",
       "version_major": 2,
       "version_minor": 0
      },
      "text/plain": [
       "BokehModel(combine_events=True, render_bundle={'docs_json': {'8c45e048-8a01-4e98-8bbf-f27c2bda892b': {'version…"
      ]
     },
     "execution_count": 170,
     "metadata": {},
     "output_type": "execute_result"
    }
   ],
   "source": [
    "md = pn.pane.Markdown('# HI')\n",
    "cm = pn.chat.ChatMessage(md, user=\"Wise guy\", avatar=\"🤓\")\n",
    "cm"
   ]
  },
  {
   "cell_type": "code",
   "execution_count": 10,
   "metadata": {},
   "outputs": [],
   "source": [
    "# View Layer\n",
    "class ChatView(Viewer):\n",
    "\n",
    "    def __init__(self, **kwargs):\n",
    "        super().__init__(**kwargs)\n",
    "        \n",
    "        self.chat_input = pn.chat.ChatAreaInput()\n",
    "        self.chat_feed = pn.chat.ChatFeed()\n",
    "        self.chat_send_button = pn.widgets.Button(name='Send')\n",
    "        self.chat_retrieve_switch = pn.widgets.Switch(name='Retrieve')\n",
    "        self.chat_list = pn.widgets.Select(options=['simple_rag', 'custom_rag'])\n",
    "        self.corpus_selector = pn.widgets.Select(options=['simple_rag', 'custom_rag'])\n",
    "        # self.CorpusParametersView = CorpusParametersView()\n",
    "        \n",
    "    \n",
    "    def __panel__(self):\n",
    "        return pn.Column(self.chat_feed, self.chat_input)"
   ]
  },
  {
   "cell_type": "code",
   "execution_count": null,
   "metadata": {},
   "outputs": [],
   "source": [
    "class ChatController(param.Parameterized):\n",
    "    chat_view = param."
   ]
  },
  {
   "cell_type": "code",
   "execution_count": null,
   "metadata": {},
   "outputs": [],
   "source": []
  },
  {
   "cell_type": "code",
   "execution_count": null,
   "metadata": {},
   "outputs": [],
   "source": [
    "class CorpusManager(param.Parameterized):\n",
    "    corpus_list = param.List(default=[])\n",
    "    selected_corpus = param.String()\n",
    "    \n",
    "    def __init__(self, **kwargs):\n",
    "        super().__init__(**kwargs)\n",
    "        \n",
    "        corpus_list = self.get_corpora()\n",
    "    \n",
    "    def get_corpora(self):\n",
    "        corpora_path = BASE_DIR / 'corpora'\n",
    "        return [f.name for f in corpora_path.iterdir() if f.is_dir()]\n",
    "        \n",
    "\n"
   ]
  },
  {
   "cell_type": "code",
   "execution_count": null,
   "metadata": {},
   "outputs": [],
   "source": []
  },
  {
   "cell_type": "markdown",
   "metadata": {},
   "source": [
    "## View Layer"
   ]
  },
  {
   "cell_type": "code",
   "execution_count": 11,
   "metadata": {},
   "outputs": [
    {
     "data": {
      "application/vnd.jupyter.widget-view+json": {
       "model_id": "53b44951e13945b9aff5e9545d1fbe85",
       "version_major": 2,
       "version_minor": 0
      },
      "text/plain": [
       "BokehModel(combine_events=True, render_bundle={'docs_json': {'9d07223d-8e03-49c3-a46f-cdfb05e194f2': {'version…"
      ]
     },
     "execution_count": 11,
     "metadata": {},
     "output_type": "execute_result"
    }
   ],
   "source": [
    "pn.panel(ChatView())"
   ]
  },
  {
   "cell_type": "code",
   "execution_count": null,
   "metadata": {},
   "outputs": [],
   "source": [
    "class RetrieverCreationView(Viewer):\n",
    "    def __init__(self, **kwargs):\n",
    "        super().__init__(**kwargs)\n",
    "        \n",
    "        self.retriever_type = pn.widgets.Select(options=['simple_rag', 'custom_rag'])\n",
    "        self.corpus_selector = pn.widgets.Select(options=['simple_rag', 'custom_rag'])\n",
    "        self.CorpusParametersView = CorpusParametersView()\n",
    "        \n",
    "    def __panel__(self):\n",
    "        return pn.Column(self.retriever_type, self.corpus_selector, self.CorpusParametersView)\n",
    "\n"
   ]
  },
  {
   "cell_type": "markdown",
   "metadata": {},
   "source": [
    "## Controller Layer"
   ]
  },
  {
   "cell_type": "code",
   "execution_count": null,
   "metadata": {},
   "outputs": [],
   "source": [
    "# Controller Layer\n",
    "class ChatController(param.Parameterized):\n",
    "    view = param.ClassSelector(class_=ChatView, is_instance=True)\n",
    "    model = param.ClassSelector(class_=BaseLanguageModel, is_instance=True)\n",
    "\n",
    "    def __panel__(self):\n",
    "        return self.view()"
   ]
  },
  {
   "cell_type": "code",
   "execution_count": 26,
   "metadata": {},
   "outputs": [
    {
     "data": {
      "application/vnd.jupyter.widget-view+json": {
       "model_id": "cb11267fe4ca4b708ea394e902ab4b9d",
       "version_major": 2,
       "version_minor": 0
      },
      "text/plain": [
       "BokehModel(combine_events=True, render_bundle={'docs_json': {'c0cc8570-7eb7-4dcb-9412-cd85afe5b670': {'version…"
      ]
     },
     "execution_count": 26,
     "metadata": {},
     "output_type": "execute_result"
    }
   ],
   "source": [
    "pn.panel(ChatInterface())"
   ]
  },
  {
   "cell_type": "code",
   "execution_count": 45,
   "metadata": {},
   "outputs": [
    {
     "name": "stdout",
     "output_type": "stream",
     "text": [
      "Launching server at http://localhost:35594\n"
     ]
    },
    {
     "data": {
      "text/plain": [
       "<panel.io.server.Server at 0x7f2567eb7110>"
      ]
     },
     "execution_count": 45,
     "metadata": {},
     "output_type": "execute_result"
    }
   ],
   "source": [
    "def on_click(event):\n",
    "    print(\"ChatMessage clicked!\")\n",
    "\n",
    "message = pn.chat.ChatMessage(pn.Row(pn.widgets.Button(name='click me', height=50), pn.pane.Markdown('# some test'), pn.widgets.Button(name='click me', height=50),  pn.pane.Markdown('# some test')))\n",
    "serve(message)"
   ]
  },
  {
   "cell_type": "code",
   "execution_count": 50,
   "metadata": {},
   "outputs": [
    {
     "data": {
      "application/vnd.jupyter.widget-view+json": {
       "model_id": "28b34e756c384a3cbd0aa67a615bf3fc",
       "version_major": 2,
       "version_minor": 0
      },
      "text/plain": [
       "BokehModel(combine_events=True, render_bundle={'docs_json': {'682c0bce-e79a-4b7f-9753-e8290db425be': {'version…"
      ]
     },
     "execution_count": 50,
     "metadata": {},
     "output_type": "execute_result"
    }
   ],
   "source": [
    "chat_feed.send('interior crocadile alligator')"
   ]
  },
  {
   "cell_type": "code",
   "execution_count": 48,
   "metadata": {},
   "outputs": [],
   "source": [
    "import asyncio"
   ]
  },
  {
   "cell_type": "code",
   "execution_count": 65,
   "metadata": {},
   "outputs": [
    {
     "data": {
      "application/vnd.jupyter.widget-view+json": {
       "model_id": "88a29f88d65844938c1e35eb4517e376",
       "version_major": 2,
       "version_minor": 0
      },
      "text/plain": [
       "BokehModel(combine_events=True, render_bundle={'docs_json': {'e465d4fe-140f-4671-8dac-d50f2ef73d36': {'version…"
      ]
     },
     "execution_count": 65,
     "metadata": {},
     "output_type": "execute_result"
    }
   ],
   "source": [
    "chat_feed = pn.chat.ChatFeed()\n",
    "\n",
    "# creates a new message\n",
    "message = chat_feed.stream(\"Hello\", user=\"Aspiring User\", avatar=\"🤓\")\n",
    "chat_feed"
   ]
  },
  {
   "cell_type": "code",
   "execution_count": 67,
   "metadata": {},
   "outputs": [],
   "source": [
    "# streams (appends) to the previous message\n",
    "message = chat_feed.stream(\n",
    "    'what is the capital of France?',\n",
    "    user=\"reeeee\",\n",
    "    avatar=\"🤓\",\n",
    "    message=message,\n",
    ")"
   ]
  },
  {
   "cell_type": "code",
   "execution_count": 64,
   "metadata": {},
   "outputs": [],
   "source": [
    "# streams (appends) to the previous message\n",
    "message = chat_feed.stream(\n",
    "    pn.pane.Markdown('is it me'),\n",
    "    user=\"reeeee\",\n",
    "    avatar=\"🤓\",\n",
    "    message=message,\n",
    ")"
   ]
  },
  {
   "cell_type": "markdown",
   "metadata": {},
   "source": [
    "# Project initialization scripts"
   ]
  },
  {
   "cell_type": "code",
   "execution_count": null,
   "metadata": {},
   "outputs": [],
   "source": []
  },
  {
   "cell_type": "code",
   "execution_count": null,
   "metadata": {},
   "outputs": [],
   "source": [
    "# cli.py\n",
    "\n",
    "import argparse\n",
    "\n",
    "def create_project():\n",
    "    \"\"\"Establishes a new project directory structure and config\"\"\"\n",
    "    parser = argparse.ArgumentParser(description='Initialize a new project')\n",
    "    parser.add_argument('name', type=str, help='Name of the project')\n",
    "    parser.add_argument('--include-examples', action='store_true', help='Include examples in the project')\n",
    "    args = parser.parse_args()\n",
    "\n",
    "    project_path = Path.cwd() / args.name\n",
    "    project_path.mkdir(parents=True, exist_ok=True)\n",
    "    \n",
    "    (project_path / \"corpora\").mkdir(exist_ok=True)\n",
    "    (project_path / \"retrievers\").mkdir(exist_ok=True)\n",
    "    (project_path / \"memory\").mkdir(exist_ok=True)\n",
    "    (project_path / \"files\").mkdir(exist_ok=True)\n",
    "    (project_path / \"retrieval_database\").mkdir(exist_ok=True)\n",
    "\n",
    "    with open(project_path / \"project.yaml\", 'w') as file:\n",
    "        yaml = YAML()\n",
    "        data = {'include_examples': args.include_examples}\n",
    "        yaml.dump(data, file)\n",
    "\n"
   ]
  },
  {
   "cell_type": "markdown",
   "metadata": {},
   "source": [
    "# App Creation"
   ]
  },
  {
   "cell_type": "code",
   "execution_count": null,
   "metadata": {},
   "outputs": [],
   "source": [
    "def app_run():\n",
    "    \n",
    "\n",
    "    pn.serve(app)\n",
    "\n"
   ]
  }
 ],
 "metadata": {
  "kernelspec": {
   "display_name": "RAGular",
   "language": "python",
   "name": "python3"
  },
  "language_info": {
   "codemirror_mode": {
    "name": "ipython",
    "version": 3
   },
   "file_extension": ".py",
   "mimetype": "text/x-python",
   "name": "python",
   "nbconvert_exporter": "python",
   "pygments_lexer": "ipython3",
   "version": "3.12.4"
  }
 },
 "nbformat": 4,
 "nbformat_minor": 2
}
