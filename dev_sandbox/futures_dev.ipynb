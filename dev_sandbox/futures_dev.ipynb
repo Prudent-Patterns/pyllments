{
 "cells": [
  {
   "cell_type": "code",
   "execution_count": null,
   "metadata": {},
   "outputs": [],
   "source": [
    "import asyncio\n",
    "\n",
    "# Example demonstrating asyncio.Future usage with sync and async code\n",
    "def process_data(future: asyncio.Future):\n",
    "    \"\"\"Simulates some synchronous processing and sets the future result\"\"\"\n",
    "    print(\"Processing data synchronously...\")\n",
    "    # Simulate some work\n",
    "    import time\n",
    "    time.sleep(2)\n",
    "    \n",
    "    # Set the result on the future\n",
    "    future.set_result(\"Data processed successfully!\")\n",
    "\n",
    "async def async_worker():\n",
    "    \"\"\"Demonstrates async usage of asyncio.Future\"\"\"\n",
    "    print(\"Starting async worker...\")\n",
    "    \n",
    "    # Create an asyncio Future\n",
    "    future = asyncio.Future()\n",
    "    \n",
    "    # Run the sync processing in executor to avoid blocking\n",
    "    loop = asyncio.get_event_loop()\n",
    "    await loop.run_in_executor(None, process_data, future)\n",
    "    \n",
    "    # Wait for and retrieve the future result\n",
    "    result = await future\n",
    "    print(f\"Future result received: {result}\")\n",
    "    return result\n",
    "\n",
    "async def main():\n",
    "    # Create multiple workers to demonstrate concurrent execution\n",
    "    worker1 = async_worker()\n",
    "    worker2 = async_worker()\n",
    "    \n",
    "    # Wait for both workers to complete\n",
    "    results = await asyncio.gather(worker1, worker2)\n",
    "    print(\"\\nAll results:\", results)\n",
    "\n",
    "# Run the example\n",
    "await main()\n",
    "\n",
    "\n"
   ]
  }
 ],
 "metadata": {
  "language_info": {
   "name": "python"
  }
 },
 "nbformat": 4,
 "nbformat_minor": 2
}
