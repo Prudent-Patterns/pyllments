{
 "cells": [
  {
   "cell_type": "markdown",
   "metadata": {},
   "source": [
    "# Load"
   ]
  },
  {
   "cell_type": "code",
   "execution_count": 1,
   "metadata": {},
   "outputs": [
    {
     "data": {
      "application/javascript": "(function(root) {\n  function now() {\n    return new Date();\n  }\n\n  var force = true;\n  var py_version = '3.4.1'.replace('rc', '-rc.').replace('.dev', '-dev.');\n  var reloading = false;\n  var Bokeh = root.Bokeh;\n\n  if (typeof (root._bokeh_timeout) === \"undefined\" || force) {\n    root._bokeh_timeout = Date.now() + 5000;\n    root._bokeh_failed_load = false;\n  }\n\n  function run_callbacks() {\n    try {\n      root._bokeh_onload_callbacks.forEach(function(callback) {\n        if (callback != null)\n          callback();\n      });\n    } finally {\n      delete root._bokeh_onload_callbacks;\n    }\n    console.debug(\"Bokeh: all callbacks have finished\");\n  }\n\n  function load_libs(css_urls, js_urls, js_modules, js_exports, callback) {\n    if (css_urls == null) css_urls = [];\n    if (js_urls == null) js_urls = [];\n    if (js_modules == null) js_modules = [];\n    if (js_exports == null) js_exports = {};\n\n    root._bokeh_onload_callbacks.push(callback);\n\n    if (root._bokeh_is_loading > 0) {\n      console.debug(\"Bokeh: BokehJS is being loaded, scheduling callback at\", now());\n      return null;\n    }\n    if (js_urls.length === 0 && js_modules.length === 0 && Object.keys(js_exports).length === 0) {\n      run_callbacks();\n      return null;\n    }\n    if (!reloading) {\n      console.debug(\"Bokeh: BokehJS not loaded, scheduling load and callback at\", now());\n    }\n\n    function on_load() {\n      root._bokeh_is_loading--;\n      if (root._bokeh_is_loading === 0) {\n        console.debug(\"Bokeh: all BokehJS libraries/stylesheets loaded\");\n        run_callbacks()\n      }\n    }\n    window._bokeh_on_load = on_load\n\n    function on_error() {\n      console.error(\"failed to load \" + url);\n    }\n\n    var skip = [];\n    if (window.requirejs) {\n      window.requirejs.config({'packages': {}, 'paths': {}, 'shim': {}});\n      root._bokeh_is_loading = css_urls.length + 0;\n    } else {\n      root._bokeh_is_loading = css_urls.length + js_urls.length + js_modules.length + Object.keys(js_exports).length;\n    }\n\n    var existing_stylesheets = []\n    var links = document.getElementsByTagName('link')\n    for (var i = 0; i < links.length; i++) {\n      var link = links[i]\n      if (link.href != null) {\n\texisting_stylesheets.push(link.href)\n      }\n    }\n    for (var i = 0; i < css_urls.length; i++) {\n      var url = css_urls[i];\n      if (existing_stylesheets.indexOf(url) !== -1) {\n\ton_load()\n\tcontinue;\n      }\n      const element = document.createElement(\"link\");\n      element.onload = on_load;\n      element.onerror = on_error;\n      element.rel = \"stylesheet\";\n      element.type = \"text/css\";\n      element.href = url;\n      console.debug(\"Bokeh: injecting link tag for BokehJS stylesheet: \", url);\n      document.body.appendChild(element);\n    }    var existing_scripts = []\n    var scripts = document.getElementsByTagName('script')\n    for (var i = 0; i < scripts.length; i++) {\n      var script = scripts[i]\n      if (script.src != null) {\n\texisting_scripts.push(script.src)\n      }\n    }\n    for (var i = 0; i < js_urls.length; i++) {\n      var url = js_urls[i];\n      if (skip.indexOf(url) !== -1 || existing_scripts.indexOf(url) !== -1) {\n\tif (!window.requirejs) {\n\t  on_load();\n\t}\n\tcontinue;\n      }\n      var element = document.createElement('script');\n      element.onload = on_load;\n      element.onerror = on_error;\n      element.async = false;\n      element.src = url;\n      console.debug(\"Bokeh: injecting script tag for BokehJS library: \", url);\n      document.head.appendChild(element);\n    }\n    for (var i = 0; i < js_modules.length; i++) {\n      var url = js_modules[i];\n      if (skip.indexOf(url) !== -1 || existing_scripts.indexOf(url) !== -1) {\n\tif (!window.requirejs) {\n\t  on_load();\n\t}\n\tcontinue;\n      }\n      var element = document.createElement('script');\n      element.onload = on_load;\n      element.onerror = on_error;\n      element.async = false;\n      element.src = url;\n      element.type = \"module\";\n      console.debug(\"Bokeh: injecting script tag for BokehJS library: \", url);\n      document.head.appendChild(element);\n    }\n    for (const name in js_exports) {\n      var url = js_exports[name];\n      if (skip.indexOf(url) >= 0 || root[name] != null) {\n\tif (!window.requirejs) {\n\t  on_load();\n\t}\n\tcontinue;\n      }\n      var element = document.createElement('script');\n      element.onerror = on_error;\n      element.async = false;\n      element.type = \"module\";\n      console.debug(\"Bokeh: injecting script tag for BokehJS library: \", url);\n      element.textContent = `\n      import ${name} from \"${url}\"\n      window.${name} = ${name}\n      window._bokeh_on_load()\n      `\n      document.head.appendChild(element);\n    }\n    if (!js_urls.length && !js_modules.length) {\n      on_load()\n    }\n  };\n\n  function inject_raw_css(css) {\n    const element = document.createElement(\"style\");\n    element.appendChild(document.createTextNode(css));\n    document.body.appendChild(element);\n  }\n\n  var js_urls = [\"https://cdn.bokeh.org/bokeh/release/bokeh-3.4.1.min.js\", \"https://cdn.bokeh.org/bokeh/release/bokeh-gl-3.4.1.min.js\", \"https://cdn.bokeh.org/bokeh/release/bokeh-widgets-3.4.1.min.js\", \"https://cdn.bokeh.org/bokeh/release/bokeh-tables-3.4.1.min.js\", \"https://cdn.holoviz.org/panel/1.4.4/dist/panel.min.js\"];\n  var js_modules = [];\n  var js_exports = {};\n  var css_urls = [];\n  var inline_js = [    function(Bokeh) {\n      Bokeh.set_log_level(\"info\");\n    },\nfunction(Bokeh) {} // ensure no trailing comma for IE\n  ];\n\n  function run_inline_js() {\n    if ((root.Bokeh !== undefined) || (force === true)) {\n      for (var i = 0; i < inline_js.length; i++) {\n\ttry {\n          inline_js[i].call(root, root.Bokeh);\n\t} catch(e) {\n\t  if (!reloading) {\n\t    throw e;\n\t  }\n\t}\n      }\n      // Cache old bokeh versions\n      if (Bokeh != undefined && !reloading) {\n\tvar NewBokeh = root.Bokeh;\n\tif (Bokeh.versions === undefined) {\n\t  Bokeh.versions = new Map();\n\t}\n\tif (NewBokeh.version !== Bokeh.version) {\n\t  Bokeh.versions.set(NewBokeh.version, NewBokeh)\n\t}\n\troot.Bokeh = Bokeh;\n      }} else if (Date.now() < root._bokeh_timeout) {\n      setTimeout(run_inline_js, 100);\n    } else if (!root._bokeh_failed_load) {\n      console.log(\"Bokeh: BokehJS failed to load within specified timeout.\");\n      root._bokeh_failed_load = true;\n    }\n    root._bokeh_is_initializing = false\n  }\n\n  function load_or_wait() {\n    // Implement a backoff loop that tries to ensure we do not load multiple\n    // versions of Bokeh and its dependencies at the same time.\n    // In recent versions we use the root._bokeh_is_initializing flag\n    // to determine whether there is an ongoing attempt to initialize\n    // bokeh, however for backward compatibility we also try to ensure\n    // that we do not start loading a newer (Panel>=1.0 and Bokeh>3) version\n    // before older versions are fully initialized.\n    if (root._bokeh_is_initializing && Date.now() > root._bokeh_timeout) {\n      root._bokeh_is_initializing = false;\n      root._bokeh_onload_callbacks = undefined;\n      console.log(\"Bokeh: BokehJS was loaded multiple times but one version failed to initialize.\");\n      load_or_wait();\n    } else if (root._bokeh_is_initializing || (typeof root._bokeh_is_initializing === \"undefined\" && root._bokeh_onload_callbacks !== undefined)) {\n      setTimeout(load_or_wait, 100);\n    } else {\n      root._bokeh_is_initializing = true\n      root._bokeh_onload_callbacks = []\n      var bokeh_loaded = Bokeh != null && (Bokeh.version === py_version || (Bokeh.versions !== undefined && Bokeh.versions.has(py_version)));\n      if (!reloading && !bokeh_loaded) {\n\troot.Bokeh = undefined;\n      }\n      load_libs(css_urls, js_urls, js_modules, js_exports, function() {\n\tconsole.debug(\"Bokeh: BokehJS plotting callback run at\", now());\n\trun_inline_js();\n      });\n    }\n  }\n  // Give older versions of the autoload script a head-start to ensure\n  // they initialize before we start loading newer version.\n  setTimeout(load_or_wait, 100)\n}(window));",
      "application/vnd.holoviews_load.v0+json": ""
     },
     "metadata": {},
     "output_type": "display_data"
    },
    {
     "data": {
      "application/javascript": "\nif ((window.PyViz === undefined) || (window.PyViz instanceof HTMLElement)) {\n  window.PyViz = {comms: {}, comm_status:{}, kernels:{}, receivers: {}, plot_index: []}\n}\n\n\n    function JupyterCommManager() {\n    }\n\n    JupyterCommManager.prototype.register_target = function(plot_id, comm_id, msg_handler) {\n      if (window.comm_manager || ((window.Jupyter !== undefined) && (Jupyter.notebook.kernel != null))) {\n        var comm_manager = window.comm_manager || Jupyter.notebook.kernel.comm_manager;\n        comm_manager.register_target(comm_id, function(comm) {\n          comm.on_msg(msg_handler);\n        });\n      } else if ((plot_id in window.PyViz.kernels) && (window.PyViz.kernels[plot_id])) {\n        window.PyViz.kernels[plot_id].registerCommTarget(comm_id, function(comm) {\n          comm.onMsg = msg_handler;\n        });\n      } else if (typeof google != 'undefined' && google.colab.kernel != null) {\n        google.colab.kernel.comms.registerTarget(comm_id, (comm) => {\n          var messages = comm.messages[Symbol.asyncIterator]();\n          function processIteratorResult(result) {\n            var message = result.value;\n            console.log(message)\n            var content = {data: message.data, comm_id};\n            var buffers = []\n            for (var buffer of message.buffers || []) {\n              buffers.push(new DataView(buffer))\n            }\n            var metadata = message.metadata || {};\n            var msg = {content, buffers, metadata}\n            msg_handler(msg);\n            return messages.next().then(processIteratorResult);\n          }\n          return messages.next().then(processIteratorResult);\n        })\n      }\n    }\n\n    JupyterCommManager.prototype.get_client_comm = function(plot_id, comm_id, msg_handler) {\n      if (comm_id in window.PyViz.comms) {\n        return window.PyViz.comms[comm_id];\n      } else if (window.comm_manager || ((window.Jupyter !== undefined) && (Jupyter.notebook.kernel != null))) {\n        var comm_manager = window.comm_manager || Jupyter.notebook.kernel.comm_manager;\n        var comm = comm_manager.new_comm(comm_id, {}, {}, {}, comm_id);\n        if (msg_handler) {\n          comm.on_msg(msg_handler);\n        }\n      } else if ((plot_id in window.PyViz.kernels) && (window.PyViz.kernels[plot_id])) {\n        var comm = window.PyViz.kernels[plot_id].connectToComm(comm_id);\n        comm.open();\n        if (msg_handler) {\n          comm.onMsg = msg_handler;\n        }\n      } else if (typeof google != 'undefined' && google.colab.kernel != null) {\n        var comm_promise = google.colab.kernel.comms.open(comm_id)\n        comm_promise.then((comm) => {\n          window.PyViz.comms[comm_id] = comm;\n          if (msg_handler) {\n            var messages = comm.messages[Symbol.asyncIterator]();\n            function processIteratorResult(result) {\n              var message = result.value;\n              var content = {data: message.data};\n              var metadata = message.metadata || {comm_id};\n              var msg = {content, metadata}\n              msg_handler(msg);\n              return messages.next().then(processIteratorResult);\n            }\n            return messages.next().then(processIteratorResult);\n          }\n        }) \n        var sendClosure = (data, metadata, buffers, disposeOnDone) => {\n          return comm_promise.then((comm) => {\n            comm.send(data, metadata, buffers, disposeOnDone);\n          });\n        };\n        var comm = {\n          send: sendClosure\n        };\n      }\n      window.PyViz.comms[comm_id] = comm;\n      return comm;\n    }\n    window.PyViz.comm_manager = new JupyterCommManager();\n    \n\n\nvar JS_MIME_TYPE = 'application/javascript';\nvar HTML_MIME_TYPE = 'text/html';\nvar EXEC_MIME_TYPE = 'application/vnd.holoviews_exec.v0+json';\nvar CLASS_NAME = 'output';\n\n/**\n * Render data to the DOM node\n */\nfunction render(props, node) {\n  var div = document.createElement(\"div\");\n  var script = document.createElement(\"script\");\n  node.appendChild(div);\n  node.appendChild(script);\n}\n\n/**\n * Handle when a new output is added\n */\nfunction handle_add_output(event, handle) {\n  var output_area = handle.output_area;\n  var output = handle.output;\n  if ((output.data == undefined) || (!output.data.hasOwnProperty(EXEC_MIME_TYPE))) {\n    return\n  }\n  var id = output.metadata[EXEC_MIME_TYPE][\"id\"];\n  var toinsert = output_area.element.find(\".\" + CLASS_NAME.split(' ')[0]);\n  if (id !== undefined) {\n    var nchildren = toinsert.length;\n    var html_node = toinsert[nchildren-1].children[0];\n    html_node.innerHTML = output.data[HTML_MIME_TYPE];\n    var scripts = [];\n    var nodelist = html_node.querySelectorAll(\"script\");\n    for (var i in nodelist) {\n      if (nodelist.hasOwnProperty(i)) {\n        scripts.push(nodelist[i])\n      }\n    }\n\n    scripts.forEach( function (oldScript) {\n      var newScript = document.createElement(\"script\");\n      var attrs = [];\n      var nodemap = oldScript.attributes;\n      for (var j in nodemap) {\n        if (nodemap.hasOwnProperty(j)) {\n          attrs.push(nodemap[j])\n        }\n      }\n      attrs.forEach(function(attr) { newScript.setAttribute(attr.name, attr.value) });\n      newScript.appendChild(document.createTextNode(oldScript.innerHTML));\n      oldScript.parentNode.replaceChild(newScript, oldScript);\n    });\n    if (JS_MIME_TYPE in output.data) {\n      toinsert[nchildren-1].children[1].textContent = output.data[JS_MIME_TYPE];\n    }\n    output_area._hv_plot_id = id;\n    if ((window.Bokeh !== undefined) && (id in Bokeh.index)) {\n      window.PyViz.plot_index[id] = Bokeh.index[id];\n    } else {\n      window.PyViz.plot_index[id] = null;\n    }\n  } else if (output.metadata[EXEC_MIME_TYPE][\"server_id\"] !== undefined) {\n    var bk_div = document.createElement(\"div\");\n    bk_div.innerHTML = output.data[HTML_MIME_TYPE];\n    var script_attrs = bk_div.children[0].attributes;\n    for (var i = 0; i < script_attrs.length; i++) {\n      toinsert[toinsert.length - 1].childNodes[1].setAttribute(script_attrs[i].name, script_attrs[i].value);\n    }\n    // store reference to server id on output_area\n    output_area._bokeh_server_id = output.metadata[EXEC_MIME_TYPE][\"server_id\"];\n  }\n}\n\n/**\n * Handle when an output is cleared or removed\n */\nfunction handle_clear_output(event, handle) {\n  var id = handle.cell.output_area._hv_plot_id;\n  var server_id = handle.cell.output_area._bokeh_server_id;\n  if (((id === undefined) || !(id in PyViz.plot_index)) && (server_id !== undefined)) { return; }\n  var comm = window.PyViz.comm_manager.get_client_comm(\"hv-extension-comm\", \"hv-extension-comm\", function () {});\n  if (server_id !== null) {\n    comm.send({event_type: 'server_delete', 'id': server_id});\n    return;\n  } else if (comm !== null) {\n    comm.send({event_type: 'delete', 'id': id});\n  }\n  delete PyViz.plot_index[id];\n  if ((window.Bokeh !== undefined) & (id in window.Bokeh.index)) {\n    var doc = window.Bokeh.index[id].model.document\n    doc.clear();\n    const i = window.Bokeh.documents.indexOf(doc);\n    if (i > -1) {\n      window.Bokeh.documents.splice(i, 1);\n    }\n  }\n}\n\n/**\n * Handle kernel restart event\n */\nfunction handle_kernel_cleanup(event, handle) {\n  delete PyViz.comms[\"hv-extension-comm\"];\n  window.PyViz.plot_index = {}\n}\n\n/**\n * Handle update_display_data messages\n */\nfunction handle_update_output(event, handle) {\n  handle_clear_output(event, {cell: {output_area: handle.output_area}})\n  handle_add_output(event, handle)\n}\n\nfunction register_renderer(events, OutputArea) {\n  function append_mime(data, metadata, element) {\n    // create a DOM node to render to\n    var toinsert = this.create_output_subarea(\n    metadata,\n    CLASS_NAME,\n    EXEC_MIME_TYPE\n    );\n    this.keyboard_manager.register_events(toinsert);\n    // Render to node\n    var props = {data: data, metadata: metadata[EXEC_MIME_TYPE]};\n    render(props, toinsert[0]);\n    element.append(toinsert);\n    return toinsert\n  }\n\n  events.on('output_added.OutputArea', handle_add_output);\n  events.on('output_updated.OutputArea', handle_update_output);\n  events.on('clear_output.CodeCell', handle_clear_output);\n  events.on('delete.Cell', handle_clear_output);\n  events.on('kernel_ready.Kernel', handle_kernel_cleanup);\n\n  OutputArea.prototype.register_mime_type(EXEC_MIME_TYPE, append_mime, {\n    safe: true,\n    index: 0\n  });\n}\n\nif (window.Jupyter !== undefined) {\n  try {\n    var events = require('base/js/events');\n    var OutputArea = require('notebook/js/outputarea').OutputArea;\n    if (OutputArea.prototype.mime_types().indexOf(EXEC_MIME_TYPE) == -1) {\n      register_renderer(events, OutputArea);\n    }\n  } catch(err) {\n  }\n}\n",
      "application/vnd.holoviews_load.v0+json": ""
     },
     "metadata": {},
     "output_type": "display_data"
    },
    {
     "data": {
      "text/html": [
       "<style>*[data-root-id],\n",
       "*[data-root-id] > * {\n",
       "  box-sizing: border-box;\n",
       "  font-family: var(--jp-ui-font-family);\n",
       "  font-size: var(--jp-ui-font-size1);\n",
       "  color: var(--vscode-editor-foreground, var(--jp-ui-font-color1));\n",
       "}\n",
       "\n",
       "/* Override VSCode background color */\n",
       ".cell-output-ipywidget-background:has(\n",
       "    > .cell-output-ipywidget-background > .lm-Widget > *[data-root-id]\n",
       "  ),\n",
       ".cell-output-ipywidget-background:has(> .lm-Widget > *[data-root-id]) {\n",
       "  background-color: transparent !important;\n",
       "}\n",
       "</style>"
      ]
     },
     "metadata": {},
     "output_type": "display_data"
    },
    {
     "data": {
      "application/vnd.holoviews_exec.v0+json": "",
      "text/html": [
       "<div id='3c7da006-d1b3-4b2b-9f37-7c130a0c53c1'>\n",
       "  <div id=\"f5b597b8-a361-44d3-96d3-2d8e354782a2\" data-root-id=\"3c7da006-d1b3-4b2b-9f37-7c130a0c53c1\" style=\"display: contents;\"></div>\n",
       "</div>\n",
       "<script type=\"application/javascript\">(function(root) {\n",
       "  var docs_json = {\"bd99cc14-888c-479c-92a0-8635bc73e0a1\":{\"version\":\"3.4.1\",\"title\":\"Bokeh Application\",\"roots\":[{\"type\":\"object\",\"name\":\"panel.models.browser.BrowserInfo\",\"id\":\"3c7da006-d1b3-4b2b-9f37-7c130a0c53c1\"},{\"type\":\"object\",\"name\":\"panel.models.comm_manager.CommManager\",\"id\":\"3a76f4ad-eb0a-4227-af03-57ff5f6dd367\",\"attributes\":{\"plot_id\":\"3c7da006-d1b3-4b2b-9f37-7c130a0c53c1\",\"comm_id\":\"d8511cdff37f423da88407d6a7391237\",\"client_comm_id\":\"4067bc2ca6e949078f3f0609dbc531ce\"}}],\"defs\":[{\"type\":\"model\",\"name\":\"ReactiveHTML1\"},{\"type\":\"model\",\"name\":\"FlexBox1\",\"properties\":[{\"name\":\"align_content\",\"kind\":\"Any\",\"default\":\"flex-start\"},{\"name\":\"align_items\",\"kind\":\"Any\",\"default\":\"flex-start\"},{\"name\":\"flex_direction\",\"kind\":\"Any\",\"default\":\"row\"},{\"name\":\"flex_wrap\",\"kind\":\"Any\",\"default\":\"wrap\"},{\"name\":\"gap\",\"kind\":\"Any\",\"default\":\"\"},{\"name\":\"justify_content\",\"kind\":\"Any\",\"default\":\"flex-start\"}]},{\"type\":\"model\",\"name\":\"FloatPanel1\",\"properties\":[{\"name\":\"config\",\"kind\":\"Any\",\"default\":{\"type\":\"map\"}},{\"name\":\"contained\",\"kind\":\"Any\",\"default\":true},{\"name\":\"position\",\"kind\":\"Any\",\"default\":\"right-top\"},{\"name\":\"offsetx\",\"kind\":\"Any\",\"default\":null},{\"name\":\"offsety\",\"kind\":\"Any\",\"default\":null},{\"name\":\"theme\",\"kind\":\"Any\",\"default\":\"primary\"},{\"name\":\"status\",\"kind\":\"Any\",\"default\":\"normalized\"}]},{\"type\":\"model\",\"name\":\"GridStack1\",\"properties\":[{\"name\":\"mode\",\"kind\":\"Any\",\"default\":\"warn\"},{\"name\":\"ncols\",\"kind\":\"Any\",\"default\":null},{\"name\":\"nrows\",\"kind\":\"Any\",\"default\":null},{\"name\":\"allow_resize\",\"kind\":\"Any\",\"default\":true},{\"name\":\"allow_drag\",\"kind\":\"Any\",\"default\":true},{\"name\":\"state\",\"kind\":\"Any\",\"default\":[]}]},{\"type\":\"model\",\"name\":\"drag1\",\"properties\":[{\"name\":\"slider_width\",\"kind\":\"Any\",\"default\":5},{\"name\":\"slider_color\",\"kind\":\"Any\",\"default\":\"black\"},{\"name\":\"value\",\"kind\":\"Any\",\"default\":50}]},{\"type\":\"model\",\"name\":\"click1\",\"properties\":[{\"name\":\"terminal_output\",\"kind\":\"Any\",\"default\":\"\"},{\"name\":\"debug_name\",\"kind\":\"Any\",\"default\":\"\"},{\"name\":\"clears\",\"kind\":\"Any\",\"default\":0}]},{\"type\":\"model\",\"name\":\"FastWrapper1\",\"properties\":[{\"name\":\"object\",\"kind\":\"Any\",\"default\":null},{\"name\":\"style\",\"kind\":\"Any\",\"default\":null}]},{\"type\":\"model\",\"name\":\"NotificationAreaBase1\",\"properties\":[{\"name\":\"js_events\",\"kind\":\"Any\",\"default\":{\"type\":\"map\"}},{\"name\":\"position\",\"kind\":\"Any\",\"default\":\"bottom-right\"},{\"name\":\"_clear\",\"kind\":\"Any\",\"default\":0}]},{\"type\":\"model\",\"name\":\"NotificationArea1\",\"properties\":[{\"name\":\"js_events\",\"kind\":\"Any\",\"default\":{\"type\":\"map\"}},{\"name\":\"notifications\",\"kind\":\"Any\",\"default\":[]},{\"name\":\"position\",\"kind\":\"Any\",\"default\":\"bottom-right\"},{\"name\":\"_clear\",\"kind\":\"Any\",\"default\":0},{\"name\":\"types\",\"kind\":\"Any\",\"default\":[{\"type\":\"map\",\"entries\":[[\"type\",\"warning\"],[\"background\",\"#ffc107\"],[\"icon\",{\"type\":\"map\",\"entries\":[[\"className\",\"fas fa-exclamation-triangle\"],[\"tagName\",\"i\"],[\"color\",\"white\"]]}]]},{\"type\":\"map\",\"entries\":[[\"type\",\"info\"],[\"background\",\"#007bff\"],[\"icon\",{\"type\":\"map\",\"entries\":[[\"className\",\"fas fa-info-circle\"],[\"tagName\",\"i\"],[\"color\",\"white\"]]}]]}]}]},{\"type\":\"model\",\"name\":\"Notification\",\"properties\":[{\"name\":\"background\",\"kind\":\"Any\",\"default\":null},{\"name\":\"duration\",\"kind\":\"Any\",\"default\":3000},{\"name\":\"icon\",\"kind\":\"Any\",\"default\":null},{\"name\":\"message\",\"kind\":\"Any\",\"default\":\"\"},{\"name\":\"notification_type\",\"kind\":\"Any\",\"default\":null},{\"name\":\"_destroyed\",\"kind\":\"Any\",\"default\":false}]},{\"type\":\"model\",\"name\":\"TemplateActions1\",\"properties\":[{\"name\":\"open_modal\",\"kind\":\"Any\",\"default\":0},{\"name\":\"close_modal\",\"kind\":\"Any\",\"default\":0}]},{\"type\":\"model\",\"name\":\"BootstrapTemplateActions1\",\"properties\":[{\"name\":\"open_modal\",\"kind\":\"Any\",\"default\":0},{\"name\":\"close_modal\",\"kind\":\"Any\",\"default\":0}]},{\"type\":\"model\",\"name\":\"TemplateEditor1\",\"properties\":[{\"name\":\"layout\",\"kind\":\"Any\",\"default\":[]}]},{\"type\":\"model\",\"name\":\"MaterialTemplateActions1\",\"properties\":[{\"name\":\"open_modal\",\"kind\":\"Any\",\"default\":0},{\"name\":\"close_modal\",\"kind\":\"Any\",\"default\":0}]},{\"type\":\"model\",\"name\":\"copy_to_clipboard1\",\"properties\":[{\"name\":\"fill\",\"kind\":\"Any\",\"default\":\"none\"},{\"name\":\"value\",\"kind\":\"Any\",\"default\":null}]}]}};\n",
       "  var render_items = [{\"docid\":\"bd99cc14-888c-479c-92a0-8635bc73e0a1\",\"roots\":{\"3c7da006-d1b3-4b2b-9f37-7c130a0c53c1\":\"f5b597b8-a361-44d3-96d3-2d8e354782a2\"},\"root_ids\":[\"3c7da006-d1b3-4b2b-9f37-7c130a0c53c1\"]}];\n",
       "  var docs = Object.values(docs_json)\n",
       "  if (!docs) {\n",
       "    return\n",
       "  }\n",
       "  const py_version = docs[0].version.replace('rc', '-rc.').replace('.dev', '-dev.')\n",
       "  async function embed_document(root) {\n",
       "    var Bokeh = get_bokeh(root)\n",
       "    await Bokeh.embed.embed_items_notebook(docs_json, render_items);\n",
       "    for (const render_item of render_items) {\n",
       "      for (const root_id of render_item.root_ids) {\n",
       "\tconst id_el = document.getElementById(root_id)\n",
       "\tif (id_el.children.length && id_el.children[0].hasAttribute('data-root-id')) {\n",
       "\t  const root_el = id_el.children[0]\n",
       "\t  root_el.id = root_el.id + '-rendered'\n",
       "\t  for (const child of root_el.children) {\n",
       "            // Ensure JupyterLab does not capture keyboard shortcuts\n",
       "            // see: https://jupyterlab.readthedocs.io/en/4.1.x/extension/notebook.html#keyboard-interaction-model\n",
       "\t    child.setAttribute('data-lm-suppress-shortcuts', 'true')\n",
       "\t  }\n",
       "\t}\n",
       "      }\n",
       "    }\n",
       "  }\n",
       "  function get_bokeh(root) {\n",
       "    if (root.Bokeh === undefined) {\n",
       "      return null\n",
       "    } else if (root.Bokeh.version !== py_version) {\n",
       "      if (root.Bokeh.versions === undefined || !root.Bokeh.versions.has(py_version)) {\n",
       "\treturn null\n",
       "      }\n",
       "      return root.Bokeh.versions.get(py_version);\n",
       "    } else if (root.Bokeh.version === py_version) {\n",
       "      return root.Bokeh\n",
       "    }\n",
       "    return null\n",
       "  }\n",
       "  function is_loaded(root) {\n",
       "    var Bokeh = get_bokeh(root)\n",
       "    return (Bokeh != null && Bokeh.Panel !== undefined)\n",
       "  }\n",
       "  if (is_loaded(root)) {\n",
       "    embed_document(root);\n",
       "  } else {\n",
       "    var attempts = 0;\n",
       "    var timer = setInterval(function(root) {\n",
       "      if (is_loaded(root)) {\n",
       "        clearInterval(timer);\n",
       "        embed_document(root);\n",
       "      } else if (document.readyState == \"complete\") {\n",
       "        attempts++;\n",
       "        if (attempts > 200) {\n",
       "          clearInterval(timer);\n",
       "\t  var Bokeh = get_bokeh(root)\n",
       "\t  if (Bokeh == null || Bokeh.Panel == null) {\n",
       "            console.warn(\"Panel: ERROR: Unable to run Panel code because Bokeh or Panel library is missing\");\n",
       "\t  } else {\n",
       "\t    console.warn(\"Panel: WARNING: Attempting to render but not all required libraries could be resolved.\")\n",
       "\t    embed_document(root)\n",
       "\t  }\n",
       "        }\n",
       "      }\n",
       "    }, 25, root)\n",
       "  }\n",
       "})(window);</script>"
      ]
     },
     "metadata": {
      "application/vnd.holoviews_exec.v0+json": {
       "id": "3c7da006-d1b3-4b2b-9f37-7c130a0c53c1"
      }
     },
     "output_type": "display_data"
    }
   ],
   "source": [
    "import panel as pn\n",
    "from dotenv import load_dotenv\n",
    "import param\n",
    "\n",
    "import sys\n",
    "sys.path.append('..')\n",
    "\n",
    "load_dotenv()\n",
    "\n",
    "pn.extension()"
   ]
  },
  {
   "cell_type": "markdown",
   "metadata": {},
   "source": [
    "# Lance Playground"
   ]
  },
  {
   "cell_type": "code",
   "execution_count": 2,
   "metadata": {},
   "outputs": [],
   "source": [
    "import lancedb\n",
    "import pandas as pd\n",
    "import pyarrow as pa\n",
    "\n",
    "uri = \"data/sample-lancedb\"\n",
    "db = lancedb.connect(uri)\n",
    "\n",
    "# LanceDb offers both a synchronous and an asynchronous client.  There are still a\n",
    "# few operations that are only supported by the synchronous client (e.g. embedding\n",
    "# functions, full text search) but both APIs should soon be equivalent\n",
    "\n",
    "# In this guide we will give examples of both clients.  In other guides we will\n",
    "# typically only provide examples with one client or the other.\n",
    "# uri = \"data/sample-lancedb\"\n",
    "# async_db = await lancedb.connect_async(uri)"
   ]
  },
  {
   "cell_type": "code",
   "execution_count": 16,
   "metadata": {},
   "outputs": [],
   "source": [
    "data = [\n",
    "    {\"vector\": [3.1, 4.1], \"item\": \"foo\", \"price\": 10.0},\n",
    "    {\"vector\": [5.9, 26.5], \"item\": \"bar\", \"price\": 20.0},\n",
    "]\n",
    "\n",
    "# Synchronous client\n",
    "tbl = db.create_table(\"my_table_test\", data=data, exist_ok=True)\n",
    "# Asynchronous client\n",
    "# async_tbl = await async_db.create_table(\"my_table2\", data=data)"
   ]
  },
  {
   "cell_type": "code",
   "execution_count": 20,
   "metadata": {},
   "outputs": [
    {
     "name": "stdout",
     "output_type": "stream",
     "text": [
      "\u001b[0;31mType:\u001b[0m        LanceTable\n",
      "\u001b[0;31mString form:\u001b[0m LanceTable(connection=LanceDBConnection(/workspaces/pyllments/dev_sandbox/data/sample-lancedb), name=\"my_table_test\")\n",
      "\u001b[0;31mLength:\u001b[0m      2\n",
      "\u001b[0;31mFile:\u001b[0m        ~/miniconda3/envs/pyllments/lib/python3.12/site-packages/lancedb/table.py\n",
      "\u001b[0;31mDocstring:\u001b[0m  \n",
      "A table in a LanceDB database.\n",
      "\n",
      "This can be opened in two modes: standard and time-travel.\n",
      "\n",
      "Standard mode is the default. In this mode, the table is mutable and tracks\n",
      "the latest version of the table. The level of read consistency is controlled\n",
      "by the `read_consistency_interval` parameter on the connection.\n",
      "\n",
      "Time-travel mode is activated by specifying a version number. In this mode,\n",
      "the table is immutable and fixed to a specific version. This is useful for\n",
      "querying historical versions of the table."
     ]
    }
   ],
   "source": [
    "tbl.to_lance"
   ]
  },
  {
   "cell_type": "code",
   "execution_count": 5,
   "metadata": {},
   "outputs": [
    {
     "ename": "AttributeError",
     "evalue": "'AsyncConnection' object has no attribute 'url'",
     "output_type": "error",
     "traceback": [
      "\u001b[0;31m---------------------------------------------------------------------------\u001b[0m",
      "\u001b[0;31mAttributeError\u001b[0m                            Traceback (most recent call last)",
      "Cell \u001b[0;32mIn[5], line 1\u001b[0m\n\u001b[0;32m----> 1\u001b[0m async_db\u001b[38;5;241m.\u001b[39murl()\n",
      "\u001b[0;31mAttributeError\u001b[0m: 'AsyncConnection' object has no attribute 'url'"
     ]
    }
   ],
   "source": [
    "async_db.op"
   ]
  },
  {
   "cell_type": "code",
   "execution_count": 22,
   "metadata": {},
   "outputs": [],
   "source": [
    "import duckdb\n",
    "tbl = tbl.to_lance()"
   ]
  },
  {
   "cell_type": "code",
   "execution_count": 34,
   "metadata": {},
   "outputs": [],
   "source": [
    "sample = tbl.sample(2)\n",
    "# Main"
   ]
  },
  {
   "cell_type": "code",
   "execution_count": 47,
   "metadata": {},
   "outputs": [
    {
     "data": {
      "text/plain": [
       "['foo', 'bar']"
      ]
     },
     "execution_count": 47,
     "metadata": {},
     "output_type": "execute_result"
    }
   ],
   "source": [
    "sample.column('item').to_pylist()"
   ]
  },
  {
   "cell_type": "code",
   "execution_count": 49,
   "metadata": {},
   "outputs": [
    {
     "data": {
      "text/plain": [
       "{'vector': [[3.0999999046325684, 4.099999904632568],\n",
       "  [5.900000095367432, 26.5]],\n",
       " 'item': ['foo', 'bar'],\n",
       " 'price': [10.0, 20.0]}"
      ]
     },
     "execution_count": 49,
     "metadata": {},
     "output_type": "execute_result"
    }
   ],
   "source": [
    "sample.to_pydict()"
   ]
  },
  {
   "cell_type": "code",
   "execution_count": 12,
   "metadata": {},
   "outputs": [
    {
     "data": {
      "text/plain": [
       "lance.dataset.LanceDataset"
      ]
     },
     "execution_count": 12,
     "metadata": {},
     "output_type": "execute_result"
    }
   ],
   "source": [
    "type(tbl)"
   ]
  },
  {
   "cell_type": "code",
   "execution_count": 11,
   "metadata": {},
   "outputs": [
    {
     "data": {
      "text/plain": [
       "┌─────────┐\n",
       "│  item   │\n",
       "│ varchar │\n",
       "├─────────┤\n",
       "│ bar     │\n",
       "└─────────┘"
      ]
     },
     "execution_count": 11,
     "metadata": {},
     "output_type": "execute_result"
    }
   ],
   "source": [
    "duckdb.query(\"select item from tbl ORDER BY RANDOM() LIMIT 1\")"
   ]
  },
  {
   "cell_type": "markdown",
   "metadata": {},
   "source": [
    "# Main"
   ]
  },
  {
   "cell_type": "code",
   "execution_count": 26,
   "metadata": {},
   "outputs": [
    {
     "data": {
      "text/plain": [
       "pyarrow.Field<embedding: fixed_size_list<item: float>[768]>"
      ]
     },
     "execution_count": 26,
     "metadata": {},
     "output_type": "execute_result"
    }
   ],
   "source": [
    "pa.field('embedding', pa.list_(pa.float32(), 768))"
   ]
  },
  {
   "cell_type": "code",
   "execution_count": 62,
   "metadata": {},
   "outputs": [],
   "source": [
    "class Collection(param.Parameterized):\n",
    "    url = param.String(default=\"\", doc=\"\"\"\n",
    "        The url of the data folder\"\"\")\n",
    "    collection_name = param.String(default=\"default\", doc=\"\"\"\n",
    "        The name of the collection\"\"\")\n",
    "    db = param.Parameter(default=None)\n",
    "    collection = param.Parameter(default=None)\n",
    "\n",
    "    def load_db(self, url: str):\n",
    "        \"\"\"Loads a database from a url or creates a new one\"\"\"\n",
    "        pass\n",
    "\n",
    "    def load_collection(self, collection_name: str):\n",
    "        \"\"\"Loads a collection from the database\"\"\"\n",
    "        pass\n",
    "\n",
    "    def add_items(self, items: list[dict]):\n",
    "        pass\n",
    "\n",
    "import lancedb\n",
    "import pyarrow as pa\n",
    "import numpy as np\n",
    "\n",
    "default_lance_db_schema = pa.schema([\n",
    "    pa.field('text', pa.string()),\n",
    "    pa.field('embedding', pa.list_(pa.float32(), 768)),\n",
    "    pa.field('source_file', pa.string()),\n",
    "    pa.field('start_idx', pa.int32()),\n",
    "    pa.field('end_idx', pa.int32())\n",
    "])\n",
    "\n",
    "class LanceDBCollection(Collection):\n",
    "    url = param.String(default=\"data/lancedb\", doc=\"\"\"\n",
    "        The url of the database\"\"\")\n",
    "    schema = param.Parameter(\n",
    "        default=default_lance_db_schema,\n",
    "        doc=\"\"\"The pydantic schema of the collection\"\"\")\n",
    "    metric = param.String(default=\"cosine\", doc=\"\"\"\n",
    "        The metric used to search the collection\"\"\")\n",
    "    n = param.Integer(default=5, doc=\"\"\"\n",
    "        The number of results to return\"\"\")\n",
    "    \n",
    "    def __init__(self, **params):\n",
    "        super().__init__(**params)\n",
    "        self.load_collection(self.collection_name)\n",
    "    \n",
    "    def load_collection(self, collection_name: str):\n",
    "        \"\"\"Loads a collection from the database\"\"\"\n",
    "        self.db = lancedb.connect(self.url)\n",
    "        self.collection = self.db.create_table(\n",
    "            name=self.collection_name,\n",
    "            schema=self.schema,\n",
    "            exist_ok=True)\n",
    "        \n",
    "    def add_item(self, item: dict):\n",
    "        \"\"\"Adds an item to the collection\"\"\"\n",
    "        # item['embedding'] = list(item['embedding'].astype(np.float32))\n",
    "        self.collection.add([item])\n",
    "\n",
    "    def add_items(self, items: list[dict]):\n",
    "        \"\"\"Adds items to the collection\"\"\"\n",
    "        self.collection.add(items)\n",
    "\n",
    "    def query(self, embedding: np.ndarray, n: int = None, metric: str = None):\n",
    "        \"\"\"Queries the collection. If n or metric are not provided, uses the class defaults\"\"\"\n",
    "        if n is None:\n",
    "            n = self.n\n",
    "        if metric is None:\n",
    "            metric = self.metric\n",
    "        return self.collection.search(embedding) \\\n",
    "            .metric(metric) \\\n",
    "            .limit(n) \\\n",
    "            .to_list()\n",
    "\n",
    "    def get_random_items(self, n: int, column_name: str = 'text', get_dict: bool = False):\n",
    "        \"\"\"\n",
    "        Gets random items from the collection. If column_name provided, returns an\n",
    "        n-length list of values. If get_dict is True, returns a dictionary.\n",
    "        \"\"\"\n",
    "        lance_table = self.collection.to_lance()\n",
    "        if get_dict:\n",
    "            return lance_table.sample(n).to_pydict()\n",
    "        else:\n",
    "            return lance_table.sample(n).column(column_name).to_pylist()\n",
    "    \n"
   ]
  },
  {
   "cell_type": "code",
   "execution_count": 72,
   "metadata": {},
   "outputs": [],
   "source": [
    "etl = default_lance_db_schema.empty_table().column_names"
   ]
  },
  {
   "cell_type": "code",
   "execution_count": 73,
   "metadata": {},
   "outputs": [
    {
     "data": {
      "text/plain": [
       "['text', 'embedding', 'source_file', 'start_idx', 'end_idx']"
      ]
     },
     "execution_count": 73,
     "metadata": {},
     "output_type": "execute_result"
    }
   ],
   "source": [
    "etl"
   ]
  },
  {
   "cell_type": "code",
   "execution_count": 61,
   "metadata": {},
   "outputs": [
    {
     "ename": "TypeError",
     "evalue": "equals() takes at least 1 positional argument (0 given)",
     "output_type": "error",
     "traceback": [
      "\u001b[0;31m---------------------------------------------------------------------------\u001b[0m",
      "\u001b[0;31mTypeError\u001b[0m                                 Traceback (most recent call last)",
      "Cell \u001b[0;32mIn[61], line 1\u001b[0m\n\u001b[0;32m----> 1\u001b[0m default_lance_db_schema\u001b[38;5;241m.\u001b[39mequals()\n",
      "File \u001b[0;32m~/miniconda3/envs/pyllments/lib/python3.12/site-packages/pyarrow/types.pxi:2787\u001b[0m, in \u001b[0;36mpyarrow.lib.Schema.equals\u001b[0;34m()\u001b[0m\n",
      "\u001b[0;31mTypeError\u001b[0m: equals() takes at least 1 positional argument (0 given)"
     ]
    }
   ],
   "source": [
    "default_lance_db_schema."
   ]
  },
  {
   "cell_type": "code",
   "execution_count": 45,
   "metadata": {},
   "outputs": [],
   "source": [
    "# Instantiate the LanceDBCollection with a specific collection name\n",
    "lance_db_collection = LanceDBCollection(\n",
    "    collection_name='test_collection',\n",
    "    url='data/lancedb0',\n",
    "    schema=pa.schema([\n",
    "        pa.field('text', pa.string()),\n",
    "        pa.field('embedding', pa.list_(pa.float32(), 3)),\n",
    "        pa.field('source_file', pa.string())\n",
    "    ])\n",
    ")\n",
    "\n",
    "# Create 5 items to add to the collection\n",
    "items_to_add = [\n",
    "    {'text': 'Item 1', 'embedding': np.random.rand(3), 'source_file': 'test'},\n",
    "    {'text': 'Item 2', 'embedding': np.random.rand(3), 'source_file': 'test'},\n",
    "    {'text': 'Item 3', 'embedding': np.random.rand(3), 'source_file': 'test'},\n",
    "    {'text': 'Item 4', 'embedding': np.random.rand(3), 'source_file': 'test'},\n",
    "    {'text': 'Item 5', 'embedding': np.random.rand(3), 'source_file': 'test'}\n",
    "]\n",
    "\n",
    "# Add the items to the LanceDBCollection\n",
    "lance_db_collection.add_items(items_to_add)\n"
   ]
  },
  {
   "cell_type": "code",
   "execution_count": 79,
   "metadata": {},
   "outputs": [
    {
     "data": {
      "text/plain": [
       "[{'text': 'Item 2',\n",
       "  'embedding': [0.4641132652759552, 0.015456879511475563, 0.16316711902618408],\n",
       "  'source_file': 'test',\n",
       "  '_distance': 0.04401075839996338},\n",
       " {'text': 'Item 2',\n",
       "  'embedding': [0.9206529259681702, 0.20832976698875427, 0.7067242860794067],\n",
       "  'source_file': 'test',\n",
       "  '_distance': 0.1752963662147522}]"
      ]
     },
     "execution_count": 79,
     "metadata": {},
     "output_type": "execute_result"
    }
   ],
   "source": [
    "lance_db_collection.query(np.random.rand(3)).metric(\"cosine\").limit(2).to_list()\n"
   ]
  },
  {
   "cell_type": "code",
   "execution_count": 83,
   "metadata": {},
   "outputs": [
    {
     "data": {
      "text/plain": [
       "<lancedb.query.LanceVectorQueryBuilder at 0x7fabc0f25a30>"
      ]
     },
     "execution_count": 83,
     "metadata": {},
     "output_type": "execute_result"
    }
   ],
   "source": [
    "lance_db_collection.query(np.random.rand(3))#.metric(\"cosine\").limit(2).to_list()\n"
   ]
  },
  {
   "cell_type": "code",
   "execution_count": 82,
   "metadata": {},
   "outputs": [
    {
     "data": {
      "text/plain": [
       "'0.12.0'"
      ]
     },
     "execution_count": 82,
     "metadata": {},
     "output_type": "execute_result"
    }
   ],
   "source": [
    "lancedb.__version__"
   ]
  },
  {
   "cell_type": "code",
   "execution_count": 43,
   "metadata": {},
   "outputs": [
    {
     "data": {
      "text/plain": [
       "[{'text': 'Item 5',\n",
       "  'embedding': [0.3201635777950287, 0.1651465892791748, 0.6056264638900757],\n",
       "  'source_file': 'test',\n",
       "  '_distance': 0.055993568152189255},\n",
       " {'text': 'Item 1',\n",
       "  'embedding': [0.8767399787902832, 0.04871548339724541, 0.6977120041847229],\n",
       "  'source_file': 'test',\n",
       "  '_distance': 0.1152745857834816},\n",
       " {'text': 'Item 4',\n",
       "  'embedding': [0.19384464621543884, 0.20555397868156433, 0.5176759958267212],\n",
       "  'source_file': 'test',\n",
       "  '_distance': 0.14991918206214905},\n",
       " {'text': 'Item 2',\n",
       "  'embedding': [0.4641132652759552, 0.015456879511475563, 0.16316711902618408],\n",
       "  'source_file': 'test',\n",
       "  '_distance': 0.2482559084892273},\n",
       " {'text': 'Item 3',\n",
       "  'embedding': [0.23947496712207794, 0.582857608795166, 0.2254280298948288],\n",
       "  'source_file': 'test',\n",
       "  '_distance': 0.4924866557121277},\n",
       " {'text': 'Item 1',\n",
       "  'embedding': [0.06988758593797684, 0.736587643623352, 0.8949791789054871],\n",
       "  'source_file': 'test',\n",
       "  '_distance': 0.6807531714439392}]"
      ]
     },
     "execution_count": 43,
     "metadata": {},
     "output_type": "execute_result"
    }
   ],
   "source": [
    "lance_db_collection.collection.search(np.random.rand(3)).to_list()"
   ]
  },
  {
   "cell_type": "code",
   "execution_count": 25,
   "metadata": {},
   "outputs": [
    {
     "data": {
      "text/plain": [
       "LanceTable(connection=LanceDBConnection(/workspaces/pyllments/dev_nbs/data/sample-lancedb), name=\"text_v\")"
      ]
     },
     "execution_count": 25,
     "metadata": {},
     "output_type": "execute_result"
    }
   ],
   "source": [
    "from lancedb.pydantic import LanceModel, Vector\n",
    "\n",
    "# model = create_model('test',__base__=LanceModel, vector=(Vector(768), ...))\n",
    "# \n",
    "db.create_table('text_v', schema=model)\n"
   ]
  },
  {
   "cell_type": "code",
   "execution_count": 33,
   "metadata": {},
   "outputs": [],
   "source": [
    "import pyarrow as pa\n",
    "\n",
    "schema = pa.schema([\n",
    "    pa.field('text', pa.string()),\n",
    "    pa.field('vector', pa.list_(pa.float32(), 768))\n",
    "])\n",
    "\n",
    "tbl = db.create_table('text_v', schema=schema, mode='overwrite')"
   ]
  },
  {
   "cell_type": "code",
   "execution_count": 40,
   "metadata": {},
   "outputs": [],
   "source": [
    "import numpy as np\n",
    "\n",
    "# Create a 768-dimensional array filled with zeros\n",
    "array_768 = np.ones(758)\n"
   ]
  },
  {
   "cell_type": "code",
   "execution_count": 61,
   "metadata": {},
   "outputs": [],
   "source": [
    "vec = np.random.rand(768)"
   ]
  },
  {
   "cell_type": "code",
   "execution_count": null,
   "metadata": {},
   "outputs": [],
   "source": [
    "# Uses default metric l2\n",
    "tbl.search(vec).to_list()\n",
    "\n",
    "# cosine metric forced\n",
    "tbl.search(vec) \\\n",
    "    .metric(\"cosine\") \\\n",
    "    .to_list()\n"
   ]
  },
  {
   "cell_type": "code",
   "execution_count": 66,
   "metadata": {},
   "outputs": [
    {
     "name": "stdout",
     "output_type": "stream",
     "text": [
      "\u001b[0;31mSignature:\u001b[0m\n",
      "\u001b[0mtbl\u001b[0m\u001b[0;34m.\u001b[0m\u001b[0msearch\u001b[0m\u001b[0;34m(\u001b[0m\u001b[0;34m\u001b[0m\n",
      "\u001b[0;34m\u001b[0m    \u001b[0mquery\u001b[0m\u001b[0;34m:\u001b[0m \u001b[0;34m\"Optional[Union[VEC, str, 'PIL.Image.Image', Tuple]]\"\u001b[0m \u001b[0;34m=\u001b[0m \u001b[0;32mNone\u001b[0m\u001b[0;34m,\u001b[0m\u001b[0;34m\u001b[0m\n",
      "\u001b[0;34m\u001b[0m    \u001b[0mvector_column_name\u001b[0m\u001b[0;34m:\u001b[0m \u001b[0;34m'Optional[str]'\u001b[0m \u001b[0;34m=\u001b[0m \u001b[0;32mNone\u001b[0m\u001b[0;34m,\u001b[0m\u001b[0;34m\u001b[0m\n",
      "\u001b[0;34m\u001b[0m    \u001b[0mquery_type\u001b[0m\u001b[0;34m:\u001b[0m \u001b[0;34m'str'\u001b[0m \u001b[0;34m=\u001b[0m \u001b[0;34m'auto'\u001b[0m\u001b[0;34m,\u001b[0m\u001b[0;34m\u001b[0m\n",
      "\u001b[0;34m\u001b[0m    \u001b[0mordering_field_name\u001b[0m\u001b[0;34m:\u001b[0m \u001b[0;34m'Optional[str]'\u001b[0m \u001b[0;34m=\u001b[0m \u001b[0;32mNone\u001b[0m\u001b[0;34m,\u001b[0m\u001b[0;34m\u001b[0m\n",
      "\u001b[0;34m\u001b[0m\u001b[0;34m)\u001b[0m \u001b[0;34m->\u001b[0m \u001b[0;34m'LanceQueryBuilder'\u001b[0m\u001b[0;34m\u001b[0m\u001b[0;34m\u001b[0m\u001b[0m\n",
      "\u001b[0;31mDocstring:\u001b[0m\n",
      "Create a search query to find the nearest neighbors\n",
      "of the given query vector. We currently support [vector search][search]\n",
      "and [full-text search][search].\n",
      "\n",
      "Examples\n",
      "--------\n",
      ">>> import lancedb\n",
      ">>> db = lancedb.connect(\"./.lancedb\")\n",
      ">>> data = [\n",
      "...    {\"original_width\": 100, \"caption\": \"bar\", \"vector\": [0.1, 2.3, 4.5]},\n",
      "...    {\"original_width\": 2000, \"caption\": \"foo\",  \"vector\": [0.5, 3.4, 1.3]},\n",
      "...    {\"original_width\": 3000, \"caption\": \"test\", \"vector\": [0.3, 6.2, 2.6]}\n",
      "... ]\n",
      ">>> table = db.create_table(\"my_table\", data)\n",
      ">>> query = [0.4, 1.4, 2.4]\n",
      ">>> (table.search(query)\n",
      "...     .where(\"original_width > 1000\", prefilter=True)\n",
      "...     .select([\"caption\", \"original_width\", \"vector\"])\n",
      "...     .limit(2)\n",
      "...     .to_pandas())\n",
      "  caption  original_width           vector  _distance\n",
      "0     foo            2000  [0.5, 3.4, 1.3]   5.220000\n",
      "1    test            3000  [0.3, 6.2, 2.6]  23.089996\n",
      "\n",
      "Parameters\n",
      "----------\n",
      "query: list/np.ndarray/str/PIL.Image.Image, default None\n",
      "    The targetted vector to search for.\n",
      "\n",
      "    - *default None*.\n",
      "    Acceptable types are: list, np.ndarray, PIL.Image.Image\n",
      "\n",
      "    - If None then the select/[where][sql]/limit clauses are applied\n",
      "    to filter the table\n",
      "vector_column_name: str, optional\n",
      "    The name of the vector column to search.\n",
      "\n",
      "    The vector column needs to be a pyarrow fixed size list type\n",
      "    *default \"vector\"*\n",
      "\n",
      "    - If not specified then the vector column is inferred from\n",
      "    the table schema\n",
      "\n",
      "    - If the table has multiple vector columns then the *vector_column_name*\n",
      "    needs to be specified. Otherwise, an error is raised.\n",
      "query_type: str, default \"auto\"\n",
      "    \"vector\", \"fts\", or \"auto\"\n",
      "    If \"auto\" then the query type is inferred from the query;\n",
      "    If `query` is a list/np.ndarray then the query type is \"vector\";\n",
      "    If `query` is a PIL.Image.Image then either do vector search\n",
      "    or raise an error if no corresponding embedding function is found.\n",
      "    If the `query` is a string, then the query type is \"vector\" if the\n",
      "    table has embedding functions, else the query type is \"fts\"\n",
      "\n",
      "Returns\n",
      "-------\n",
      "LanceQueryBuilder\n",
      "    A query builder object representing the query.\n",
      "    Once executed, the query returns selected columns, the vector,\n",
      "    and also the \"_distance\" column which is the distance between the query\n",
      "    vector and the returned vector.\n",
      "\u001b[0;31mFile:\u001b[0m      ~/miniconda3/envs/pyllments/lib/python3.12/site-packages/lancedb/table.py\n",
      "\u001b[0;31mType:\u001b[0m      method"
     ]
    }
   ],
   "source": [
    "tbl.create"
   ]
  },
  {
   "cell_type": "code",
   "execution_count": 41,
   "metadata": {},
   "outputs": [
    {
     "ename": "ArrowTypeError",
     "evalue": "Size of FixedSizeList is not the same. input list: fixed_size_list<item: float>[758] output list: fixed_size_list<item: float>[768]",
     "output_type": "error",
     "traceback": [
      "\u001b[0;31m---------------------------------------------------------------------------\u001b[0m",
      "\u001b[0;31mArrowTypeError\u001b[0m                            Traceback (most recent call last)",
      "Cell \u001b[0;32mIn[41], line 1\u001b[0m\n\u001b[0;32m----> 1\u001b[0m tbl\u001b[38;5;241m.\u001b[39madd([{\u001b[38;5;124m'\u001b[39m\u001b[38;5;124mtext\u001b[39m\u001b[38;5;124m'\u001b[39m:\u001b[38;5;124m'\u001b[39m\u001b[38;5;124msome test text\u001b[39m\u001b[38;5;124m'\u001b[39m, \u001b[38;5;124m'\u001b[39m\u001b[38;5;124mvector\u001b[39m\u001b[38;5;124m'\u001b[39m: array_768}])\n",
      "File \u001b[0;32m~/miniconda3/envs/pyllments/lib/python3.12/site-packages/lancedb/table.py:1299\u001b[0m, in \u001b[0;36mLanceTable.add\u001b[0;34m(self, data, mode, on_bad_vectors, fill_value)\u001b[0m\n\u001b[1;32m   1275\u001b[0m \u001b[38;5;250m\u001b[39m\u001b[38;5;124;03m\"\"\"Add data to the table.\u001b[39;00m\n\u001b[1;32m   1276\u001b[0m \u001b[38;5;124;03mIf vector columns are missing and the table\u001b[39;00m\n\u001b[1;32m   1277\u001b[0m \u001b[38;5;124;03mhas embedding functions, then the vector columns\u001b[39;00m\n\u001b[0;32m   (...)\u001b[0m\n\u001b[1;32m   1296\u001b[0m \u001b[38;5;124;03m    The number of vectors in the table.\u001b[39;00m\n\u001b[1;32m   1297\u001b[0m \u001b[38;5;124;03m\"\"\"\u001b[39;00m\n\u001b[1;32m   1298\u001b[0m \u001b[38;5;66;03m# TODO: manage table listing and metadata separately\u001b[39;00m\n\u001b[0;32m-> 1299\u001b[0m data, _ \u001b[38;5;241m=\u001b[39m _sanitize_data(\n\u001b[1;32m   1300\u001b[0m     data,\n\u001b[1;32m   1301\u001b[0m     \u001b[38;5;28mself\u001b[39m\u001b[38;5;241m.\u001b[39mschema,\n\u001b[1;32m   1302\u001b[0m     metadata\u001b[38;5;241m=\u001b[39m\u001b[38;5;28mself\u001b[39m\u001b[38;5;241m.\u001b[39mschema\u001b[38;5;241m.\u001b[39mmetadata,\n\u001b[1;32m   1303\u001b[0m     on_bad_vectors\u001b[38;5;241m=\u001b[39mon_bad_vectors,\n\u001b[1;32m   1304\u001b[0m     fill_value\u001b[38;5;241m=\u001b[39mfill_value,\n\u001b[1;32m   1305\u001b[0m )\n\u001b[1;32m   1306\u001b[0m \u001b[38;5;66;03m# Access the dataset_mut property to ensure that the dataset is mutable.\u001b[39;00m\n\u001b[1;32m   1307\u001b[0m \u001b[38;5;28mself\u001b[39m\u001b[38;5;241m.\u001b[39m_ref\u001b[38;5;241m.\u001b[39mdataset_mut\n",
      "File \u001b[0;32m~/miniconda3/envs/pyllments/lib/python3.12/site-packages/lancedb/table.py:128\u001b[0m, in \u001b[0;36m_sanitize_data\u001b[0;34m(data, schema, metadata, on_bad_vectors, fill_value)\u001b[0m\n\u001b[1;32m    126\u001b[0m         metadata\u001b[38;5;241m.\u001b[39mupdate(data\u001b[38;5;241m.\u001b[39mschema\u001b[38;5;241m.\u001b[39mmetadata \u001b[38;5;129;01mor\u001b[39;00m {})\n\u001b[1;32m    127\u001b[0m         data \u001b[38;5;241m=\u001b[39m data\u001b[38;5;241m.\u001b[39mreplace_schema_metadata(metadata)\n\u001b[0;32m--> 128\u001b[0m     data \u001b[38;5;241m=\u001b[39m _sanitize_schema(\n\u001b[1;32m    129\u001b[0m         data, schema\u001b[38;5;241m=\u001b[39mschema, on_bad_vectors\u001b[38;5;241m=\u001b[39mon_bad_vectors, fill_value\u001b[38;5;241m=\u001b[39mfill_value\n\u001b[1;32m    130\u001b[0m     )\n\u001b[1;32m    131\u001b[0m \u001b[38;5;28;01melif\u001b[39;00m \u001b[38;5;28misinstance\u001b[39m(data, Iterable):\n\u001b[1;32m    132\u001b[0m     data \u001b[38;5;241m=\u001b[39m _to_record_batch_generator(\n\u001b[1;32m    133\u001b[0m         data, schema, metadata, on_bad_vectors, fill_value\n\u001b[1;32m    134\u001b[0m     )\n",
      "File \u001b[0;32m~/miniconda3/envs/pyllments/lib/python3.12/site-packages/lancedb/table.py:1801\u001b[0m, in \u001b[0;36m_sanitize_schema\u001b[0;34m(data, schema, on_bad_vectors, fill_value)\u001b[0m\n\u001b[1;32m   1792\u001b[0m         \u001b[38;5;28;01mif\u001b[39;00m field\u001b[38;5;241m.\u001b[39mname \u001b[38;5;129;01min\u001b[39;00m data\u001b[38;5;241m.\u001b[39mcolumn_names \u001b[38;5;129;01mand\u001b[39;00m (\n\u001b[1;32m   1793\u001b[0m             likely_vector_col \u001b[38;5;129;01mor\u001b[39;00m is_default_vector_col\n\u001b[1;32m   1794\u001b[0m         ):\n\u001b[1;32m   1795\u001b[0m             data \u001b[38;5;241m=\u001b[39m _sanitize_vector_column(\n\u001b[1;32m   1796\u001b[0m                 data,\n\u001b[1;32m   1797\u001b[0m                 vector_column_name\u001b[38;5;241m=\u001b[39mfield\u001b[38;5;241m.\u001b[39mname,\n\u001b[1;32m   1798\u001b[0m                 on_bad_vectors\u001b[38;5;241m=\u001b[39mon_bad_vectors,\n\u001b[1;32m   1799\u001b[0m                 fill_value\u001b[38;5;241m=\u001b[39mfill_value,\n\u001b[1;32m   1800\u001b[0m             )\n\u001b[0;32m-> 1801\u001b[0m     \u001b[38;5;28;01mreturn\u001b[39;00m pa\u001b[38;5;241m.\u001b[39mTable\u001b[38;5;241m.\u001b[39mfrom_arrays(\n\u001b[1;32m   1802\u001b[0m         [data[name] \u001b[38;5;28;01mfor\u001b[39;00m name \u001b[38;5;129;01min\u001b[39;00m schema\u001b[38;5;241m.\u001b[39mnames], schema\u001b[38;5;241m=\u001b[39mschema\n\u001b[1;32m   1803\u001b[0m     )\n\u001b[1;32m   1805\u001b[0m \u001b[38;5;66;03m# just check the vector column\u001b[39;00m\n\u001b[1;32m   1806\u001b[0m \u001b[38;5;28;01mif\u001b[39;00m VECTOR_COLUMN_NAME \u001b[38;5;129;01min\u001b[39;00m data\u001b[38;5;241m.\u001b[39mcolumn_names:\n",
      "File \u001b[0;32m~/miniconda3/envs/pyllments/lib/python3.12/site-packages/pyarrow/table.pxi:4625\u001b[0m, in \u001b[0;36mpyarrow.lib.Table.from_arrays\u001b[0;34m()\u001b[0m\n",
      "File \u001b[0;32m~/miniconda3/envs/pyllments/lib/python3.12/site-packages/pyarrow/table.pxi:1562\u001b[0m, in \u001b[0;36mpyarrow.lib._sanitize_arrays\u001b[0;34m()\u001b[0m\n",
      "File \u001b[0;32m~/miniconda3/envs/pyllments/lib/python3.12/site-packages/pyarrow/array.pxi:382\u001b[0m, in \u001b[0;36mpyarrow.lib.asarray\u001b[0;34m()\u001b[0m\n",
      "File \u001b[0;32m~/miniconda3/envs/pyllments/lib/python3.12/site-packages/pyarrow/table.pxi:574\u001b[0m, in \u001b[0;36mpyarrow.lib.ChunkedArray.cast\u001b[0;34m()\u001b[0m\n",
      "File \u001b[0;32m~/miniconda3/envs/pyllments/lib/python3.12/site-packages/pyarrow/compute.py:404\u001b[0m, in \u001b[0;36mcast\u001b[0;34m(arr, target_type, safe, options, memory_pool)\u001b[0m\n\u001b[1;32m    402\u001b[0m     \u001b[38;5;28;01melse\u001b[39;00m:\n\u001b[1;32m    403\u001b[0m         options \u001b[38;5;241m=\u001b[39m CastOptions\u001b[38;5;241m.\u001b[39msafe(target_type)\n\u001b[0;32m--> 404\u001b[0m \u001b[38;5;28;01mreturn\u001b[39;00m call_function(\u001b[38;5;124m\"\u001b[39m\u001b[38;5;124mcast\u001b[39m\u001b[38;5;124m\"\u001b[39m, [arr], options, memory_pool)\n",
      "File \u001b[0;32m~/miniconda3/envs/pyllments/lib/python3.12/site-packages/pyarrow/_compute.pyx:590\u001b[0m, in \u001b[0;36mpyarrow._compute.call_function\u001b[0;34m()\u001b[0m\n",
      "File \u001b[0;32m~/miniconda3/envs/pyllments/lib/python3.12/site-packages/pyarrow/_compute.pyx:385\u001b[0m, in \u001b[0;36mpyarrow._compute.Function.call\u001b[0;34m()\u001b[0m\n",
      "File \u001b[0;32m~/miniconda3/envs/pyllments/lib/python3.12/site-packages/pyarrow/error.pxi:154\u001b[0m, in \u001b[0;36mpyarrow.lib.pyarrow_internal_check_status\u001b[0;34m()\u001b[0m\n",
      "File \u001b[0;32m~/miniconda3/envs/pyllments/lib/python3.12/site-packages/pyarrow/error.pxi:91\u001b[0m, in \u001b[0;36mpyarrow.lib.check_status\u001b[0;34m()\u001b[0m\n",
      "\u001b[0;31mArrowTypeError\u001b[0m: Size of FixedSizeList is not the same. input list: fixed_size_list<item: float>[758] output list: fixed_size_list<item: float>[768]"
     ]
    }
   ],
   "source": [
    "tbl.add([{'text':'some test text', 'vector': array_768}])"
   ]
  },
  {
   "cell_type": "code",
   "execution_count": 39,
   "metadata": {},
   "outputs": [
    {
     "data": {
      "text/plain": [
       "pyarrow.Table\n",
       "text: string\n",
       "vector: fixed_size_list<item: float>[768]\n",
       "  child 0, item: float\n",
       "----\n",
       "text: [[\"some test text\"]]\n",
       "vector: [[[1,1,1,1,1,...,1,1,1,1,1]]]"
      ]
     },
     "execution_count": 39,
     "metadata": {},
     "output_type": "execute_result"
    }
   ],
   "source": [
    "tbl.head()"
   ]
  },
  {
   "cell_type": "code",
   "execution_count": 26,
   "metadata": {},
   "outputs": [
    {
     "data": {
      "text/plain": [
       "pyarrow.Table\n",
       "vector: fixed_size_list<item: float>[2]\n",
       "  child 0, item: float\n",
       "lat: double\n",
       "long: double\n",
       "----\n",
       "vector: [[[1.1,1.2],[0.2,1.8]]]\n",
       "lat: [[45.5,40.1]]\n",
       "long: [[-122.7,-74.1]]"
      ]
     },
     "execution_count": 26,
     "metadata": {},
     "output_type": "execute_result"
    }
   ],
   "source": [
    "import lancedb\n",
    "\n",
    "db = lancedb.connect(\"./.lancedb\")\n",
    "\n",
    "data = [{\"vector\": [1.1, 1.2], \"lat\": 45.5, \"long\": -122.7},\n",
    "        {\"vector\": [0.2, 1.8], \"lat\": 40.1, \"long\": -74.1}]\n",
    "\n",
    "db.create_table(\"my_table\", data)\n",
    "\n",
    "db[\"my_table\"].head()"
   ]
  },
  {
   "cell_type": "code",
   "execution_count": 29,
   "metadata": {},
   "outputs": [
    {
     "data": {
      "text/html": [
       "<div>\n",
       "<style scoped>\n",
       "    .dataframe tbody tr th:only-of-type {\n",
       "        vertical-align: middle;\n",
       "    }\n",
       "\n",
       "    .dataframe tbody tr th {\n",
       "        vertical-align: top;\n",
       "    }\n",
       "\n",
       "    .dataframe thead th {\n",
       "        text-align: right;\n",
       "    }\n",
       "</style>\n",
       "<table border=\"1\" class=\"dataframe\">\n",
       "  <thead>\n",
       "    <tr style=\"text-align: right;\">\n",
       "      <th></th>\n",
       "      <th>vector</th>\n",
       "      <th>lat</th>\n",
       "      <th>long</th>\n",
       "    </tr>\n",
       "  </thead>\n",
       "  <tbody>\n",
       "    <tr>\n",
       "      <th>0</th>\n",
       "      <td>[1.1, 1.2]</td>\n",
       "      <td>45.5</td>\n",
       "      <td>-122.7</td>\n",
       "    </tr>\n",
       "    <tr>\n",
       "      <th>1</th>\n",
       "      <td>[0.2, 1.8]</td>\n",
       "      <td>40.1</td>\n",
       "      <td>-74.1</td>\n",
       "    </tr>\n",
       "  </tbody>\n",
       "</table>\n",
       "</div>"
      ],
      "text/plain": [
       "       vector   lat   long\n",
       "0  [1.1, 1.2]  45.5 -122.7\n",
       "1  [0.2, 1.8]  40.1  -74.1"
      ]
     },
     "execution_count": 29,
     "metadata": {},
     "output_type": "execute_result"
    }
   ],
   "source": [
    "db[\"my_table\"].to_pandas()"
   ]
  },
  {
   "cell_type": "code",
   "execution_count": 19,
   "metadata": {},
   "outputs": [],
   "source": [
    "from pyllments.base.model_base import Model\n",
    "# from pyllments.common.tokenizers import get_token_len\n",
    "from pyllments.payloads.chunk import ChunkPayload\n",
    "from pyllments.payloads.message import MessagePayload\n",
    "\n",
    "default_lance_db_schema = pa.schema([\n",
    "    pa.field('text', pa.string()),\n",
    "    pa.field('embedding', pa.list_(pa.float32(), 768)),\n",
    "    pa.field('source_file', pa.string()),\n",
    "    pa.field('start_idx', pa.int32()),\n",
    "    pa.field('end_idx', pa.int32())\n",
    "])\n",
    "\n",
    "def pa_schema_to_col_list(schema: pa.Schema):\n",
    "    return schema.empty_table().column_names\n",
    "\n",
    "class RetrieverModel(Model):\n",
    "    collection = param.ClassSelector(class_=Collection, doc=\"\"\"\n",
    "        The collection to retrieve from. Based on a a DB backend for storage\"\"\")\n",
    "    collection_name = param.String(default=\"\", doc=\"\"\"\n",
    "        The name of the collection\"\"\")\n",
    "    url = param.String(default=\"\", doc=\"\"\"\n",
    "        The url of the database\"\"\")\n",
    "    embedding_dims = param.Integer(default=768, doc=\"\"\"\n",
    "        The dimension of the embedding\"\"\")\n",
    "    schema = param.Parameter(default=default_lance_db_schema, doc=\"\"\"\n",
    "    The schema used with the collection. If the Collection is based on\n",
    "    LanceDB, pyarrow schemas are preferred.\n",
    "    \"\"\")\n",
    "    schema_cols = param.List()\n",
    "    metric = param.String(default=\"cosine\", doc=\"\"\"\n",
    "        The metric used to search the collection\"\"\")\n",
    "    retrieval_n = param.Integer(default=5, doc=\"\"\"\n",
    "        The number of results to return\"\"\")\n",
    "    # TODO: Implement token limits for retrieval if necessary\n",
    "    retrieval_token_limit = param.Integer(default=None, doc=\"\"\"\n",
    "        The token limit of the model\"\"\")\n",
    "    retrieval_tokenizer_model = param.String(default=\"gpt-4o-mini\", doc=\"\"\"\n",
    "        The model used to tokenize the text\"\"\")\n",
    "\n",
    "    def __init__(self, retrieval_token_limit=None, **params):\n",
    "        super().__init__(**params)\n",
    "        if not self.collection_name:\n",
    "            # Uses default param-generated RetrievelModel name if not set\n",
    "            self.collection_name = self.name\n",
    "        if not self.schema:\n",
    "            schema = default_lance_db_schema\n",
    "        self.schema_cols = pa_schema_to_col_list(self.schema)\n",
    "        self.collection = LanceDBCollection(\n",
    "            collection_name=self.collection_name,\n",
    "            schema=self.schema\n",
    "        )\n",
    "    \n",
    "    def add_item(self, chunk_payload: ChunkPayload):\n",
    "        item = {col: getattr(chunk_payload.model, col) for col in self.schema_cols}\n",
    "        self.collection.add_item(item)\n",
    "    \n",
    "    def retrieve(self, message_payload: MessagePayload):\n",
    "        embedding = message_payload.model.embedding\n",
    "        chunk_payloads = [\n",
    "            ChunkPayload(**item)\n",
    "            for item in self.collection.query(\n",
    "                embedding,\n",
    "                n=self.retrieval_n,\n",
    "                metric=self.metric)\n",
    "        ]\n",
    "        return chunk_payloads\n",
    "        \n",
    "\n",
    "from typing import Union\n",
    "from pyllments.base.element_base import Element\n",
    "from pyllments.payloads.chunk import ChunkPayload\n",
    "\n",
    "\n",
    "class RetrieverElement(Element):\n",
    "    # Needs two col viz, one for the created chunks, and one for the retrieved chunks\n",
    "\n",
    "    def __init__(self, **params):\n",
    "        super().__init__(**params)\n",
    "        if not self.collection_name:\n",
    "            self.collection_name = self.name\n",
    "        self.model = RetrieverModel()\n",
    "        \n",
    "    def _chunk_load_input_setup(self):\n",
    "        \"\"\"For the collection populating process\"\"\"\n",
    "        def unpack(payload: Union[ChunkPayload, list[ChunkPayload]]):\n",
    "            chunks = payload if isinstance(payload, list) else [payload]\n",
    "            for chunk in chunks:\n",
    "                self.model.add_item(chunk)\n",
    "        \n",
    "        self.ports.add_input('chunk_input', unpack)\n",
    "\n",
    "    def _message_query_input_setup(self):\n",
    "        \"\"\"The input query used for retrieval\"\"\"\n",
    "        def unpack(payload: MessagePayload):\n",
    "            chunks = self.model.retrieve(payload)\n",
    "            self.ports.output['chunk_output'].stage_emit(chunks)\n",
    "        \n",
    "        self.ports.add_input('message_input', unpack)\n",
    "\n",
    "    def _chunk_result_output_setup(self):\n",
    "        \"\"\"The output of the retrieval process\"\"\"\n",
    "        def pack(chunk_payload: list[ChunkPayload]):\n",
    "            return chunk_payload\n",
    "        \n",
    "        self.ports.add_output('chunk_output', pack)\n",
    "\n"
   ]
  },
  {
   "cell_type": "code",
   "execution_count": 20,
   "metadata": {},
   "outputs": [],
   "source": [
    "r_model = RetrieverModel()"
   ]
  },
  {
   "cell_type": "code",
   "execution_count": null,
   "metadata": {},
   "outputs": [],
   "source": [
    "r_model"
   ]
  },
  {
   "cell_type": "code",
   "execution_count": 11,
   "metadata": {},
   "outputs": [],
   "source": [
    "retriever = RetrieverElement()\n"
   ]
  },
  {
   "cell_type": "code",
   "execution_count": 12,
   "metadata": {},
   "outputs": [
    {
     "data": {
      "text/plain": [
       "'RetrieverElement00117'"
      ]
     },
     "execution_count": 12,
     "metadata": {},
     "output_type": "execute_result"
    }
   ],
   "source": [
    "retriever.name"
   ]
  },
  {
   "cell_type": "code",
   "execution_count": 78,
   "metadata": {},
   "outputs": [
    {
     "name": "stdout",
     "output_type": "stream",
     "text": [
      "{'name': 'asdfsfdsf'}\n"
     ]
    }
   ],
   "source": [
    "class Test(param.Parameterized):\n",
    "    name = param.String(default='test')\n",
    "\n",
    "    def __init__(self, **params):\n",
    "        for param in params:\n",
    "            print(params)\n",
    "\n",
    "test = Test(name='asdfsfdsf')"
   ]
  }
 ],
 "metadata": {
  "kernelspec": {
   "display_name": "pyllments",
   "language": "python",
   "name": "python3"
  },
  "language_info": {
   "codemirror_mode": {
    "name": "ipython",
    "version": 3
   },
   "file_extension": ".py",
   "mimetype": "text/x-python",
   "name": "python",
   "nbconvert_exporter": "python",
   "pygments_lexer": "ipython3",
   "version": "3.12.4"
  }
 },
 "nbformat": 4,
 "nbformat_minor": 2
}
