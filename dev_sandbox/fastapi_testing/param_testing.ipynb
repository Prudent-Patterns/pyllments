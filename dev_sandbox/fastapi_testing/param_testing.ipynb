{
 "cells": [
  {
   "cell_type": "code",
   "execution_count": 1,
   "metadata": {},
   "outputs": [],
   "source": [
    "import param"
   ]
  },
  {
   "cell_type": "code",
   "execution_count": 2,
   "metadata": {},
   "outputs": [],
   "source": [
    "class TestObject(param.Parameterized):\n",
    "    x = param.Number(default=5, instantiate=True)\n",
    "\n",
    "\n",
    "class TestPClass(param.Parameterized):\n",
    "    obj1 = param.ClassSelector(class_=TestObject, instantiate=True)\n",
    "\n",
    "    def __init__(self, **params):\n",
    "        super().__init__(**params)\n",
    "\n",
    "        def cb(event):\n",
    "            print(event)\n",
    "        self.param.watch(cb, 'obj1')\n",
    "\n",
    "tpc = TestPClass()\n",
    "to1 = TestObject(x=5)\n",
    "to2 = TestObject(x=10)\n"
   ]
  },
  {
   "cell_type": "code",
   "execution_count": 3,
   "metadata": {},
   "outputs": [
    {
     "name": "stdout",
     "output_type": "stream",
     "text": [
      "Event(what='value', name='obj1', obj=TestPClass(name='TestPClass00002', obj1=TestObject(name='TestObject00003', x=5)), cls=TestPClass(name='TestPClass00002', obj1=TestObject(name='TestObject00003', x=5)), old=None, new=TestObject(name='TestObject00003', x=5), type='changed')\n"
     ]
    }
   ],
   "source": [
    "tpc.obj1 = to1"
   ]
  }
 ],
 "metadata": {
  "kernelspec": {
   "display_name": "pyllments",
   "language": "python",
   "name": "python3"
  },
  "language_info": {
   "codemirror_mode": {
    "name": "ipython",
    "version": 3
   },
   "file_extension": ".py",
   "mimetype": "text/x-python",
   "name": "python",
   "nbconvert_exporter": "python",
   "pygments_lexer": "ipython3",
   "version": "3.12.7"
  }
 },
 "nbformat": 4,
 "nbformat_minor": 2
}
