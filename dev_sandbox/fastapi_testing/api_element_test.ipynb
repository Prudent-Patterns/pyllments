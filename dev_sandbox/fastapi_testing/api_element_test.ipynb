{
 "cells": [
  {
   "cell_type": "code",
   "execution_count": 1,
   "metadata": {},
   "outputs": [
    {
     "name": "stdout",
     "output_type": "stream",
     "text": [
      "Status Code: 200\n",
      "Response:\n",
      "{\n",
      "  \"sent_request\": {\n",
      "    \"message\": \"Hello API\",\n",
      "    \"data\": {\n",
      "      \"key1\": \"value1\",\n",
      "      \"key2\": \"value2\"\n",
      "    }\n",
      "  }\n",
      "}\n"
     ]
    }
   ],
   "source": [
    "import requests\n",
    "import json\n",
    "\n",
    "# Sample dictionary to send in POST request\n",
    "sample_data = {\n",
    "    \"message\": \"Hello API\",\n",
    "    \"data\": {\n",
    "        \"key1\": \"value1\",\n",
    "        \"key2\": \"value2\"\n",
    "    }\n",
    "}\n",
    "\n",
    "# Send POST request to localhost:8000/api endpoint\n",
    "response = requests.post(\n",
    "    \"http://localhost:8000/api\",\n",
    "    json=sample_data\n",
    ")\n",
    "\n",
    "# Print response\n",
    "print(\"Status Code:\", response.status_code)\n",
    "print(\"Response:\")\n",
    "print(json.dumps(response.json(), indent=2))\n"
   ]
  },
  {
   "cell_type": "code",
   "execution_count": 4,
   "metadata": {},
   "outputs": [
    {
     "data": {
      "text/plain": [
       "b'{\"sent_request\":{\"message\":\"Hello API\",\"data\":{\"key1\":\"value1\",\"key2\":\"value2\"}}}'"
      ]
     },
     "execution_count": 4,
     "metadata": {},
     "output_type": "execute_result"
    }
   ],
   "source": [
    "response."
   ]
  },
  {
   "cell_type": "code",
   "execution_count": 5,
   "metadata": {},
   "outputs": [],
   "source": [
    "from langchain_core.messages import HumanMessage\n",
    "\n",
    "m = HumanMessage(content='Hello')"
   ]
  },
  {
   "cell_type": "code",
   "execution_count": 7,
   "metadata": {},
   "outputs": [
    {
     "data": {
      "text/plain": [
       "{'content': 'Hello',\n",
       " 'additional_kwargs': {},\n",
       " 'response_metadata': {},\n",
       " 'type': 'human',\n",
       " 'name': None,\n",
       " 'id': None,\n",
       " 'example': False}"
      ]
     },
     "execution_count": 7,
     "metadata": {},
     "output_type": "execute_result"
    }
   ],
   "source": [
    "m.dict()"
   ]
  },
  {
   "cell_type": "code",
   "execution_count": 29,
   "metadata": {},
   "outputs": [
    {
     "name": "stdout",
     "output_type": "stream",
     "text": [
      "Status Code: 200\n",
      "Response:\n",
      "{\n",
      "  \"message\": \" Why did the platypus with the dope car never get lost?\\n\\nBecause he always followed the \\\"quack\\\" of the GPS!\",\n",
      "  \"role\": \"ai\"\n",
      "}\n"
     ]
    }
   ],
   "source": [
    "import requests\n",
    "import json\n",
    "\n",
    "# Sample dictionary to send in POST request\n",
    "sample_message = {\n",
    "    \"message\": \"Tell me a joke about a platypus who has a dope car\",\n",
    "    \"role\": \"human\"\n",
    "    }\n",
    "\n",
    "\n",
    "# Send POST request to localhost:8000/api endpoint\n",
    "response = requests.post(\n",
    "    \"http://localhost:8000/api\",\n",
    "    json=sample_message\n",
    ")\n",
    "\n",
    "# Print response\n",
    "print(\"Status Code:\", response.status_code)\n",
    "print(\"Response:\")\n",
    "print(json.dumps(response.json(), indent=2))\n"
   ]
  },
  {
   "cell_type": "code",
   "execution_count": 16,
   "metadata": {},
   "outputs": [
    {
     "data": {
      "text/plain": [
       "dict"
      ]
     },
     "execution_count": 16,
     "metadata": {},
     "output_type": "execute_result"
    }
   ],
   "source": [
    "import inspect\n",
    "\n",
    "def fn(payload) -> dict:\n",
    "    return {\n",
    "        'message': 'test',\n",
    "        'role': payload['role']\n",
    "    }\n",
    "\n",
    "inspect.signature(fn).return_annotation\n",
    "\n",
    "\n"
   ]
  }
 ],
 "metadata": {
  "kernelspec": {
   "display_name": "pyllments",
   "language": "python",
   "name": "python3"
  },
  "language_info": {
   "codemirror_mode": {
    "name": "ipython",
    "version": 3
   },
   "file_extension": ".py",
   "mimetype": "text/x-python",
   "name": "python",
   "nbconvert_exporter": "python",
   "pygments_lexer": "ipython3",
   "version": "3.12.7"
  }
 },
 "nbformat": 4,
 "nbformat_minor": 2
}
