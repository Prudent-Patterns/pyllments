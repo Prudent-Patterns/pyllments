{
 "cells": [
  {
   "cell_type": "markdown",
   "metadata": {},
   "source": [
    "# Load"
   ]
  },
  {
   "cell_type": "code",
   "execution_count": 1,
   "metadata": {},
   "outputs": [
    {
     "data": {
      "text/html": [
       "<script type=\"esms-options\">{\"shimMode\": true}</script><style>*[data-root-id],\n",
       "*[data-root-id] > * {\n",
       "  box-sizing: border-box;\n",
       "  font-family: var(--jp-ui-font-family);\n",
       "  font-size: var(--jp-ui-font-size1);\n",
       "  color: var(--vscode-editor-foreground, var(--jp-ui-font-color1));\n",
       "}\n",
       "\n",
       "/* Override VSCode background color */\n",
       ".cell-output-ipywidget-background:has(\n",
       "    > .cell-output-ipywidget-background > .lm-Widget > *[data-root-id]\n",
       "  ),\n",
       ".cell-output-ipywidget-background:has(> .lm-Widget > *[data-root-id]) {\n",
       "  background-color: transparent !important;\n",
       "}\n",
       "</style>"
      ]
     },
     "metadata": {},
     "output_type": "display_data"
    },
    {
     "data": {
      "application/javascript": "(function(root) {\n  function now() {\n    return new Date();\n  }\n\n  const force = true;\n  const py_version = '3.6.0'.replace('rc', '-rc.').replace('.dev', '-dev.');\n  const reloading = false;\n  const Bokeh = root.Bokeh;\n\n  // Set a timeout for this load but only if we are not already initializing\n  if (typeof (root._bokeh_timeout) === \"undefined\" || (force || !root._bokeh_is_initializing)) {\n    root._bokeh_timeout = Date.now() + 5000;\n    root._bokeh_failed_load = false;\n  }\n\n  function run_callbacks() {\n    try {\n      root._bokeh_onload_callbacks.forEach(function(callback) {\n        if (callback != null)\n          callback();\n      });\n    } finally {\n      delete root._bokeh_onload_callbacks;\n    }\n    console.debug(\"Bokeh: all callbacks have finished\");\n  }\n\n  function load_libs(css_urls, js_urls, js_modules, js_exports, callback) {\n    if (css_urls == null) css_urls = [];\n    if (js_urls == null) js_urls = [];\n    if (js_modules == null) js_modules = [];\n    if (js_exports == null) js_exports = {};\n\n    root._bokeh_onload_callbacks.push(callback);\n\n    if (root._bokeh_is_loading > 0) {\n      // Don't load bokeh if it is still initializing\n      console.debug(\"Bokeh: BokehJS is being loaded, scheduling callback at\", now());\n      return null;\n    } else if (js_urls.length === 0 && js_modules.length === 0 && Object.keys(js_exports).length === 0) {\n      // There is nothing to load\n      run_callbacks();\n      return null;\n    }\n\n    function on_load() {\n      root._bokeh_is_loading--;\n      if (root._bokeh_is_loading === 0) {\n        console.debug(\"Bokeh: all BokehJS libraries/stylesheets loaded\");\n        run_callbacks()\n      }\n    }\n    window._bokeh_on_load = on_load\n\n    function on_error(e) {\n      const src_el = e.srcElement\n      console.error(\"failed to load \" + (src_el.href || src_el.src));\n    }\n\n    const skip = [];\n    if (window.requirejs) {\n      window.requirejs.config({'packages': {}, 'paths': {}, 'shim': {}});\n      root._bokeh_is_loading = css_urls.length + 0;\n    } else {\n      root._bokeh_is_loading = css_urls.length + js_urls.length + js_modules.length + Object.keys(js_exports).length;\n    }\n\n    const existing_stylesheets = []\n    const links = document.getElementsByTagName('link')\n    for (let i = 0; i < links.length; i++) {\n      const link = links[i]\n      if (link.href != null) {\n        existing_stylesheets.push(link.href)\n      }\n    }\n    for (let i = 0; i < css_urls.length; i++) {\n      const url = css_urls[i];\n      const escaped = encodeURI(url)\n      if (existing_stylesheets.indexOf(escaped) !== -1) {\n        on_load()\n        continue;\n      }\n      const element = document.createElement(\"link\");\n      element.onload = on_load;\n      element.onerror = on_error;\n      element.rel = \"stylesheet\";\n      element.type = \"text/css\";\n      element.href = url;\n      console.debug(\"Bokeh: injecting link tag for BokehJS stylesheet: \", url);\n      document.body.appendChild(element);\n    }    var existing_scripts = []\n    const scripts = document.getElementsByTagName('script')\n    for (let i = 0; i < scripts.length; i++) {\n      var script = scripts[i]\n      if (script.src != null) {\n        existing_scripts.push(script.src)\n      }\n    }\n    for (let i = 0; i < js_urls.length; i++) {\n      const url = js_urls[i];\n      const escaped = encodeURI(url)\n      if (skip.indexOf(escaped) !== -1 || existing_scripts.indexOf(escaped) !== -1) {\n        if (!window.requirejs) {\n          on_load();\n        }\n        continue;\n      }\n      const element = document.createElement('script');\n      element.onload = on_load;\n      element.onerror = on_error;\n      element.async = false;\n      element.src = url;\n      console.debug(\"Bokeh: injecting script tag for BokehJS library: \", url);\n      document.head.appendChild(element);\n    }\n    for (let i = 0; i < js_modules.length; i++) {\n      const url = js_modules[i];\n      const escaped = encodeURI(url)\n      if (skip.indexOf(escaped) !== -1 || existing_scripts.indexOf(escaped) !== -1) {\n        if (!window.requirejs) {\n          on_load();\n        }\n        continue;\n      }\n      var element = document.createElement('script');\n      element.onload = on_load;\n      element.onerror = on_error;\n      element.async = false;\n      element.src = url;\n      element.type = \"module\";\n      console.debug(\"Bokeh: injecting script tag for BokehJS library: \", url);\n      document.head.appendChild(element);\n    }\n    for (const name in js_exports) {\n      const url = js_exports[name];\n      const escaped = encodeURI(url)\n      if (skip.indexOf(escaped) >= 0 || root[name] != null) {\n        if (!window.requirejs) {\n          on_load();\n        }\n        continue;\n      }\n      var element = document.createElement('script');\n      element.onerror = on_error;\n      element.async = false;\n      element.type = \"module\";\n      console.debug(\"Bokeh: injecting script tag for BokehJS library: \", url);\n      element.textContent = `\n      import ${name} from \"${url}\"\n      window.${name} = ${name}\n      window._bokeh_on_load()\n      `\n      document.head.appendChild(element);\n    }\n    if (!js_urls.length && !js_modules.length) {\n      on_load()\n    }\n  };\n\n  function inject_raw_css(css) {\n    const element = document.createElement(\"style\");\n    element.appendChild(document.createTextNode(css));\n    document.body.appendChild(element);\n  }\n\n  const js_urls = [\"https://cdn.holoviz.org/panel/1.5.2/dist/bundled/reactiveesm/es-module-shims@^1.10.0/dist/es-module-shims.min.js\", \"https://cdn.bokeh.org/bokeh/release/bokeh-3.6.0.min.js\", \"https://cdn.bokeh.org/bokeh/release/bokeh-gl-3.6.0.min.js\", \"https://cdn.bokeh.org/bokeh/release/bokeh-widgets-3.6.0.min.js\", \"https://cdn.bokeh.org/bokeh/release/bokeh-tables-3.6.0.min.js\", \"https://cdn.holoviz.org/panel/1.5.2/dist/panel.min.js\"];\n  const js_modules = [];\n  const js_exports = {};\n  const css_urls = [];\n  const inline_js = [    function(Bokeh) {\n      Bokeh.set_log_level(\"info\");\n    },\nfunction(Bokeh) {} // ensure no trailing comma for IE\n  ];\n\n  function run_inline_js() {\n    if ((root.Bokeh !== undefined) || (force === true)) {\n      for (let i = 0; i < inline_js.length; i++) {\n        try {\n          inline_js[i].call(root, root.Bokeh);\n        } catch(e) {\n          if (!reloading) {\n            throw e;\n          }\n        }\n      }\n      // Cache old bokeh versions\n      if (Bokeh != undefined && !reloading) {\n        var NewBokeh = root.Bokeh;\n        if (Bokeh.versions === undefined) {\n          Bokeh.versions = new Map();\n        }\n        if (NewBokeh.version !== Bokeh.version) {\n          Bokeh.versions.set(NewBokeh.version, NewBokeh)\n        }\n        root.Bokeh = Bokeh;\n      }\n    } else if (Date.now() < root._bokeh_timeout) {\n      setTimeout(run_inline_js, 100);\n    } else if (!root._bokeh_failed_load) {\n      console.log(\"Bokeh: BokehJS failed to load within specified timeout.\");\n      root._bokeh_failed_load = true;\n    }\n    root._bokeh_is_initializing = false\n  }\n\n  function load_or_wait() {\n    // Implement a backoff loop that tries to ensure we do not load multiple\n    // versions of Bokeh and its dependencies at the same time.\n    // In recent versions we use the root._bokeh_is_initializing flag\n    // to determine whether there is an ongoing attempt to initialize\n    // bokeh, however for backward compatibility we also try to ensure\n    // that we do not start loading a newer (Panel>=1.0 and Bokeh>3) version\n    // before older versions are fully initialized.\n    if (root._bokeh_is_initializing && Date.now() > root._bokeh_timeout) {\n      // If the timeout and bokeh was not successfully loaded we reset\n      // everything and try loading again\n      root._bokeh_timeout = Date.now() + 5000;\n      root._bokeh_is_initializing = false;\n      root._bokeh_onload_callbacks = undefined;\n      root._bokeh_is_loading = 0\n      console.log(\"Bokeh: BokehJS was loaded multiple times but one version failed to initialize.\");\n      load_or_wait();\n    } else if (root._bokeh_is_initializing || (typeof root._bokeh_is_initializing === \"undefined\" && root._bokeh_onload_callbacks !== undefined)) {\n      setTimeout(load_or_wait, 100);\n    } else {\n      root._bokeh_is_initializing = true\n      root._bokeh_onload_callbacks = []\n      const bokeh_loaded = root.Bokeh != null && (root.Bokeh.version === py_version || (root.Bokeh.versions !== undefined && root.Bokeh.versions.has(py_version)));\n      if (!reloading && !bokeh_loaded) {\n        if (root.Bokeh) {\n          root.Bokeh = undefined;\n        }\n        console.debug(\"Bokeh: BokehJS not loaded, scheduling load and callback at\", now());\n      }\n      load_libs(css_urls, js_urls, js_modules, js_exports, function() {\n        console.debug(\"Bokeh: BokehJS plotting callback run at\", now());\n        run_inline_js();\n      });\n    }\n  }\n  // Give older versions of the autoload script a head-start to ensure\n  // they initialize before we start loading newer version.\n  setTimeout(load_or_wait, 100)\n}(window));",
      "application/vnd.holoviews_load.v0+json": ""
     },
     "metadata": {},
     "output_type": "display_data"
    },
    {
     "data": {
      "application/javascript": "\nif ((window.PyViz === undefined) || (window.PyViz instanceof HTMLElement)) {\n  window.PyViz = {comms: {}, comm_status:{}, kernels:{}, receivers: {}, plot_index: []}\n}\n\n\n    function JupyterCommManager() {\n    }\n\n    JupyterCommManager.prototype.register_target = function(plot_id, comm_id, msg_handler) {\n      if (window.comm_manager || ((window.Jupyter !== undefined) && (Jupyter.notebook.kernel != null))) {\n        var comm_manager = window.comm_manager || Jupyter.notebook.kernel.comm_manager;\n        comm_manager.register_target(comm_id, function(comm) {\n          comm.on_msg(msg_handler);\n        });\n      } else if ((plot_id in window.PyViz.kernels) && (window.PyViz.kernels[plot_id])) {\n        window.PyViz.kernels[plot_id].registerCommTarget(comm_id, function(comm) {\n          comm.onMsg = msg_handler;\n        });\n      } else if (typeof google != 'undefined' && google.colab.kernel != null) {\n        google.colab.kernel.comms.registerTarget(comm_id, (comm) => {\n          var messages = comm.messages[Symbol.asyncIterator]();\n          function processIteratorResult(result) {\n            var message = result.value;\n            console.log(message)\n            var content = {data: message.data, comm_id};\n            var buffers = []\n            for (var buffer of message.buffers || []) {\n              buffers.push(new DataView(buffer))\n            }\n            var metadata = message.metadata || {};\n            var msg = {content, buffers, metadata}\n            msg_handler(msg);\n            return messages.next().then(processIteratorResult);\n          }\n          return messages.next().then(processIteratorResult);\n        })\n      }\n    }\n\n    JupyterCommManager.prototype.get_client_comm = function(plot_id, comm_id, msg_handler) {\n      if (comm_id in window.PyViz.comms) {\n        return window.PyViz.comms[comm_id];\n      } else if (window.comm_manager || ((window.Jupyter !== undefined) && (Jupyter.notebook.kernel != null))) {\n        var comm_manager = window.comm_manager || Jupyter.notebook.kernel.comm_manager;\n        var comm = comm_manager.new_comm(comm_id, {}, {}, {}, comm_id);\n        if (msg_handler) {\n          comm.on_msg(msg_handler);\n        }\n      } else if ((plot_id in window.PyViz.kernels) && (window.PyViz.kernels[plot_id])) {\n        var comm = window.PyViz.kernels[plot_id].connectToComm(comm_id);\n        comm.open();\n        if (msg_handler) {\n          comm.onMsg = msg_handler;\n        }\n      } else if (typeof google != 'undefined' && google.colab.kernel != null) {\n        var comm_promise = google.colab.kernel.comms.open(comm_id)\n        comm_promise.then((comm) => {\n          window.PyViz.comms[comm_id] = comm;\n          if (msg_handler) {\n            var messages = comm.messages[Symbol.asyncIterator]();\n            function processIteratorResult(result) {\n              var message = result.value;\n              var content = {data: message.data};\n              var metadata = message.metadata || {comm_id};\n              var msg = {content, metadata}\n              msg_handler(msg);\n              return messages.next().then(processIteratorResult);\n            }\n            return messages.next().then(processIteratorResult);\n          }\n        }) \n        var sendClosure = (data, metadata, buffers, disposeOnDone) => {\n          return comm_promise.then((comm) => {\n            comm.send(data, metadata, buffers, disposeOnDone);\n          });\n        };\n        var comm = {\n          send: sendClosure\n        };\n      }\n      window.PyViz.comms[comm_id] = comm;\n      return comm;\n    }\n    window.PyViz.comm_manager = new JupyterCommManager();\n    \n\n\nvar JS_MIME_TYPE = 'application/javascript';\nvar HTML_MIME_TYPE = 'text/html';\nvar EXEC_MIME_TYPE = 'application/vnd.holoviews_exec.v0+json';\nvar CLASS_NAME = 'output';\n\n/**\n * Render data to the DOM node\n */\nfunction render(props, node) {\n  var div = document.createElement(\"div\");\n  var script = document.createElement(\"script\");\n  node.appendChild(div);\n  node.appendChild(script);\n}\n\n/**\n * Handle when a new output is added\n */\nfunction handle_add_output(event, handle) {\n  var output_area = handle.output_area;\n  var output = handle.output;\n  if ((output.data == undefined) || (!output.data.hasOwnProperty(EXEC_MIME_TYPE))) {\n    return\n  }\n  var id = output.metadata[EXEC_MIME_TYPE][\"id\"];\n  var toinsert = output_area.element.find(\".\" + CLASS_NAME.split(' ')[0]);\n  if (id !== undefined) {\n    var nchildren = toinsert.length;\n    var html_node = toinsert[nchildren-1].children[0];\n    html_node.innerHTML = output.data[HTML_MIME_TYPE];\n    var scripts = [];\n    var nodelist = html_node.querySelectorAll(\"script\");\n    for (var i in nodelist) {\n      if (nodelist.hasOwnProperty(i)) {\n        scripts.push(nodelist[i])\n      }\n    }\n\n    scripts.forEach( function (oldScript) {\n      var newScript = document.createElement(\"script\");\n      var attrs = [];\n      var nodemap = oldScript.attributes;\n      for (var j in nodemap) {\n        if (nodemap.hasOwnProperty(j)) {\n          attrs.push(nodemap[j])\n        }\n      }\n      attrs.forEach(function(attr) { newScript.setAttribute(attr.name, attr.value) });\n      newScript.appendChild(document.createTextNode(oldScript.innerHTML));\n      oldScript.parentNode.replaceChild(newScript, oldScript);\n    });\n    if (JS_MIME_TYPE in output.data) {\n      toinsert[nchildren-1].children[1].textContent = output.data[JS_MIME_TYPE];\n    }\n    output_area._hv_plot_id = id;\n    if ((window.Bokeh !== undefined) && (id in Bokeh.index)) {\n      window.PyViz.plot_index[id] = Bokeh.index[id];\n    } else {\n      window.PyViz.plot_index[id] = null;\n    }\n  } else if (output.metadata[EXEC_MIME_TYPE][\"server_id\"] !== undefined) {\n    var bk_div = document.createElement(\"div\");\n    bk_div.innerHTML = output.data[HTML_MIME_TYPE];\n    var script_attrs = bk_div.children[0].attributes;\n    for (var i = 0; i < script_attrs.length; i++) {\n      toinsert[toinsert.length - 1].childNodes[1].setAttribute(script_attrs[i].name, script_attrs[i].value);\n    }\n    // store reference to server id on output_area\n    output_area._bokeh_server_id = output.metadata[EXEC_MIME_TYPE][\"server_id\"];\n  }\n}\n\n/**\n * Handle when an output is cleared or removed\n */\nfunction handle_clear_output(event, handle) {\n  var id = handle.cell.output_area._hv_plot_id;\n  var server_id = handle.cell.output_area._bokeh_server_id;\n  if (((id === undefined) || !(id in PyViz.plot_index)) && (server_id !== undefined)) { return; }\n  var comm = window.PyViz.comm_manager.get_client_comm(\"hv-extension-comm\", \"hv-extension-comm\", function () {});\n  if (server_id !== null) {\n    comm.send({event_type: 'server_delete', 'id': server_id});\n    return;\n  } else if (comm !== null) {\n    comm.send({event_type: 'delete', 'id': id});\n  }\n  delete PyViz.plot_index[id];\n  if ((window.Bokeh !== undefined) & (id in window.Bokeh.index)) {\n    var doc = window.Bokeh.index[id].model.document\n    doc.clear();\n    const i = window.Bokeh.documents.indexOf(doc);\n    if (i > -1) {\n      window.Bokeh.documents.splice(i, 1);\n    }\n  }\n}\n\n/**\n * Handle kernel restart event\n */\nfunction handle_kernel_cleanup(event, handle) {\n  delete PyViz.comms[\"hv-extension-comm\"];\n  window.PyViz.plot_index = {}\n}\n\n/**\n * Handle update_display_data messages\n */\nfunction handle_update_output(event, handle) {\n  handle_clear_output(event, {cell: {output_area: handle.output_area}})\n  handle_add_output(event, handle)\n}\n\nfunction register_renderer(events, OutputArea) {\n  function append_mime(data, metadata, element) {\n    // create a DOM node to render to\n    var toinsert = this.create_output_subarea(\n    metadata,\n    CLASS_NAME,\n    EXEC_MIME_TYPE\n    );\n    this.keyboard_manager.register_events(toinsert);\n    // Render to node\n    var props = {data: data, metadata: metadata[EXEC_MIME_TYPE]};\n    render(props, toinsert[0]);\n    element.append(toinsert);\n    return toinsert\n  }\n\n  events.on('output_added.OutputArea', handle_add_output);\n  events.on('output_updated.OutputArea', handle_update_output);\n  events.on('clear_output.CodeCell', handle_clear_output);\n  events.on('delete.Cell', handle_clear_output);\n  events.on('kernel_ready.Kernel', handle_kernel_cleanup);\n\n  OutputArea.prototype.register_mime_type(EXEC_MIME_TYPE, append_mime, {\n    safe: true,\n    index: 0\n  });\n}\n\nif (window.Jupyter !== undefined) {\n  try {\n    var events = require('base/js/events');\n    var OutputArea = require('notebook/js/outputarea').OutputArea;\n    if (OutputArea.prototype.mime_types().indexOf(EXEC_MIME_TYPE) == -1) {\n      register_renderer(events, OutputArea);\n    }\n  } catch(err) {\n  }\n}\n",
      "application/vnd.holoviews_load.v0+json": ""
     },
     "metadata": {},
     "output_type": "display_data"
    },
    {
     "data": {
      "application/vnd.holoviews_exec.v0+json": "",
      "text/html": [
       "<div id='584b5a59-96ed-452a-9682-0551ec765941'>\n",
       "  <div id=\"e392b09a-3553-484d-b9d9-33217ed55422\" data-root-id=\"584b5a59-96ed-452a-9682-0551ec765941\" style=\"display: contents;\"></div>\n",
       "</div>\n",
       "<script type=\"application/javascript\">(function(root) {\n",
       "  var docs_json = {\"d3bc249d-2890-4d43-a0fd-cc5b22cea79d\":{\"version\":\"3.6.0\",\"title\":\"Bokeh Application\",\"roots\":[{\"type\":\"object\",\"name\":\"panel.models.browser.BrowserInfo\",\"id\":\"584b5a59-96ed-452a-9682-0551ec765941\"},{\"type\":\"object\",\"name\":\"panel.models.comm_manager.CommManager\",\"id\":\"038a12f3-7391-4ea2-af5a-2da84191fe53\",\"attributes\":{\"plot_id\":\"584b5a59-96ed-452a-9682-0551ec765941\",\"comm_id\":\"b94d161b68c74b9cbf211b092ad5c5bf\",\"client_comm_id\":\"54de14f3bcaa4a9a94794ff56e8ce979\"}}],\"defs\":[{\"type\":\"model\",\"name\":\"ReactiveHTML1\"},{\"type\":\"model\",\"name\":\"FlexBox1\",\"properties\":[{\"name\":\"align_content\",\"kind\":\"Any\",\"default\":\"flex-start\"},{\"name\":\"align_items\",\"kind\":\"Any\",\"default\":\"flex-start\"},{\"name\":\"flex_direction\",\"kind\":\"Any\",\"default\":\"row\"},{\"name\":\"flex_wrap\",\"kind\":\"Any\",\"default\":\"wrap\"},{\"name\":\"gap\",\"kind\":\"Any\",\"default\":\"\"},{\"name\":\"justify_content\",\"kind\":\"Any\",\"default\":\"flex-start\"}]},{\"type\":\"model\",\"name\":\"FloatPanel1\",\"properties\":[{\"name\":\"config\",\"kind\":\"Any\",\"default\":{\"type\":\"map\"}},{\"name\":\"contained\",\"kind\":\"Any\",\"default\":true},{\"name\":\"position\",\"kind\":\"Any\",\"default\":\"right-top\"},{\"name\":\"offsetx\",\"kind\":\"Any\",\"default\":null},{\"name\":\"offsety\",\"kind\":\"Any\",\"default\":null},{\"name\":\"theme\",\"kind\":\"Any\",\"default\":\"primary\"},{\"name\":\"status\",\"kind\":\"Any\",\"default\":\"normalized\"}]},{\"type\":\"model\",\"name\":\"GridStack1\",\"properties\":[{\"name\":\"mode\",\"kind\":\"Any\",\"default\":\"warn\"},{\"name\":\"ncols\",\"kind\":\"Any\",\"default\":null},{\"name\":\"nrows\",\"kind\":\"Any\",\"default\":null},{\"name\":\"allow_resize\",\"kind\":\"Any\",\"default\":true},{\"name\":\"allow_drag\",\"kind\":\"Any\",\"default\":true},{\"name\":\"state\",\"kind\":\"Any\",\"default\":[]}]},{\"type\":\"model\",\"name\":\"drag1\",\"properties\":[{\"name\":\"slider_width\",\"kind\":\"Any\",\"default\":5},{\"name\":\"slider_color\",\"kind\":\"Any\",\"default\":\"black\"},{\"name\":\"value\",\"kind\":\"Any\",\"default\":50}]},{\"type\":\"model\",\"name\":\"click1\",\"properties\":[{\"name\":\"terminal_output\",\"kind\":\"Any\",\"default\":\"\"},{\"name\":\"debug_name\",\"kind\":\"Any\",\"default\":\"\"},{\"name\":\"clears\",\"kind\":\"Any\",\"default\":0}]},{\"type\":\"model\",\"name\":\"FastWrapper1\",\"properties\":[{\"name\":\"object\",\"kind\":\"Any\",\"default\":null},{\"name\":\"style\",\"kind\":\"Any\",\"default\":null}]},{\"type\":\"model\",\"name\":\"NotificationAreaBase1\",\"properties\":[{\"name\":\"js_events\",\"kind\":\"Any\",\"default\":{\"type\":\"map\"}},{\"name\":\"position\",\"kind\":\"Any\",\"default\":\"bottom-right\"},{\"name\":\"_clear\",\"kind\":\"Any\",\"default\":0}]},{\"type\":\"model\",\"name\":\"NotificationArea1\",\"properties\":[{\"name\":\"js_events\",\"kind\":\"Any\",\"default\":{\"type\":\"map\"}},{\"name\":\"notifications\",\"kind\":\"Any\",\"default\":[]},{\"name\":\"position\",\"kind\":\"Any\",\"default\":\"bottom-right\"},{\"name\":\"_clear\",\"kind\":\"Any\",\"default\":0},{\"name\":\"types\",\"kind\":\"Any\",\"default\":[{\"type\":\"map\",\"entries\":[[\"type\",\"warning\"],[\"background\",\"#ffc107\"],[\"icon\",{\"type\":\"map\",\"entries\":[[\"className\",\"fas fa-exclamation-triangle\"],[\"tagName\",\"i\"],[\"color\",\"white\"]]}]]},{\"type\":\"map\",\"entries\":[[\"type\",\"info\"],[\"background\",\"#007bff\"],[\"icon\",{\"type\":\"map\",\"entries\":[[\"className\",\"fas fa-info-circle\"],[\"tagName\",\"i\"],[\"color\",\"white\"]]}]]}]}]},{\"type\":\"model\",\"name\":\"Notification\",\"properties\":[{\"name\":\"background\",\"kind\":\"Any\",\"default\":null},{\"name\":\"duration\",\"kind\":\"Any\",\"default\":3000},{\"name\":\"icon\",\"kind\":\"Any\",\"default\":null},{\"name\":\"message\",\"kind\":\"Any\",\"default\":\"\"},{\"name\":\"notification_type\",\"kind\":\"Any\",\"default\":null},{\"name\":\"_destroyed\",\"kind\":\"Any\",\"default\":false}]},{\"type\":\"model\",\"name\":\"TemplateActions1\",\"properties\":[{\"name\":\"open_modal\",\"kind\":\"Any\",\"default\":0},{\"name\":\"close_modal\",\"kind\":\"Any\",\"default\":0}]},{\"type\":\"model\",\"name\":\"BootstrapTemplateActions1\",\"properties\":[{\"name\":\"open_modal\",\"kind\":\"Any\",\"default\":0},{\"name\":\"close_modal\",\"kind\":\"Any\",\"default\":0}]},{\"type\":\"model\",\"name\":\"TemplateEditor1\",\"properties\":[{\"name\":\"layout\",\"kind\":\"Any\",\"default\":[]}]},{\"type\":\"model\",\"name\":\"MaterialTemplateActions1\",\"properties\":[{\"name\":\"open_modal\",\"kind\":\"Any\",\"default\":0},{\"name\":\"close_modal\",\"kind\":\"Any\",\"default\":0}]},{\"type\":\"model\",\"name\":\"ReactiveESM1\"},{\"type\":\"model\",\"name\":\"JSComponent1\"},{\"type\":\"model\",\"name\":\"ReactComponent1\"},{\"type\":\"model\",\"name\":\"AnyWidgetComponent1\"},{\"type\":\"model\",\"name\":\"request_value1\",\"properties\":[{\"name\":\"fill\",\"kind\":\"Any\",\"default\":\"none\"},{\"name\":\"_synced\",\"kind\":\"Any\",\"default\":null},{\"name\":\"_request_sync\",\"kind\":\"Any\",\"default\":0}]}]}};\n",
       "  var render_items = [{\"docid\":\"d3bc249d-2890-4d43-a0fd-cc5b22cea79d\",\"roots\":{\"584b5a59-96ed-452a-9682-0551ec765941\":\"e392b09a-3553-484d-b9d9-33217ed55422\"},\"root_ids\":[\"584b5a59-96ed-452a-9682-0551ec765941\"]}];\n",
       "  var docs = Object.values(docs_json)\n",
       "  if (!docs) {\n",
       "    return\n",
       "  }\n",
       "  const py_version = docs[0].version.replace('rc', '-rc.').replace('.dev', '-dev.')\n",
       "  async function embed_document(root) {\n",
       "    var Bokeh = get_bokeh(root)\n",
       "    await Bokeh.embed.embed_items_notebook(docs_json, render_items);\n",
       "    for (const render_item of render_items) {\n",
       "      for (const root_id of render_item.root_ids) {\n",
       "\tconst id_el = document.getElementById(root_id)\n",
       "\tif (id_el.children.length && id_el.children[0].hasAttribute('data-root-id')) {\n",
       "\t  const root_el = id_el.children[0]\n",
       "\t  root_el.id = root_el.id + '-rendered'\n",
       "\t  for (const child of root_el.children) {\n",
       "            // Ensure JupyterLab does not capture keyboard shortcuts\n",
       "            // see: https://jupyterlab.readthedocs.io/en/4.1.x/extension/notebook.html#keyboard-interaction-model\n",
       "\t    child.setAttribute('data-lm-suppress-shortcuts', 'true')\n",
       "\t  }\n",
       "\t}\n",
       "      }\n",
       "    }\n",
       "  }\n",
       "  function get_bokeh(root) {\n",
       "    if (root.Bokeh === undefined) {\n",
       "      return null\n",
       "    } else if (root.Bokeh.version !== py_version) {\n",
       "      if (root.Bokeh.versions === undefined || !root.Bokeh.versions.has(py_version)) {\n",
       "\treturn null\n",
       "      }\n",
       "      return root.Bokeh.versions.get(py_version);\n",
       "    } else if (root.Bokeh.version === py_version) {\n",
       "      return root.Bokeh\n",
       "    }\n",
       "    return null\n",
       "  }\n",
       "  function is_loaded(root) {\n",
       "    var Bokeh = get_bokeh(root)\n",
       "    return (Bokeh != null && Bokeh.Panel !== undefined)\n",
       "  }\n",
       "  if (is_loaded(root)) {\n",
       "    embed_document(root);\n",
       "  } else {\n",
       "    var attempts = 0;\n",
       "    var timer = setInterval(function(root) {\n",
       "      if (is_loaded(root)) {\n",
       "        clearInterval(timer);\n",
       "        embed_document(root);\n",
       "      } else if (document.readyState == \"complete\") {\n",
       "        attempts++;\n",
       "        if (attempts > 200) {\n",
       "          clearInterval(timer);\n",
       "\t  var Bokeh = get_bokeh(root)\n",
       "\t  if (Bokeh == null || Bokeh.Panel == null) {\n",
       "            console.warn(\"Panel: ERROR: Unable to run Panel code because Bokeh or Panel library is missing\");\n",
       "\t  } else {\n",
       "\t    console.warn(\"Panel: WARNING: Attempting to render but not all required libraries could be resolved.\")\n",
       "\t    embed_document(root)\n",
       "\t  }\n",
       "        }\n",
       "      }\n",
       "    }, 25, root)\n",
       "  }\n",
       "})(window);</script>"
      ]
     },
     "metadata": {
      "application/vnd.holoviews_exec.v0+json": {
       "id": "584b5a59-96ed-452a-9682-0551ec765941"
      }
     },
     "output_type": "display_data"
    }
   ],
   "source": [
    "import panel as pn\n",
    "from dotenv import load_dotenv\n",
    "import param\n",
    "\n",
    "import sys\n",
    "sys.path.append('..')\n",
    "\n",
    "load_dotenv()\n",
    "\n",
    "pn.extension()"
   ]
  },
  {
   "cell_type": "code",
   "execution_count": 16,
   "metadata": {},
   "outputs": [
    {
     "data": {
      "text/plain": [
       "<loguru.logger handlers=[(id=5, level=20, sink=stdout), (id=6, level=20, sink='file_loader.log')]>"
      ]
     },
     "execution_count": 16,
     "metadata": {},
     "output_type": "execute_result"
    }
   ],
   "source": [
    "# Try to use --design-... variables first\n",
    "pn.config.global_css = [\n",
    "    \"\"\"\n",
    "@import url('https://fonts.googleapis.com/css2?family=Hanken+Grotesk:ital,wght@0,100..900;1,100..900&family=Ubuntu:ital,wght@0,300;0,400;0,500;0,700;1,300;1,400;1,500;1,700&display=swap');\n",
    "body {\n",
    "    --primary-background-color: #0C1314;\n",
    "    --secondary-background-color: #111926;\n",
    "    --light-outline-color: #455368;\n",
    "    --primary-accent-color: #D33A4B;\n",
    "    --secondary-accent-color: #EDB737;\n",
    "    --tertiary-accent-color: #12B86C;\n",
    "    --white: #F4F6F8;\n",
    "    --black: #353839;\n",
    "    --faded-text-color: #6083B8;\n",
    "\n",
    "    --base-font: 'Hanken Grotesk', sans-serif;\n",
    "    --bokeh-base-font: 'Hanken Grotesk', sans-serif;\n",
    "    --bokeh-font-size: 16px;\n",
    "    --line-height: 1.55;\n",
    "    --design-background-text-color: var(--white);\n",
    "\n",
    "    \n",
    "    background-color: var(--primary-background-color);\n",
    "    /* Centering Body */\n",
    "    display: flex;\n",
    "    justify-content: center;\n",
    "    align-items: center;\n",
    "}\n",
    "\"\"\"\n",
    "]\n",
    "\n",
    "# Icon asset loading\n",
    "assets_map = {'assets': '/workspaces/pyllments/pyllments/assets'}\n",
    "pn.config.css_files = ['assets/file_icons/tabler-icons-outline.min.css']\n",
    "\n",
    "def serve(servable, **kwargs):\n",
    "    return pn.serve(servable, static_dirs=assets_map, **kwargs)\n",
    "\n",
    "from pyllments.logging import setup_logging\n",
    "setup_logging(log_file='file_loader.log', stdout_log_level='INFO', file_log_level='INFO')\n",
    "\n"
   ]
  },
  {
   "cell_type": "markdown",
   "metadata": {},
   "source": [
    "# Main"
   ]
  },
  {
   "cell_type": "code",
   "execution_count": null,
   "metadata": {},
   "outputs": [],
   "source": []
  },
  {
   "cell_type": "code",
   "execution_count": 11,
   "metadata": {},
   "outputs": [
    {
     "name": "stdout",
     "output_type": "stream",
     "text": [
      "Launching server at http://localhost:42849\n"
     ]
    },
    {
     "name": "stderr",
     "output_type": "stream",
     "text": [
      "WARNING:tornado.access:404 GET /assets/file_icons/tabler-icons-outline.min.css (127.0.0.1) 0.21ms\n",
      "WARNING:tornado.access:404 GET /assets/file_icons/tabler-icons-outline.min.css (127.0.0.1) 0.54ms\n",
      "WARNING:tornado.access:404 GET /assets/file_icons/tabler-icons-outline.min.css (127.0.0.1) 0.21ms\n",
      "WARNING:tornado.access:404 GET /assets/file_icons/tabler-icons-outline.min.css (127.0.0.1) 0.23ms\n"
     ]
    }
   ],
   "source": [
    "from pyllments.elements.file_loader import FileLoaderElement\n",
    "\n",
    "fl = FileLoaderElement()\n",
    "\n",
    "file_loader_view = fl.create_file_loader_view(sizing_mode='fixed', width=300, height=400)\n",
    "# file_input_view = fl.create_file_input_view(width=200, height=200)\n",
    "# srv = pn.serve(file_input_view)\n",
    "srv = pn.serve(file_loader_view)"
   ]
  },
  {
   "cell_type": "code",
   "execution_count": 6,
   "metadata": {},
   "outputs": [
    {
     "name": "stdout",
     "output_type": "stream",
     "text": [
      "Launching server at http://localhost:34365\n"
     ]
    },
    {
     "name": "stderr",
     "output_type": "stream",
     "text": [
      "WARNING:tornado.access:404 GET /assets/file_icons/tabler-icons-outline.min.css (127.0.0.1) 0.21ms\n",
      "WARNING:tornado.access:404 GET /assets/file_icons/tabler-icons-outline.min.css (127.0.0.1) 2.27ms\n"
     ]
    }
   ],
   "source": [
    "from pyllments.payloads.file import FilePayload\n",
    "\n",
    "fp = FilePayload(name='test.png', b_file=b'test', mime_type='image/png')\n",
    "fv = fp.create_file_view()\n",
    "\n",
    "sv = pn.serve(fv)\n"
   ]
  },
  {
   "cell_type": "code",
   "execution_count": 19,
   "metadata": {},
   "outputs": [
    {
     "name": "stdout",
     "output_type": "stream",
     "text": [
      "\n"
     ]
    }
   ],
   "source": [
    "print(fv[1].object)"
   ]
  },
  {
   "cell_type": "code",
   "execution_count": 7,
   "metadata": {},
   "outputs": [],
   "source": [
    "s.stop()"
   ]
  },
  {
   "cell_type": "code",
   "execution_count": 8,
   "metadata": {},
   "outputs": [
    {
     "name": "stdout",
     "output_type": "stream",
     "text": [
      "Launching server at http://localhost:34573\n"
     ]
    }
   ],
   "source": [
    "\n",
    "s = serve(pn.pane.Markdown('# something here'))\n"
   ]
  },
  {
   "cell_type": "code",
   "execution_count": 9,
   "metadata": {},
   "outputs": [],
   "source": [
    "s.stop()"
   ]
  },
  {
   "cell_type": "code",
   "execution_count": 6,
   "metadata": {},
   "outputs": [
    {
     "name": "stderr",
     "output_type": "stream",
     "text": [
      "WARNING:tornado.access:404 GET /assets/file_icons/tabler-icons-outline.min.css (127.0.0.1) 0.23ms\n",
      "WARNING:tornado.access:404 GET /assets/file_icons/tabler-icons-outline.min.css (127.0.0.1) 0.21ms\n",
      "WARNING:tornado.access:404 GET /assets/file_icons/tabler-icons-outline.min.css (127.0.0.1) 0.21ms\n",
      "WARNING:tornado.access:404 GET /assets/file_icons/tabler-icons-outline.min.css (127.0.0.1) 0.22ms\n"
     ]
    }
   ],
   "source": [
    "fl.file_input_view.stylesheets = []"
   ]
  },
  {
   "cell_type": "code",
   "execution_count": 8,
   "metadata": {},
   "outputs": [
    {
     "name": "stdout",
     "output_type": "stream",
     "text": [
      "Column(sizing_mode='stretch_both')\n",
      "    [0] Row(sizing_mode='stretch_width', stylesheets=[':host {\\n   ...])\n",
      "        [0] HTML(str, align='center', stylesheets=[':host {\\n   ...])\n",
      "        [1] Markdown(str, stylesheets=['p {\\n    margin: 1...])\n"
     ]
    }
   ],
   "source": [
    "print(fl.file_container_view)"
   ]
  },
  {
   "cell_type": "code",
   "execution_count": 9,
   "metadata": {},
   "outputs": [
    {
     "name": "stdout",
     "output_type": "stream",
     "text": [
      "Column(sizing_mode='stretch_both')\n"
     ]
    }
   ],
   "source": [
    "print(fl.file_container_view)"
   ]
  },
  {
   "cell_type": "code",
   "execution_count": 7,
   "metadata": {},
   "outputs": [
    {
     "data": {
      "text/html": [
       "<style>\n",
       ".param-doc-tooltip{\n",
       "  position: relative;\n",
       "  cursor: help;\n",
       "}\n",
       ".param-doc-tooltip:hover:after{\n",
       "  content: attr(data-tooltip);\n",
       "  background-color: black;\n",
       "  color: #fff;\n",
       "  border-radius: 3px;\n",
       "  padding: 10px;\n",
       "  position: absolute;\n",
       "  z-index: 1;\n",
       "  top: -5px;\n",
       "  left: 100%;\n",
       "  margin-left: 10px;\n",
       "  min-width: 250px;\n",
       "}\n",
       ".param-doc-tooltip:hover:before {\n",
       "  content: \"\";\n",
       "  position: absolute;\n",
       "  top: 50%;\n",
       "  left: 100%;\n",
       "  margin-top: -5px;\n",
       "  border-width: 5px;\n",
       "  border-style: solid;\n",
       "  border-color: transparent black transparent transparent;\n",
       "}\n",
       "</style>\n",
       "<details  open>\n",
       " <summary style=\"display:list-item; outline:none;\">\n",
       "  <tt>FileModel()</tt>\n",
       " </summary>\n",
       " <div style=\"padding-left:10px; padding-bottom:5px;\">\n",
       "  <table style=\"max-width:100%; border:1px solid #AAAAAA;\">\n",
       "   <tr><th style=\"text-align:left;\">Name</th><th style=\"text-align:left;\">Value</th><th style=\"text-align:left;\">Type</th><th>Range</th></tr>\n",
       "<tr>  <td><p style=\"margin-bottom: 0px;\" class=\"param-doc-tooltip\" data-tooltip=\"Bytes object of file\">b_file</p></td>  <td style=\"max-width: 200px; text-align:left;\">b&#x27;\\x89PNG\\r\\n\\x1a\\n\\x00\\x00\\..</td>  <td style=\"text-align:left;\">ClassSelector</td>  <td style=\"max-width: 300px;\"><i>nullable</i> bytes</td></tr>\n",
       "<tr>  <td><p style=\"margin-bottom: 0px;\" class=\"param-doc-tooltip\" data-tooltip=\"Name of file\">filename</p></td>  <td style=\"max-width: 200px; text-align:left;\">&#x27;Clipboard01.png&#x27;</td>  <td style=\"text-align:left;\">String</td>  <td style=\"max-width: 300px;\"></td></tr>\n",
       "<tr>  <td><p style=\"margin-bottom: 0px;\" class=\"param-doc-tooltip\" data-tooltip=\"Local path of file\">local_path</p></td>  <td style=\"max-width: 200px; text-align:left;\">&#x27;Clipboard01.png&#x27;</td>  <td style=\"text-align:left;\">String</td>  <td style=\"max-width: 300px;\"></td></tr>\n",
       "<tr>  <td><p style=\"margin-bottom: 0px;\" class=\"param-doc-tooltip\" data-tooltip=\"Mime type of file\">mime_type</p></td>  <td style=\"max-width: 200px; text-align:left;\">&#x27;image/png&#x27;</td>  <td style=\"text-align:left;\">String</td>  <td style=\"max-width: 300px;\"></td></tr>\n",
       "<tr>  <td><p style=\"margin-bottom: 0px;\" class=\"param-doc-tooltip\" data-tooltip=\"String identifier for this object.\">name</p></td>  <td style=\"max-width: 200px; text-align:left;\">&#x27;FileModel00133&#x27;</td>  <td style=\"text-align:left;\">String</td>  <td style=\"max-width: 300px;\"><i>nullable</i> <i>constant</i></td></tr>\n",
       "<tr>  <td><p style=\"margin-bottom: 0px;\" class=\"param-doc-tooltip\" data-tooltip=\"Remote path of file\">remote_path</p></td>  <td style=\"max-width: 200px; text-align:left;\">&#x27;&#x27;</td>  <td style=\"text-align:left;\">String</td>  <td style=\"max-width: 300px;\"></td></tr>\n",
       "\n",
       "  </table>\n",
       " </div>\n",
       "</details>\n"
      ],
      "text/plain": [
       "<param.parameterized.Parameters at 0x7f1856169940>"
      ]
     },
     "execution_count": 7,
     "metadata": {},
     "output_type": "execute_result"
    },
    {
     "name": "stderr",
     "output_type": "stream",
     "text": [
      "WARNING:tornado.access:404 GET /assets/file_icons/tabler-icons-outline.min.css (127.0.0.1) 0.21ms\n",
      "WARNING:tornado.access:404 GET /assets/file_icons/tabler-icons-outline.min.css (127.0.0.1) 0.30ms\n"
     ]
    }
   ],
   "source": [
    "fl.model.file_list[0]."
   ]
  },
  {
   "cell_type": "code",
   "execution_count": null,
   "metadata": {},
   "outputs": [],
   "source": [
    "css = \"\"\"\n",
    "\n",
    "\"\"\""
   ]
  },
  {
   "cell_type": "code",
   "execution_count": 36,
   "metadata": {},
   "outputs": [
    {
     "name": "stderr",
     "output_type": "stream",
     "text": [
      "WARNING:tornado.access:404 GET /assets/file_icons/tabler-icons-outline.min.css (127.0.0.1) 0.20ms\n",
      "WARNING:tornado.access:404 GET /assets/file_icons/tabler-icons-outline.min.css (127.0.0.1) 0.20ms\n",
      "WARNING:tornado.access:404 GET /assets/file_icons/tabler-icons-outline.min.css (127.0.0.1) 0.20ms\n",
      "WARNING:tornado.access:404 GET /assets/file_icons/tabler-icons-outline.min.css (127.0.0.1) 0.19ms\n",
      "WARNING:tornado.access:404 GET /assets/file_icons/tabler-icons-outline.min.css (127.0.0.1) 0.19ms\n"
     ]
    }
   ],
   "source": [
    "file_loader_view[0].stylesheets = []"
   ]
  },
  {
   "cell_type": "code",
   "execution_count": 10,
   "metadata": {},
   "outputs": [],
   "source": [
    "payload_view = fl.model.file_list[0].create_file_view()"
   ]
  },
  {
   "cell_type": "code",
   "execution_count": 13,
   "metadata": {},
   "outputs": [
    {
     "data": {
      "application/vnd.jupyter.widget-view+json": {
       "model_id": "7452720f2c2c4d119b9240bba954635e",
       "version_major": 2,
       "version_minor": 0
      },
      "text/plain": [
       "BokehModel(combine_events=True, render_bundle={'docs_json': {'6f0c0977-9abf-493c-b89f-e0aed3d386a8': {'version…"
      ]
     },
     "execution_count": 13,
     "metadata": {},
     "output_type": "execute_result"
    }
   ],
   "source": [
    "payload_view"
   ]
  },
  {
   "cell_type": "code",
   "execution_count": 41,
   "metadata": {},
   "outputs": [
    {
     "data": {
      "text/plain": [
       "Watcher(inst=FileInput(sizing_mode='stretch_width', value=b''), cls=<class 'panel.widgets.input.FileInput'>, fn=<function new_file at 0x7f6079ece0c0>, mode='args', onlychanged=True, parameter_names=('value',), what='value', queued=False, precedence=0)"
      ]
     },
     "execution_count": 41,
     "metadata": {},
     "output_type": "execute_result"
    },
    {
     "name": "stdout",
     "output_type": "stream",
     "text": [
      "Event(what='value', name='value', obj=FileInput(filename='delve.txt', mime_type='text/plain', sizing_mode='stretch_width', value=b'delve delve d...), cls=FileInput(filename='delve.txt', mime_type='text/plain', sizing_mode='stretch_width', value=b'delve delve d...), old=b'', new=b'delve delve delve delve delve delve delve delve delve delve delve delve delve delve delve delve delve delve delve delve delve delve delve delve delve delve delve delve delve delve delve delve delve delve delve delve delve delve delve delve delve delve delve delve delve delve delve delve delve delve delve delve delve delve delve delve delve delve delve delve delve delve delve delve delve delve delve delve delve delve delve delve delve delve delve delve delve delve delve delve delve delve delve delve delve delve delve delve delve delve delve delve delve delve delve delve delve delve delve delve delve delve delve delve delve ', type='changed')\n"
     ]
    }
   ],
   "source": [
    "\n"
   ]
  },
  {
   "cell_type": "code",
   "execution_count": 6,
   "metadata": {},
   "outputs": [
    {
     "name": "stdout",
     "output_type": "stream",
     "text": [
      "Launching server at http://localhost:40043\n"
     ]
    },
    {
     "name": "stderr",
     "output_type": "stream",
     "text": [
      "WARNING:tornado.access:404 GET /assets/file_icons/tabler-icons-outline.min.css (127.0.0.1) 0.20ms\n",
      "WARNING:tornado.access:404 GET /assets/file_icons/tabler-icons-outline.min.css (127.0.0.1) 0.97ms\n"
     ]
    }
   ],
   "source": [
    "file_input = pn.widgets.FileInput(sizing_mode='stretch_width')\n",
    "f_container = pn.Column(sizing_mode='stretch_both')\n",
    "send_button = pn.widgets.Button(name='Send', sizing_mode='stretch_width')\n",
    "\n",
    "def new_file(event):\n",
    "    print(event)\n",
    "file_input.param.watch(new_file, 'value')\n",
    "\n",
    "container = pn.Column(file_input, f_container, send_button, width=300, height=500)\n",
    "srv00 = pn.serve(container)\n"
   ]
  },
  {
   "cell_type": "code",
   "execution_count": 5,
   "metadata": {},
   "outputs": [],
   "source": [
    "srv00.stop()"
   ]
  },
  {
   "cell_type": "code",
   "execution_count": 7,
   "metadata": {},
   "outputs": [
    {
     "name": "stderr",
     "output_type": "stream",
     "text": [
      "WARNING:tornado.access:404 GET /assets/file_icons/tabler-icons-outline.min.css (127.0.0.1) 0.20ms\n"
     ]
    }
   ],
   "source": [
    "css = \"\"\"\n",
    "input[type=\"file\"] {\n",
    "    width: 100%;\n",
    "    height: 38px; /* Adjust as needed */\n",
    "    padding: 0;\n",
    "    margin: 0;\n",
    "    background: transparent;\n",
    "    color: transparent;\n",
    "    border: none;\n",
    "    overflow: hidden;\n",
    "  }\n",
    "  \n",
    "  input[type=\"file\"]::before {\n",
    "    content: 'Click to Add FIles';\n",
    "    display: block;\n",
    "    width: 100%;\n",
    "    height: 100%;\n",
    "    background: var(--primary-accent-color);\n",
    "    color: var(--white);\n",
    "    text-align: center;\n",
    "    line-height: 38px;\n",
    "    font-size: 1.4em;\n",
    "    border-radius: var(--border-radius);\n",
    "    cursor: pointer;\n",
    "    white-space: nowrap;\n",
    "  }\n",
    "  \n",
    "  input[type=\"file\"]::-webkit-file-upload-button {\n",
    "    visibility: hidden;\n",
    "    width: 0;\n",
    "    height: 0;\n",
    "  }\n",
    "\"\"\"\n",
    "\n",
    "file_input.stylesheets = [css]"
   ]
  },
  {
   "cell_type": "code",
   "execution_count": 15,
   "metadata": {},
   "outputs": [],
   "source": [
    "payload_view.width=100\n",
    "payload_view.height=100\n"
   ]
  },
  {
   "cell_type": "code",
   "execution_count": 20,
   "metadata": {},
   "outputs": [
    {
     "name": "stderr",
     "output_type": "stream",
     "text": [
      "WARNING:tornado.access:404 GET /assets/file_icons/tabler-icons-outline.min.css (127.0.0.1) 0.21ms\n"
     ]
    }
   ],
   "source": [
    "file_input_view.width= None\n",
    "file_input_view.height= 40\n"
   ]
  },
  {
   "cell_type": "code",
   "execution_count": 19,
   "metadata": {},
   "outputs": [
    {
     "data": {
      "application/vnd.jupyter.widget-view+json": {
       "model_id": "72053e1b3bd5455bb92dccc954af5d5a",
       "version_major": 2,
       "version_minor": 0
      },
      "text/plain": [
       "BokehModel(combine_events=True, render_bundle={'docs_json': {'a80bccb8-8387-46a3-b4a8-e0bb50bed529': {'version…"
      ]
     },
     "execution_count": 19,
     "metadata": {},
     "output_type": "execute_result"
    }
   ],
   "source": [
    "from pyllments.payloads.file import FilePayload\n",
    "fp = FilePayload(name='test.png', b_file=b'test', mime_type='image/png')\n",
    "fv = fp.create_file_view()\n",
    "fv"
   ]
  },
  {
   "cell_type": "code",
   "execution_count": 21,
   "metadata": {},
   "outputs": [
    {
     "name": "stdout",
     "output_type": "stream",
     "text": [
      "Launching server at http://localhost:37725\n"
     ]
    },
    {
     "name": "stderr",
     "output_type": "stream",
     "text": [
      "WARNING:tornado.access:404 GET /assets/file_icons/tabler-icons-outline.min.css (127.0.0.1) 0.24ms\n",
      "WARNING:tornado.access:404 GET /assets/file_icons/tabler-icons-outline.min.css (127.0.0.1) 1.17ms\n",
      "WARNING:tornado.access:404 GET /assets/file_icons/tabler-icons-outline.min.css (127.0.0.1) 0.25ms\n"
     ]
    }
   ],
   "source": [
    "srv0 = pn.serve(fv)"
   ]
  },
  {
   "cell_type": "code",
   "execution_count": 30,
   "metadata": {},
   "outputs": [
    {
     "name": "stderr",
     "output_type": "stream",
     "text": [
      "WARNING:tornado.access:404 GET /assets/file_icons/tabler-icons-outline.min.css (127.0.0.1) 0.19ms\n",
      "WARNING:tornado.access:404 GET /assets/file_icons/tabler-icons-outline.min.css (127.0.0.1) 0.20ms\n"
     ]
    }
   ],
   "source": [
    "fv.width=100\n",
    "fv.height=100\n"
   ]
  },
  {
   "cell_type": "code",
   "execution_count": 5,
   "metadata": {},
   "outputs": [
    {
     "data": {
      "text/plain": [
       "3"
      ]
     },
     "execution_count": 5,
     "metadata": {},
     "output_type": "execute_result"
    }
   ],
   "source": [
    "len(fl.model.file_list)"
   ]
  },
  {
   "cell_type": "code",
   "execution_count": 29,
   "metadata": {},
   "outputs": [],
   "source": [
    "cont.append(pn.pane.Markdown(\"# Hello\"))"
   ]
  },
  {
   "cell_type": "code",
   "execution_count": 7,
   "metadata": {},
   "outputs": [],
   "source": [
    "css = \"\"\"\n",
    ":host(.pn-loading):before, .pn-loading:before {\n",
    "    background-color: red;\n",
    "}\n",
    "\"\"\"\n"
   ]
  },
  {
   "cell_type": "markdown",
   "metadata": {},
   "source": [
    "# STop"
   ]
  },
  {
   "cell_type": "code",
   "execution_count": 31,
   "metadata": {},
   "outputs": [],
   "source": [
    "srv.stop()"
   ]
  },
  {
   "cell_type": "code",
   "execution_count": null,
   "metadata": {},
   "outputs": [],
   "source": []
  },
  {
   "cell_type": "markdown",
   "metadata": {},
   "source": [
    "# Step Testing"
   ]
  },
  {
   "cell_type": "markdown",
   "metadata": {},
   "source": [
    "## FileLoader"
   ]
  },
  {
   "cell_type": "code",
   "execution_count": null,
   "metadata": {},
   "outputs": [],
   "source": [
    "from pyllments.elements.file_loader import FileLoaderElement\n",
    "\n",
    "fl = FileLoaderElement()\n",
    "\n",
    "fl.create_file_loader_view()"
   ]
  },
  {
   "cell_type": "code",
   "execution_count": null,
   "metadata": {},
   "outputs": [],
   "source": []
  },
  {
   "cell_type": "markdown",
   "metadata": {},
   "source": [
    "# Switch view"
   ]
  },
  {
   "cell_type": "code",
   "execution_count": 6,
   "metadata": {},
   "outputs": [
    {
     "name": "stdout",
     "output_type": "stream",
     "text": [
      "Launching server at http://localhost:33843\n"
     ]
    }
   ],
   "source": [
    "srv = serve(pn.widgets.RadioButtonGroup(\n",
    "    name='test', \n",
    "    options=['what', 'the', 'heck'],\n",
    "    orientation='vertical'))\n",
    "# srv.stop()"
   ]
  },
  {
   "cell_type": "code",
   "execution_count": 7,
   "metadata": {},
   "outputs": [
    {
     "data": {
      "text/html": [
       "<style>\n",
       ".param-doc-tooltip{\n",
       "  position: relative;\n",
       "  cursor: help;\n",
       "}\n",
       ".param-doc-tooltip:hover:after{\n",
       "  content: attr(data-tooltip);\n",
       "  background-color: black;\n",
       "  color: #fff;\n",
       "  border-radius: 3px;\n",
       "  padding: 10px;\n",
       "  position: absolute;\n",
       "  z-index: 1;\n",
       "  top: -5px;\n",
       "  left: 100%;\n",
       "  margin-left: 10px;\n",
       "  min-width: 250px;\n",
       "}\n",
       ".param-doc-tooltip:hover:before {\n",
       "  content: \"\";\n",
       "  position: absolute;\n",
       "  top: 50%;\n",
       "  left: 100%;\n",
       "  margin-top: -5px;\n",
       "  border-width: 5px;\n",
       "  border-style: solid;\n",
       "  border-color: transparent black transparent transparent;\n",
       "}\n",
       "</style>\n",
       "<details  open>\n",
       " <summary style=\"display:list-item; outline:none;\">\n",
       "  <tt>RadioButtonGroup</tt>\n",
       " </summary>\n",
       " <div style=\"padding-left:10px; padding-bottom:5px;\">\n",
       "  <table style=\"max-width:100%; border:1px solid #AAAAAA;\">\n",
       "   <tr><th style=\"text-align:left;\">Name</th><th style=\"text-align:left;\">Default</th><th style=\"text-align:left;\">Type</th><th>Range</th></tr>\n",
       "<tr>  <td><p style=\"margin-bottom: 0px;\" class=\"param-doc-tooltip\" data-tooltip=\"Whether the object should be aligned with the start, end or\n",
       "        center of its container. If set as a tuple it will declare\n",
       "        (vertical, horizontal) alignment.\">align</p></td>  <td style=\"max-width: 200px; text-align:left;\">&#x27;start&#x27;</td>  <td style=\"text-align:left;\">Align</td>  <td style=\"max-width: 300px;\"></td></tr>\n",
       "<tr>  <td><p style=\"margin-bottom: 0px;\" class=\"param-doc-tooltip\" data-tooltip=\"Describes the proportional relationship between component&#x27;s\n",
       "        width and height.  This works if any of component&#x27;s dimensions\n",
       "        are flexible in size. If set to a number, ``width / height =\n",
       "        aspect_ratio`` relationship will be maintained.  Otherwise, if\n",
       "        set to ``&quot;auto&quot;``, component&#x27;s preferred width and height will\n",
       "        be used to determine the aspect (if not set, no aspect will be\n",
       "        preserved).\">aspect_ratio</p></td>  <td style=\"max-width: 200px; text-align:left;\">None</td>  <td style=\"text-align:left;\">Aspect</td>  <td style=\"max-width: 300px;\"><i>nullable</i></td></tr>\n",
       "<tr>  <td><p style=\"margin-bottom: 0px;\" class=\"param-doc-tooltip\" data-tooltip=\"A button style to switch between &#x27;solid&#x27;, &#x27;outline&#x27;.\">button_style</p></td>  <td style=\"max-width: 200px; text-align:left;\">&#x27;solid&#x27;</td>  <td style=\"text-align:left;\">ObjectSelector</td>  <td style=\"max-width: 300px;\">'solid', 'outline'</td></tr>\n",
       "<tr>  <td><p style=\"margin-bottom: 0px;\" class=\"param-doc-tooltip\" data-tooltip=\"A button theme; should be one of &#x27;default&#x27; (white), &#x27;primary&#x27;\n",
       "        (blue), &#x27;success&#x27; (green), &#x27;info&#x27; (yellow), &#x27;light&#x27; (light),\n",
       "        or &#x27;danger&#x27; (red).\">button_type</p></td>  <td style=\"max-width: 200px; text-align:left;\">&#x27;default&#x27;</td>  <td style=\"text-align:left;\">ObjectSelector</td>  <td style=\"max-width: 300px;\">'default', 'primary', 'success', 'warning', 'danger', 'light'</td></tr>\n",
       "<tr>  <td><p style=\"margin-bottom: 0px;\" class=\"param-doc-tooltip\" data-tooltip=\"CSS classes to apply to the layout.\">css_classes</p></td>  <td style=\"max-width: 200px; text-align:left;\">[]</td>  <td style=\"text-align:left;\">List</td>  <td style=\"max-width: 300px;\">(0, None)</td></tr>\n",
       "<tr>  <td><p style=\"margin-bottom: 0px;\" class=\"param-doc-tooltip\" data-tooltip=\"The description in the tooltip.\">description</p></td>  <td style=\"max-width: 200px; text-align:left;\">None</td>  <td style=\"text-align:left;\">ClassSelector</td>  <td style=\"max-width: 300px;\"><i>nullable</i> str | Tooltip | TooltipIcon</td></tr>\n",
       "<tr>  <td><p style=\"margin-bottom: 0px;\" class=\"param-doc-tooltip\" data-tooltip=\"Delay (in milliseconds) to display the tooltip after the cursor has\n",
       "        hovered over the Button, default is 500ms.\">description_delay</p></td>  <td style=\"max-width: 200px; text-align:left;\">500</td>  <td style=\"text-align:left;\">Integer</td>  <td style=\"max-width: 300px;\"></td></tr>\n",
       "<tr>  <td><p style=\"margin-bottom: 0px;\" class=\"param-doc-tooltip\" data-tooltip=\"The design system to use to style components.\">design</p></td>  <td style=\"max-width: 200px; text-align:left;\">None</td>  <td style=\"text-align:left;\">ObjectSelector</td>  <td style=\"max-width: 300px;\">None</td></tr>\n",
       "<tr>  <td><p style=\"margin-bottom: 0px;\" class=\"param-doc-tooltip\" data-tooltip=\"Whether the widget is disabled.\">disabled</p></td>  <td style=\"max-width: 200px; text-align:left;\">False</td>  <td style=\"text-align:left;\">Boolean</td>  <td style=\"max-width: 300px;\"></td></tr>\n",
       "<tr>  <td><p style=\"margin-bottom: 0px;\" class=\"param-doc-tooltip\" data-tooltip=\"The height of the component (in pixels).  This can be either\n",
       "        fixed or preferred height, depending on height sizing policy.\">height</p></td>  <td style=\"max-width: 200px; text-align:left;\">None</td>  <td style=\"text-align:left;\">Integer</td>  <td style=\"max-width: 300px;\"><i>nullable</i> >=0</td></tr>\n",
       "<tr>  <td><p style=\"margin-bottom: 0px;\" class=\"param-doc-tooltip\" data-tooltip=\"Describes how the component should maintain its height.\n",
       "\n",
       "        ``&quot;auto&quot;``\n",
       "            Use component&#x27;s preferred sizing policy.\n",
       "\n",
       "        ``&quot;fixed&quot;``\n",
       "            Use exactly ``height`` pixels. Component will overflow if\n",
       "            it can&#x27;t fit in the available vertical space.\n",
       "\n",
       "        ``&quot;fit&quot;``\n",
       "            Use component&#x27;s preferred height (if set) and allow to fit\n",
       "            into the available vertical space within the minimum and\n",
       "            maximum height bounds (if set). Component&#x27;s height neither\n",
       "            will be aggressively minimized nor maximized.\n",
       "\n",
       "        ``&quot;min&quot;``\n",
       "            Use as little vertical space as possible, not less than\n",
       "            the minimum height (if set).  The starting point is the\n",
       "            preferred height (if set). The height of the component may\n",
       "            shrink or grow depending on the parent layout, aspect\n",
       "            management and other factors.\n",
       "\n",
       "        ``&quot;max&quot;``\n",
       "            Use as much vertical space as possible, not more than the\n",
       "            maximum height (if set).  The starting point is the\n",
       "            preferred height (if set). The height of the component may\n",
       "            shrink or grow depending on the parent layout, aspect\n",
       "            management and other factors.\">height_policy</p></td>  <td style=\"max-width: 200px; text-align:left;\">&#x27;auto&#x27;</td>  <td style=\"text-align:left;\">ObjectSelector</td>  <td style=\"max-width: 300px;\">'auto', 'fixed', 'fit', 'min', 'max'</td></tr>\n",
       "<tr>  <td><p style=\"margin-bottom: 0px;\" class=\"param-doc-tooltip\" data-tooltip=\"Whether or not the Viewable is loading. If True a loading spinner\n",
       "        is shown on top of the Viewable.\">loading</p></td>  <td style=\"max-width: 200px; text-align:left;\">False</td>  <td style=\"text-align:left;\">Boolean</td>  <td style=\"max-width: 300px;\"></td></tr>\n",
       "<tr>  <td><p style=\"margin-bottom: 0px;\" class=\"param-doc-tooltip\" data-tooltip=\"Allows to create additional space around the component. May\n",
       "        be specified as a two-tuple of the form (vertical, horizontal)\n",
       "        or a four-tuple (top, right, bottom, left).\">margin</p></td>  <td style=\"max-width: 200px; text-align:left;\">(5, 10)</td>  <td style=\"text-align:left;\">Margin</td>  <td style=\"max-width: 300px;\"><i>nullable</i></td></tr>\n",
       "<tr>  <td><p style=\"margin-bottom: 0px;\" class=\"param-doc-tooltip\" data-tooltip=\"Minimal height of the component (in pixels) if height is adjustable.\">max_height</p></td>  <td style=\"max-width: 200px; text-align:left;\">None</td>  <td style=\"text-align:left;\">Integer</td>  <td style=\"max-width: 300px;\"><i>nullable</i> >=0</td></tr>\n",
       "<tr>  <td><p style=\"margin-bottom: 0px;\" class=\"param-doc-tooltip\" data-tooltip=\"Minimal width of the component (in pixels) if width is adjustable.\">max_width</p></td>  <td style=\"max-width: 200px; text-align:left;\">None</td>  <td style=\"text-align:left;\">Integer</td>  <td style=\"max-width: 300px;\"><i>nullable</i> >=0</td></tr>\n",
       "<tr>  <td><p style=\"margin-bottom: 0px;\" class=\"param-doc-tooltip\" data-tooltip=\"Minimal height of the component (in pixels) if height is adjustable.\">min_height</p></td>  <td style=\"max-width: 200px; text-align:left;\">None</td>  <td style=\"text-align:left;\">Integer</td>  <td style=\"max-width: 300px;\"><i>nullable</i> >=0</td></tr>\n",
       "<tr>  <td><p style=\"margin-bottom: 0px;\" class=\"param-doc-tooltip\" data-tooltip=\"Minimal width of the component (in pixels) if width is adjustable.\">min_width</p></td>  <td style=\"max-width: 200px; text-align:left;\">None</td>  <td style=\"text-align:left;\">Integer</td>  <td style=\"max-width: 300px;\"><i>nullable</i> >=0</td></tr>\n",
       "<tr>  <td><p style=\"margin-bottom: 0px;\" class=\"param-doc-tooltip\" data-tooltip=\"String identifier for this object.\">name</p></td>  <td style=\"max-width: 200px; text-align:left;\">&#x27;RadioButtonGroup&#x27;</td>  <td style=\"text-align:left;\">String</td>  <td style=\"max-width: 300px;\"></td></tr>\n",
       "<tr>  <td><p style=\"margin-bottom: 0px;\">options</p></td>  <td style=\"max-width: 200px; text-align:left;\">[]</td>  <td style=\"text-align:left;\">ClassSelector</td>  <td style=\"max-width: 300px;\">dict | list</td></tr>\n",
       "<tr>  <td><p style=\"margin-bottom: 0px;\" class=\"param-doc-tooltip\" data-tooltip=\"Button group orientation, either &#x27;horizontal&#x27; (default) or &#x27;vertical&#x27;.\">orientation</p></td>  <td style=\"max-width: 200px; text-align:left;\">&#x27;horizontal&#x27;</td>  <td style=\"text-align:left;\">Selector</td>  <td style=\"max-width: 300px;\">'horizontal', 'vertical'</td></tr>\n",
       "<tr>  <td><p style=\"margin-bottom: 0px;\" class=\"param-doc-tooltip\" data-tooltip=\"How the component should size itself.\n",
       "\n",
       "        This is a high-level setting for maintaining width and height\n",
       "        of the component. To gain more fine grained control over\n",
       "        sizing, use ``width_policy``, ``height_policy`` and\n",
       "        ``aspect_ratio`` instead (those take precedence over\n",
       "        ``sizing_mode``).\n",
       "\n",
       "        ``&quot;fixed&quot;``\n",
       "            Component is not responsive. It will retain its original\n",
       "            width and height regardless of any subsequent browser\n",
       "            window resize events.\n",
       "\n",
       "        ``&quot;stretch_width&quot;``\n",
       "            Component will responsively resize to stretch to the\n",
       "            available width, without maintaining any aspect ratio. The\n",
       "            height of the component depends on the type of the\n",
       "            component and may be fixed or fit to component&#x27;s contents.\n",
       "\n",
       "        ``&quot;stretch_height&quot;``\n",
       "            Component will responsively resize to stretch to the\n",
       "            available height, without maintaining any aspect\n",
       "            ratio. The width of the component depends on the type of\n",
       "            the component and may be fixed or fit to component&#x27;s\n",
       "            contents.\n",
       "\n",
       "        ``&quot;stretch_both&quot;``\n",
       "            Component is completely responsive, independently in width\n",
       "            and height, and will occupy all the available horizontal\n",
       "            and vertical space, even if this changes the aspect ratio\n",
       "            of the component.\n",
       "\n",
       "        ``&quot;scale_width&quot;``\n",
       "            Component will responsively resize to stretch to the\n",
       "            available width, while maintaining the original or\n",
       "            provided aspect ratio.\n",
       "\n",
       "        ``&quot;scale_height&quot;``\n",
       "            Component will responsively resize to stretch to the\n",
       "            available height, while maintaining the original or\n",
       "            provided aspect ratio.\n",
       "\n",
       "        ``&quot;scale_both&quot;``\n",
       "            Component will responsively resize to both the available\n",
       "            width and height, while maintaining the original or\n",
       "            provided aspect ratio.\">sizing_mode</p></td>  <td style=\"max-width: 200px; text-align:left;\">None</td>  <td style=\"text-align:left;\">ObjectSelector</td>  <td style=\"max-width: 300px;\">'fixed', 'stretch_width', 'stretch_height', 'stretch_both', 'scale_width', 'scale_height', 'scale_both', None</td></tr>\n",
       "<tr>  <td><p style=\"margin-bottom: 0px;\" class=\"param-doc-tooltip\" data-tooltip=\"Dictionary of CSS rules to apply to DOM node wrapping the\n",
       "        component.\">styles</p></td>  <td style=\"max-width: 200px; text-align:left;\">{}</td>  <td style=\"text-align:left;\">Dict</td>  <td style=\"max-width: 300px;\">dict</td></tr>\n",
       "<tr>  <td><p style=\"margin-bottom: 0px;\" class=\"param-doc-tooltip\" data-tooltip=\"List of stylesheets defined as URLs pointing to .css files\n",
       "        or raw CSS defined as a string.\">stylesheets</p></td>  <td style=\"max-width: 200px; text-align:left;\">[]</td>  <td style=\"text-align:left;\">List</td>  <td style=\"max-width: 300px;\">(0, None)</td></tr>\n",
       "<tr>  <td><p style=\"margin-bottom: 0px;\" class=\"param-doc-tooltip\" data-tooltip=\"List of arbitrary tags to add to the component.\n",
       "        Can be useful for templating or for storing metadata on\n",
       "        the model.\">tags</p></td>  <td style=\"max-width: 200px; text-align:left;\">[]</td>  <td style=\"text-align:left;\">List</td>  <td style=\"max-width: 300px;\">(0, None)</td></tr>\n",
       "<tr>  <td><p style=\"margin-bottom: 0px;\">value</p></td>  <td style=\"max-width: 200px; text-align:left;\">None</td>  <td style=\"text-align:left;\">Parameter</td>  <td style=\"max-width: 300px;\"><i>nullable</i></td></tr>\n",
       "<tr>  <td><p style=\"margin-bottom: 0px;\" class=\"param-doc-tooltip\" data-tooltip=\"Whether the component is visible. Setting visible to false will\n",
       "        hide the component entirely.\">visible</p></td>  <td style=\"max-width: 200px; text-align:left;\">True</td>  <td style=\"text-align:left;\">Boolean</td>  <td style=\"max-width: 300px;\"></td></tr>\n",
       "<tr>  <td><p style=\"margin-bottom: 0px;\" class=\"param-doc-tooltip\" data-tooltip=\"The width of the component (in pixels). This can be either\n",
       "        fixed or preferred width, depending on width sizing policy.\">width</p></td>  <td style=\"max-width: 200px; text-align:left;\">None</td>  <td style=\"text-align:left;\">Integer</td>  <td style=\"max-width: 300px;\"><i>nullable</i> >=0</td></tr>\n",
       "<tr>  <td><p style=\"margin-bottom: 0px;\" class=\"param-doc-tooltip\" data-tooltip=\"Describes how the component should maintain its width.\n",
       "\n",
       "        ``&quot;auto&quot;``\n",
       "            Use component&#x27;s preferred sizing policy.\n",
       "\n",
       "        ``&quot;fixed&quot;``\n",
       "            Use exactly ``width`` pixels. Component will overflow if\n",
       "            it can&#x27;t fit in the available horizontal space.\n",
       "\n",
       "        ``&quot;fit&quot;``\n",
       "            Use component&#x27;s preferred width (if set) and allow it to\n",
       "            fit into the available horizontal space within the minimum\n",
       "            and maximum width bounds (if set). Component&#x27;s width\n",
       "            neither will be aggressively minimized nor maximized.\n",
       "\n",
       "        ``&quot;min&quot;``\n",
       "            Use as little horizontal space as possible, not less than\n",
       "            the minimum width (if set).  The starting point is the\n",
       "            preferred width (if set). The width of the component may\n",
       "            shrink or grow depending on the parent layout, aspect\n",
       "            management and other factors.\n",
       "\n",
       "        ``&quot;max&quot;``\n",
       "            Use as much horizontal space as possible, not more than\n",
       "            the maximum width (if set).  The starting point is the\n",
       "            preferred width (if set). The width of the component may\n",
       "            shrink or grow depending on the parent layout, aspect\n",
       "            management and other factors.\">width_policy</p></td>  <td style=\"max-width: 200px; text-align:left;\">&#x27;auto&#x27;</td>  <td style=\"text-align:left;\">ObjectSelector</td>  <td style=\"max-width: 300px;\">'auto', 'fixed', 'fit', 'min', 'max'</td></tr>\n",
       "\n",
       "  </table>\n",
       " </div>\n",
       "</details>\n"
      ],
      "text/plain": [
       "<param.parameterized.Parameters at 0x7f989ee9e900>"
      ]
     },
     "execution_count": 7,
     "metadata": {},
     "output_type": "execute_result"
    }
   ],
   "source": [
    "pn.widgets.RadioButtonGroup.param"
   ]
  },
  {
   "cell_type": "code",
   "execution_count": 5,
   "metadata": {},
   "outputs": [],
   "source": [
    "srv.stop()"
   ]
  },
  {
   "cell_type": "code",
   "execution_count": 11,
   "metadata": {},
   "outputs": [
    {
     "data": {
      "application/vnd.jupyter.widget-view+json": {
       "model_id": "6b7004238725470592ea441736aaaedb",
       "version_major": 2,
       "version_minor": 0
      },
      "text/plain": [
       "BokehModel(combine_events=True, render_bundle={'docs_json': {'f86cfa48-566d-4ce1-9640-acf0294aaf0e': {'version…"
      ]
     },
     "execution_count": 11,
     "metadata": {},
     "output_type": "execute_result"
    }
   ],
   "source": [
    "s = pn.widgets.RadioButtonGroup(\n",
    "    name='test', \n",
    "    options=['what', 'the', 'heck'],\n",
    "    orientation='vertical',\n",
    "    sizing_mode=None,\n",
    "    value='the',\n",
    "    button_type='primary'\n",
    ")\n",
    "s"
   ]
  },
  {
   "cell_type": "code",
   "execution_count": 9,
   "metadata": {},
   "outputs": [
    {
     "data": {
      "text/html": [
       "<style>\n",
       ".param-doc-tooltip{\n",
       "  position: relative;\n",
       "  cursor: help;\n",
       "}\n",
       ".param-doc-tooltip:hover:after{\n",
       "  content: attr(data-tooltip);\n",
       "  background-color: black;\n",
       "  color: #fff;\n",
       "  border-radius: 3px;\n",
       "  padding: 10px;\n",
       "  position: absolute;\n",
       "  z-index: 1;\n",
       "  top: -5px;\n",
       "  left: 100%;\n",
       "  margin-left: 10px;\n",
       "  min-width: 250px;\n",
       "}\n",
       ".param-doc-tooltip:hover:before {\n",
       "  content: \"\";\n",
       "  position: absolute;\n",
       "  top: 50%;\n",
       "  left: 100%;\n",
       "  margin-top: -5px;\n",
       "  border-width: 5px;\n",
       "  border-style: solid;\n",
       "  border-color: transparent black transparent transparent;\n",
       "}\n",
       "</style>\n",
       "<details  open>\n",
       " <summary style=\"display:list-item; outline:none;\">\n",
       "  <tt>RadioButtonGroup()</tt>\n",
       " </summary>\n",
       " <div style=\"padding-left:10px; padding-bottom:5px;\">\n",
       "  <table style=\"max-width:100%; border:1px solid #AAAAAA;\">\n",
       "   <tr><th style=\"text-align:left;\">Name</th><th style=\"text-align:left;\">Value</th><th style=\"text-align:left;\">Type</th><th>Range</th></tr>\n",
       "<tr>  <td><p style=\"margin-bottom: 0px;\" class=\"param-doc-tooltip\" data-tooltip=\"Whether the object should be aligned with the start, end or\n",
       "        center of its container. If set as a tuple it will declare\n",
       "        (vertical, horizontal) alignment.\">align</p></td>  <td style=\"max-width: 200px; text-align:left;\">&#x27;start&#x27;</td>  <td style=\"text-align:left;\">Align</td>  <td style=\"max-width: 300px;\"></td></tr>\n",
       "<tr>  <td><p style=\"margin-bottom: 0px;\" class=\"param-doc-tooltip\" data-tooltip=\"Describes the proportional relationship between component&#x27;s\n",
       "        width and height.  This works if any of component&#x27;s dimensions\n",
       "        are flexible in size. If set to a number, ``width / height =\n",
       "        aspect_ratio`` relationship will be maintained.  Otherwise, if\n",
       "        set to ``&quot;auto&quot;``, component&#x27;s preferred width and height will\n",
       "        be used to determine the aspect (if not set, no aspect will be\n",
       "        preserved).\">aspect_ratio</p></td>  <td style=\"max-width: 200px; text-align:left;\">None</td>  <td style=\"text-align:left;\">Aspect</td>  <td style=\"max-width: 300px;\"><i>nullable</i></td></tr>\n",
       "<tr>  <td><p style=\"margin-bottom: 0px;\" class=\"param-doc-tooltip\" data-tooltip=\"A button style to switch between &#x27;solid&#x27;, &#x27;outline&#x27;.\">button_style</p></td>  <td style=\"max-width: 200px; text-align:left;\">&#x27;solid&#x27;</td>  <td style=\"text-align:left;\">ObjectSelector</td>  <td style=\"max-width: 300px;\">'solid', 'outline'</td></tr>\n",
       "<tr>  <td><p style=\"margin-bottom: 0px;\" class=\"param-doc-tooltip\" data-tooltip=\"A button theme; should be one of &#x27;default&#x27; (white), &#x27;primary&#x27;\n",
       "        (blue), &#x27;success&#x27; (green), &#x27;info&#x27; (yellow), &#x27;light&#x27; (light),\n",
       "        or &#x27;danger&#x27; (red).\">button_type</p></td>  <td style=\"max-width: 200px; text-align:left;\">&#x27;default&#x27;</td>  <td style=\"text-align:left;\">ObjectSelector</td>  <td style=\"max-width: 300px;\">'default', 'primary', 'success', 'warning', 'danger', 'light'</td></tr>\n",
       "<tr>  <td><p style=\"margin-bottom: 0px;\" class=\"param-doc-tooltip\" data-tooltip=\"CSS classes to apply to the layout.\">css_classes</p></td>  <td style=\"max-width: 200px; text-align:left;\">[]</td>  <td style=\"text-align:left;\">List</td>  <td style=\"max-width: 300px;\">(0, None)</td></tr>\n",
       "<tr>  <td><p style=\"margin-bottom: 0px;\" class=\"param-doc-tooltip\" data-tooltip=\"The description in the tooltip.\">description</p></td>  <td style=\"max-width: 200px; text-align:left;\">None</td>  <td style=\"text-align:left;\">ClassSelector</td>  <td style=\"max-width: 300px;\"><i>nullable</i> str | Tooltip | TooltipIcon</td></tr>\n",
       "<tr>  <td><p style=\"margin-bottom: 0px;\" class=\"param-doc-tooltip\" data-tooltip=\"Delay (in milliseconds) to display the tooltip after the cursor has\n",
       "        hovered over the Button, default is 500ms.\">description_delay</p></td>  <td style=\"max-width: 200px; text-align:left;\">500</td>  <td style=\"text-align:left;\">Integer</td>  <td style=\"max-width: 300px;\"></td></tr>\n",
       "<tr>  <td><p style=\"margin-bottom: 0px;\" class=\"param-doc-tooltip\" data-tooltip=\"The design system to use to style components.\">design</p></td>  <td style=\"max-width: 200px; text-align:left;\">None</td>  <td style=\"text-align:left;\">ObjectSelector</td>  <td style=\"max-width: 300px;\">None</td></tr>\n",
       "<tr>  <td><p style=\"margin-bottom: 0px;\" class=\"param-doc-tooltip\" data-tooltip=\"Whether the widget is disabled.\">disabled</p></td>  <td style=\"max-width: 200px; text-align:left;\">False</td>  <td style=\"text-align:left;\">Boolean</td>  <td style=\"max-width: 300px;\"></td></tr>\n",
       "<tr>  <td><p style=\"margin-bottom: 0px;\" class=\"param-doc-tooltip\" data-tooltip=\"The height of the component (in pixels).  This can be either\n",
       "        fixed or preferred height, depending on height sizing policy.\">height</p></td>  <td style=\"max-width: 200px; text-align:left;\">None</td>  <td style=\"text-align:left;\">Integer</td>  <td style=\"max-width: 300px;\"><i>nullable</i> >=0</td></tr>\n",
       "<tr>  <td><p style=\"margin-bottom: 0px;\" class=\"param-doc-tooltip\" data-tooltip=\"Describes how the component should maintain its height.\n",
       "\n",
       "        ``&quot;auto&quot;``\n",
       "            Use component&#x27;s preferred sizing policy.\n",
       "\n",
       "        ``&quot;fixed&quot;``\n",
       "            Use exactly ``height`` pixels. Component will overflow if\n",
       "            it can&#x27;t fit in the available vertical space.\n",
       "\n",
       "        ``&quot;fit&quot;``\n",
       "            Use component&#x27;s preferred height (if set) and allow to fit\n",
       "            into the available vertical space within the minimum and\n",
       "            maximum height bounds (if set). Component&#x27;s height neither\n",
       "            will be aggressively minimized nor maximized.\n",
       "\n",
       "        ``&quot;min&quot;``\n",
       "            Use as little vertical space as possible, not less than\n",
       "            the minimum height (if set).  The starting point is the\n",
       "            preferred height (if set). The height of the component may\n",
       "            shrink or grow depending on the parent layout, aspect\n",
       "            management and other factors.\n",
       "\n",
       "        ``&quot;max&quot;``\n",
       "            Use as much vertical space as possible, not more than the\n",
       "            maximum height (if set).  The starting point is the\n",
       "            preferred height (if set). The height of the component may\n",
       "            shrink or grow depending on the parent layout, aspect\n",
       "            management and other factors.\">height_policy</p></td>  <td style=\"max-width: 200px; text-align:left;\">&#x27;auto&#x27;</td>  <td style=\"text-align:left;\">ObjectSelector</td>  <td style=\"max-width: 300px;\">'auto', 'fixed', 'fit', 'min', 'max'</td></tr>\n",
       "<tr>  <td><p style=\"margin-bottom: 0px;\" class=\"param-doc-tooltip\" data-tooltip=\"Whether or not the Viewable is loading. If True a loading spinner\n",
       "        is shown on top of the Viewable.\">loading</p></td>  <td style=\"max-width: 200px; text-align:left;\">False</td>  <td style=\"text-align:left;\">Boolean</td>  <td style=\"max-width: 300px;\"></td></tr>\n",
       "<tr>  <td><p style=\"margin-bottom: 0px;\" class=\"param-doc-tooltip\" data-tooltip=\"Allows to create additional space around the component. May\n",
       "        be specified as a two-tuple of the form (vertical, horizontal)\n",
       "        or a four-tuple (top, right, bottom, left).\">margin</p></td>  <td style=\"max-width: 200px; text-align:left;\">(5, 10)</td>  <td style=\"text-align:left;\">Margin</td>  <td style=\"max-width: 300px;\"><i>nullable</i></td></tr>\n",
       "<tr>  <td><p style=\"margin-bottom: 0px;\" class=\"param-doc-tooltip\" data-tooltip=\"Minimal height of the component (in pixels) if height is adjustable.\">max_height</p></td>  <td style=\"max-width: 200px; text-align:left;\">None</td>  <td style=\"text-align:left;\">Integer</td>  <td style=\"max-width: 300px;\"><i>nullable</i> >=0</td></tr>\n",
       "<tr>  <td><p style=\"margin-bottom: 0px;\" class=\"param-doc-tooltip\" data-tooltip=\"Minimal width of the component (in pixels) if width is adjustable.\">max_width</p></td>  <td style=\"max-width: 200px; text-align:left;\">None</td>  <td style=\"text-align:left;\">Integer</td>  <td style=\"max-width: 300px;\"><i>nullable</i> >=0</td></tr>\n",
       "<tr>  <td><p style=\"margin-bottom: 0px;\" class=\"param-doc-tooltip\" data-tooltip=\"Minimal height of the component (in pixels) if height is adjustable.\">min_height</p></td>  <td style=\"max-width: 200px; text-align:left;\">None</td>  <td style=\"text-align:left;\">Integer</td>  <td style=\"max-width: 300px;\"><i>nullable</i> >=0</td></tr>\n",
       "<tr>  <td><p style=\"margin-bottom: 0px;\" class=\"param-doc-tooltip\" data-tooltip=\"Minimal width of the component (in pixels) if width is adjustable.\">min_width</p></td>  <td style=\"max-width: 200px; text-align:left;\">None</td>  <td style=\"text-align:left;\">Integer</td>  <td style=\"max-width: 300px;\"><i>nullable</i> >=0</td></tr>\n",
       "<tr>  <td><p style=\"margin-bottom: 0px;\" class=\"param-doc-tooltip\" data-tooltip=\"String identifier for this object.\">name</p></td>  <td style=\"max-width: 200px; text-align:left;\">&#x27;test&#x27;</td>  <td style=\"text-align:left;\">String</td>  <td style=\"max-width: 300px;\"></td></tr>\n",
       "<tr>  <td><p style=\"margin-bottom: 0px;\">options</p></td>  <td style=\"max-width: 200px; text-align:left;\">[&#x27;what&#x27;, &#x27;the&#x27;, &#x27;heck&#x27;]</td>  <td style=\"text-align:left;\">ClassSelector</td>  <td style=\"max-width: 300px;\">dict | list</td></tr>\n",
       "<tr>  <td><p style=\"margin-bottom: 0px;\" class=\"param-doc-tooltip\" data-tooltip=\"Button group orientation, either &#x27;horizontal&#x27; (default) or &#x27;vertical&#x27;.\">orientation</p></td>  <td style=\"max-width: 200px; text-align:left;\">&#x27;vertical&#x27;</td>  <td style=\"text-align:left;\">Selector</td>  <td style=\"max-width: 300px;\">'horizontal', 'vertical'</td></tr>\n",
       "<tr>  <td><p style=\"margin-bottom: 0px;\" class=\"param-doc-tooltip\" data-tooltip=\"How the component should size itself.\n",
       "\n",
       "        This is a high-level setting for maintaining width and height\n",
       "        of the component. To gain more fine grained control over\n",
       "        sizing, use ``width_policy``, ``height_policy`` and\n",
       "        ``aspect_ratio`` instead (those take precedence over\n",
       "        ``sizing_mode``).\n",
       "\n",
       "        ``&quot;fixed&quot;``\n",
       "            Component is not responsive. It will retain its original\n",
       "            width and height regardless of any subsequent browser\n",
       "            window resize events.\n",
       "\n",
       "        ``&quot;stretch_width&quot;``\n",
       "            Component will responsively resize to stretch to the\n",
       "            available width, without maintaining any aspect ratio. The\n",
       "            height of the component depends on the type of the\n",
       "            component and may be fixed or fit to component&#x27;s contents.\n",
       "\n",
       "        ``&quot;stretch_height&quot;``\n",
       "            Component will responsively resize to stretch to the\n",
       "            available height, without maintaining any aspect\n",
       "            ratio. The width of the component depends on the type of\n",
       "            the component and may be fixed or fit to component&#x27;s\n",
       "            contents.\n",
       "\n",
       "        ``&quot;stretch_both&quot;``\n",
       "            Component is completely responsive, independently in width\n",
       "            and height, and will occupy all the available horizontal\n",
       "            and vertical space, even if this changes the aspect ratio\n",
       "            of the component.\n",
       "\n",
       "        ``&quot;scale_width&quot;``\n",
       "            Component will responsively resize to stretch to the\n",
       "            available width, while maintaining the original or\n",
       "            provided aspect ratio.\n",
       "\n",
       "        ``&quot;scale_height&quot;``\n",
       "            Component will responsively resize to stretch to the\n",
       "            available height, while maintaining the original or\n",
       "            provided aspect ratio.\n",
       "\n",
       "        ``&quot;scale_both&quot;``\n",
       "            Component will responsively resize to both the available\n",
       "            width and height, while maintaining the original or\n",
       "            provided aspect ratio.\">sizing_mode</p></td>  <td style=\"max-width: 200px; text-align:left;\">None</td>  <td style=\"text-align:left;\">ObjectSelector</td>  <td style=\"max-width: 300px;\">'fixed', 'stretch_width', 'stretch_height', 'stretch_both', 'scale_width', 'scale_height', 'scale_both', None</td></tr>\n",
       "<tr>  <td><p style=\"margin-bottom: 0px;\" class=\"param-doc-tooltip\" data-tooltip=\"Dictionary of CSS rules to apply to DOM node wrapping the\n",
       "        component.\">styles</p></td>  <td style=\"max-width: 200px; text-align:left;\">{}</td>  <td style=\"text-align:left;\">Dict</td>  <td style=\"max-width: 300px;\">dict</td></tr>\n",
       "<tr>  <td><p style=\"margin-bottom: 0px;\" class=\"param-doc-tooltip\" data-tooltip=\"List of stylesheets defined as URLs pointing to .css files\n",
       "        or raw CSS defined as a string.\">stylesheets</p></td>  <td style=\"max-width: 200px; text-align:left;\">[]</td>  <td style=\"text-align:left;\">List</td>  <td style=\"max-width: 300px;\">(0, None)</td></tr>\n",
       "<tr>  <td><p style=\"margin-bottom: 0px;\" class=\"param-doc-tooltip\" data-tooltip=\"List of arbitrary tags to add to the component.\n",
       "        Can be useful for templating or for storing metadata on\n",
       "        the model.\">tags</p></td>  <td style=\"max-width: 200px; text-align:left;\">[]</td>  <td style=\"text-align:left;\">List</td>  <td style=\"max-width: 300px;\">(0, None)</td></tr>\n",
       "<tr>  <td><p style=\"margin-bottom: 0px;\">value</p></td>  <td style=\"max-width: 200px; text-align:left;\">&#x27;heck&#x27;</td>  <td style=\"text-align:left;\">Parameter</td>  <td style=\"max-width: 300px;\"><i>nullable</i></td></tr>\n",
       "<tr>  <td><p style=\"margin-bottom: 0px;\" class=\"param-doc-tooltip\" data-tooltip=\"Whether the component is visible. Setting visible to false will\n",
       "        hide the component entirely.\">visible</p></td>  <td style=\"max-width: 200px; text-align:left;\">True</td>  <td style=\"text-align:left;\">Boolean</td>  <td style=\"max-width: 300px;\"></td></tr>\n",
       "<tr>  <td><p style=\"margin-bottom: 0px;\" class=\"param-doc-tooltip\" data-tooltip=\"The width of the component (in pixels). This can be either\n",
       "        fixed or preferred width, depending on width sizing policy.\">width</p></td>  <td style=\"max-width: 200px; text-align:left;\">None</td>  <td style=\"text-align:left;\">Integer</td>  <td style=\"max-width: 300px;\"><i>nullable</i> >=0</td></tr>\n",
       "<tr>  <td><p style=\"margin-bottom: 0px;\" class=\"param-doc-tooltip\" data-tooltip=\"Describes how the component should maintain its width.\n",
       "\n",
       "        ``&quot;auto&quot;``\n",
       "            Use component&#x27;s preferred sizing policy.\n",
       "\n",
       "        ``&quot;fixed&quot;``\n",
       "            Use exactly ``width`` pixels. Component will overflow if\n",
       "            it can&#x27;t fit in the available horizontal space.\n",
       "\n",
       "        ``&quot;fit&quot;``\n",
       "            Use component&#x27;s preferred width (if set) and allow it to\n",
       "            fit into the available horizontal space within the minimum\n",
       "            and maximum width bounds (if set). Component&#x27;s width\n",
       "            neither will be aggressively minimized nor maximized.\n",
       "\n",
       "        ``&quot;min&quot;``\n",
       "            Use as little horizontal space as possible, not less than\n",
       "            the minimum width (if set).  The starting point is the\n",
       "            preferred width (if set). The width of the component may\n",
       "            shrink or grow depending on the parent layout, aspect\n",
       "            management and other factors.\n",
       "\n",
       "        ``&quot;max&quot;``\n",
       "            Use as much horizontal space as possible, not more than\n",
       "            the maximum width (if set).  The starting point is the\n",
       "            preferred width (if set). The width of the component may\n",
       "            shrink or grow depending on the parent layout, aspect\n",
       "            management and other factors.\">width_policy</p></td>  <td style=\"max-width: 200px; text-align:left;\">&#x27;auto&#x27;</td>  <td style=\"text-align:left;\">ObjectSelector</td>  <td style=\"max-width: 300px;\">'auto', 'fixed', 'fit', 'min', 'max'</td></tr>\n",
       "\n",
       "  </table>\n",
       " </div>\n",
       "</details>\n"
      ],
      "text/plain": [
       "<param.parameterized.Parameters at 0x7f87a113cf50>"
      ]
     },
     "execution_count": 9,
     "metadata": {},
     "output_type": "execute_result"
    }
   ],
   "source": [
    "s.param"
   ]
  },
  {
   "cell_type": "code",
   "execution_count": 9,
   "metadata": {},
   "outputs": [
    {
     "data": {
      "text/plain": [
       "Watcher(inst=RadioButtonGroup(name='test', options=['what', 'the', 'heck'], orientation='vertical', value='what'), cls=<class 'panel.widgets.select.RadioButtonGroup'>, fn=<function <lambda> at 0x7f989eb84d60>, mode='args', onlychanged=True, parameter_names=('value',), what='value', queued=False, precedence=0)"
      ]
     },
     "execution_count": 9,
     "metadata": {},
     "output_type": "execute_result"
    }
   ],
   "source": [
    "s.param.watch(lambda event: print(event.new), 'value')"
   ]
  },
  {
   "cell_type": "code",
   "execution_count": 3,
   "metadata": {},
   "outputs": [
    {
     "name": "stdout",
     "output_type": "stream",
     "text": [
      "Launching server at http://localhost:44943\n"
     ]
    },
    {
     "name": "stderr",
     "output_type": "stream",
     "text": [
      "WARNING:bokeh.core.validation.check:W-1005 (FIXED_SIZING_MODE): 'fixed' sizing mode requires width and height to be set: RadioButtonGroup(id='72d47780-abbd-492b-97a0-d0ae24aedb8e', ...)\n"
     ]
    }
   ],
   "source": [
    "from pyllments.elements.flow_control import Switch\n",
    "from typing import Any\n",
    "\n",
    "sw = Switch(outputs=['test', 'best', 'crest'], payload_type=Any)\n",
    "srv = serve(sw.create_switch_view(orientation='vertical', height=200, sizing_mode='fixed'))\n",
    "# srv.stop()"
   ]
  },
  {
   "cell_type": "code",
   "execution_count": 4,
   "metadata": {},
   "outputs": [],
   "source": [
    "srv.stop()"
   ]
  },
  {
   "cell_type": "code",
   "execution_count": 4,
   "metadata": {},
   "outputs": [
    {
     "data": {
      "text/plain": [
       "[':host {\\n    --surface-color: var(--secondary-accent-color);\\n}\\n\\n:host(.solid) .bk-btn-group .bk-btn.bk-btn-default.bk-active {\\n    color: var(--white);\\n    background-color: var(--primary-accent-color);\\n    box-shadow: none; /* Consider adding a box-shadow for better visibility */\\n}\\n\\n/* Added hover effect for better user experience */\\n:host(.solid) .bk-btn-group .bk-btn.bk-btn-default:hover {\\n    background-color: var(--light-outline-color); /* Change background on hover */\\n    color: var(--white); /* Maintain text color on hover */\\n}']"
      ]
     },
     "execution_count": 4,
     "metadata": {},
     "output_type": "execute_result"
    }
   ],
   "source": [
    "sw.switch_view.stylesheets"
   ]
  },
  {
   "cell_type": "code",
   "execution_count": 7,
   "metadata": {},
   "outputs": [],
   "source": [
    "text = \"delve delve delve delve delve delve delve delve delve delve\\n delve delve delve delve delve delve delve delve delve\\n delve delve delve delve delve delve delve delve delve delve delve delve delve delve delve delve delve delve delve delve delve delve delve delve delve delve delve delve delve delve delve delve delve delve delve delve delve delve delve delve delve delve delve delve delve delve delve delve delve delve delve delve delve delve delve delve delve delve delve delve delve delve delve delve delve delve delve delve delve delve delve delve delve delve delve delve delve delve delve delve delve delve delve \""
   ]
  },
  {
   "cell_type": "code",
   "execution_count": 10,
   "metadata": {},
   "outputs": [
    {
     "data": {
      "text/plain": [
       "[Document(metadata={}, page_content='delve delve delve delve delve delve delve delve delve delve\\n delve delve delve delve delve delve delve delve delve'),\n",
       " Document(metadata={}, page_content='delve delve delve delve delve delve delve delve delve delve delve delve delve delve delve delve delve delve delve delve delve delve delve delve delve delve delve delve delve delve delve delve delve'),\n",
       " Document(metadata={}, page_content='delve delve delve delve delve delve delve delve delve delve delve delve delve delve delve delve delve delve delve delve delve delve delve delve delve delve delve delve delve delve delve delve delve'),\n",
       " Document(metadata={}, page_content='delve delve delve delve delve delve delve delve delve delve delve delve delve delve delve delve delve delve delve delve delve delve delve')]"
      ]
     },
     "execution_count": 10,
     "metadata": {},
     "output_type": "execute_result"
    }
   ],
   "source": [
    "from langchain_text_splitters import RecursiveCharacterTextSplitter\n",
    "\n",
    "splitter = RecursiveCharacterTextSplitter(chunk_size=200, chunk_overlap=20)\n",
    "\n",
    "splitter.create_documents([text])"
   ]
  },
  {
   "cell_type": "code",
   "execution_count": 11,
   "metadata": {},
   "outputs": [],
   "source": [
    "# Convert the string variable 'text' to its byte representation\n",
    "text_bytes = text.encode('utf-8')\n"
   ]
  },
  {
   "cell_type": "code",
   "execution_count": 22,
   "metadata": {},
   "outputs": [],
   "source": [
    "from pyllments.payloads.file import FilePayload\n",
    "\n",
    "fp = FilePayload(filename='test.txt', local_path='/', b_file=text_bytes, mime_type='text/plain')"
   ]
  },
  {
   "cell_type": "code",
   "execution_count": 20,
   "metadata": {},
   "outputs": [
    {
     "data": {
      "text/html": [
       "<style>\n",
       ".param-doc-tooltip{\n",
       "  position: relative;\n",
       "  cursor: help;\n",
       "}\n",
       ".param-doc-tooltip:hover:after{\n",
       "  content: attr(data-tooltip);\n",
       "  background-color: black;\n",
       "  color: #fff;\n",
       "  border-radius: 3px;\n",
       "  padding: 10px;\n",
       "  position: absolute;\n",
       "  z-index: 1;\n",
       "  top: -5px;\n",
       "  left: 100%;\n",
       "  margin-left: 10px;\n",
       "  min-width: 250px;\n",
       "}\n",
       ".param-doc-tooltip:hover:before {\n",
       "  content: \"\";\n",
       "  position: absolute;\n",
       "  top: 50%;\n",
       "  left: 100%;\n",
       "  margin-top: -5px;\n",
       "  border-width: 5px;\n",
       "  border-style: solid;\n",
       "  border-color: transparent black transparent transparent;\n",
       "}\n",
       "</style>\n",
       "<details  open>\n",
       " <summary style=\"display:list-item; outline:none;\">\n",
       "  <tt>FileModel()</tt>\n",
       " </summary>\n",
       " <div style=\"padding-left:10px; padding-bottom:5px;\">\n",
       "  <table style=\"max-width:100%; border:1px solid #AAAAAA;\">\n",
       "   <tr><th style=\"text-align:left;\">Name</th><th style=\"text-align:left;\">Value</th><th style=\"text-align:left;\">Type</th><th>Range</th></tr>\n",
       "<tr>  <td><p style=\"margin-bottom: 0px;\" class=\"param-doc-tooltip\" data-tooltip=\"Bytes object of file\">b_file</p></td>  <td style=\"max-width: 200px; text-align:left;\">b&#x27;delve delve delve delve de..</td>  <td style=\"text-align:left;\">ClassSelector</td>  <td style=\"max-width: 300px;\"><i>nullable</i> bytes</td></tr>\n",
       "<tr>  <td><p style=\"margin-bottom: 0px;\" class=\"param-doc-tooltip\" data-tooltip=\"Name of file\">filename</p></td>  <td style=\"max-width: 200px; text-align:left;\">&#x27;&#x27;</td>  <td style=\"text-align:left;\">String</td>  <td style=\"max-width: 300px;\"></td></tr>\n",
       "<tr>  <td><p style=\"margin-bottom: 0px;\" class=\"param-doc-tooltip\" data-tooltip=\"Local path of file\">local_path</p></td>  <td style=\"max-width: 200px; text-align:left;\">&#x27;&#x27;</td>  <td style=\"text-align:left;\">String</td>  <td style=\"max-width: 300px;\"></td></tr>\n",
       "<tr>  <td><p style=\"margin-bottom: 0px;\" class=\"param-doc-tooltip\" data-tooltip=\"Mime type of file\">mime_type</p></td>  <td style=\"max-width: 200px; text-align:left;\">&#x27;text/plain&#x27;</td>  <td style=\"text-align:left;\">String</td>  <td style=\"max-width: 300px;\"></td></tr>\n",
       "<tr>  <td><p style=\"margin-bottom: 0px;\" class=\"param-doc-tooltip\" data-tooltip=\"String identifier for this object.\">name</p></td>  <td style=\"max-width: 200px; text-align:left;\">&#x27;test.txt&#x27;</td>  <td style=\"text-align:left;\">String</td>  <td style=\"max-width: 300px;\"><i>nullable</i> <i>constant</i></td></tr>\n",
       "<tr>  <td><p style=\"margin-bottom: 0px;\" class=\"param-doc-tooltip\" data-tooltip=\"Remote path of file\">remote_path</p></td>  <td style=\"max-width: 200px; text-align:left;\">&#x27;&#x27;</td>  <td style=\"text-align:left;\">String</td>  <td style=\"max-width: 300px;\"></td></tr>\n",
       "\n",
       "  </table>\n",
       " </div>\n",
       "</details>\n"
      ],
      "text/plain": [
       "<param.parameterized.Parameters at 0x7efa7446c5f0>"
      ]
     },
     "execution_count": 20,
     "metadata": {},
     "output_type": "execute_result"
    }
   ],
   "source": [
    "fp.model.param"
   ]
  },
  {
   "cell_type": "code",
   "execution_count": 23,
   "metadata": {},
   "outputs": [
    {
     "name": "stderr",
     "output_type": "stream",
     "text": [
      "/root/miniconda3/envs/pyllments/lib/python3.12/site-packages/huggingface_hub/file_download.py:1132: FutureWarning: `resume_download` is deprecated and will be removed in version 1.0.0. Downloads always resume when possible. If you want to force a new download, use `force_download=True`.\n",
      "  warnings.warn(\n"
     ]
    },
    {
     "name": "stdout",
     "output_type": "stream",
     "text": [
      "\u001b[32m2024-10-14 19:16:21.719\u001b[0m | \u001b[1m  INFO  \u001b[0m | Connecting TextChunkerElement | Port: file_input to TestElement | Port: test_output\n",
      "\u001b[32m2024-10-14 19:16:21.719\u001b[0m | \u001b[1m  INFO  \u001b[0m | Connecting EmbedderElement | Port: chunk_input to TextChunkerElement | Port: chunk_output\n",
      "\u001b[32m2024-10-14 19:16:21.720\u001b[0m | \u001b[1m  INFO  \u001b[0m | Connecting RetrieverElement | Port: chunk_input to EmbedderElement | Port: processed_chunks_output\n",
      "\u001b[32m2024-10-14 19:16:21.720\u001b[0m | \u001b[1m  INFO  \u001b[0m | Connecting EmbedderElement | Port: message_input to TestElement | Port: test_output\n",
      "\u001b[32m2024-10-14 19:16:21.720\u001b[0m | \u001b[1m  INFO  \u001b[0m | Connecting RetrieverElement | Port: message_input to EmbedderElement | Port: processed_message_output\n",
      "\u001b[32m2024-10-14 19:16:21.720\u001b[0m | \u001b[1m  INFO  \u001b[0m | Connecting TestElement | Port: test_input to RetrieverElement | Port: chunk_output\n",
      "\u001b[32m2024-10-14 19:16:21.720\u001b[0m | \u001b[1m  INFO  \u001b[0m | Staging: TestElement | Port: test_output | Staged Item: payload: FilePayload\n",
      "\u001b[32m2024-10-14 19:16:21.721\u001b[0m | \u001b[1m  INFO  \u001b[0m | Emitting from TestElement | Port: test_output | Payload: FilePayload\n",
      "\u001b[32m2024-10-14 19:16:21.721\u001b[0m | \u001b[1m  INFO  \u001b[0m | Receiving in TextChunkerElement | Port: file_input | Payload: FilePayload\n",
      "\u001b[32m2024-10-14 19:16:21.721\u001b[0m | \u001b[1m  INFO  \u001b[0m | Staging: TextChunkerElement | Port: chunk_output | Staged Item: chunks: list\n",
      "\u001b[32m2024-10-14 19:16:21.722\u001b[0m | \u001b[1m  INFO  \u001b[0m | Emitting from TextChunkerElement | Port: chunk_output | Payload: list\n",
      "\u001b[32m2024-10-14 19:16:21.722\u001b[0m | \u001b[1m  INFO  \u001b[0m | Receiving in EmbedderElement | Port: chunk_input | Payload: list\n",
      "\u001b[32m2024-10-14 19:16:21.815\u001b[0m | \u001b[1m  INFO  \u001b[0m | Staging: EmbedderElement | Port: processed_chunks_output | Staged Item: processed_chunks: list\n",
      "\u001b[32m2024-10-14 19:16:21.816\u001b[0m | \u001b[1m  INFO  \u001b[0m | Emitting from EmbedderElement | Port: processed_chunks_output | Payload: list\n",
      "\u001b[32m2024-10-14 19:16:21.816\u001b[0m | \u001b[1m  INFO  \u001b[0m | Receiving in RetrieverElement | Port: chunk_input | Payload: list\n",
      "\u001b[32m2024-10-14 19:16:21.816\u001b[0m | \u001b[1m  INFO  \u001b[0m | RetrieverElement: Starting chunk input processing\n",
      "\u001b[32m2024-10-14 19:16:21.890\u001b[0m | \u001b[1m  INFO  \u001b[0m | RetrieverModel: Added 1 items to collection. Time elapsed: 0.07 seconds\n",
      "\u001b[32m2024-10-14 19:16:21.890\u001b[0m | \u001b[1m  INFO  \u001b[0m | RetrieverElement: Finished processing 1 chunks. Total time: 0.07 seconds\n",
      "\u001b[32m2024-10-14 19:16:21.891\u001b[0m | \u001b[1m  INFO  \u001b[0m | Staging: TestElement | Port: test_output | Staged Item: payload: MessagePayload\n",
      "\u001b[32m2024-10-14 19:16:21.892\u001b[0m | \u001b[1m  INFO  \u001b[0m | Emitting from TestElement | Port: test_output | Payload: MessagePayload\n",
      "\u001b[32m2024-10-14 19:16:21.892\u001b[0m | \u001b[1m  INFO  \u001b[0m | Receiving in EmbedderElement | Port: message_input | Payload: MessagePayload\n",
      "\u001b[32m2024-10-14 19:16:21.915\u001b[0m | \u001b[1m  INFO  \u001b[0m | Staging: EmbedderElement | Port: processed_message_output | Staged Item: processed_message: MessagePayload\n",
      "\u001b[32m2024-10-14 19:16:21.916\u001b[0m | \u001b[1m  INFO  \u001b[0m | Emitting from EmbedderElement | Port: processed_message_output | Payload: MessagePayload\n",
      "\u001b[32m2024-10-14 19:16:21.917\u001b[0m | \u001b[1m  INFO  \u001b[0m | Receiving in RetrieverElement | Port: message_input | Payload: MessagePayload\n",
      "\u001b[32m2024-10-14 19:16:21.918\u001b[0m | \u001b[1m  INFO  \u001b[0m | RetrieverElement: Starting retrieval process\n",
      "\u001b[32m2024-10-14 19:16:21.918\u001b[0m | \u001b[1m  INFO  \u001b[0m | RetrieverModel: Starting query\n",
      "\u001b[32m2024-10-14 19:16:21.931\u001b[0m | \u001b[1m  INFO  \u001b[0m | RetrieverModel: Query completed. Time elapsed: 0.01 seconds\n",
      "\u001b[32m2024-10-14 19:16:21.931\u001b[0m | \u001b[1m  INFO  \u001b[0m | RetrieverElement: Retrieval completed. Time elapsed: 0.01 seconds\n",
      "\u001b[32m2024-10-14 19:16:21.932\u001b[0m | \u001b[1m  INFO  \u001b[0m | Staging: RetrieverElement | Port: chunk_output | Staged Item: chunk_payload: list\n",
      "\u001b[32m2024-10-14 19:16:21.932\u001b[0m | \u001b[1m  INFO  \u001b[0m | Emitting from RetrieverElement | Port: chunk_output | Payload: list\n"
     ]
    },
    {
     "name": "stdout",
     "output_type": "stream",
     "text": [
      "\u001b[32m2024-10-14 19:16:21.932\u001b[0m | \u001b[1m  INFO  \u001b[0m | Receiving in TestElement | Port: test_input | Payload: list\n",
      "\u001b[32m2024-10-14 19:16:21.933\u001b[0m | \u001b[1m  INFO  \u001b[0m | Unpacking in TestElement: [(0, 'delve delve delve delve delve delve delve delve delve delve\\n delve delve delve delve delve delve delve delve delve\\n delve delve delve delve delve delve delve delve delve delve delve delve delve delve delve delve delve delve delve delve delve delve delve delve delve delve delve delve delve delve delve delve delve delve delve delve delve delve delve delve delve delve delve delve delve delve delve delve delve delve delve delve delve delve delve delve delve delve delve delve delve delve delve delve delve delve delve delve delve delve delve delve delve delve delve delve delve delve delve delve delve delve delve')]\n",
      "\u001b[32m2024-10-14 19:16:21.933\u001b[0m | \u001b[1m  INFO  \u001b[0m | RetrieverElement: Chunks staged for emission. Time elapsed: 0.02 seconds\n"
     ]
    }
   ],
   "source": [
    "from pyllments.elements.chunker import TextChunkerElement\n",
    "from pyllments.elements.embedder import EmbedderElement\n",
    "from pyllments.elements.retriever import RetrieverElement\n",
    "from pyllments.tests import TestElement\n",
    "\n",
    "from pyllments.payloads.message import MessagePayload\n",
    "from langchain_core.messages import HumanMessage\n",
    "\n",
    "chunker = TextChunkerElement()\n",
    "embedder = EmbedderElement()\n",
    "retriever = RetrieverElement()\n",
    "\n",
    "test_element = TestElement(receive_callback=lambda chunks: [(n, i.model.text) for n, i in enumerate(chunks)])\n",
    "test_element2 = TestElement(receive_callback=lambda chunks: [(n, i.model.text) for n, i in enumerate(chunks)])\n",
    "\n",
    "test_element.ports.output['test_output'] > chunker.ports.input['file_input']\n",
    "chunker.ports.output['chunk_output'] > embedder.ports.input['chunk_input']\n",
    "embedder.ports.output['processed_chunks_output'] > retriever.ports.input['chunk_input']\n",
    "test_element2.ports.output['test_output'] > embedder.ports.input['message_input']\n",
    "embedder.ports.output['processed_message_output'] > retriever.ports.input['message_input']\n",
    "retriever.ports.output['chunk_output'] > test_element2.ports.input['test_input']\n",
    "\n",
    "test_element.send_payload(fp)\n",
    "\n",
    "test_element2.send_payload(MessagePayload(message=HumanMessage(content='Hello')))\n",
    "\n",
    "\n",
    "\n"
   ]
  },
  {
   "cell_type": "code",
   "execution_count": 17,
   "metadata": {},
   "outputs": [
    {
     "data": {
      "text/plain": [
       "[{'text': 'delve delve delve delve delve delve delve delve delve delve\\n delve delve delve delve delve delve delve delve delve\\n delve delve delve delve delve delve delve delve delve delve delve delve delve delve delve delve delve delve delve delve delve delve delve delve delve delve delve delve delve delve delve delve delve delve delve delve delve delve delve delve delve delve delve delve delve delve delve delve delve delve delve delve delve delve delve delve delve delve delve delve delve delve delve delve delve delve delve delve delve delve delve delve delve delve delve delve delve delve delve delve delve delve delve',\n",
       "  'embedding': [-0.359088659286499,\n",
       "   -0.6356299519538879,\n",
       "   -0.7870936393737793,\n",
       "   0.17499646544456482,\n",
       "   1.8945246934890747,\n",
       "   -0.5402544140815735,\n",
       "   1.0915056467056274,\n",
       "   0.6574708223342896,\n",
       "   -0.5096166729927063,\n",
       "   -0.31632333993911743,\n",
       "   -0.4303630590438843,\n",
       "   -0.10093954205513,\n",
       "   0.06774836033582687,\n",
       "   -0.24976934492588043,\n",
       "   0.8049889206886292,\n",
       "   -0.21696332097053528,\n",
       "   0.14826363325119019,\n",
       "   0.40658777952194214,\n",
       "   0.7374367713928223,\n",
       "   -0.2208823263645172,\n",
       "   -0.12537376582622528,\n",
       "   -0.21733205020427704,\n",
       "   0.02663598395884037,\n",
       "   -0.47143125534057617,\n",
       "   1.031421422958374,\n",
       "   0.588889479637146,\n",
       "   0.4947208762168884,\n",
       "   -0.9384351968765259,\n",
       "   0.2592006325721741,\n",
       "   0.4955143332481384,\n",
       "   -0.323527455329895,\n",
       "   0.35968250036239624,\n",
       "   -0.055294401943683624,\n",
       "   -0.32394421100616455,\n",
       "   0.20805945992469788,\n",
       "   -0.5575032234191895,\n",
       "   0.26190900802612305,\n",
       "   0.10196153074502945,\n",
       "   -1.5503877401351929,\n",
       "   -0.13419802486896515,\n",
       "   -1.237410068511963,\n",
       "   -0.3802243173122406,\n",
       "   0.27453261613845825,\n",
       "   0.6321545243263245,\n",
       "   -0.19151045382022858,\n",
       "   0.2913598418235779,\n",
       "   -0.15157395601272583,\n",
       "   0.42468178272247314,\n",
       "   0.12267310917377472,\n",
       "   0.3910580277442932,\n",
       "   -1.2312575578689575,\n",
       "   1.4899647235870361,\n",
       "   -1.6573524475097656,\n",
       "   -0.12774322926998138,\n",
       "   1.137860894203186,\n",
       "   -0.30620577931404114,\n",
       "   -0.41357719898223877,\n",
       "   -0.6341560482978821,\n",
       "   -0.1234825998544693,\n",
       "   -0.25018197298049927,\n",
       "   -0.4919525384902954,\n",
       "   0.9854156374931335,\n",
       "   -0.058302395045757294,\n",
       "   0.43064388632774353,\n",
       "   0.09305165708065033,\n",
       "   -0.25685539841651917,\n",
       "   1.3620007038116455,\n",
       "   -0.12722811102867126,\n",
       "   -0.8680525422096252,\n",
       "   -0.9392774105072021,\n",
       "   0.4122394025325775,\n",
       "   -0.3551314175128937,\n",
       "   -0.140931636095047,\n",
       "   0.46092489361763,\n",
       "   0.8861274719238281,\n",
       "   -1.1879833936691284,\n",
       "   -2.9566599550889805e-05,\n",
       "   -0.1061837449669838,\n",
       "   -0.5808990001678467,\n",
       "   -0.11871536076068878,\n",
       "   0.8188163042068481,\n",
       "   0.705949068069458,\n",
       "   -0.6852279901504517,\n",
       "   -0.30197861790657043,\n",
       "   0.8775598406791687,\n",
       "   -0.33508849143981934,\n",
       "   -0.21144525706768036,\n",
       "   -0.9154290556907654,\n",
       "   -1.9035686254501343,\n",
       "   -0.002193732652813196,\n",
       "   -0.1812739223241806,\n",
       "   -0.22144243121147156,\n",
       "   -0.7388190627098083,\n",
       "   0.698140561580658,\n",
       "   -1.0149314403533936,\n",
       "   1.142554521560669,\n",
       "   0.693452775478363,\n",
       "   0.2962176203727722,\n",
       "   0.27947306632995605,\n",
       "   -0.4783857464790344,\n",
       "   -0.7379243969917297,\n",
       "   0.09440842270851135,\n",
       "   0.48743119835853577,\n",
       "   0.3370773494243622,\n",
       "   -0.6584050059318542,\n",
       "   0.30186811089515686,\n",
       "   0.2432934194803238,\n",
       "   0.10116661339998245,\n",
       "   -0.05041442811489105,\n",
       "   -0.09761760383844376,\n",
       "   0.7103662490844727,\n",
       "   -0.3737083375453949,\n",
       "   -0.9050602316856384,\n",
       "   1.4591680765151978,\n",
       "   -1.744131326675415,\n",
       "   -1.0533190965652466,\n",
       "   -2.465939998626709,\n",
       "   -0.09241065382957458,\n",
       "   -0.22058385610580444,\n",
       "   0.05935285612940788,\n",
       "   0.3358834981918335,\n",
       "   -0.19346895813941956,\n",
       "   -0.6871086359024048,\n",
       "   0.028087737038731575,\n",
       "   0.6123816967010498,\n",
       "   1.1911293268203735,\n",
       "   -1.414331078529358,\n",
       "   -0.44400638341903687,\n",
       "   -0.031204093247652054,\n",
       "   0.5898348689079285,\n",
       "   0.8002275228500366,\n",
       "   -0.2064436972141266,\n",
       "   0.37627309560775757,\n",
       "   -0.08238016068935394,\n",
       "   0.08663562685251236,\n",
       "   -0.6235005855560303,\n",
       "   -0.014123987406492233,\n",
       "   0.12079109251499176,\n",
       "   -0.5715721845626831,\n",
       "   0.2385408580303192,\n",
       "   -0.008053379133343697,\n",
       "   0.19478286802768707,\n",
       "   -0.6979290246963501,\n",
       "   -0.4662841260433197,\n",
       "   0.49684321880340576,\n",
       "   0.2653004229068756,\n",
       "   0.60538649559021,\n",
       "   -1.213497519493103,\n",
       "   -0.8367615342140198,\n",
       "   1.3567659854888916,\n",
       "   -0.22823674976825714,\n",
       "   0.6654293537139893,\n",
       "   -0.45433667302131653,\n",
       "   1.4092105627059937,\n",
       "   0.24441760778427124,\n",
       "   -0.11642832309007645,\n",
       "   -0.05817490816116333,\n",
       "   0.12227503210306168,\n",
       "   1.201676368713379,\n",
       "   0.09356439858675003,\n",
       "   0.5696436166763306,\n",
       "   -0.19613225758075714,\n",
       "   0.042126718908548355,\n",
       "   -0.9497398138046265,\n",
       "   0.457083523273468,\n",
       "   0.535767674446106,\n",
       "   0.9943117499351501,\n",
       "   -0.11396204680204391,\n",
       "   0.9367323517799377,\n",
       "   -0.6254602074623108,\n",
       "   -0.33309274911880493,\n",
       "   0.41199737787246704,\n",
       "   0.8672816753387451,\n",
       "   0.6554313898086548,\n",
       "   -0.6622433066368103,\n",
       "   -0.428415983915329,\n",
       "   0.42113828659057617,\n",
       "   -0.988297164440155,\n",
       "   -0.43921053409576416,\n",
       "   0.6519352197647095,\n",
       "   -0.6342931389808655,\n",
       "   -1.2311015129089355,\n",
       "   0.634626567363739,\n",
       "   -0.6713861227035522,\n",
       "   0.09552735835313797,\n",
       "   -0.11237113922834396,\n",
       "   0.17954623699188232,\n",
       "   0.4895389974117279,\n",
       "   -0.11695344001054764,\n",
       "   -0.10601489245891571,\n",
       "   -0.792758047580719,\n",
       "   0.8156951665878296,\n",
       "   -0.6077607274055481,\n",
       "   0.5153385400772095,\n",
       "   -0.373741090297699,\n",
       "   0.28210917115211487,\n",
       "   -0.04658485949039459,\n",
       "   1.7553914785385132,\n",
       "   -0.541850745677948,\n",
       "   -0.5376083254814148,\n",
       "   1.1037975549697876,\n",
       "   -0.23394063115119934,\n",
       "   -0.1581505388021469,\n",
       "   0.5289178490638733,\n",
       "   -0.2318185716867447,\n",
       "   1.3866397142410278,\n",
       "   -0.5880682468414307,\n",
       "   -0.6051173210144043,\n",
       "   -1.126429557800293,\n",
       "   -0.042151812463998795,\n",
       "   0.4274076223373413,\n",
       "   -0.609772801399231,\n",
       "   0.7301043272018433,\n",
       "   -0.3243006467819214,\n",
       "   0.3807045519351959,\n",
       "   0.8755192756652832,\n",
       "   0.3509766459465027,\n",
       "   -0.4820776581764221,\n",
       "   0.509835422039032,\n",
       "   0.12002577632665634,\n",
       "   -0.2713770270347595,\n",
       "   0.6649249196052551,\n",
       "   -0.6399699449539185,\n",
       "   0.8215955495834351,\n",
       "   -0.25298649072647095,\n",
       "   -0.44577398896217346,\n",
       "   0.010794490575790405,\n",
       "   -0.32624107599258423,\n",
       "   -0.21283169090747833,\n",
       "   0.021002398803830147,\n",
       "   0.5389199256896973,\n",
       "   -0.4799477458000183,\n",
       "   0.1986953318119049,\n",
       "   -0.17121058702468872,\n",
       "   1.5152084827423096,\n",
       "   0.47150975465774536,\n",
       "   -0.6534363031387329,\n",
       "   0.05498494207859039,\n",
       "   0.5494180917739868,\n",
       "   -0.9227827787399292,\n",
       "   -0.26405254006385803,\n",
       "   0.13973648846149445,\n",
       "   0.17495551705360413,\n",
       "   -0.7090967893600464,\n",
       "   -0.24830831587314606,\n",
       "   -0.18305037915706635,\n",
       "   -0.40916717052459717,\n",
       "   0.8365992307662964,\n",
       "   1.1794222593307495,\n",
       "   0.27512019872665405,\n",
       "   -0.9541091918945312,\n",
       "   0.5477070808410645,\n",
       "   -0.412344753742218,\n",
       "   -1.00706148147583,\n",
       "   0.31830084323883057,\n",
       "   -1.3903988599777222,\n",
       "   0.14483170211315155,\n",
       "   -1.3578033447265625,\n",
       "   -0.852878987789154,\n",
       "   -0.5810874700546265,\n",
       "   -0.4820815622806549,\n",
       "   0.25328952074050903,\n",
       "   -0.6510220170021057,\n",
       "   0.7737585306167603,\n",
       "   0.6999840140342712,\n",
       "   -0.027424145489931107,\n",
       "   -0.4813902974128723,\n",
       "   -0.07005143910646439,\n",
       "   -0.16897867619991302,\n",
       "   -0.06091638654470444,\n",
       "   -0.01920781284570694,\n",
       "   -0.36347153782844543,\n",
       "   0.2507542669773102,\n",
       "   0.060532256960868835,\n",
       "   0.11197226494550705,\n",
       "   -1.0698156356811523,\n",
       "   -0.69472736120224,\n",
       "   -1.6035569906234741,\n",
       "   -0.2854667901992798,\n",
       "   -0.3053368031978607,\n",
       "   0.6116572022438049,\n",
       "   0.5453156232833862,\n",
       "   0.5307247042655945,\n",
       "   -0.11008648574352264,\n",
       "   -0.8270303010940552,\n",
       "   0.12151457369327545,\n",
       "   -0.15684054791927338,\n",
       "   0.004187353886663914,\n",
       "   -0.4043397307395935,\n",
       "   -0.20342186093330383,\n",
       "   -1.41642427444458,\n",
       "   -0.07226996123790741,\n",
       "   1.2114968299865723,\n",
       "   -0.3206397294998169,\n",
       "   1.0165525674819946,\n",
       "   -0.28066086769104004,\n",
       "   0.3941858112812042,\n",
       "   0.514045000076294,\n",
       "   -0.26509925723075867,\n",
       "   0.1494217962026596,\n",
       "   -0.2717287540435791,\n",
       "   -1.3633508682250977,\n",
       "   -0.45006880164146423,\n",
       "   -0.20819656550884247,\n",
       "   -0.3090501129627228,\n",
       "   -0.29439568519592285,\n",
       "   -2.2965636253356934,\n",
       "   -0.36892393231391907,\n",
       "   -0.1321011334657669,\n",
       "   -0.6848798990249634,\n",
       "   -0.25921630859375,\n",
       "   1.1424802541732788,\n",
       "   1.2523945569992065,\n",
       "   -0.5017061829566956,\n",
       "   -1.290264368057251,\n",
       "   0.021850576624274254,\n",
       "   0.1042996346950531,\n",
       "   -0.7143859267234802,\n",
       "   0.9790546894073486,\n",
       "   0.526636004447937,\n",
       "   1.8216196298599243,\n",
       "   -0.6482494473457336,\n",
       "   0.3111642599105835,\n",
       "   0.32014110684394836,\n",
       "   0.2525000274181366,\n",
       "   -0.6802020072937012,\n",
       "   0.16980399191379547,\n",
       "   0.14939932525157928,\n",
       "   -0.22515247762203217,\n",
       "   0.015092527493834496,\n",
       "   -0.09100880473852158,\n",
       "   0.7703424692153931,\n",
       "   0.15128174424171448,\n",
       "   0.7596308588981628,\n",
       "   -0.8403584361076355,\n",
       "   -0.03845880553126335,\n",
       "   -0.9113014936447144,\n",
       "   0.6833447813987732,\n",
       "   0.22657182812690735,\n",
       "   -0.44762662053108215,\n",
       "   -1.3593283891677856,\n",
       "   0.6484259366989136,\n",
       "   0.1800009310245514,\n",
       "   0.89653480052948,\n",
       "   -0.02544276975095272,\n",
       "   -0.2071334570646286,\n",
       "   0.376205712556839,\n",
       "   0.03923137113451958,\n",
       "   0.047552689909935,\n",
       "   0.8553080558776855,\n",
       "   -1.0156824588775635,\n",
       "   -0.07363716512918472,\n",
       "   -0.3132878243923187,\n",
       "   0.5828338861465454,\n",
       "   0.7652032375335693,\n",
       "   -0.9864265322685242,\n",
       "   0.4462002217769623,\n",
       "   0.5624499320983887,\n",
       "   1.1155396699905396,\n",
       "   -0.7768126130104065,\n",
       "   0.7388512492179871,\n",
       "   0.7668721675872803,\n",
       "   0.1868552267551422,\n",
       "   -0.46465861797332764,\n",
       "   0.8340343832969666,\n",
       "   0.8197138905525208,\n",
       "   -0.8259194493293762,\n",
       "   0.12922602891921997,\n",
       "   0.01815207488834858,\n",
       "   0.07324054092168808,\n",
       "   0.11530657857656479,\n",
       "   -0.02478906884789467,\n",
       "   0.4506832957267761,\n",
       "   0.06747911870479584,\n",
       "   0.2922806143760681,\n",
       "   0.1470639407634735,\n",
       "   -0.9635066986083984,\n",
       "   0.09897055476903915,\n",
       "   0.07082723081111908,\n",
       "   -0.01721080206334591,\n",
       "   -0.40315473079681396,\n",
       "   -0.4527676999568939,\n",
       "   0.18508608639240265,\n",
       "   0.30483201146125793,\n",
       "   0.2045767456293106,\n",
       "   0.4444942772388458,\n",
       "   0.015937507152557373,\n",
       "   -0.6017203330993652,\n",
       "   1.1423611640930176,\n",
       "   -0.6170007586479187,\n",
       "   -0.4150908589363098,\n",
       "   -0.3516678214073181,\n",
       "   0.1920497864484787,\n",
       "   -0.05873459205031395,\n",
       "   -2.039545774459839,\n",
       "   1.0332674980163574,\n",
       "   0.2491893768310547,\n",
       "   -0.16011306643486023,\n",
       "   -0.5012087225914001,\n",
       "   0.6130348443984985,\n",
       "   0.29558107256889343,\n",
       "   -0.5249598622322083,\n",
       "   0.3716511130332947,\n",
       "   1.0737019777297974,\n",
       "   -0.17930908501148224,\n",
       "   -0.46869662404060364,\n",
       "   0.09237364679574966,\n",
       "   -0.8634735345840454,\n",
       "   0.7519625425338745,\n",
       "   -0.45023590326309204,\n",
       "   1.288128137588501,\n",
       "   -0.89153653383255,\n",
       "   0.11995675414800644,\n",
       "   0.2824033796787262,\n",
       "   0.5927786231040955,\n",
       "   -0.6086298823356628,\n",
       "   -0.2724073827266693,\n",
       "   0.6032738089561462,\n",
       "   -0.1651870757341385,\n",
       "   -0.5763442516326904,\n",
       "   0.24513161182403564,\n",
       "   -0.8365210294723511,\n",
       "   -0.308726042509079,\n",
       "   -0.24227812886238098,\n",
       "   0.02412278763949871,\n",
       "   -0.2779935896396637,\n",
       "   -0.1473185271024704,\n",
       "   -0.5667243003845215,\n",
       "   0.2384720742702484,\n",
       "   -0.756993293762207,\n",
       "   -0.22064825892448425,\n",
       "   -0.27419835329055786,\n",
       "   1.0109639167785645,\n",
       "   0.49554336071014404,\n",
       "   -0.4225080907344818,\n",
       "   -0.34622254967689514,\n",
       "   -0.4953455328941345,\n",
       "   -0.24429187178611755,\n",
       "   -0.2991766035556793,\n",
       "   -0.40107497572898865,\n",
       "   0.6886174082756042,\n",
       "   -0.5696387887001038,\n",
       "   -0.1333184838294983,\n",
       "   -1.1100044250488281,\n",
       "   0.34441664814949036,\n",
       "   -0.4138851463794708,\n",
       "   0.570872962474823,\n",
       "   -1.3339359760284424,\n",
       "   -0.1406034678220749,\n",
       "   0.0015224060043692589,\n",
       "   0.11853606253862381,\n",
       "   0.8179946541786194,\n",
       "   0.22120189666748047,\n",
       "   -0.06087832897901535,\n",
       "   0.6763588786125183,\n",
       "   -0.20045334100723267,\n",
       "   0.8153340816497803,\n",
       "   0.5127897262573242,\n",
       "   0.018290963023900986,\n",
       "   0.0944138616323471,\n",
       "   0.31710758805274963,\n",
       "   -0.41126149892807007,\n",
       "   -0.37868601083755493,\n",
       "   -1.56261146068573,\n",
       "   -0.9735309481620789,\n",
       "   -0.36835867166519165,\n",
       "   -0.8024947643280029,\n",
       "   0.242640420794487,\n",
       "   -0.5574995279312134,\n",
       "   0.23701123893260956,\n",
       "   -0.5866764783859253,\n",
       "   0.3668220639228821,\n",
       "   -1.0867443084716797,\n",
       "   -0.028299223631620407,\n",
       "   -0.04800448939204216,\n",
       "   0.10964052379131317,\n",
       "   -1.6257238388061523,\n",
       "   1.232413649559021,\n",
       "   0.05338670685887337,\n",
       "   0.11396024376153946,\n",
       "   0.13348379731178284,\n",
       "   -0.6176717281341553,\n",
       "   0.2814805209636688,\n",
       "   0.7500103116035461,\n",
       "   0.07286417484283447,\n",
       "   -0.02062111347913742,\n",
       "   -0.1482362449169159,\n",
       "   0.39853113889694214,\n",
       "   -0.39908143877983093,\n",
       "   0.2862017750740051,\n",
       "   -0.4302007257938385,\n",
       "   -0.7189493179321289,\n",
       "   -0.03453562781214714,\n",
       "   -0.23603954911231995,\n",
       "   1.0278995037078857,\n",
       "   0.09839178621768951,\n",
       "   -0.4086121618747711,\n",
       "   -0.10425412654876709,\n",
       "   -0.17865760624408722,\n",
       "   0.13620439171791077,\n",
       "   0.599311888217926,\n",
       "   0.2575252950191498,\n",
       "   -0.568774402141571,\n",
       "   0.2749704122543335,\n",
       "   -1.4148503541946411,\n",
       "   0.4679747521877289,\n",
       "   -0.46002504229545593,\n",
       "   1.5452960729599,\n",
       "   -0.44176700711250305,\n",
       "   0.036018773913383484,\n",
       "   -0.9007596969604492,\n",
       "   0.20298080146312714,\n",
       "   -0.4080766439437866,\n",
       "   -0.22673343122005463,\n",
       "   0.12883393466472626,\n",
       "   -0.3510194420814514,\n",
       "   0.10071180015802383,\n",
       "   -1.7666879892349243,\n",
       "   -0.6649550199508667,\n",
       "   -1.1693094968795776,\n",
       "   -1.1442997455596924,\n",
       "   -0.04031376540660858,\n",
       "   -0.8119086027145386,\n",
       "   -0.6733165979385376,\n",
       "   0.14597854018211365,\n",
       "   0.19429457187652588,\n",
       "   1.6046196222305298,\n",
       "   0.6719238758087158,\n",
       "   0.17597156763076782,\n",
       "   1.220963716506958,\n",
       "   0.17530588805675507,\n",
       "   0.05275367572903633,\n",
       "   -1.1552590131759644,\n",
       "   0.4856584370136261,\n",
       "   0.2140491008758545,\n",
       "   -0.2795470952987671,\n",
       "   -0.6054628491401672,\n",
       "   -0.4613701105117798,\n",
       "   0.41606950759887695,\n",
       "   -0.8695695996284485,\n",
       "   0.39014554023742676,\n",
       "   0.26912248134613037,\n",
       "   -0.12017641216516495,\n",
       "   0.47494250535964966,\n",
       "   0.22589612007141113,\n",
       "   0.31235072016716003,\n",
       "   2.1566317081451416,\n",
       "   -0.5449696183204651,\n",
       "   0.8067548274993896,\n",
       "   0.19170209765434265,\n",
       "   1.089028000831604,\n",
       "   0.05342787876725197,\n",
       "   -0.6089051365852356,\n",
       "   0.8037020564079285,\n",
       "   0.03362637385725975,\n",
       "   -0.5647419691085815,\n",
       "   -11.039095878601074,\n",
       "   -0.23662611842155457,\n",
       "   0.23885241150856018,\n",
       "   0.33958449959754944,\n",
       "   -0.2254876345396042,\n",
       "   -0.23195460438728333,\n",
       "   -0.12888455390930176,\n",
       "   -0.1835079789161682,\n",
       "   -0.45051246881484985,\n",
       "   0.5726686716079712,\n",
       "   0.7358174920082092,\n",
       "   0.14205825328826904,\n",
       "   0.10310513526201248,\n",
       "   0.007212263997644186,\n",
       "   0.23696671426296234,\n",
       "   -0.6576873660087585,\n",
       "   0.5591718554496765,\n",
       "   -0.1787528097629547,\n",
       "   -0.796227216720581,\n",
       "   -0.3872612416744232,\n",
       "   -0.03357882425189018,\n",
       "   -1.1138286590576172,\n",
       "   0.08261160552501678,\n",
       "   -0.5618663430213928,\n",
       "   0.8368513584136963,\n",
       "   -0.6070512533187866,\n",
       "   0.13148106634616852,\n",
       "   -0.6185897588729858,\n",
       "   -0.2795543968677521,\n",
       "   0.1034330278635025,\n",
       "   -0.8510733246803284,\n",
       "   -0.9260520935058594,\n",
       "   1.017182469367981,\n",
       "   -0.13436247408390045,\n",
       "   -0.6683394908905029,\n",
       "   0.6760452389717102,\n",
       "   0.1540599912405014,\n",
       "   0.9371984004974365,\n",
       "   0.011409979313611984,\n",
       "   -0.8037477731704712,\n",
       "   1.2645776271820068,\n",
       "   -0.24081160128116608,\n",
       "   -0.15394769608974457,\n",
       "   -0.08390769362449646,\n",
       "   -0.8109267950057983,\n",
       "   -0.634078323841095,\n",
       "   -0.03082088567316532,\n",
       "   0.10124591737985611,\n",
       "   0.8618408441543579,\n",
       "   1.1298335790634155,\n",
       "   0.4810231029987335,\n",
       "   0.03718685731291771,\n",
       "   -0.036569565534591675,\n",
       "   0.10809364914894104,\n",
       "   -0.9628961086273193,\n",
       "   -0.5765694379806519,\n",
       "   0.3577326536178589,\n",
       "   -0.10922056436538696,\n",
       "   0.0014901109971106052,\n",
       "   -0.4039291441440582,\n",
       "   -0.33689573407173157,\n",
       "   -0.8159257173538208,\n",
       "   -0.06758487224578857,\n",
       "   0.18941523134708405,\n",
       "   -0.1473821997642517,\n",
       "   0.016988372430205345,\n",
       "   0.5152733325958252,\n",
       "   -0.0773104578256607,\n",
       "   0.47455766797065735,\n",
       "   -0.1552337110042572,\n",
       "   -1.0096464157104492,\n",
       "   0.007353025022894144,\n",
       "   -0.05088783800601959,\n",
       "   -0.1977807879447937,\n",
       "   -0.9187960624694824,\n",
       "   0.4535345137119293,\n",
       "   -0.9593519568443298,\n",
       "   -0.15314704179763794,\n",
       "   0.25327393412590027,\n",
       "   -0.2363290786743164,\n",
       "   0.06248115375638008,\n",
       "   0.4362168312072754,\n",
       "   -0.6336411833763123,\n",
       "   0.8624219298362732,\n",
       "   -0.2687572240829468,\n",
       "   -0.1470559984445572,\n",
       "   0.36848703026771545,\n",
       "   1.2467321157455444,\n",
       "   1.1051982641220093,\n",
       "   -0.8199424147605896,\n",
       "   -0.9290514588356018,\n",
       "   -0.10036575794219971,\n",
       "   -0.4036056101322174,\n",
       "   0.44752997159957886,\n",
       "   -0.8479270935058594,\n",
       "   -0.16528214514255524,\n",
       "   1.0138237476348877,\n",
       "   0.4046238362789154,\n",
       "   0.42574581503868103,\n",
       "   -0.13669152557849884,\n",
       "   1.207632303237915,\n",
       "   -0.12556521594524384,\n",
       "   -0.5782330632209778,\n",
       "   0.1435651332139969,\n",
       "   -0.30422985553741455,\n",
       "   0.9182621836662292,\n",
       "   -0.7102717757225037,\n",
       "   -0.7644574046134949,\n",
       "   0.3475714325904846,\n",
       "   0.892054557800293,\n",
       "   0.3562978506088257,\n",
       "   0.7940487861633301,\n",
       "   -0.7822387218475342,\n",
       "   0.240062415599823,\n",
       "   -0.34964442253112793,\n",
       "   -0.047850098460912704,\n",
       "   0.20000161230564117,\n",
       "   -0.3498689532279968,\n",
       "   0.07131440192461014,\n",
       "   0.10893816500902176,\n",
       "   -0.09249290078878403,\n",
       "   -0.4032656252384186,\n",
       "   0.0412856750190258,\n",
       "   -0.09714929014444351,\n",
       "   -0.0001854285947047174,\n",
       "   0.07053696364164352,\n",
       "   -0.4945390522480011,\n",
       "   0.1927439123392105,\n",
       "   -1.6593998670578003,\n",
       "   0.02178405597805977,\n",
       "   0.049117375165224075,\n",
       "   0.39743149280548096,\n",
       "   -0.931472897529602,\n",
       "   0.07444453239440918,\n",
       "   0.061200663447380066,\n",
       "   0.46767574548721313,\n",
       "   0.5891921520233154,\n",
       "   0.44927549362182617,\n",
       "   -0.6284270882606506,\n",
       "   -0.13414719700813293,\n",
       "   -0.2224166989326477,\n",
       "   0.9359621405601501,\n",
       "   -0.21035154163837433,\n",
       "   -0.7428042888641357,\n",
       "   0.6852539777755737,\n",
       "   -0.489376038312912,\n",
       "   0.0432170033454895,\n",
       "   0.7372182607650757,\n",
       "   -0.9274664521217346,\n",
       "   -2.3301072120666504,\n",
       "   -0.5903984904289246,\n",
       "   1.9238049983978271,\n",
       "   0.832429826259613,\n",
       "   0.06851128488779068,\n",
       "   -0.13185760378837585,\n",
       "   -0.7877368330955505,\n",
       "   -0.06661412119865417,\n",
       "   -1.0338557958602905,\n",
       "   0.18332672119140625,\n",
       "   -0.39339679479599,\n",
       "   -0.05392106994986534,\n",
       "   -0.37868693470954895,\n",
       "   0.5568177700042725,\n",
       "   -0.20734401047229767,\n",
       "   0.8768942952156067,\n",
       "   0.8451112508773804,\n",
       "   0.16036148369312286,\n",
       "   1.368741750717163,\n",
       "   -0.39991310238838196,\n",
       "   0.350181519985199,\n",
       "   0.003906876780092716,\n",
       "   -0.07998856902122498,\n",
       "   0.5553160905838013,\n",
       "   0.46876439452171326,\n",
       "   -1.028818964958191,\n",
       "   -0.8419569730758667,\n",
       "   -0.06727811694145203,\n",
       "   -0.7766848802566528,\n",
       "   0.034320563077926636,\n",
       "   -1.6128549575805664,\n",
       "   1.2138197422027588,\n",
       "   0.10420840978622437,\n",
       "   0.1935795247554779,\n",
       "   -0.10518667101860046,\n",
       "   0.6641506552696228,\n",
       "   -0.4062143862247467,\n",
       "   0.38013631105422974,\n",
       "   -0.8842338919639587,\n",
       "   0.17010705173015594,\n",
       "   0.3186846971511841,\n",
       "   -0.03862359747290611,\n",
       "   0.4654932916164398,\n",
       "   0.5106988549232483,\n",
       "   -0.31540945172309875,\n",
       "   -0.9074909090995789,\n",
       "   1.3904458284378052,\n",
       "   -0.9115647077560425,\n",
       "   1.236853003501892,\n",
       "   -0.3136512041091919,\n",
       "   -1.567740559577942,\n",
       "   -0.4610496759414673,\n",
       "   0.04880455136299133,\n",
       "   0.1796518713235855,\n",
       "   0.5745596885681152,\n",
       "   0.6105145812034607,\n",
       "   0.3963150084018707,\n",
       "   -0.6759153008460999,\n",
       "   0.21080341935157776,\n",
       "   -1.1177387237548828,\n",
       "   0.7166786789894104,\n",
       "   0.8606983423233032,\n",
       "   -0.2577253580093384],\n",
       "  'source_filepath': None,\n",
       "  'start_idx': 0,\n",
       "  'end_idx': 613,\n",
       "  'distance': 1.0640103816986084}]"
      ]
     },
     "execution_count": 17,
     "metadata": {},
     "output_type": "execute_result"
    }
   ],
   "source": [
    "import numpy as np\n",
    "retriever.model.collection.query(np.random.rand(768))"
   ]
  },
  {
   "cell_type": "code",
   "execution_count": 33,
   "metadata": {},
   "outputs": [
    {
     "name": "stdout",
     "output_type": "stream",
     "text": [
      "Launching server at http://localhost:35431\n"
     ]
    }
   ],
   "source": [
    "m = MessagePayload(message=HumanMessage(content='Hello is it me you\\'re looking fooooooooor'), mode='atomic', role='human')\n",
    "srv = serve(pn.Row(m.create_collapsible_view(), width=300))\n",
    "# srv.stop()\n"
   ]
  },
  {
   "cell_type": "code",
   "execution_count": 32,
   "metadata": {},
   "outputs": [],
   "source": [
    "srv.stop()"
   ]
  },
  {
   "cell_type": "code",
   "execution_count": 37,
   "metadata": {},
   "outputs": [],
   "source": [
    "from pyllments.common.collections import LanceDBCollection\n",
    "c = LanceDBCollection(\n",
    "    collection_name=\"RetrieverModel01211\",\n",
    "    url=\"/workspaces/pyllments/dev_sandbox/retrieval step testing/data/lancedb\"\n",
    "    )"
   ]
  },
  {
   "cell_type": "code",
   "execution_count": 38,
   "metadata": {},
   "outputs": [
    {
     "data": {
      "text/plain": [
       "[]"
      ]
     },
     "execution_count": 38,
     "metadata": {},
     "output_type": "execute_result"
    }
   ],
   "source": [
    "import numpy as np\n",
    "c.query(np.random.rand(768))"
   ]
  },
  {
   "cell_type": "code",
   "execution_count": 31,
   "metadata": {},
   "outputs": [],
   "source": [
    "import duckdb"
   ]
  },
  {
   "cell_type": "code",
   "execution_count": 32,
   "metadata": {},
   "outputs": [],
   "source": [
    "ltbl = c.collection.to_lance()"
   ]
  },
  {
   "cell_type": "code",
   "execution_count": 39,
   "metadata": {},
   "outputs": [
    {
     "data": {
      "text/plain": [
       "┌─────────┬────────────┬─────────────────┬───────────┬─────────┐\n",
       "│  text   │ embedding  │ source_filepath │ start_idx │ end_idx │\n",
       "│ varchar │ float[768] │     varchar     │   int32   │  int32  │\n",
       "├─────────┴────────────┴─────────────────┴───────────┴─────────┤\n",
       "│                            0 rows                            │\n",
       "└──────────────────────────────────────────────────────────────┘"
      ]
     },
     "execution_count": 39,
     "metadata": {},
     "output_type": "execute_result"
    }
   ],
   "source": [
    "duckdb.query(\"select * from ltbl\")"
   ]
  },
  {
   "cell_type": "code",
   "execution_count": 34,
   "metadata": {},
   "outputs": [
    {
     "name": "stdout",
     "output_type": "stream",
     "text": [
      "Text: This is an example chunk of text.\n",
      "Source Filepath: path/to/source/file.txt\n",
      "Strategy: default\n",
      "Start Index: 0\n",
      "End Index: 50\n",
      "Embedding Shape: (768,)\n",
      "Distance: 0.5\n"
     ]
    }
   ],
   "source": [
    "from pyllments.payloads.chunk import ChunkPayload\n",
    "\n",
    "# Example usage of ChunkPayload with ChunkModel\n",
    "chunk_payload_example = ChunkPayload(\n",
    "    text=\"This is an example chunk of text.\",\n",
    "    source_filepath=\"path/to/source/file.txt\",\n",
    "    strategy=\"default\",\n",
    "    start_idx=0,\n",
    "    end_idx=50,\n",
    "    embedding=np.random.rand(768),  # Example embedding\n",
    "    distance=0.5  # Example distance\n",
    ")\n",
    "\n",
    "# Display the properties of the created ChunkPayload\n",
    "print(\"Text:\", chunk_payload_example.model.text)\n",
    "print(\"Source Filepath:\", chunk_payload_example.model.source_filepath)\n",
    "print(\"Strategy:\", chunk_payload_example.model.strategy)\n",
    "print(\"Start Index:\", chunk_payload_example.model.start_idx)\n",
    "print(\"End Index:\", chunk_payload_example.model.end_idx)\n",
    "print(\"Embedding Shape:\", chunk_payload_example.model.embedding.shape)\n",
    "print(\"Distance:\", chunk_payload_example.model.distance)\n"
   ]
  },
  {
   "cell_type": "code",
   "execution_count": 33,
   "metadata": {},
   "outputs": [
    {
     "name": "stdout",
     "output_type": "stream",
     "text": [
      "Launching server at http://localhost:37945\n"
     ]
    }
   ],
   "source": [
    "a = pn.pane.Markdown(\n",
    "    \"\"\"\n",
    "    <span class='source_header'>**Source:**</span>\\n\n",
    "    <span class='source_text'>Blah blah blah bla</span>\\n\n",
    "    <span class='content_header'>**Content:**</span>\\n\n",
    "    <span class='content_text'>Blah blah blah blah</span>\n",
    "    \"\"\",\n",
    "    stylesheets=[\n",
    "        \".source_header {color: var(--primary-accent-color);}\",\n",
    "        \".content_header {color: var(--primary-accent-color);}\"\n",
    "    ]\n",
    ")\n",
    "\n",
    "\n",
    "\n",
    "srv = serve(a)\n",
    "# srv.stop()"
   ]
  },
  {
   "cell_type": "code",
   "execution_count": 5,
   "metadata": {},
   "outputs": [],
   "source": [
    "srv.stop()"
   ]
  },
  {
   "cell_type": "code",
   "execution_count": 6,
   "metadata": {},
   "outputs": [
    {
     "name": "stdout",
     "output_type": "stream",
     "text": [
      "Launching server at http://localhost:39773\n"
     ]
    }
   ],
   "source": [
    "srv = serve(pn.pane.Markdown(\"**Content:** Blah blah blah blah\", wid))\n",
    "# srv.stop()"
   ]
  },
  {
   "cell_type": "code",
   "execution_count": 7,
   "metadata": {},
   "outputs": [
    {
     "name": "stdout",
     "output_type": "stream",
     "text": [
      "Launching server at http://localhost:46175\n"
     ]
    }
   ],
   "source": [
    "from pyllments.payloads.chunk import ChunkPayload\n",
    "\n",
    "cp = ChunkPayload(text='Blah blah blah blahs fsd fds fsdf sdf ds fdsfsdfds fds fsd fsd fsd fsd fsd fsd fsd fsd fsd fsd fds fsd fsd fsd fsd fsd fsd fsdf sdf sd fsdfsdssssssssssssssssssssssss fsdf df sd fsdf sdfs df', source_filepath='test.txt')\n",
    "srv = serve(pn.Column(cp.create_collapsible_view(), width=300))\n",
    "# srv.stop()"
   ]
  },
  {
   "cell_type": "code",
   "execution_count": 5,
   "metadata": {},
   "outputs": [
    {
     "data": {
      "application/vnd.jupyter.widget-view+json": {
       "model_id": "d94d59d50075489f9e296a3f95da35ab",
       "version_major": 2,
       "version_minor": 0
      },
      "text/plain": [
       "BokehModel(combine_events=True, render_bundle={'docs_json': {'173722b0-d834-49a0-90d8-35fac1bd4301': {'version…"
      ]
     },
     "execution_count": 5,
     "metadata": {},
     "output_type": "execute_result"
    }
   ],
   "source": [
    "t = pn.widgets.Toggle(icon='plus', button_type='primary', button_style='outline')\n",
    "t"
   ]
  },
  {
   "cell_type": "code",
   "execution_count": 6,
   "metadata": {},
   "outputs": [],
   "source": [
    "t.icon = 'minus'"
   ]
  },
  {
   "cell_type": "code",
   "execution_count": 18,
   "metadata": {},
   "outputs": [],
   "source": [
    "from pyllments.elements.history_handler import HistoryHandlerElement\n",
    "from pyllments.payloads.message import MessagePayload\n",
    "from langchain_core.messages import HumanMessage\n",
    "\n",
    "hh = HistoryHandlerElement()\n",
    "\n",
    "\n",
    "hh.model.load_message(MessagePayload(message=HumanMessage(content='Hello slkdfj sdlk fjlksd flks fljslkf sdljk fsd sdfdslkfjdslfjlksdjklflksdfjl sdkljf kljsd fksdfsd fs f')))\n"
   ]
  },
  {
   "cell_type": "code",
   "execution_count": 28,
   "metadata": {},
   "outputs": [
    {
     "data": {
      "text/html": [
       "<style>\n",
       ".param-doc-tooltip{\n",
       "  position: relative;\n",
       "  cursor: help;\n",
       "}\n",
       ".param-doc-tooltip:hover:after{\n",
       "  content: attr(data-tooltip);\n",
       "  background-color: black;\n",
       "  color: #fff;\n",
       "  border-radius: 3px;\n",
       "  padding: 10px;\n",
       "  position: absolute;\n",
       "  z-index: 1;\n",
       "  top: -5px;\n",
       "  left: 100%;\n",
       "  margin-left: 10px;\n",
       "  min-width: 250px;\n",
       "}\n",
       ".param-doc-tooltip:hover:before {\n",
       "  content: \"\";\n",
       "  position: absolute;\n",
       "  top: 50%;\n",
       "  left: 100%;\n",
       "  margin-top: -5px;\n",
       "  border-width: 5px;\n",
       "  border-style: solid;\n",
       "  border-color: transparent black transparent transparent;\n",
       "}\n",
       "</style>\n",
       "<details  open>\n",
       " <summary style=\"display:list-item; outline:none;\">\n",
       "  <tt>Column</tt>\n",
       " </summary>\n",
       " <div style=\"padding-left:10px; padding-bottom:5px;\">\n",
       "  <table style=\"max-width:100%; border:1px solid #AAAAAA;\">\n",
       "   <tr><th style=\"text-align:left;\">Name</th><th style=\"text-align:left;\">Default</th><th style=\"text-align:left;\">Type</th><th>Range</th></tr>\n",
       "<tr>  <td><p style=\"margin-bottom: 0px;\" class=\"param-doc-tooltip\" data-tooltip=\"Whether the object should be aligned with the start, end or\n",
       "        center of its container. If set as a tuple it will declare\n",
       "        (vertical, horizontal) alignment.\">align</p></td>  <td style=\"max-width: 200px; text-align:left;\">&#x27;start&#x27;</td>  <td style=\"text-align:left;\">Align</td>  <td style=\"max-width: 300px;\"></td></tr>\n",
       "<tr>  <td><p style=\"margin-bottom: 0px;\" class=\"param-doc-tooltip\" data-tooltip=\"Describes the proportional relationship between component&#x27;s\n",
       "        width and height.  This works if any of component&#x27;s dimensions\n",
       "        are flexible in size. If set to a number, ``width / height =\n",
       "        aspect_ratio`` relationship will be maintained.  Otherwise, if\n",
       "        set to ``&quot;auto&quot;``, component&#x27;s preferred width and height will\n",
       "        be used to determine the aspect (if not set, no aspect will be\n",
       "        preserved).\">aspect_ratio</p></td>  <td style=\"max-width: 200px; text-align:left;\">None</td>  <td style=\"text-align:left;\">Aspect</td>  <td style=\"max-width: 300px;\"><i>nullable</i></td></tr>\n",
       "<tr>  <td><p style=\"margin-bottom: 0px;\" class=\"param-doc-tooltip\" data-tooltip=\"Max pixel distance from the latest object in the Column to\n",
       "        activate automatic scrolling upon update. Setting to 0\n",
       "        disables auto-scrolling.\">auto_scroll_limit</p></td>  <td style=\"max-width: 200px; text-align:left;\">0</td>  <td style=\"text-align:left;\">Integer</td>  <td style=\"max-width: 300px;\">>=0</td></tr>\n",
       "<tr>  <td><p style=\"margin-bottom: 0px;\" class=\"param-doc-tooltip\" data-tooltip=\"CSS classes to apply to the layout.\">css_classes</p></td>  <td style=\"max-width: 200px; text-align:left;\">[]</td>  <td style=\"text-align:left;\">List</td>  <td style=\"max-width: 300px;\">(0, None)</td></tr>\n",
       "<tr>  <td><p style=\"margin-bottom: 0px;\" class=\"param-doc-tooltip\" data-tooltip=\"The design system to use to style components.\">design</p></td>  <td style=\"max-width: 200px; text-align:left;\">None</td>  <td style=\"text-align:left;\">ObjectSelector</td>  <td style=\"max-width: 300px;\">None</td></tr>\n",
       "<tr>  <td><p style=\"margin-bottom: 0px;\" class=\"param-doc-tooltip\" data-tooltip=\"The height of the component (in pixels).  This can be either\n",
       "        fixed or preferred height, depending on height sizing policy.\">height</p></td>  <td style=\"max-width: 200px; text-align:left;\">None</td>  <td style=\"text-align:left;\">Integer</td>  <td style=\"max-width: 300px;\"><i>nullable</i> >=0</td></tr>\n",
       "<tr>  <td><p style=\"margin-bottom: 0px;\" class=\"param-doc-tooltip\" data-tooltip=\"Describes how the component should maintain its height.\n",
       "\n",
       "        ``&quot;auto&quot;``\n",
       "            Use component&#x27;s preferred sizing policy.\n",
       "\n",
       "        ``&quot;fixed&quot;``\n",
       "            Use exactly ``height`` pixels. Component will overflow if\n",
       "            it can&#x27;t fit in the available vertical space.\n",
       "\n",
       "        ``&quot;fit&quot;``\n",
       "            Use component&#x27;s preferred height (if set) and allow to fit\n",
       "            into the available vertical space within the minimum and\n",
       "            maximum height bounds (if set). Component&#x27;s height neither\n",
       "            will be aggressively minimized nor maximized.\n",
       "\n",
       "        ``&quot;min&quot;``\n",
       "            Use as little vertical space as possible, not less than\n",
       "            the minimum height (if set).  The starting point is the\n",
       "            preferred height (if set). The height of the component may\n",
       "            shrink or grow depending on the parent layout, aspect\n",
       "            management and other factors.\n",
       "\n",
       "        ``&quot;max&quot;``\n",
       "            Use as much vertical space as possible, not more than the\n",
       "            maximum height (if set).  The starting point is the\n",
       "            preferred height (if set). The height of the component may\n",
       "            shrink or grow depending on the parent layout, aspect\n",
       "            management and other factors.\">height_policy</p></td>  <td style=\"max-width: 200px; text-align:left;\">&#x27;auto&#x27;</td>  <td style=\"text-align:left;\">ObjectSelector</td>  <td style=\"max-width: 300px;\">'auto', 'fixed', 'fit', 'min', 'max'</td></tr>\n",
       "<tr>  <td><p style=\"margin-bottom: 0px;\" class=\"param-doc-tooltip\" data-tooltip=\"Whether or not the Viewable is loading. If True a loading spinner\n",
       "        is shown on top of the Viewable.\">loading</p></td>  <td style=\"max-width: 200px; text-align:left;\">False</td>  <td style=\"text-align:left;\">Boolean</td>  <td style=\"max-width: 300px;\"></td></tr>\n",
       "<tr>  <td><p style=\"margin-bottom: 0px;\" class=\"param-doc-tooltip\" data-tooltip=\"Allows to create additional space around the component. May\n",
       "        be specified as a two-tuple of the form (vertical, horizontal)\n",
       "        or a four-tuple (top, right, bottom, left).\">margin</p></td>  <td style=\"max-width: 200px; text-align:left;\">0</td>  <td style=\"text-align:left;\">Margin</td>  <td style=\"max-width: 300px;\"><i>nullable</i></td></tr>\n",
       "<tr>  <td><p style=\"margin-bottom: 0px;\" class=\"param-doc-tooltip\" data-tooltip=\"Minimal height of the component (in pixels) if height is adjustable.\">max_height</p></td>  <td style=\"max-width: 200px; text-align:left;\">None</td>  <td style=\"text-align:left;\">Integer</td>  <td style=\"max-width: 300px;\"><i>nullable</i> >=0</td></tr>\n",
       "<tr>  <td><p style=\"margin-bottom: 0px;\" class=\"param-doc-tooltip\" data-tooltip=\"Minimal width of the component (in pixels) if width is adjustable.\">max_width</p></td>  <td style=\"max-width: 200px; text-align:left;\">None</td>  <td style=\"text-align:left;\">Integer</td>  <td style=\"max-width: 300px;\"><i>nullable</i> >=0</td></tr>\n",
       "<tr>  <td><p style=\"margin-bottom: 0px;\" class=\"param-doc-tooltip\" data-tooltip=\"Minimal height of the component (in pixels) if height is adjustable.\">min_height</p></td>  <td style=\"max-width: 200px; text-align:left;\">None</td>  <td style=\"text-align:left;\">Integer</td>  <td style=\"max-width: 300px;\"><i>nullable</i> >=0</td></tr>\n",
       "<tr>  <td><p style=\"margin-bottom: 0px;\" class=\"param-doc-tooltip\" data-tooltip=\"Minimal width of the component (in pixels) if width is adjustable.\">min_width</p></td>  <td style=\"max-width: 200px; text-align:left;\">None</td>  <td style=\"text-align:left;\">Integer</td>  <td style=\"max-width: 300px;\"><i>nullable</i> >=0</td></tr>\n",
       "<tr>  <td><p style=\"margin-bottom: 0px;\" class=\"param-doc-tooltip\" data-tooltip=\"String identifier for this object.\">name</p></td>  <td style=\"max-width: 200px; text-align:left;\">&#x27;Column&#x27;</td>  <td style=\"text-align:left;\">String</td>  <td style=\"max-width: 300px;\"><i>nullable</i> <i>constant</i></td></tr>\n",
       "<tr>  <td><p style=\"margin-bottom: 0px;\" class=\"param-doc-tooltip\" data-tooltip=\"The list of child objects that make up the layout.\">objects</p></td>  <td style=\"max-width: 200px; text-align:left;\">[]</td>  <td style=\"text-align:left;\">Children</td>  <td style=\"max-width: 300px;\">(0, None)</td></tr>\n",
       "<tr>  <td><p style=\"margin-bottom: 0px;\" class=\"param-doc-tooltip\" data-tooltip=\"Whether to add scrollbars if the content overflows the size\n",
       "        of the container. If &quot;both-auto&quot;, will only add scrollbars if\n",
       "        the content overflows in either directions. If &quot;x-auto&quot; or &quot;y-auto&quot;,\n",
       "        will only add scrollbars if the content overflows in the\n",
       "        respective direction. If &quot;both&quot;, will always add scrollbars.\n",
       "        If &quot;x&quot; or &quot;y&quot;, will always add scrollbars in the respective\n",
       "        direction. If False, overflowing content will be clipped.\n",
       "        If True, will only add scrollbars in the direction of the container,\n",
       "        (e.g. Column: vertical, Row: horizontal).\">scroll</p></td>  <td style=\"max-width: 200px; text-align:left;\">False</td>  <td style=\"text-align:left;\">Selector</td>  <td style=\"max-width: 300px;\">False, True, 'both-auto', 'y-auto', 'x-auto', 'both', 'x', 'y'</td></tr>\n",
       "<tr>  <td><p style=\"margin-bottom: 0px;\" class=\"param-doc-tooltip\" data-tooltip=\"Min pixel distance from the latest object in the Column to\n",
       "        display the scroll button. Setting to 0\n",
       "        disables the scroll button.\">scroll_button_threshold</p></td>  <td style=\"max-width: 200px; text-align:left;\">0</td>  <td style=\"text-align:left;\">Integer</td>  <td style=\"max-width: 300px;\">>=0</td></tr>\n",
       "<tr>  <td><p style=\"margin-bottom: 0px;\" class=\"param-doc-tooltip\" data-tooltip=\"Current scroll position of the Column. Setting this value\n",
       "        will update the scroll position of the Column. Setting to\n",
       "        0 will scroll to the top.\">scroll_position</p></td>  <td style=\"max-width: 200px; text-align:left;\">0</td>  <td style=\"text-align:left;\">Integer</td>  <td style=\"max-width: 300px;\"></td></tr>\n",
       "<tr>  <td><p style=\"margin-bottom: 0px;\" class=\"param-doc-tooltip\" data-tooltip=\"How the component should size itself.\n",
       "\n",
       "        This is a high-level setting for maintaining width and height\n",
       "        of the component. To gain more fine grained control over\n",
       "        sizing, use ``width_policy``, ``height_policy`` and\n",
       "        ``aspect_ratio`` instead (those take precedence over\n",
       "        ``sizing_mode``).\n",
       "\n",
       "        ``&quot;fixed&quot;``\n",
       "            Component is not responsive. It will retain its original\n",
       "            width and height regardless of any subsequent browser\n",
       "            window resize events.\n",
       "\n",
       "        ``&quot;stretch_width&quot;``\n",
       "            Component will responsively resize to stretch to the\n",
       "            available width, without maintaining any aspect ratio. The\n",
       "            height of the component depends on the type of the\n",
       "            component and may be fixed or fit to component&#x27;s contents.\n",
       "\n",
       "        ``&quot;stretch_height&quot;``\n",
       "            Component will responsively resize to stretch to the\n",
       "            available height, without maintaining any aspect\n",
       "            ratio. The width of the component depends on the type of\n",
       "            the component and may be fixed or fit to component&#x27;s\n",
       "            contents.\n",
       "\n",
       "        ``&quot;stretch_both&quot;``\n",
       "            Component is completely responsive, independently in width\n",
       "            and height, and will occupy all the available horizontal\n",
       "            and vertical space, even if this changes the aspect ratio\n",
       "            of the component.\n",
       "\n",
       "        ``&quot;scale_width&quot;``\n",
       "            Component will responsively resize to stretch to the\n",
       "            available width, while maintaining the original or\n",
       "            provided aspect ratio.\n",
       "\n",
       "        ``&quot;scale_height&quot;``\n",
       "            Component will responsively resize to stretch to the\n",
       "            available height, while maintaining the original or\n",
       "            provided aspect ratio.\n",
       "\n",
       "        ``&quot;scale_both&quot;``\n",
       "            Component will responsively resize to both the available\n",
       "            width and height, while maintaining the original or\n",
       "            provided aspect ratio.\">sizing_mode</p></td>  <td style=\"max-width: 200px; text-align:left;\">None</td>  <td style=\"text-align:left;\">ObjectSelector</td>  <td style=\"max-width: 300px;\">'fixed', 'stretch_width', 'stretch_height', 'stretch_both', 'scale_width', 'scale_height', 'scale_both', None</td></tr>\n",
       "<tr>  <td><p style=\"margin-bottom: 0px;\" class=\"param-doc-tooltip\" data-tooltip=\"Dictionary of CSS rules to apply to DOM node wrapping the\n",
       "        component.\">styles</p></td>  <td style=\"max-width: 200px; text-align:left;\">{}</td>  <td style=\"text-align:left;\">Dict</td>  <td style=\"max-width: 300px;\">dict</td></tr>\n",
       "<tr>  <td><p style=\"margin-bottom: 0px;\" class=\"param-doc-tooltip\" data-tooltip=\"List of stylesheets defined as URLs pointing to .css files\n",
       "        or raw CSS defined as a string.\">stylesheets</p></td>  <td style=\"max-width: 200px; text-align:left;\">[]</td>  <td style=\"text-align:left;\">List</td>  <td style=\"max-width: 300px;\">(0, None)</td></tr>\n",
       "<tr>  <td><p style=\"margin-bottom: 0px;\" class=\"param-doc-tooltip\" data-tooltip=\"List of arbitrary tags to add to the component.\n",
       "        Can be useful for templating or for storing metadata on\n",
       "        the model.\">tags</p></td>  <td style=\"max-width: 200px; text-align:left;\">[]</td>  <td style=\"text-align:left;\">List</td>  <td style=\"max-width: 300px;\">(0, None)</td></tr>\n",
       "<tr>  <td><p style=\"margin-bottom: 0px;\" class=\"param-doc-tooltip\" data-tooltip=\"Whether to scroll to the latest object on init. If not\n",
       "        enabled the view will be on the first object.\">view_latest</p></td>  <td style=\"max-width: 200px; text-align:left;\">False</td>  <td style=\"text-align:left;\">Boolean</td>  <td style=\"max-width: 300px;\"></td></tr>\n",
       "<tr>  <td><p style=\"margin-bottom: 0px;\" class=\"param-doc-tooltip\" data-tooltip=\"Whether the component is visible. Setting visible to false will\n",
       "        hide the component entirely.\">visible</p></td>  <td style=\"max-width: 200px; text-align:left;\">True</td>  <td style=\"text-align:left;\">Boolean</td>  <td style=\"max-width: 300px;\"></td></tr>\n",
       "<tr>  <td><p style=\"margin-bottom: 0px;\" class=\"param-doc-tooltip\" data-tooltip=\"The width of the component (in pixels). This can be either\n",
       "        fixed or preferred width, depending on width sizing policy.\">width</p></td>  <td style=\"max-width: 200px; text-align:left;\">None</td>  <td style=\"text-align:left;\">Integer</td>  <td style=\"max-width: 300px;\"><i>nullable</i> >=0</td></tr>\n",
       "<tr>  <td><p style=\"margin-bottom: 0px;\" class=\"param-doc-tooltip\" data-tooltip=\"Describes how the component should maintain its width.\n",
       "\n",
       "        ``&quot;auto&quot;``\n",
       "            Use component&#x27;s preferred sizing policy.\n",
       "\n",
       "        ``&quot;fixed&quot;``\n",
       "            Use exactly ``width`` pixels. Component will overflow if\n",
       "            it can&#x27;t fit in the available horizontal space.\n",
       "\n",
       "        ``&quot;fit&quot;``\n",
       "            Use component&#x27;s preferred width (if set) and allow it to\n",
       "            fit into the available horizontal space within the minimum\n",
       "            and maximum width bounds (if set). Component&#x27;s width\n",
       "            neither will be aggressively minimized nor maximized.\n",
       "\n",
       "        ``&quot;min&quot;``\n",
       "            Use as little horizontal space as possible, not less than\n",
       "            the minimum width (if set).  The starting point is the\n",
       "            preferred width (if set). The width of the component may\n",
       "            shrink or grow depending on the parent layout, aspect\n",
       "            management and other factors.\n",
       "\n",
       "        ``&quot;max&quot;``\n",
       "            Use as much horizontal space as possible, not more than\n",
       "            the maximum width (if set).  The starting point is the\n",
       "            preferred width (if set). The width of the component may\n",
       "            shrink or grow depending on the parent layout, aspect\n",
       "            management and other factors.\">width_policy</p></td>  <td style=\"max-width: 200px; text-align:left;\">&#x27;auto&#x27;</td>  <td style=\"text-align:left;\">ObjectSelector</td>  <td style=\"max-width: 300px;\">'auto', 'fixed', 'fit', 'min', 'max'</td></tr>\n",
       "\n",
       "  </table>\n",
       " </div>\n",
       "</details>\n"
      ],
      "text/plain": [
       "<param.parameterized.Parameters at 0x7f9bac187980>"
      ]
     },
     "execution_count": 28,
     "metadata": {},
     "output_type": "execute_result"
    }
   ],
   "source": [
    "pn.Column.param"
   ]
  },
  {
   "cell_type": "code",
   "execution_count": 19,
   "metadata": {},
   "outputs": [
    {
     "name": "stdout",
     "output_type": "stream",
     "text": [
      "Launching server at http://localhost:34345\n"
     ]
    }
   ],
   "source": [
    "srv = serve(hh.create_context_view())\n",
    "# srv.stop()\n",
    "# srv.stop()"
   ]
  },
  {
   "cell_type": "code",
   "execution_count": 13,
   "metadata": {},
   "outputs": [
    {
     "ename": "AssertionError",
     "evalue": "Already stopped",
     "output_type": "error",
     "traceback": [
      "\u001b[0;31m---------------------------------------------------------------------------\u001b[0m",
      "\u001b[0;31mAssertionError\u001b[0m                            Traceback (most recent call last)",
      "Cell \u001b[0;32mIn[13], line 1\u001b[0m\n\u001b[0;32m----> 1\u001b[0m srv\u001b[38;5;241m.\u001b[39mstop()\n",
      "File \u001b[0;32m~/miniconda3/envs/pyllments/lib/python3.12/site-packages/panel/io/server.py:321\u001b[0m, in \u001b[0;36mServer.stop\u001b[0;34m(self, wait)\u001b[0m\n\u001b[1;32m    319\u001b[0m     \u001b[38;5;28;01mexcept\u001b[39;00m \u001b[38;5;167;01mRuntimeError\u001b[39;00m:\n\u001b[1;32m    320\u001b[0m         \u001b[38;5;28;01mpass\u001b[39;00m \u001b[38;5;66;03m# Ignore if the event loop is still running\u001b[39;00m\n\u001b[0;32m--> 321\u001b[0m \u001b[38;5;28msuper\u001b[39m()\u001b[38;5;241m.\u001b[39mstop(wait\u001b[38;5;241m=\u001b[39mwait)\n\u001b[1;32m    322\u001b[0m \u001b[38;5;28;01mif\u001b[39;00m state\u001b[38;5;241m.\u001b[39m_admin_context:\n\u001b[1;32m    323\u001b[0m     state\u001b[38;5;241m.\u001b[39m_admin_context\u001b[38;5;241m.\u001b[39mrun_unload_hook()\n",
      "File \u001b[0;32m~/miniconda3/envs/pyllments/lib/python3.12/site-packages/bokeh/server/server.py:167\u001b[0m, in \u001b[0;36mBaseServer.stop\u001b[0;34m(self, wait)\u001b[0m\n\u001b[1;32m    153\u001b[0m \u001b[38;5;28;01mdef\u001b[39;00m \u001b[38;5;21mstop\u001b[39m(\u001b[38;5;28mself\u001b[39m, wait: \u001b[38;5;28mbool\u001b[39m \u001b[38;5;241m=\u001b[39m \u001b[38;5;28;01mTrue\u001b[39;00m) \u001b[38;5;241m-\u001b[39m\u001b[38;5;241m>\u001b[39m \u001b[38;5;28;01mNone\u001b[39;00m:\n\u001b[1;32m    154\u001b[0m \u001b[38;5;250m    \u001b[39m\u001b[38;5;124;03m''' Stop the Bokeh Server.\u001b[39;00m\n\u001b[1;32m    155\u001b[0m \n\u001b[1;32m    156\u001b[0m \u001b[38;5;124;03m    This stops and removes all Bokeh Server ``IOLoop`` callbacks, as well\u001b[39;00m\n\u001b[0;32m   (...)\u001b[0m\n\u001b[1;32m    165\u001b[0m \n\u001b[1;32m    166\u001b[0m \u001b[38;5;124;03m    '''\u001b[39;00m\n\u001b[0;32m--> 167\u001b[0m     \u001b[38;5;28;01massert\u001b[39;00m \u001b[38;5;129;01mnot\u001b[39;00m \u001b[38;5;28mself\u001b[39m\u001b[38;5;241m.\u001b[39m_stopped, \u001b[38;5;124m\"\u001b[39m\u001b[38;5;124mAlready stopped\u001b[39m\u001b[38;5;124m\"\u001b[39m\n\u001b[1;32m    168\u001b[0m     \u001b[38;5;28mself\u001b[39m\u001b[38;5;241m.\u001b[39m_stopped \u001b[38;5;241m=\u001b[39m \u001b[38;5;28;01mTrue\u001b[39;00m\n\u001b[1;32m    169\u001b[0m     \u001b[38;5;28mself\u001b[39m\u001b[38;5;241m.\u001b[39m_tornado\u001b[38;5;241m.\u001b[39mstop(wait)\n",
      "\u001b[0;31mAssertionError\u001b[0m: Already stopped"
     ]
    }
   ],
   "source": [
    "srv.stop()"
   ]
  },
  {
   "cell_type": "code",
   "execution_count": 26,
   "metadata": {},
   "outputs": [],
   "source": [
    "srv.stop()"
   ]
  },
  {
   "cell_type": "code",
   "execution_count": 27,
   "metadata": {},
   "outputs": [
    {
     "name": "stdout",
     "output_type": "stream",
     "text": [
      "Launching server at http://localhost:44501\n"
     ]
    },
    {
     "name": "stderr",
     "output_type": "stream",
     "text": [
      "WARNING:tornado.access:404 GET /sm/a66f7e8440d7b0538d7c7e64fb20eaeb1b8e7204179c205d57a779774b7b22d9.map (127.0.0.1) 0.22ms\n"
     ]
    }
   ],
   "source": [
    "md = pn.pane.Markdown(\n",
    "    \"## Created Chunks\", \n",
    "    stylesheets=[\n",
    "        \":host {margin: 2px;}\",\n",
    "        \"h2 {color: var(--primary-accent-color); font-size: 1.2em;}\",\n",
    "        \"h3 {color: var(--primary-accent-color); font-size: 1.2em;}\"\n",
    "    ],\n",
    "    margin=(15, 15, 15, 15)\n",
    ")\n",
    "srv = serve(md)"
   ]
  },
  {
   "cell_type": "code",
   "execution_count": 13,
   "metadata": {},
   "outputs": [
    {
     "name": "stdout",
     "output_type": "stream",
     "text": [
      "Launching server at http://localhost:38927\n"
     ]
    }
   ],
   "source": [
    "c = pn.Column(\n",
    "    pn.pane.Markdown(\"## Created Chunks\", stylesheets=[\"h2 {color: var(--primary-accent-color); font-size: 1.2em;}\"]),\n",
    "    pn.pane.Markdown(\"## Retrieved Chunks\", stylesheets=[\"h2 {color: var(--primary-accent-color); font-size: 1.2em;}\"]),\n",
    ")\n",
    "srv = serve(c)"
   ]
  },
  {
   "cell_type": "code",
   "execution_count": 14,
   "metadata": {},
   "outputs": [],
   "source": [
    "c.append(pn.pane.Markdown(\"## Boooped\", stylesheets=[\"h2 {color: var(--primary-accent-color); font-size: 1.2em;}\"]))"
   ]
  },
  {
   "cell_type": "code",
   "execution_count": 15,
   "metadata": {},
   "outputs": [],
   "source": [
    "c.objects[1:] = [\n",
    "    pn.pane.Markdown(\"## Boooped\", stylesheets=[\"h2 {color: var(--primary-accent-color); font-size: 1.2em;}\"]),\n",
    "    pn.pane.Markdown(\"## Boooped\", stylesheets=[\"h2 {color: var(--primary-accent-color); font-size: 1.2em;}\"]),\n",
    "]\n",
    "c.param.trigger('objects')"
   ]
  },
  {
   "cell_type": "code",
   "execution_count": 5,
   "metadata": {},
   "outputs": [
    {
     "name": "stderr",
     "output_type": "stream",
     "text": [
      "ERROR:tornado.application:Uncaught exception GET / (127.0.0.1)\n",
      "HTTPServerRequest(protocol='http', host='localhost:39053', method='GET', uri='/', version='HTTP/1.1', remote_ip='127.0.0.1')\n",
      "Traceback (most recent call last):\n",
      "  File \"/root/miniconda3/envs/pyllments/lib/python3.12/site-packages/tornado/web.py\", line 1790, in _execute\n",
      "    result = await result\n",
      "             ^^^^^^^^^^^^\n",
      "  File \"/root/miniconda3/envs/pyllments/lib/python3.12/site-packages/panel/io/server.py\", line 466, in get\n",
      "    session = await self.get_session()\n",
      "              ^^^^^^^^^^^^^^^^^^^^^^^^\n",
      "  File \"/root/miniconda3/envs/pyllments/lib/python3.12/site-packages/panel/io/server.py\", line 356, in get_session\n",
      "    session = await super().get_session()\n",
      "              ^^^^^^^^^^^^^^^^^^^^^^^^^^^\n",
      "  File \"/root/miniconda3/envs/pyllments/lib/python3.12/site-packages/bokeh/server/views/session_handler.py\", line 145, in get_session\n",
      "    session = await self.application_context.create_session_if_needed(session_id, self.request, token)\n",
      "              ^^^^^^^^^^^^^^^^^^^^^^^^^^^^^^^^^^^^^^^^^^^^^^^^^^^^^^^^^^^^^^^^^^^^^^^^^^^^^^^^^^^^^^^^\n",
      "  File \"/root/miniconda3/envs/pyllments/lib/python3.12/site-packages/bokeh/server/contexts.py\", line 240, in create_session_if_needed\n",
      "    self._application.initialize_document(doc)\n",
      "  File \"/root/miniconda3/envs/pyllments/lib/python3.12/site-packages/panel/io/application.py\", line 149, in initialize_document\n",
      "    super().initialize_document(doc)\n",
      "  File \"/root/miniconda3/envs/pyllments/lib/python3.12/site-packages/bokeh/application/application.py\", line 190, in initialize_document\n",
      "    h.modify_document(doc)\n",
      "  File \"/root/miniconda3/envs/pyllments/lib/python3.12/site-packages/bokeh/application/handlers/function.py\", line 140, in modify_document\n",
      "    self._func(doc)\n",
      "  File \"/root/miniconda3/envs/pyllments/lib/python3.12/site-packages/panel/io/application.py\", line 79, in _eval_panel\n",
      "    doc = as_panel(panel)._modify_doc(server_id, title, doc, location)\n",
      "          ^^^^^^^^^^^^^^^^^^^^^^^^^^^^^^^^^^^^^^^^^^^^^^^^^^^^^^^^^^^^\n",
      "  File \"/root/miniconda3/envs/pyllments/lib/python3.12/site-packages/panel/viewable.py\", line 318, in _modify_doc\n",
      "    return self.server_doc(doc, title, location) # type: ignore\n",
      "           ^^^^^^^^^^^^^^^^^^^^^^^^^^^^^^^^^^^^^\n",
      "  File \"/root/miniconda3/envs/pyllments/lib/python3.12/site-packages/panel/viewable.py\", line 1006, in server_doc\n",
      "    model = self.get_root(doc)\n",
      "            ^^^^^^^^^^^^^^^^^^\n",
      "  File \"/root/miniconda3/envs/pyllments/lib/python3.12/site-packages/panel/layout/base.py\", line 317, in get_root\n",
      "    root = super().get_root(doc, comm, preprocess)\n",
      "           ^^^^^^^^^^^^^^^^^^^^^^^^^^^^^^^^^^^^^^^\n",
      "  File \"/root/miniconda3/envs/pyllments/lib/python3.12/site-packages/panel/viewable.py\", line 678, in get_root\n",
      "    root = self._get_model(doc, comm=comm)\n",
      "           ^^^^^^^^^^^^^^^^^^^^^^^^^^^^^^^\n",
      "  File \"/root/miniconda3/envs/pyllments/lib/python3.12/site-packages/panel/layout/base.py\", line 183, in _get_model\n",
      "    objects, _ = self._get_objects(model, [], doc, root, comm)\n",
      "                 ^^^^^^^^^^^^^^^^^^^^^^^^^^^^^^^^^^^^^^^^^^^^^\n",
      "  File \"/root/miniconda3/envs/pyllments/lib/python3.12/site-packages/panel/layout/base.py\", line 160, in _get_objects\n",
      "    if ref in pane._models:\n",
      "              ^^^^^^^^^^^^\n",
      "AttributeError: 'tuple' object has no attribute '_models'\n",
      "ERROR:tornado.access:500 GET / (127.0.0.1) 4.76ms\n",
      "ERROR:bokeh.server.contexts:Failed to run session destroy hooks TypeError('expected 0 arguments, got 1')\n",
      "Traceback (most recent call last):\n",
      "  File \"/root/miniconda3/envs/pyllments/lib/python3.12/site-packages/panel/io/application.py\", line 90, in _on_session_destroyed\n",
      "    callback(session_context)\n",
      "  File \"/root/miniconda3/envs/pyllments/lib/python3.12/site-packages/panel/viewable.py\", line 638, in _server_destroy\n",
      "    self._cleanup(root)\n",
      "  File \"/root/miniconda3/envs/pyllments/lib/python3.12/site-packages/panel/layout/base.py\", line 843, in _cleanup\n",
      "    p._cleanup(root)\n",
      "    ^^^^^^^^^^\n",
      "AttributeError: 'tuple' object has no attribute '_cleanup'\n",
      "\n",
      "During handling of the above exception, another exception occurred:\n",
      "\n",
      "Traceback (most recent call last):\n",
      "  File \"/root/miniconda3/envs/pyllments/lib/python3.12/site-packages/bokeh/server/contexts.py\", line 295, in _discard_session\n",
      "    await self._application.on_session_destroyed(session_context)\n",
      "  File \"/root/miniconda3/envs/pyllments/lib/python3.12/site-packages/bokeh/application/application.py\", line 246, in on_session_destroyed\n",
      "    await h.on_session_destroyed(session_context)\n",
      "  File \"/root/miniconda3/envs/pyllments/lib/python3.12/site-packages/bokeh/application/handlers/lifecycle.py\", line 125, in on_session_destroyed\n",
      "    return self._on_session_destroyed(session_context)\n",
      "           ^^^^^^^^^^^^^^^^^^^^^^^^^^^^^^^^^^^^^^^^^^^\n",
      "  File \"/root/miniconda3/envs/pyllments/lib/python3.12/site-packages/panel/io/application.py\", line 94, in _on_session_destroyed\n",
      "    f\"callback {callback} failed with following error: {e}\"\n",
      "               ^^^^^^^^^^\n",
      "  File \"/root/miniconda3/envs/pyllments/lib/python3.12/site-packages/panel/layout/base.py\", line 74, in __repr__\n",
      "    objs = ['[%d] %s' % (i, obj.__repr__(depth+1)) for i, obj in enumerate(self)]\n",
      "                            ^^^^^^^^^^^^^^^^^^^^^\n",
      "TypeError: expected 0 arguments, got 1\n",
      "ERROR:bokeh.server.contexts:Failed to run session destroy hooks TypeError('expected 0 arguments, got 1')\n",
      "Traceback (most recent call last):\n",
      "  File \"/root/miniconda3/envs/pyllments/lib/python3.12/site-packages/panel/io/application.py\", line 90, in _on_session_destroyed\n",
      "    callback(session_context)\n",
      "  File \"/root/miniconda3/envs/pyllments/lib/python3.12/site-packages/panel/viewable.py\", line 638, in _server_destroy\n",
      "    self._cleanup(root)\n",
      "  File \"/root/miniconda3/envs/pyllments/lib/python3.12/site-packages/panel/layout/base.py\", line 843, in _cleanup\n",
      "    p._cleanup(root)\n",
      "    ^^^^^^^^^^\n",
      "AttributeError: 'tuple' object has no attribute '_cleanup'\n",
      "\n",
      "During handling of the above exception, another exception occurred:\n",
      "\n",
      "Traceback (most recent call last):\n",
      "  File \"/root/miniconda3/envs/pyllments/lib/python3.12/site-packages/bokeh/server/contexts.py\", line 295, in _discard_session\n",
      "    await self._application.on_session_destroyed(session_context)\n",
      "  File \"/root/miniconda3/envs/pyllments/lib/python3.12/site-packages/bokeh/application/application.py\", line 246, in on_session_destroyed\n",
      "    await h.on_session_destroyed(session_context)\n",
      "  File \"/root/miniconda3/envs/pyllments/lib/python3.12/site-packages/bokeh/application/handlers/lifecycle.py\", line 125, in on_session_destroyed\n",
      "    return self._on_session_destroyed(session_context)\n",
      "           ^^^^^^^^^^^^^^^^^^^^^^^^^^^^^^^^^^^^^^^^^^^\n",
      "  File \"/root/miniconda3/envs/pyllments/lib/python3.12/site-packages/panel/io/application.py\", line 94, in _on_session_destroyed\n",
      "    f\"callback {callback} failed with following error: {e}\"\n",
      "               ^^^^^^^^^^\n",
      "  File \"/root/miniconda3/envs/pyllments/lib/python3.12/site-packages/panel/layout/base.py\", line 74, in __repr__\n",
      "    objs = ['[%d] %s' % (i, obj.__repr__(depth+1)) for i, obj in enumerate(self)]\n",
      "                            ^^^^^^^^^^^^^^^^^^^^^\n",
      "TypeError: expected 0 arguments, got 1\n",
      "ERROR:tornado.application:Uncaught exception GET / (127.0.0.1)\n",
      "HTTPServerRequest(protocol='http', host='localhost:39053', method='GET', uri='/', version='HTTP/1.1', remote_ip='127.0.0.1')\n",
      "Traceback (most recent call last):\n",
      "  File \"/root/miniconda3/envs/pyllments/lib/python3.12/site-packages/tornado/web.py\", line 1790, in _execute\n",
      "    result = await result\n",
      "             ^^^^^^^^^^^^\n",
      "  File \"/root/miniconda3/envs/pyllments/lib/python3.12/site-packages/panel/io/server.py\", line 466, in get\n",
      "    session = await self.get_session()\n",
      "              ^^^^^^^^^^^^^^^^^^^^^^^^\n",
      "  File \"/root/miniconda3/envs/pyllments/lib/python3.12/site-packages/panel/io/server.py\", line 356, in get_session\n",
      "    session = await super().get_session()\n",
      "              ^^^^^^^^^^^^^^^^^^^^^^^^^^^\n",
      "  File \"/root/miniconda3/envs/pyllments/lib/python3.12/site-packages/bokeh/server/views/session_handler.py\", line 145, in get_session\n",
      "    session = await self.application_context.create_session_if_needed(session_id, self.request, token)\n",
      "              ^^^^^^^^^^^^^^^^^^^^^^^^^^^^^^^^^^^^^^^^^^^^^^^^^^^^^^^^^^^^^^^^^^^^^^^^^^^^^^^^^^^^^^^^\n",
      "  File \"/root/miniconda3/envs/pyllments/lib/python3.12/site-packages/bokeh/server/contexts.py\", line 240, in create_session_if_needed\n",
      "    self._application.initialize_document(doc)\n",
      "  File \"/root/miniconda3/envs/pyllments/lib/python3.12/site-packages/panel/io/application.py\", line 149, in initialize_document\n",
      "    super().initialize_document(doc)\n",
      "  File \"/root/miniconda3/envs/pyllments/lib/python3.12/site-packages/bokeh/application/application.py\", line 190, in initialize_document\n",
      "    h.modify_document(doc)\n",
      "  File \"/root/miniconda3/envs/pyllments/lib/python3.12/site-packages/bokeh/application/handlers/function.py\", line 140, in modify_document\n",
      "    self._func(doc)\n",
      "  File \"/root/miniconda3/envs/pyllments/lib/python3.12/site-packages/panel/io/application.py\", line 79, in _eval_panel\n",
      "    doc = as_panel(panel)._modify_doc(server_id, title, doc, location)\n",
      "          ^^^^^^^^^^^^^^^^^^^^^^^^^^^^^^^^^^^^^^^^^^^^^^^^^^^^^^^^^^^^\n",
      "  File \"/root/miniconda3/envs/pyllments/lib/python3.12/site-packages/panel/viewable.py\", line 318, in _modify_doc\n",
      "    return self.server_doc(doc, title, location) # type: ignore\n",
      "           ^^^^^^^^^^^^^^^^^^^^^^^^^^^^^^^^^^^^^\n",
      "  File \"/root/miniconda3/envs/pyllments/lib/python3.12/site-packages/panel/viewable.py\", line 1006, in server_doc\n",
      "    model = self.get_root(doc)\n",
      "            ^^^^^^^^^^^^^^^^^^\n",
      "  File \"/root/miniconda3/envs/pyllments/lib/python3.12/site-packages/panel/layout/base.py\", line 317, in get_root\n",
      "    root = super().get_root(doc, comm, preprocess)\n",
      "           ^^^^^^^^^^^^^^^^^^^^^^^^^^^^^^^^^^^^^^^\n",
      "  File \"/root/miniconda3/envs/pyllments/lib/python3.12/site-packages/panel/viewable.py\", line 678, in get_root\n",
      "    root = self._get_model(doc, comm=comm)\n",
      "           ^^^^^^^^^^^^^^^^^^^^^^^^^^^^^^^\n",
      "  File \"/root/miniconda3/envs/pyllments/lib/python3.12/site-packages/panel/layout/base.py\", line 183, in _get_model\n",
      "    objects, _ = self._get_objects(model, [], doc, root, comm)\n",
      "                 ^^^^^^^^^^^^^^^^^^^^^^^^^^^^^^^^^^^^^^^^^^^^^\n",
      "  File \"/root/miniconda3/envs/pyllments/lib/python3.12/site-packages/panel/layout/base.py\", line 160, in _get_objects\n",
      "    if ref in pane._models:\n",
      "              ^^^^^^^^^^^^\n",
      "AttributeError: 'tuple' object has no attribute '_models'\n",
      "ERROR:tornado.access:500 GET / (127.0.0.1) 1.99ms\n",
      "ERROR:tornado.application:Uncaught exception GET / (127.0.0.1)\n",
      "HTTPServerRequest(protocol='http', host='localhost:39053', method='GET', uri='/', version='HTTP/1.1', remote_ip='127.0.0.1')\n",
      "Traceback (most recent call last):\n",
      "  File \"/root/miniconda3/envs/pyllments/lib/python3.12/site-packages/tornado/web.py\", line 1790, in _execute\n",
      "    result = await result\n",
      "             ^^^^^^^^^^^^\n",
      "  File \"/root/miniconda3/envs/pyllments/lib/python3.12/site-packages/panel/io/server.py\", line 466, in get\n",
      "    session = await self.get_session()\n",
      "              ^^^^^^^^^^^^^^^^^^^^^^^^\n",
      "  File \"/root/miniconda3/envs/pyllments/lib/python3.12/site-packages/panel/io/server.py\", line 356, in get_session\n",
      "    session = await super().get_session()\n",
      "              ^^^^^^^^^^^^^^^^^^^^^^^^^^^\n",
      "  File \"/root/miniconda3/envs/pyllments/lib/python3.12/site-packages/bokeh/server/views/session_handler.py\", line 145, in get_session\n",
      "    session = await self.application_context.create_session_if_needed(session_id, self.request, token)\n",
      "              ^^^^^^^^^^^^^^^^^^^^^^^^^^^^^^^^^^^^^^^^^^^^^^^^^^^^^^^^^^^^^^^^^^^^^^^^^^^^^^^^^^^^^^^^\n",
      "  File \"/root/miniconda3/envs/pyllments/lib/python3.12/site-packages/bokeh/server/contexts.py\", line 240, in create_session_if_needed\n",
      "    self._application.initialize_document(doc)\n",
      "  File \"/root/miniconda3/envs/pyllments/lib/python3.12/site-packages/panel/io/application.py\", line 149, in initialize_document\n",
      "    super().initialize_document(doc)\n",
      "  File \"/root/miniconda3/envs/pyllments/lib/python3.12/site-packages/bokeh/application/application.py\", line 190, in initialize_document\n",
      "    h.modify_document(doc)\n",
      "  File \"/root/miniconda3/envs/pyllments/lib/python3.12/site-packages/bokeh/application/handlers/function.py\", line 140, in modify_document\n",
      "    self._func(doc)\n",
      "  File \"/root/miniconda3/envs/pyllments/lib/python3.12/site-packages/panel/io/application.py\", line 79, in _eval_panel\n",
      "    doc = as_panel(panel)._modify_doc(server_id, title, doc, location)\n",
      "          ^^^^^^^^^^^^^^^^^^^^^^^^^^^^^^^^^^^^^^^^^^^^^^^^^^^^^^^^^^^^\n",
      "  File \"/root/miniconda3/envs/pyllments/lib/python3.12/site-packages/panel/viewable.py\", line 318, in _modify_doc\n",
      "    return self.server_doc(doc, title, location) # type: ignore\n",
      "           ^^^^^^^^^^^^^^^^^^^^^^^^^^^^^^^^^^^^^\n",
      "  File \"/root/miniconda3/envs/pyllments/lib/python3.12/site-packages/panel/viewable.py\", line 1006, in server_doc\n",
      "    model = self.get_root(doc)\n",
      "            ^^^^^^^^^^^^^^^^^^\n",
      "  File \"/root/miniconda3/envs/pyllments/lib/python3.12/site-packages/panel/layout/base.py\", line 317, in get_root\n",
      "    root = super().get_root(doc, comm, preprocess)\n",
      "           ^^^^^^^^^^^^^^^^^^^^^^^^^^^^^^^^^^^^^^^\n",
      "  File \"/root/miniconda3/envs/pyllments/lib/python3.12/site-packages/panel/viewable.py\", line 678, in get_root\n",
      "    root = self._get_model(doc, comm=comm)\n",
      "           ^^^^^^^^^^^^^^^^^^^^^^^^^^^^^^^\n",
      "  File \"/root/miniconda3/envs/pyllments/lib/python3.12/site-packages/panel/layout/base.py\", line 183, in _get_model\n",
      "    objects, _ = self._get_objects(model, [], doc, root, comm)\n",
      "                 ^^^^^^^^^^^^^^^^^^^^^^^^^^^^^^^^^^^^^^^^^^^^^\n",
      "  File \"/root/miniconda3/envs/pyllments/lib/python3.12/site-packages/panel/layout/base.py\", line 160, in _get_objects\n",
      "    if ref in pane._models:\n",
      "              ^^^^^^^^^^^^\n",
      "AttributeError: 'tuple' object has no attribute '_models'\n",
      "ERROR:tornado.access:500 GET / (127.0.0.1) 1.81ms\n",
      "ERROR:tornado.application:Uncaught exception GET / (127.0.0.1)\n",
      "HTTPServerRequest(protocol='http', host='localhost:39053', method='GET', uri='/', version='HTTP/1.1', remote_ip='127.0.0.1')\n",
      "Traceback (most recent call last):\n",
      "  File \"/root/miniconda3/envs/pyllments/lib/python3.12/site-packages/tornado/web.py\", line 1790, in _execute\n",
      "    result = await result\n",
      "             ^^^^^^^^^^^^\n",
      "  File \"/root/miniconda3/envs/pyllments/lib/python3.12/site-packages/panel/io/server.py\", line 466, in get\n",
      "    session = await self.get_session()\n",
      "              ^^^^^^^^^^^^^^^^^^^^^^^^\n",
      "  File \"/root/miniconda3/envs/pyllments/lib/python3.12/site-packages/panel/io/server.py\", line 356, in get_session\n",
      "    session = await super().get_session()\n",
      "              ^^^^^^^^^^^^^^^^^^^^^^^^^^^\n",
      "  File \"/root/miniconda3/envs/pyllments/lib/python3.12/site-packages/bokeh/server/views/session_handler.py\", line 145, in get_session\n",
      "    session = await self.application_context.create_session_if_needed(session_id, self.request, token)\n",
      "              ^^^^^^^^^^^^^^^^^^^^^^^^^^^^^^^^^^^^^^^^^^^^^^^^^^^^^^^^^^^^^^^^^^^^^^^^^^^^^^^^^^^^^^^^\n",
      "  File \"/root/miniconda3/envs/pyllments/lib/python3.12/site-packages/bokeh/server/contexts.py\", line 240, in create_session_if_needed\n",
      "    self._application.initialize_document(doc)\n",
      "  File \"/root/miniconda3/envs/pyllments/lib/python3.12/site-packages/panel/io/application.py\", line 149, in initialize_document\n",
      "    super().initialize_document(doc)\n",
      "  File \"/root/miniconda3/envs/pyllments/lib/python3.12/site-packages/bokeh/application/application.py\", line 190, in initialize_document\n",
      "    h.modify_document(doc)\n",
      "  File \"/root/miniconda3/envs/pyllments/lib/python3.12/site-packages/bokeh/application/handlers/function.py\", line 140, in modify_document\n",
      "    self._func(doc)\n",
      "  File \"/root/miniconda3/envs/pyllments/lib/python3.12/site-packages/panel/io/application.py\", line 79, in _eval_panel\n",
      "    doc = as_panel(panel)._modify_doc(server_id, title, doc, location)\n",
      "          ^^^^^^^^^^^^^^^^^^^^^^^^^^^^^^^^^^^^^^^^^^^^^^^^^^^^^^^^^^^^\n",
      "  File \"/root/miniconda3/envs/pyllments/lib/python3.12/site-packages/panel/viewable.py\", line 318, in _modify_doc\n",
      "    return self.server_doc(doc, title, location) # type: ignore\n",
      "           ^^^^^^^^^^^^^^^^^^^^^^^^^^^^^^^^^^^^^\n",
      "  File \"/root/miniconda3/envs/pyllments/lib/python3.12/site-packages/panel/viewable.py\", line 1006, in server_doc\n",
      "    model = self.get_root(doc)\n",
      "            ^^^^^^^^^^^^^^^^^^\n",
      "  File \"/root/miniconda3/envs/pyllments/lib/python3.12/site-packages/panel/layout/base.py\", line 317, in get_root\n",
      "    root = super().get_root(doc, comm, preprocess)\n",
      "           ^^^^^^^^^^^^^^^^^^^^^^^^^^^^^^^^^^^^^^^\n",
      "  File \"/root/miniconda3/envs/pyllments/lib/python3.12/site-packages/panel/viewable.py\", line 678, in get_root\n",
      "    root = self._get_model(doc, comm=comm)\n",
      "           ^^^^^^^^^^^^^^^^^^^^^^^^^^^^^^^\n",
      "  File \"/root/miniconda3/envs/pyllments/lib/python3.12/site-packages/panel/layout/base.py\", line 183, in _get_model\n",
      "    objects, _ = self._get_objects(model, [], doc, root, comm)\n",
      "                 ^^^^^^^^^^^^^^^^^^^^^^^^^^^^^^^^^^^^^^^^^^^^^\n",
      "  File \"/root/miniconda3/envs/pyllments/lib/python3.12/site-packages/panel/layout/base.py\", line 160, in _get_objects\n",
      "    if ref in pane._models:\n",
      "              ^^^^^^^^^^^^\n",
      "AttributeError: 'tuple' object has no attribute '_models'\n",
      "ERROR:tornado.access:500 GET / (127.0.0.1) 1.99ms\n"
     ]
    }
   ],
   "source": [
    "c.objects[0] = pn.pane.Markdown(\"## Boooped\", stylesheets=[\"h2 {color: var(--primary-accent-color); font-size: 1.2em;}\"]),"
   ]
  },
  {
   "cell_type": "code",
   "execution_count": 11,
   "metadata": {},
   "outputs": [],
   "source": [
    "c.objects[0] = pn.pane.Markdown(\"## Boooped\", stylesheets=[\"h2 {color: var(--primary-accent-color); font-size: 1.2em;}\"]),"
   ]
  },
  {
   "cell_type": "code",
   "execution_count": 16,
   "metadata": {},
   "outputs": [],
   "source": [
    "c[0] = pn.pane.Markdown(\"what the helll\", stylesheets=[\"h2 {color: var(--primary-accent-color); font-size: 1.2em;}\"]),"
   ]
  },
  {
   "cell_type": "code",
   "execution_count": 12,
   "metadata": {},
   "outputs": [
    {
     "ename": "AttributeError",
     "evalue": "'tuple' object has no attribute '_cleanup'",
     "output_type": "error",
     "traceback": [
      "\u001b[0;31m---------------------------------------------------------------------------\u001b[0m",
      "\u001b[0;31mAttributeError\u001b[0m                            Traceback (most recent call last)",
      "Cell \u001b[0;32mIn[12], line 1\u001b[0m\n\u001b[0;32m----> 1\u001b[0m c\u001b[38;5;241m.\u001b[39mobjects \u001b[38;5;241m=\u001b[39m [\n\u001b[1;32m      2\u001b[0m     pn\u001b[38;5;241m.\u001b[39mpane\u001b[38;5;241m.\u001b[39mMarkdown(\u001b[38;5;124m\"\u001b[39m\u001b[38;5;124m## Boooped\u001b[39m\u001b[38;5;124m\"\u001b[39m, stylesheets\u001b[38;5;241m=\u001b[39m[\u001b[38;5;124m\"\u001b[39m\u001b[38;5;124mh2 \u001b[39m\u001b[38;5;124m{\u001b[39m\u001b[38;5;124mcolor: var(--primary-accent-color); font-size: 1.2em;}\u001b[39m\u001b[38;5;124m\"\u001b[39m]),\n\u001b[1;32m      3\u001b[0m     pn\u001b[38;5;241m.\u001b[39mpane\u001b[38;5;241m.\u001b[39mMarkdown(\u001b[38;5;124m\"\u001b[39m\u001b[38;5;124m## Boooped\u001b[39m\u001b[38;5;124m\"\u001b[39m, stylesheets\u001b[38;5;241m=\u001b[39m[\u001b[38;5;124m\"\u001b[39m\u001b[38;5;124mh2 \u001b[39m\u001b[38;5;124m{\u001b[39m\u001b[38;5;124mcolor: var(--primary-accent-color); font-size: 1.2em;}\u001b[39m\u001b[38;5;124m\"\u001b[39m]),\n\u001b[1;32m      4\u001b[0m ]\n",
      "File \u001b[0;32m~/miniconda3/envs/pyllments/lib/python3.12/site-packages/param/parameterized.py:528\u001b[0m, in \u001b[0;36minstance_descriptor.<locals>._f\u001b[0;34m(self, obj, val)\u001b[0m\n\u001b[1;32m    526\u001b[0m         instance_param \u001b[38;5;241m=\u001b[39m _instantiated_parameter(obj, \u001b[38;5;28mself\u001b[39m)\n\u001b[1;32m    527\u001b[0m     \u001b[38;5;28;01mif\u001b[39;00m instance_param \u001b[38;5;129;01mis\u001b[39;00m \u001b[38;5;129;01mnot\u001b[39;00m \u001b[38;5;28;01mNone\u001b[39;00m \u001b[38;5;129;01mand\u001b[39;00m \u001b[38;5;28mself\u001b[39m \u001b[38;5;129;01mis\u001b[39;00m \u001b[38;5;129;01mnot\u001b[39;00m instance_param:\n\u001b[0;32m--> 528\u001b[0m         instance_param\u001b[38;5;241m.\u001b[39m\u001b[38;5;21m__set__\u001b[39m(obj, val)\n\u001b[1;32m    529\u001b[0m         \u001b[38;5;28;01mreturn\u001b[39;00m\n\u001b[1;32m    530\u001b[0m \u001b[38;5;28;01mreturn\u001b[39;00m f(\u001b[38;5;28mself\u001b[39m, obj, val)\n",
      "File \u001b[0;32m~/miniconda3/envs/pyllments/lib/python3.12/site-packages/param/parameterized.py:530\u001b[0m, in \u001b[0;36minstance_descriptor.<locals>._f\u001b[0;34m(self, obj, val)\u001b[0m\n\u001b[1;32m    528\u001b[0m         instance_param\u001b[38;5;241m.\u001b[39m\u001b[38;5;21m__set__\u001b[39m(obj, val)\n\u001b[1;32m    529\u001b[0m         \u001b[38;5;28;01mreturn\u001b[39;00m\n\u001b[0;32m--> 530\u001b[0m \u001b[38;5;28;01mreturn\u001b[39;00m f(\u001b[38;5;28mself\u001b[39m, obj, val)\n",
      "File \u001b[0;32m~/miniconda3/envs/pyllments/lib/python3.12/site-packages/param/parameterized.py:1552\u001b[0m, in \u001b[0;36mParameter.__set__\u001b[0;34m(self, obj, val)\u001b[0m\n\u001b[1;32m   1550\u001b[0m \u001b[38;5;66;03m# Copy watchers here since they may be modified inplace during iteration\u001b[39;00m\n\u001b[1;32m   1551\u001b[0m \u001b[38;5;28;01mfor\u001b[39;00m watcher \u001b[38;5;129;01min\u001b[39;00m \u001b[38;5;28msorted\u001b[39m(watchers, key\u001b[38;5;241m=\u001b[39m\u001b[38;5;28;01mlambda\u001b[39;00m w: w\u001b[38;5;241m.\u001b[39mprecedence):\n\u001b[0;32m-> 1552\u001b[0m     obj\u001b[38;5;241m.\u001b[39mparam\u001b[38;5;241m.\u001b[39m_call_watcher(watcher, event)\n\u001b[1;32m   1553\u001b[0m \u001b[38;5;28;01mif\u001b[39;00m \u001b[38;5;129;01mnot\u001b[39;00m obj\u001b[38;5;241m.\u001b[39mparam\u001b[38;5;241m.\u001b[39m_BATCH_WATCH:\n\u001b[1;32m   1554\u001b[0m     obj\u001b[38;5;241m.\u001b[39mparam\u001b[38;5;241m.\u001b[39m_batch_call_watchers()\n",
      "File \u001b[0;32m~/miniconda3/envs/pyllments/lib/python3.12/site-packages/param/parameterized.py:2525\u001b[0m, in \u001b[0;36mParameters._call_watcher\u001b[0;34m(self_, watcher, event)\u001b[0m\n\u001b[1;32m   2523\u001b[0m event \u001b[38;5;241m=\u001b[39m self_\u001b[38;5;241m.\u001b[39m_update_event_type(watcher, event, self_\u001b[38;5;241m.\u001b[39m_TRIGGER)\n\u001b[1;32m   2524\u001b[0m \u001b[38;5;28;01mwith\u001b[39;00m _batch_call_watchers(self_\u001b[38;5;241m.\u001b[39mself_or_cls, enable\u001b[38;5;241m=\u001b[39mwatcher\u001b[38;5;241m.\u001b[39mqueued, run\u001b[38;5;241m=\u001b[39m\u001b[38;5;28;01mFalse\u001b[39;00m):\n\u001b[0;32m-> 2525\u001b[0m     self_\u001b[38;5;241m.\u001b[39m_execute_watcher(watcher, (event,))\n",
      "File \u001b[0;32m~/miniconda3/envs/pyllments/lib/python3.12/site-packages/param/parameterized.py:2505\u001b[0m, in \u001b[0;36mParameters._execute_watcher\u001b[0;34m(self, watcher, events)\u001b[0m\n\u001b[1;32m   2503\u001b[0m \u001b[38;5;28;01melse\u001b[39;00m:\n\u001b[1;32m   2504\u001b[0m     \u001b[38;5;28;01mtry\u001b[39;00m:\n\u001b[0;32m-> 2505\u001b[0m         watcher\u001b[38;5;241m.\u001b[39mfn(\u001b[38;5;241m*\u001b[39margs, \u001b[38;5;241m*\u001b[39m\u001b[38;5;241m*\u001b[39mkwargs)\n\u001b[1;32m   2506\u001b[0m     \u001b[38;5;28;01mexcept\u001b[39;00m Skip:\n\u001b[1;32m   2507\u001b[0m         \u001b[38;5;28;01mpass\u001b[39;00m\n",
      "File \u001b[0;32m~/miniconda3/envs/pyllments/lib/python3.12/site-packages/panel/reactive.py:375\u001b[0m, in \u001b[0;36mSyncable._param_change\u001b[0;34m(self, *events)\u001b[0m\n\u001b[1;32m    373\u001b[0m \u001b[38;5;28;01mif\u001b[39;00m \u001b[38;5;129;01mnot\u001b[39;00m properties:\n\u001b[1;32m    374\u001b[0m     \u001b[38;5;28;01mreturn\u001b[39;00m\n\u001b[0;32m--> 375\u001b[0m \u001b[38;5;28mself\u001b[39m\u001b[38;5;241m.\u001b[39m_apply_update(named_events, properties, model, ref)\n",
      "File \u001b[0;32m~/miniconda3/envs/pyllments/lib/python3.12/site-packages/panel/reactive.py:303\u001b[0m, in \u001b[0;36mSyncable._apply_update\u001b[0;34m(self, events, msg, model, ref)\u001b[0m\n\u001b[1;32m    301\u001b[0m \u001b[38;5;28;01mif\u001b[39;00m comm \u001b[38;5;129;01mor\u001b[39;00m \u001b[38;5;129;01mnot\u001b[39;00m doc\u001b[38;5;241m.\u001b[39msession_context \u001b[38;5;129;01mor\u001b[39;00m state\u001b[38;5;241m.\u001b[39m_unblocked(doc):\n\u001b[1;32m    302\u001b[0m     \u001b[38;5;28;01mwith\u001b[39;00m unlocked():\n\u001b[0;32m--> 303\u001b[0m         \u001b[38;5;28mself\u001b[39m\u001b[38;5;241m.\u001b[39m_update_model(events, msg, root, model, doc, comm)\n\u001b[1;32m    304\u001b[0m     \u001b[38;5;28;01mif\u001b[39;00m comm \u001b[38;5;129;01mand\u001b[39;00m \u001b[38;5;124m'\u001b[39m\u001b[38;5;124membedded\u001b[39m\u001b[38;5;124m'\u001b[39m \u001b[38;5;129;01mnot\u001b[39;00m \u001b[38;5;129;01min\u001b[39;00m root\u001b[38;5;241m.\u001b[39mtags:\n\u001b[1;32m    305\u001b[0m         push(doc, comm)\n",
      "File \u001b[0;32m~/miniconda3/envs/pyllments/lib/python3.12/site-packages/panel/layout/base.py:106\u001b[0m, in \u001b[0;36mPanel._update_model\u001b[0;34m(self, events, msg, root, model, doc, comm)\u001b[0m\n\u001b[1;32m    104\u001b[0m \u001b[38;5;28;01mif\u001b[39;00m update_children:\n\u001b[1;32m    105\u001b[0m     old \u001b[38;5;241m=\u001b[39m events[\u001b[38;5;124m'\u001b[39m\u001b[38;5;124mobjects\u001b[39m\u001b[38;5;124m'\u001b[39m]\u001b[38;5;241m.\u001b[39mold\n\u001b[0;32m--> 106\u001b[0m     children, old_children \u001b[38;5;241m=\u001b[39m \u001b[38;5;28mself\u001b[39m\u001b[38;5;241m.\u001b[39m_get_objects(model, old, doc, root, comm)\n\u001b[1;32m    107\u001b[0m     msg[obj_key] \u001b[38;5;241m=\u001b[39m children\n\u001b[1;32m    109\u001b[0m     msg\u001b[38;5;241m.\u001b[39mupdate(\u001b[38;5;28mself\u001b[39m\u001b[38;5;241m.\u001b[39m_compute_sizing_mode(\n\u001b[1;32m    110\u001b[0m         children,\n\u001b[1;32m    111\u001b[0m         \u001b[38;5;28mdict\u001b[39m(\n\u001b[0;32m   (...)\u001b[0m\n\u001b[1;32m    117\u001b[0m         )\n\u001b[1;32m    118\u001b[0m     ))\n",
      "File \u001b[0;32m~/miniconda3/envs/pyllments/lib/python3.12/site-packages/panel/layout/base.py:157\u001b[0m, in \u001b[0;36mPanel._get_objects\u001b[0;34m(self, model, old_objects, doc, root, comm)\u001b[0m\n\u001b[1;32m    155\u001b[0m \u001b[38;5;28;01mfor\u001b[39;00m obj \u001b[38;5;129;01min\u001b[39;00m old_objects:\n\u001b[1;32m    156\u001b[0m     \u001b[38;5;28;01mif\u001b[39;00m obj \u001b[38;5;129;01mnot\u001b[39;00m \u001b[38;5;129;01min\u001b[39;00m \u001b[38;5;28mself\u001b[39m\u001b[38;5;241m.\u001b[39mobjects:\n\u001b[0;32m--> 157\u001b[0m         obj\u001b[38;5;241m.\u001b[39m_cleanup(root)\n\u001b[1;32m    159\u001b[0m current_objects \u001b[38;5;241m=\u001b[39m \u001b[38;5;28mlist\u001b[39m(\u001b[38;5;28mself\u001b[39m\u001b[38;5;241m.\u001b[39mobjects)\n\u001b[1;32m    160\u001b[0m ref \u001b[38;5;241m=\u001b[39m root\u001b[38;5;241m.\u001b[39mref[\u001b[38;5;124m'\u001b[39m\u001b[38;5;124mid\u001b[39m\u001b[38;5;124m'\u001b[39m]\n",
      "\u001b[0;31mAttributeError\u001b[0m: 'tuple' object has no attribute '_cleanup'"
     ]
    }
   ],
   "source": [
    "c.objects = [\n",
    "    pn.pane.Markdown(\"## Boooped\", stylesheets=[\"h2 {color: var(--primary-accent-color); font-size: 1.2em;}\"]),\n",
    "    pn.pane.Markdown(\"## Boooped\", stylesheets=[\"h2 {color: var(--primary-accent-color); font-size: 1.2em;}\"]),\n",
    "]\n"
   ]
  },
  {
   "cell_type": "code",
   "execution_count": 9,
   "metadata": {},
   "outputs": [
    {
     "name": "stdout",
     "output_type": "stream",
     "text": [
      "Launching server at http://localhost:45585\n"
     ]
    },
    {
     "name": "stderr",
     "output_type": "stream",
     "text": [
      "WARNING:tornado.access:404 GET /sm/a66f7e8440d7b0538d7c7e64fb20eaeb1b8e7204179c205d57a779774b7b22d9.map (127.0.0.1) 0.23ms\n",
      "WARNING:tornado.access:404 GET /sm/a66f7e8440d7b0538d7c7e64fb20eaeb1b8e7204179c205d57a779774b7b22d9.map (127.0.0.1) 0.22ms\n",
      "WARNING:tornado.access:404 GET /sm/a66f7e8440d7b0538d7c7e64fb20eaeb1b8e7204179c205d57a779774b7b22d9.map (127.0.0.1) 0.21ms\n"
     ]
    }
   ],
   "source": [
    "md = pn.pane.Markdown(\"## Boooped \\n Duuuduududooodoodododododoododoooodododdododooooooooodoodoodo sf ds fsd fsod fodsfo dsododo od osdf\")\n",
    "col = pn.Column(md, width=300)\n",
    "\n",
    "srv = serve(col)\n"
   ]
  },
  {
   "cell_type": "code",
   "execution_count": 17,
   "metadata": {},
   "outputs": [],
   "source": [
    "srv.stop()"
   ]
  },
  {
   "cell_type": "code",
   "execution_count": 1,
   "metadata": {},
   "outputs": [],
   "source": [
    "from panel.io.fastapi import add_application"
   ]
  },
  {
   "cell_type": "code",
   "execution_count": null,
   "metadata": {},
   "outputs": [],
   "source": [
    "add_application()"
   ]
  }
 ],
 "metadata": {
  "kernelspec": {
   "display_name": "pyllments",
   "language": "python",
   "name": "python3"
  },
  "language_info": {
   "codemirror_mode": {
    "name": "ipython",
    "version": 3
   },
   "file_extension": ".py",
   "mimetype": "text/x-python",
   "name": "python",
   "nbconvert_exporter": "python",
   "pygments_lexer": "ipython3",
   "version": "3.12.7"
  }
 },
 "nbformat": 4,
 "nbformat_minor": 2
}
