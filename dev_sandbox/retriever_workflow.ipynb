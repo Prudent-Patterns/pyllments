{
 "cells": [
  {
   "cell_type": "markdown",
   "metadata": {},
   "source": [
    "# Load"
   ]
  },
  {
   "cell_type": "code",
   "execution_count": 1,
   "metadata": {},
   "outputs": [
    {
     "data": {
      "application/javascript": "(function(root) {\n  function now() {\n    return new Date();\n  }\n\n  var force = true;\n  var py_version = '3.4.1'.replace('rc', '-rc.').replace('.dev', '-dev.');\n  var reloading = false;\n  var Bokeh = root.Bokeh;\n\n  if (typeof (root._bokeh_timeout) === \"undefined\" || force) {\n    root._bokeh_timeout = Date.now() + 5000;\n    root._bokeh_failed_load = false;\n  }\n\n  function run_callbacks() {\n    try {\n      root._bokeh_onload_callbacks.forEach(function(callback) {\n        if (callback != null)\n          callback();\n      });\n    } finally {\n      delete root._bokeh_onload_callbacks;\n    }\n    console.debug(\"Bokeh: all callbacks have finished\");\n  }\n\n  function load_libs(css_urls, js_urls, js_modules, js_exports, callback) {\n    if (css_urls == null) css_urls = [];\n    if (js_urls == null) js_urls = [];\n    if (js_modules == null) js_modules = [];\n    if (js_exports == null) js_exports = {};\n\n    root._bokeh_onload_callbacks.push(callback);\n\n    if (root._bokeh_is_loading > 0) {\n      console.debug(\"Bokeh: BokehJS is being loaded, scheduling callback at\", now());\n      return null;\n    }\n    if (js_urls.length === 0 && js_modules.length === 0 && Object.keys(js_exports).length === 0) {\n      run_callbacks();\n      return null;\n    }\n    if (!reloading) {\n      console.debug(\"Bokeh: BokehJS not loaded, scheduling load and callback at\", now());\n    }\n\n    function on_load() {\n      root._bokeh_is_loading--;\n      if (root._bokeh_is_loading === 0) {\n        console.debug(\"Bokeh: all BokehJS libraries/stylesheets loaded\");\n        run_callbacks()\n      }\n    }\n    window._bokeh_on_load = on_load\n\n    function on_error() {\n      console.error(\"failed to load \" + url);\n    }\n\n    var skip = [];\n    if (window.requirejs) {\n      window.requirejs.config({'packages': {}, 'paths': {}, 'shim': {}});\n      root._bokeh_is_loading = css_urls.length + 0;\n    } else {\n      root._bokeh_is_loading = css_urls.length + js_urls.length + js_modules.length + Object.keys(js_exports).length;\n    }\n\n    var existing_stylesheets = []\n    var links = document.getElementsByTagName('link')\n    for (var i = 0; i < links.length; i++) {\n      var link = links[i]\n      if (link.href != null) {\n\texisting_stylesheets.push(link.href)\n      }\n    }\n    for (var i = 0; i < css_urls.length; i++) {\n      var url = css_urls[i];\n      if (existing_stylesheets.indexOf(url) !== -1) {\n\ton_load()\n\tcontinue;\n      }\n      const element = document.createElement(\"link\");\n      element.onload = on_load;\n      element.onerror = on_error;\n      element.rel = \"stylesheet\";\n      element.type = \"text/css\";\n      element.href = url;\n      console.debug(\"Bokeh: injecting link tag for BokehJS stylesheet: \", url);\n      document.body.appendChild(element);\n    }    var existing_scripts = []\n    var scripts = document.getElementsByTagName('script')\n    for (var i = 0; i < scripts.length; i++) {\n      var script = scripts[i]\n      if (script.src != null) {\n\texisting_scripts.push(script.src)\n      }\n    }\n    for (var i = 0; i < js_urls.length; i++) {\n      var url = js_urls[i];\n      if (skip.indexOf(url) !== -1 || existing_scripts.indexOf(url) !== -1) {\n\tif (!window.requirejs) {\n\t  on_load();\n\t}\n\tcontinue;\n      }\n      var element = document.createElement('script');\n      element.onload = on_load;\n      element.onerror = on_error;\n      element.async = false;\n      element.src = url;\n      console.debug(\"Bokeh: injecting script tag for BokehJS library: \", url);\n      document.head.appendChild(element);\n    }\n    for (var i = 0; i < js_modules.length; i++) {\n      var url = js_modules[i];\n      if (skip.indexOf(url) !== -1 || existing_scripts.indexOf(url) !== -1) {\n\tif (!window.requirejs) {\n\t  on_load();\n\t}\n\tcontinue;\n      }\n      var element = document.createElement('script');\n      element.onload = on_load;\n      element.onerror = on_error;\n      element.async = false;\n      element.src = url;\n      element.type = \"module\";\n      console.debug(\"Bokeh: injecting script tag for BokehJS library: \", url);\n      document.head.appendChild(element);\n    }\n    for (const name in js_exports) {\n      var url = js_exports[name];\n      if (skip.indexOf(url) >= 0 || root[name] != null) {\n\tif (!window.requirejs) {\n\t  on_load();\n\t}\n\tcontinue;\n      }\n      var element = document.createElement('script');\n      element.onerror = on_error;\n      element.async = false;\n      element.type = \"module\";\n      console.debug(\"Bokeh: injecting script tag for BokehJS library: \", url);\n      element.textContent = `\n      import ${name} from \"${url}\"\n      window.${name} = ${name}\n      window._bokeh_on_load()\n      `\n      document.head.appendChild(element);\n    }\n    if (!js_urls.length && !js_modules.length) {\n      on_load()\n    }\n  };\n\n  function inject_raw_css(css) {\n    const element = document.createElement(\"style\");\n    element.appendChild(document.createTextNode(css));\n    document.body.appendChild(element);\n  }\n\n  var js_urls = [\"https://cdn.bokeh.org/bokeh/release/bokeh-3.4.1.min.js\", \"https://cdn.bokeh.org/bokeh/release/bokeh-gl-3.4.1.min.js\", \"https://cdn.bokeh.org/bokeh/release/bokeh-widgets-3.4.1.min.js\", \"https://cdn.bokeh.org/bokeh/release/bokeh-tables-3.4.1.min.js\", \"https://cdn.holoviz.org/panel/1.4.4/dist/panel.min.js\"];\n  var js_modules = [];\n  var js_exports = {};\n  var css_urls = [];\n  var inline_js = [    function(Bokeh) {\n      Bokeh.set_log_level(\"info\");\n    },\nfunction(Bokeh) {} // ensure no trailing comma for IE\n  ];\n\n  function run_inline_js() {\n    if ((root.Bokeh !== undefined) || (force === true)) {\n      for (var i = 0; i < inline_js.length; i++) {\n\ttry {\n          inline_js[i].call(root, root.Bokeh);\n\t} catch(e) {\n\t  if (!reloading) {\n\t    throw e;\n\t  }\n\t}\n      }\n      // Cache old bokeh versions\n      if (Bokeh != undefined && !reloading) {\n\tvar NewBokeh = root.Bokeh;\n\tif (Bokeh.versions === undefined) {\n\t  Bokeh.versions = new Map();\n\t}\n\tif (NewBokeh.version !== Bokeh.version) {\n\t  Bokeh.versions.set(NewBokeh.version, NewBokeh)\n\t}\n\troot.Bokeh = Bokeh;\n      }} else if (Date.now() < root._bokeh_timeout) {\n      setTimeout(run_inline_js, 100);\n    } else if (!root._bokeh_failed_load) {\n      console.log(\"Bokeh: BokehJS failed to load within specified timeout.\");\n      root._bokeh_failed_load = true;\n    }\n    root._bokeh_is_initializing = false\n  }\n\n  function load_or_wait() {\n    // Implement a backoff loop that tries to ensure we do not load multiple\n    // versions of Bokeh and its dependencies at the same time.\n    // In recent versions we use the root._bokeh_is_initializing flag\n    // to determine whether there is an ongoing attempt to initialize\n    // bokeh, however for backward compatibility we also try to ensure\n    // that we do not start loading a newer (Panel>=1.0 and Bokeh>3) version\n    // before older versions are fully initialized.\n    if (root._bokeh_is_initializing && Date.now() > root._bokeh_timeout) {\n      root._bokeh_is_initializing = false;\n      root._bokeh_onload_callbacks = undefined;\n      console.log(\"Bokeh: BokehJS was loaded multiple times but one version failed to initialize.\");\n      load_or_wait();\n    } else if (root._bokeh_is_initializing || (typeof root._bokeh_is_initializing === \"undefined\" && root._bokeh_onload_callbacks !== undefined)) {\n      setTimeout(load_or_wait, 100);\n    } else {\n      root._bokeh_is_initializing = true\n      root._bokeh_onload_callbacks = []\n      var bokeh_loaded = Bokeh != null && (Bokeh.version === py_version || (Bokeh.versions !== undefined && Bokeh.versions.has(py_version)));\n      if (!reloading && !bokeh_loaded) {\n\troot.Bokeh = undefined;\n      }\n      load_libs(css_urls, js_urls, js_modules, js_exports, function() {\n\tconsole.debug(\"Bokeh: BokehJS plotting callback run at\", now());\n\trun_inline_js();\n      });\n    }\n  }\n  // Give older versions of the autoload script a head-start to ensure\n  // they initialize before we start loading newer version.\n  setTimeout(load_or_wait, 100)\n}(window));",
      "application/vnd.holoviews_load.v0+json": ""
     },
     "metadata": {},
     "output_type": "display_data"
    },
    {
     "data": {
      "application/javascript": "\nif ((window.PyViz === undefined) || (window.PyViz instanceof HTMLElement)) {\n  window.PyViz = {comms: {}, comm_status:{}, kernels:{}, receivers: {}, plot_index: []}\n}\n\n\n    function JupyterCommManager() {\n    }\n\n    JupyterCommManager.prototype.register_target = function(plot_id, comm_id, msg_handler) {\n      if (window.comm_manager || ((window.Jupyter !== undefined) && (Jupyter.notebook.kernel != null))) {\n        var comm_manager = window.comm_manager || Jupyter.notebook.kernel.comm_manager;\n        comm_manager.register_target(comm_id, function(comm) {\n          comm.on_msg(msg_handler);\n        });\n      } else if ((plot_id in window.PyViz.kernels) && (window.PyViz.kernels[plot_id])) {\n        window.PyViz.kernels[plot_id].registerCommTarget(comm_id, function(comm) {\n          comm.onMsg = msg_handler;\n        });\n      } else if (typeof google != 'undefined' && google.colab.kernel != null) {\n        google.colab.kernel.comms.registerTarget(comm_id, (comm) => {\n          var messages = comm.messages[Symbol.asyncIterator]();\n          function processIteratorResult(result) {\n            var message = result.value;\n            console.log(message)\n            var content = {data: message.data, comm_id};\n            var buffers = []\n            for (var buffer of message.buffers || []) {\n              buffers.push(new DataView(buffer))\n            }\n            var metadata = message.metadata || {};\n            var msg = {content, buffers, metadata}\n            msg_handler(msg);\n            return messages.next().then(processIteratorResult);\n          }\n          return messages.next().then(processIteratorResult);\n        })\n      }\n    }\n\n    JupyterCommManager.prototype.get_client_comm = function(plot_id, comm_id, msg_handler) {\n      if (comm_id in window.PyViz.comms) {\n        return window.PyViz.comms[comm_id];\n      } else if (window.comm_manager || ((window.Jupyter !== undefined) && (Jupyter.notebook.kernel != null))) {\n        var comm_manager = window.comm_manager || Jupyter.notebook.kernel.comm_manager;\n        var comm = comm_manager.new_comm(comm_id, {}, {}, {}, comm_id);\n        if (msg_handler) {\n          comm.on_msg(msg_handler);\n        }\n      } else if ((plot_id in window.PyViz.kernels) && (window.PyViz.kernels[plot_id])) {\n        var comm = window.PyViz.kernels[plot_id].connectToComm(comm_id);\n        comm.open();\n        if (msg_handler) {\n          comm.onMsg = msg_handler;\n        }\n      } else if (typeof google != 'undefined' && google.colab.kernel != null) {\n        var comm_promise = google.colab.kernel.comms.open(comm_id)\n        comm_promise.then((comm) => {\n          window.PyViz.comms[comm_id] = comm;\n          if (msg_handler) {\n            var messages = comm.messages[Symbol.asyncIterator]();\n            function processIteratorResult(result) {\n              var message = result.value;\n              var content = {data: message.data};\n              var metadata = message.metadata || {comm_id};\n              var msg = {content, metadata}\n              msg_handler(msg);\n              return messages.next().then(processIteratorResult);\n            }\n            return messages.next().then(processIteratorResult);\n          }\n        }) \n        var sendClosure = (data, metadata, buffers, disposeOnDone) => {\n          return comm_promise.then((comm) => {\n            comm.send(data, metadata, buffers, disposeOnDone);\n          });\n        };\n        var comm = {\n          send: sendClosure\n        };\n      }\n      window.PyViz.comms[comm_id] = comm;\n      return comm;\n    }\n    window.PyViz.comm_manager = new JupyterCommManager();\n    \n\n\nvar JS_MIME_TYPE = 'application/javascript';\nvar HTML_MIME_TYPE = 'text/html';\nvar EXEC_MIME_TYPE = 'application/vnd.holoviews_exec.v0+json';\nvar CLASS_NAME = 'output';\n\n/**\n * Render data to the DOM node\n */\nfunction render(props, node) {\n  var div = document.createElement(\"div\");\n  var script = document.createElement(\"script\");\n  node.appendChild(div);\n  node.appendChild(script);\n}\n\n/**\n * Handle when a new output is added\n */\nfunction handle_add_output(event, handle) {\n  var output_area = handle.output_area;\n  var output = handle.output;\n  if ((output.data == undefined) || (!output.data.hasOwnProperty(EXEC_MIME_TYPE))) {\n    return\n  }\n  var id = output.metadata[EXEC_MIME_TYPE][\"id\"];\n  var toinsert = output_area.element.find(\".\" + CLASS_NAME.split(' ')[0]);\n  if (id !== undefined) {\n    var nchildren = toinsert.length;\n    var html_node = toinsert[nchildren-1].children[0];\n    html_node.innerHTML = output.data[HTML_MIME_TYPE];\n    var scripts = [];\n    var nodelist = html_node.querySelectorAll(\"script\");\n    for (var i in nodelist) {\n      if (nodelist.hasOwnProperty(i)) {\n        scripts.push(nodelist[i])\n      }\n    }\n\n    scripts.forEach( function (oldScript) {\n      var newScript = document.createElement(\"script\");\n      var attrs = [];\n      var nodemap = oldScript.attributes;\n      for (var j in nodemap) {\n        if (nodemap.hasOwnProperty(j)) {\n          attrs.push(nodemap[j])\n        }\n      }\n      attrs.forEach(function(attr) { newScript.setAttribute(attr.name, attr.value) });\n      newScript.appendChild(document.createTextNode(oldScript.innerHTML));\n      oldScript.parentNode.replaceChild(newScript, oldScript);\n    });\n    if (JS_MIME_TYPE in output.data) {\n      toinsert[nchildren-1].children[1].textContent = output.data[JS_MIME_TYPE];\n    }\n    output_area._hv_plot_id = id;\n    if ((window.Bokeh !== undefined) && (id in Bokeh.index)) {\n      window.PyViz.plot_index[id] = Bokeh.index[id];\n    } else {\n      window.PyViz.plot_index[id] = null;\n    }\n  } else if (output.metadata[EXEC_MIME_TYPE][\"server_id\"] !== undefined) {\n    var bk_div = document.createElement(\"div\");\n    bk_div.innerHTML = output.data[HTML_MIME_TYPE];\n    var script_attrs = bk_div.children[0].attributes;\n    for (var i = 0; i < script_attrs.length; i++) {\n      toinsert[toinsert.length - 1].childNodes[1].setAttribute(script_attrs[i].name, script_attrs[i].value);\n    }\n    // store reference to server id on output_area\n    output_area._bokeh_server_id = output.metadata[EXEC_MIME_TYPE][\"server_id\"];\n  }\n}\n\n/**\n * Handle when an output is cleared or removed\n */\nfunction handle_clear_output(event, handle) {\n  var id = handle.cell.output_area._hv_plot_id;\n  var server_id = handle.cell.output_area._bokeh_server_id;\n  if (((id === undefined) || !(id in PyViz.plot_index)) && (server_id !== undefined)) { return; }\n  var comm = window.PyViz.comm_manager.get_client_comm(\"hv-extension-comm\", \"hv-extension-comm\", function () {});\n  if (server_id !== null) {\n    comm.send({event_type: 'server_delete', 'id': server_id});\n    return;\n  } else if (comm !== null) {\n    comm.send({event_type: 'delete', 'id': id});\n  }\n  delete PyViz.plot_index[id];\n  if ((window.Bokeh !== undefined) & (id in window.Bokeh.index)) {\n    var doc = window.Bokeh.index[id].model.document\n    doc.clear();\n    const i = window.Bokeh.documents.indexOf(doc);\n    if (i > -1) {\n      window.Bokeh.documents.splice(i, 1);\n    }\n  }\n}\n\n/**\n * Handle kernel restart event\n */\nfunction handle_kernel_cleanup(event, handle) {\n  delete PyViz.comms[\"hv-extension-comm\"];\n  window.PyViz.plot_index = {}\n}\n\n/**\n * Handle update_display_data messages\n */\nfunction handle_update_output(event, handle) {\n  handle_clear_output(event, {cell: {output_area: handle.output_area}})\n  handle_add_output(event, handle)\n}\n\nfunction register_renderer(events, OutputArea) {\n  function append_mime(data, metadata, element) {\n    // create a DOM node to render to\n    var toinsert = this.create_output_subarea(\n    metadata,\n    CLASS_NAME,\n    EXEC_MIME_TYPE\n    );\n    this.keyboard_manager.register_events(toinsert);\n    // Render to node\n    var props = {data: data, metadata: metadata[EXEC_MIME_TYPE]};\n    render(props, toinsert[0]);\n    element.append(toinsert);\n    return toinsert\n  }\n\n  events.on('output_added.OutputArea', handle_add_output);\n  events.on('output_updated.OutputArea', handle_update_output);\n  events.on('clear_output.CodeCell', handle_clear_output);\n  events.on('delete.Cell', handle_clear_output);\n  events.on('kernel_ready.Kernel', handle_kernel_cleanup);\n\n  OutputArea.prototype.register_mime_type(EXEC_MIME_TYPE, append_mime, {\n    safe: true,\n    index: 0\n  });\n}\n\nif (window.Jupyter !== undefined) {\n  try {\n    var events = require('base/js/events');\n    var OutputArea = require('notebook/js/outputarea').OutputArea;\n    if (OutputArea.prototype.mime_types().indexOf(EXEC_MIME_TYPE) == -1) {\n      register_renderer(events, OutputArea);\n    }\n  } catch(err) {\n  }\n}\n",
      "application/vnd.holoviews_load.v0+json": ""
     },
     "metadata": {},
     "output_type": "display_data"
    },
    {
     "data": {
      "text/html": [
       "<style>*[data-root-id],\n",
       "*[data-root-id] > * {\n",
       "  box-sizing: border-box;\n",
       "  font-family: var(--jp-ui-font-family);\n",
       "  font-size: var(--jp-ui-font-size1);\n",
       "  color: var(--vscode-editor-foreground, var(--jp-ui-font-color1));\n",
       "}\n",
       "\n",
       "/* Override VSCode background color */\n",
       ".cell-output-ipywidget-background:has(\n",
       "    > .cell-output-ipywidget-background > .lm-Widget > *[data-root-id]\n",
       "  ),\n",
       ".cell-output-ipywidget-background:has(> .lm-Widget > *[data-root-id]) {\n",
       "  background-color: transparent !important;\n",
       "}\n",
       "</style>"
      ]
     },
     "metadata": {},
     "output_type": "display_data"
    },
    {
     "data": {
      "application/vnd.holoviews_exec.v0+json": "",
      "text/html": [
       "<div id='8fe0e10c-c184-4ecc-893d-f0cd3d164a00'>\n",
       "  <div id=\"cfed05e3-9714-4248-a24a-869565b4666a\" data-root-id=\"8fe0e10c-c184-4ecc-893d-f0cd3d164a00\" style=\"display: contents;\"></div>\n",
       "</div>\n",
       "<script type=\"application/javascript\">(function(root) {\n",
       "  var docs_json = {\"4f68cefd-2213-421d-82bd-40920cf65d58\":{\"version\":\"3.4.1\",\"title\":\"Bokeh Application\",\"roots\":[{\"type\":\"object\",\"name\":\"panel.models.browser.BrowserInfo\",\"id\":\"8fe0e10c-c184-4ecc-893d-f0cd3d164a00\"},{\"type\":\"object\",\"name\":\"panel.models.comm_manager.CommManager\",\"id\":\"7ba9abc3-18b6-47e2-a7e6-e34465006f19\",\"attributes\":{\"plot_id\":\"8fe0e10c-c184-4ecc-893d-f0cd3d164a00\",\"comm_id\":\"3b81b7888e2f41d4ae260854e4ffe94c\",\"client_comm_id\":\"9802bb1f185a4d9092a687b41451e39c\"}}],\"defs\":[{\"type\":\"model\",\"name\":\"ReactiveHTML1\"},{\"type\":\"model\",\"name\":\"FlexBox1\",\"properties\":[{\"name\":\"align_content\",\"kind\":\"Any\",\"default\":\"flex-start\"},{\"name\":\"align_items\",\"kind\":\"Any\",\"default\":\"flex-start\"},{\"name\":\"flex_direction\",\"kind\":\"Any\",\"default\":\"row\"},{\"name\":\"flex_wrap\",\"kind\":\"Any\",\"default\":\"wrap\"},{\"name\":\"gap\",\"kind\":\"Any\",\"default\":\"\"},{\"name\":\"justify_content\",\"kind\":\"Any\",\"default\":\"flex-start\"}]},{\"type\":\"model\",\"name\":\"FloatPanel1\",\"properties\":[{\"name\":\"config\",\"kind\":\"Any\",\"default\":{\"type\":\"map\"}},{\"name\":\"contained\",\"kind\":\"Any\",\"default\":true},{\"name\":\"position\",\"kind\":\"Any\",\"default\":\"right-top\"},{\"name\":\"offsetx\",\"kind\":\"Any\",\"default\":null},{\"name\":\"offsety\",\"kind\":\"Any\",\"default\":null},{\"name\":\"theme\",\"kind\":\"Any\",\"default\":\"primary\"},{\"name\":\"status\",\"kind\":\"Any\",\"default\":\"normalized\"}]},{\"type\":\"model\",\"name\":\"GridStack1\",\"properties\":[{\"name\":\"mode\",\"kind\":\"Any\",\"default\":\"warn\"},{\"name\":\"ncols\",\"kind\":\"Any\",\"default\":null},{\"name\":\"nrows\",\"kind\":\"Any\",\"default\":null},{\"name\":\"allow_resize\",\"kind\":\"Any\",\"default\":true},{\"name\":\"allow_drag\",\"kind\":\"Any\",\"default\":true},{\"name\":\"state\",\"kind\":\"Any\",\"default\":[]}]},{\"type\":\"model\",\"name\":\"drag1\",\"properties\":[{\"name\":\"slider_width\",\"kind\":\"Any\",\"default\":5},{\"name\":\"slider_color\",\"kind\":\"Any\",\"default\":\"black\"},{\"name\":\"value\",\"kind\":\"Any\",\"default\":50}]},{\"type\":\"model\",\"name\":\"click1\",\"properties\":[{\"name\":\"terminal_output\",\"kind\":\"Any\",\"default\":\"\"},{\"name\":\"debug_name\",\"kind\":\"Any\",\"default\":\"\"},{\"name\":\"clears\",\"kind\":\"Any\",\"default\":0}]},{\"type\":\"model\",\"name\":\"FastWrapper1\",\"properties\":[{\"name\":\"object\",\"kind\":\"Any\",\"default\":null},{\"name\":\"style\",\"kind\":\"Any\",\"default\":null}]},{\"type\":\"model\",\"name\":\"NotificationAreaBase1\",\"properties\":[{\"name\":\"js_events\",\"kind\":\"Any\",\"default\":{\"type\":\"map\"}},{\"name\":\"position\",\"kind\":\"Any\",\"default\":\"bottom-right\"},{\"name\":\"_clear\",\"kind\":\"Any\",\"default\":0}]},{\"type\":\"model\",\"name\":\"NotificationArea1\",\"properties\":[{\"name\":\"js_events\",\"kind\":\"Any\",\"default\":{\"type\":\"map\"}},{\"name\":\"notifications\",\"kind\":\"Any\",\"default\":[]},{\"name\":\"position\",\"kind\":\"Any\",\"default\":\"bottom-right\"},{\"name\":\"_clear\",\"kind\":\"Any\",\"default\":0},{\"name\":\"types\",\"kind\":\"Any\",\"default\":[{\"type\":\"map\",\"entries\":[[\"type\",\"warning\"],[\"background\",\"#ffc107\"],[\"icon\",{\"type\":\"map\",\"entries\":[[\"className\",\"fas fa-exclamation-triangle\"],[\"tagName\",\"i\"],[\"color\",\"white\"]]}]]},{\"type\":\"map\",\"entries\":[[\"type\",\"info\"],[\"background\",\"#007bff\"],[\"icon\",{\"type\":\"map\",\"entries\":[[\"className\",\"fas fa-info-circle\"],[\"tagName\",\"i\"],[\"color\",\"white\"]]}]]}]}]},{\"type\":\"model\",\"name\":\"Notification\",\"properties\":[{\"name\":\"background\",\"kind\":\"Any\",\"default\":null},{\"name\":\"duration\",\"kind\":\"Any\",\"default\":3000},{\"name\":\"icon\",\"kind\":\"Any\",\"default\":null},{\"name\":\"message\",\"kind\":\"Any\",\"default\":\"\"},{\"name\":\"notification_type\",\"kind\":\"Any\",\"default\":null},{\"name\":\"_destroyed\",\"kind\":\"Any\",\"default\":false}]},{\"type\":\"model\",\"name\":\"TemplateActions1\",\"properties\":[{\"name\":\"open_modal\",\"kind\":\"Any\",\"default\":0},{\"name\":\"close_modal\",\"kind\":\"Any\",\"default\":0}]},{\"type\":\"model\",\"name\":\"BootstrapTemplateActions1\",\"properties\":[{\"name\":\"open_modal\",\"kind\":\"Any\",\"default\":0},{\"name\":\"close_modal\",\"kind\":\"Any\",\"default\":0}]},{\"type\":\"model\",\"name\":\"TemplateEditor1\",\"properties\":[{\"name\":\"layout\",\"kind\":\"Any\",\"default\":[]}]},{\"type\":\"model\",\"name\":\"MaterialTemplateActions1\",\"properties\":[{\"name\":\"open_modal\",\"kind\":\"Any\",\"default\":0},{\"name\":\"close_modal\",\"kind\":\"Any\",\"default\":0}]},{\"type\":\"model\",\"name\":\"copy_to_clipboard1\",\"properties\":[{\"name\":\"fill\",\"kind\":\"Any\",\"default\":\"none\"},{\"name\":\"value\",\"kind\":\"Any\",\"default\":null}]}]}};\n",
       "  var render_items = [{\"docid\":\"4f68cefd-2213-421d-82bd-40920cf65d58\",\"roots\":{\"8fe0e10c-c184-4ecc-893d-f0cd3d164a00\":\"cfed05e3-9714-4248-a24a-869565b4666a\"},\"root_ids\":[\"8fe0e10c-c184-4ecc-893d-f0cd3d164a00\"]}];\n",
       "  var docs = Object.values(docs_json)\n",
       "  if (!docs) {\n",
       "    return\n",
       "  }\n",
       "  const py_version = docs[0].version.replace('rc', '-rc.').replace('.dev', '-dev.')\n",
       "  async function embed_document(root) {\n",
       "    var Bokeh = get_bokeh(root)\n",
       "    await Bokeh.embed.embed_items_notebook(docs_json, render_items);\n",
       "    for (const render_item of render_items) {\n",
       "      for (const root_id of render_item.root_ids) {\n",
       "\tconst id_el = document.getElementById(root_id)\n",
       "\tif (id_el.children.length && id_el.children[0].hasAttribute('data-root-id')) {\n",
       "\t  const root_el = id_el.children[0]\n",
       "\t  root_el.id = root_el.id + '-rendered'\n",
       "\t  for (const child of root_el.children) {\n",
       "            // Ensure JupyterLab does not capture keyboard shortcuts\n",
       "            // see: https://jupyterlab.readthedocs.io/en/4.1.x/extension/notebook.html#keyboard-interaction-model\n",
       "\t    child.setAttribute('data-lm-suppress-shortcuts', 'true')\n",
       "\t  }\n",
       "\t}\n",
       "      }\n",
       "    }\n",
       "  }\n",
       "  function get_bokeh(root) {\n",
       "    if (root.Bokeh === undefined) {\n",
       "      return null\n",
       "    } else if (root.Bokeh.version !== py_version) {\n",
       "      if (root.Bokeh.versions === undefined || !root.Bokeh.versions.has(py_version)) {\n",
       "\treturn null\n",
       "      }\n",
       "      return root.Bokeh.versions.get(py_version);\n",
       "    } else if (root.Bokeh.version === py_version) {\n",
       "      return root.Bokeh\n",
       "    }\n",
       "    return null\n",
       "  }\n",
       "  function is_loaded(root) {\n",
       "    var Bokeh = get_bokeh(root)\n",
       "    return (Bokeh != null && Bokeh.Panel !== undefined)\n",
       "  }\n",
       "  if (is_loaded(root)) {\n",
       "    embed_document(root);\n",
       "  } else {\n",
       "    var attempts = 0;\n",
       "    var timer = setInterval(function(root) {\n",
       "      if (is_loaded(root)) {\n",
       "        clearInterval(timer);\n",
       "        embed_document(root);\n",
       "      } else if (document.readyState == \"complete\") {\n",
       "        attempts++;\n",
       "        if (attempts > 200) {\n",
       "          clearInterval(timer);\n",
       "\t  var Bokeh = get_bokeh(root)\n",
       "\t  if (Bokeh == null || Bokeh.Panel == null) {\n",
       "            console.warn(\"Panel: ERROR: Unable to run Panel code because Bokeh or Panel library is missing\");\n",
       "\t  } else {\n",
       "\t    console.warn(\"Panel: WARNING: Attempting to render but not all required libraries could be resolved.\")\n",
       "\t    embed_document(root)\n",
       "\t  }\n",
       "        }\n",
       "      }\n",
       "    }, 25, root)\n",
       "  }\n",
       "})(window);</script>"
      ]
     },
     "metadata": {
      "application/vnd.holoviews_exec.v0+json": {
       "id": "8fe0e10c-c184-4ecc-893d-f0cd3d164a00"
      }
     },
     "output_type": "display_data"
    }
   ],
   "source": [
    "import panel as pn\n",
    "from dotenv import load_dotenv\n",
    "import param\n",
    "\n",
    "import sys\n",
    "sys.path.append('..')\n",
    "\n",
    "load_dotenv()\n",
    "\n",
    "pn.extension()"
   ]
  },
  {
   "cell_type": "code",
   "execution_count": 25,
   "metadata": {},
   "outputs": [
    {
     "data": {
      "text/plain": [
       "<loguru.logger handlers=[(id=1, level=20, sink=stdout), (id=2, level=20, sink='file_loader.log')]>"
      ]
     },
     "execution_count": 25,
     "metadata": {},
     "output_type": "execute_result"
    }
   ],
   "source": [
    "# Try to use --design-... variables first\n",
    "pn.config.global_css = [\n",
    "    \"\"\"\n",
    "@import url('https://fonts.googleapis.com/css2?family=Hanken+Grotesk:ital,wght@0,100..900;1,100..900&family=Ubuntu:ital,wght@0,300;0,400;0,500;0,700;1,300;1,400;1,500;1,700&display=swap');\n",
    "body {\n",
    "    --primary-background-color: #0C1314;\n",
    "    --secondary-background-color: #111926;\n",
    "    --light-outline-color: #455368;\n",
    "    --primary-accent-color: #D33A4B;\n",
    "    --secondary-accent-color: #EDB737;\n",
    "    --tertiary-accent-color: #12B86C;\n",
    "    --white: #F4F6F8;\n",
    "    --black: #353839\n",
    "    --faded-text-color: #6083B8;\n",
    "\n",
    "    --base-font: 'Hanken Grotesk', sans-serif;\n",
    "    --bokeh-base-font: 'Hanken Grotesk', sans-serif;\n",
    "    --bokeh-font-size: 16px;\n",
    "    --line-height: 1.55;\n",
    "    --design-background-text-color: var(--white);\n",
    "\n",
    "    \n",
    "    background-color: var(--primary-background-color);\n",
    "    /* Centering Body */\n",
    "    display: flex;\n",
    "    justify-content: center;\n",
    "    align-items: center;\n",
    "}\n",
    "\"\"\"\n",
    "]\n",
    "\n",
    "# Icon asset loading\n",
    "assets_map = {'assets': '/workspaces/pyllments/pyllments/assets'}\n",
    "pn.config.css_files = ['assets/file_icons/tabler-icons-outline.min.css']\n",
    "\n",
    "def serve(servable, **kwargs):\n",
    "    return pn.serve(servable, static_dirs=assets_map, **kwargs)\n",
    "\n",
    "from pyllments.logging import setup_logging\n",
    "setup_logging(log_file='file_loader.log', stdout_log_level='INFO', file_log_level='INFO')\n",
    "\n"
   ]
  },
  {
   "cell_type": "markdown",
   "metadata": {},
   "source": [
    "# Main"
   ]
  },
  {
   "cell_type": "code",
   "execution_count": null,
   "metadata": {},
   "outputs": [],
   "source": []
  },
  {
   "cell_type": "code",
   "execution_count": 11,
   "metadata": {},
   "outputs": [
    {
     "name": "stdout",
     "output_type": "stream",
     "text": [
      "Launching server at http://localhost:42849\n"
     ]
    },
    {
     "name": "stderr",
     "output_type": "stream",
     "text": [
      "WARNING:tornado.access:404 GET /assets/file_icons/tabler-icons-outline.min.css (127.0.0.1) 0.21ms\n",
      "WARNING:tornado.access:404 GET /assets/file_icons/tabler-icons-outline.min.css (127.0.0.1) 0.54ms\n",
      "WARNING:tornado.access:404 GET /assets/file_icons/tabler-icons-outline.min.css (127.0.0.1) 0.21ms\n",
      "WARNING:tornado.access:404 GET /assets/file_icons/tabler-icons-outline.min.css (127.0.0.1) 0.23ms\n"
     ]
    }
   ],
   "source": [
    "from pyllments.elements.file_loader import FileLoaderElement\n",
    "\n",
    "fl = FileLoaderElement()\n",
    "\n",
    "file_loader_view = fl.create_file_loader_view(sizing_mode='fixed', width=300, height=400)\n",
    "# file_input_view = fl.create_file_input_view(width=200, height=200)\n",
    "# srv = pn.serve(file_input_view)\n",
    "srv = pn.serve(file_loader_view)"
   ]
  },
  {
   "cell_type": "code",
   "execution_count": 6,
   "metadata": {},
   "outputs": [
    {
     "name": "stdout",
     "output_type": "stream",
     "text": [
      "Launching server at http://localhost:34365\n"
     ]
    },
    {
     "name": "stderr",
     "output_type": "stream",
     "text": [
      "WARNING:tornado.access:404 GET /assets/file_icons/tabler-icons-outline.min.css (127.0.0.1) 0.21ms\n",
      "WARNING:tornado.access:404 GET /assets/file_icons/tabler-icons-outline.min.css (127.0.0.1) 2.27ms\n"
     ]
    }
   ],
   "source": [
    "from pyllments.payloads.file import FilePayload\n",
    "\n",
    "fp = FilePayload(name='test.png', b_file=b'test', mime_type='image/png')\n",
    "fv = fp.create_file_view()\n",
    "\n",
    "sv = pn.serve(fv)\n"
   ]
  },
  {
   "cell_type": "code",
   "execution_count": 19,
   "metadata": {},
   "outputs": [
    {
     "name": "stdout",
     "output_type": "stream",
     "text": [
      "\n"
     ]
    }
   ],
   "source": [
    "print(fv[1].object)"
   ]
  },
  {
   "cell_type": "code",
   "execution_count": 7,
   "metadata": {},
   "outputs": [],
   "source": [
    "s.stop()"
   ]
  },
  {
   "cell_type": "code",
   "execution_count": 8,
   "metadata": {},
   "outputs": [
    {
     "name": "stdout",
     "output_type": "stream",
     "text": [
      "Launching server at http://localhost:34573\n"
     ]
    }
   ],
   "source": [
    "\n",
    "s = serve(pn.pane.Markdown('# something here'))\n"
   ]
  },
  {
   "cell_type": "code",
   "execution_count": 9,
   "metadata": {},
   "outputs": [],
   "source": [
    "s.stop()"
   ]
  },
  {
   "cell_type": "code",
   "execution_count": 6,
   "metadata": {},
   "outputs": [
    {
     "name": "stderr",
     "output_type": "stream",
     "text": [
      "WARNING:tornado.access:404 GET /assets/file_icons/tabler-icons-outline.min.css (127.0.0.1) 0.23ms\n",
      "WARNING:tornado.access:404 GET /assets/file_icons/tabler-icons-outline.min.css (127.0.0.1) 0.21ms\n",
      "WARNING:tornado.access:404 GET /assets/file_icons/tabler-icons-outline.min.css (127.0.0.1) 0.21ms\n",
      "WARNING:tornado.access:404 GET /assets/file_icons/tabler-icons-outline.min.css (127.0.0.1) 0.22ms\n"
     ]
    }
   ],
   "source": [
    "fl.file_input_view.stylesheets = []"
   ]
  },
  {
   "cell_type": "code",
   "execution_count": 8,
   "metadata": {},
   "outputs": [
    {
     "name": "stdout",
     "output_type": "stream",
     "text": [
      "Column(sizing_mode='stretch_both')\n",
      "    [0] Row(sizing_mode='stretch_width', stylesheets=[':host {\\n   ...])\n",
      "        [0] HTML(str, align='center', stylesheets=[':host {\\n   ...])\n",
      "        [1] Markdown(str, stylesheets=['p {\\n    margin: 1...])\n"
     ]
    }
   ],
   "source": [
    "print(fl.file_container_view)"
   ]
  },
  {
   "cell_type": "code",
   "execution_count": 9,
   "metadata": {},
   "outputs": [
    {
     "name": "stdout",
     "output_type": "stream",
     "text": [
      "Column(sizing_mode='stretch_both')\n"
     ]
    }
   ],
   "source": [
    "print(fl.file_container_view)"
   ]
  },
  {
   "cell_type": "code",
   "execution_count": 7,
   "metadata": {},
   "outputs": [
    {
     "data": {
      "text/html": [
       "<style>\n",
       ".param-doc-tooltip{\n",
       "  position: relative;\n",
       "  cursor: help;\n",
       "}\n",
       ".param-doc-tooltip:hover:after{\n",
       "  content: attr(data-tooltip);\n",
       "  background-color: black;\n",
       "  color: #fff;\n",
       "  border-radius: 3px;\n",
       "  padding: 10px;\n",
       "  position: absolute;\n",
       "  z-index: 1;\n",
       "  top: -5px;\n",
       "  left: 100%;\n",
       "  margin-left: 10px;\n",
       "  min-width: 250px;\n",
       "}\n",
       ".param-doc-tooltip:hover:before {\n",
       "  content: \"\";\n",
       "  position: absolute;\n",
       "  top: 50%;\n",
       "  left: 100%;\n",
       "  margin-top: -5px;\n",
       "  border-width: 5px;\n",
       "  border-style: solid;\n",
       "  border-color: transparent black transparent transparent;\n",
       "}\n",
       "</style>\n",
       "<details  open>\n",
       " <summary style=\"display:list-item; outline:none;\">\n",
       "  <tt>FileModel()</tt>\n",
       " </summary>\n",
       " <div style=\"padding-left:10px; padding-bottom:5px;\">\n",
       "  <table style=\"max-width:100%; border:1px solid #AAAAAA;\">\n",
       "   <tr><th style=\"text-align:left;\">Name</th><th style=\"text-align:left;\">Value</th><th style=\"text-align:left;\">Type</th><th>Range</th></tr>\n",
       "<tr>  <td><p style=\"margin-bottom: 0px;\" class=\"param-doc-tooltip\" data-tooltip=\"Bytes object of file\">b_file</p></td>  <td style=\"max-width: 200px; text-align:left;\">b&#x27;\\x89PNG\\r\\n\\x1a\\n\\x00\\x00\\..</td>  <td style=\"text-align:left;\">ClassSelector</td>  <td style=\"max-width: 300px;\"><i>nullable</i> bytes</td></tr>\n",
       "<tr>  <td><p style=\"margin-bottom: 0px;\" class=\"param-doc-tooltip\" data-tooltip=\"Name of file\">filename</p></td>  <td style=\"max-width: 200px; text-align:left;\">&#x27;Clipboard01.png&#x27;</td>  <td style=\"text-align:left;\">String</td>  <td style=\"max-width: 300px;\"></td></tr>\n",
       "<tr>  <td><p style=\"margin-bottom: 0px;\" class=\"param-doc-tooltip\" data-tooltip=\"Local path of file\">local_path</p></td>  <td style=\"max-width: 200px; text-align:left;\">&#x27;Clipboard01.png&#x27;</td>  <td style=\"text-align:left;\">String</td>  <td style=\"max-width: 300px;\"></td></tr>\n",
       "<tr>  <td><p style=\"margin-bottom: 0px;\" class=\"param-doc-tooltip\" data-tooltip=\"Mime type of file\">mime_type</p></td>  <td style=\"max-width: 200px; text-align:left;\">&#x27;image/png&#x27;</td>  <td style=\"text-align:left;\">String</td>  <td style=\"max-width: 300px;\"></td></tr>\n",
       "<tr>  <td><p style=\"margin-bottom: 0px;\" class=\"param-doc-tooltip\" data-tooltip=\"String identifier for this object.\">name</p></td>  <td style=\"max-width: 200px; text-align:left;\">&#x27;FileModel00133&#x27;</td>  <td style=\"text-align:left;\">String</td>  <td style=\"max-width: 300px;\"><i>nullable</i> <i>constant</i></td></tr>\n",
       "<tr>  <td><p style=\"margin-bottom: 0px;\" class=\"param-doc-tooltip\" data-tooltip=\"Remote path of file\">remote_path</p></td>  <td style=\"max-width: 200px; text-align:left;\">&#x27;&#x27;</td>  <td style=\"text-align:left;\">String</td>  <td style=\"max-width: 300px;\"></td></tr>\n",
       "\n",
       "  </table>\n",
       " </div>\n",
       "</details>\n"
      ],
      "text/plain": [
       "<param.parameterized.Parameters at 0x7f1856169940>"
      ]
     },
     "execution_count": 7,
     "metadata": {},
     "output_type": "execute_result"
    },
    {
     "name": "stderr",
     "output_type": "stream",
     "text": [
      "WARNING:tornado.access:404 GET /assets/file_icons/tabler-icons-outline.min.css (127.0.0.1) 0.21ms\n",
      "WARNING:tornado.access:404 GET /assets/file_icons/tabler-icons-outline.min.css (127.0.0.1) 0.30ms\n"
     ]
    }
   ],
   "source": [
    "fl.model.file_list[0]."
   ]
  },
  {
   "cell_type": "code",
   "execution_count": null,
   "metadata": {},
   "outputs": [],
   "source": [
    "css = \"\"\"\n",
    "\n",
    "\"\"\""
   ]
  },
  {
   "cell_type": "code",
   "execution_count": 36,
   "metadata": {},
   "outputs": [
    {
     "name": "stderr",
     "output_type": "stream",
     "text": [
      "WARNING:tornado.access:404 GET /assets/file_icons/tabler-icons-outline.min.css (127.0.0.1) 0.20ms\n",
      "WARNING:tornado.access:404 GET /assets/file_icons/tabler-icons-outline.min.css (127.0.0.1) 0.20ms\n",
      "WARNING:tornado.access:404 GET /assets/file_icons/tabler-icons-outline.min.css (127.0.0.1) 0.20ms\n",
      "WARNING:tornado.access:404 GET /assets/file_icons/tabler-icons-outline.min.css (127.0.0.1) 0.19ms\n",
      "WARNING:tornado.access:404 GET /assets/file_icons/tabler-icons-outline.min.css (127.0.0.1) 0.19ms\n"
     ]
    }
   ],
   "source": [
    "file_loader_view[0].stylesheets = []"
   ]
  },
  {
   "cell_type": "code",
   "execution_count": 10,
   "metadata": {},
   "outputs": [],
   "source": [
    "payload_view = fl.model.file_list[0].create_file_view()"
   ]
  },
  {
   "cell_type": "code",
   "execution_count": 13,
   "metadata": {},
   "outputs": [
    {
     "data": {
      "application/vnd.jupyter.widget-view+json": {
       "model_id": "7452720f2c2c4d119b9240bba954635e",
       "version_major": 2,
       "version_minor": 0
      },
      "text/plain": [
       "BokehModel(combine_events=True, render_bundle={'docs_json': {'6f0c0977-9abf-493c-b89f-e0aed3d386a8': {'version…"
      ]
     },
     "execution_count": 13,
     "metadata": {},
     "output_type": "execute_result"
    }
   ],
   "source": [
    "payload_view"
   ]
  },
  {
   "cell_type": "code",
   "execution_count": 41,
   "metadata": {},
   "outputs": [
    {
     "data": {
      "text/plain": [
       "Watcher(inst=FileInput(sizing_mode='stretch_width', value=b''), cls=<class 'panel.widgets.input.FileInput'>, fn=<function new_file at 0x7f6079ece0c0>, mode='args', onlychanged=True, parameter_names=('value',), what='value', queued=False, precedence=0)"
      ]
     },
     "execution_count": 41,
     "metadata": {},
     "output_type": "execute_result"
    },
    {
     "name": "stdout",
     "output_type": "stream",
     "text": [
      "Event(what='value', name='value', obj=FileInput(filename='delve.txt', mime_type='text/plain', sizing_mode='stretch_width', value=b'delve delve d...), cls=FileInput(filename='delve.txt', mime_type='text/plain', sizing_mode='stretch_width', value=b'delve delve d...), old=b'', new=b'delve delve delve delve delve delve delve delve delve delve delve delve delve delve delve delve delve delve delve delve delve delve delve delve delve delve delve delve delve delve delve delve delve delve delve delve delve delve delve delve delve delve delve delve delve delve delve delve delve delve delve delve delve delve delve delve delve delve delve delve delve delve delve delve delve delve delve delve delve delve delve delve delve delve delve delve delve delve delve delve delve delve delve delve delve delve delve delve delve delve delve delve delve delve delve delve delve delve delve delve delve delve delve delve delve ', type='changed')\n"
     ]
    }
   ],
   "source": [
    "\n"
   ]
  },
  {
   "cell_type": "code",
   "execution_count": 6,
   "metadata": {},
   "outputs": [
    {
     "name": "stdout",
     "output_type": "stream",
     "text": [
      "Launching server at http://localhost:40043\n"
     ]
    },
    {
     "name": "stderr",
     "output_type": "stream",
     "text": [
      "WARNING:tornado.access:404 GET /assets/file_icons/tabler-icons-outline.min.css (127.0.0.1) 0.20ms\n",
      "WARNING:tornado.access:404 GET /assets/file_icons/tabler-icons-outline.min.css (127.0.0.1) 0.97ms\n"
     ]
    }
   ],
   "source": [
    "file_input = pn.widgets.FileInput(sizing_mode='stretch_width')\n",
    "f_container = pn.Column(sizing_mode='stretch_both')\n",
    "send_button = pn.widgets.Button(name='Send', sizing_mode='stretch_width')\n",
    "\n",
    "def new_file(event):\n",
    "    print(event)\n",
    "file_input.param.watch(new_file, 'value')\n",
    "\n",
    "container = pn.Column(file_input, f_container, send_button, width=300, height=500)\n",
    "srv00 = pn.serve(container)\n"
   ]
  },
  {
   "cell_type": "code",
   "execution_count": 5,
   "metadata": {},
   "outputs": [],
   "source": [
    "srv00.stop()"
   ]
  },
  {
   "cell_type": "code",
   "execution_count": 7,
   "metadata": {},
   "outputs": [
    {
     "name": "stderr",
     "output_type": "stream",
     "text": [
      "WARNING:tornado.access:404 GET /assets/file_icons/tabler-icons-outline.min.css (127.0.0.1) 0.20ms\n"
     ]
    }
   ],
   "source": [
    "css = \"\"\"\n",
    "input[type=\"file\"] {\n",
    "    width: 100%;\n",
    "    height: 38px; /* Adjust as needed */\n",
    "    padding: 0;\n",
    "    margin: 0;\n",
    "    background: transparent;\n",
    "    color: transparent;\n",
    "    border: none;\n",
    "    overflow: hidden;\n",
    "  }\n",
    "  \n",
    "  input[type=\"file\"]::before {\n",
    "    content: 'Click to Add FIles';\n",
    "    display: block;\n",
    "    width: 100%;\n",
    "    height: 100%;\n",
    "    background: var(--primary-accent-color);\n",
    "    color: var(--white);\n",
    "    text-align: center;\n",
    "    line-height: 38px;\n",
    "    font-size: 1.4em;\n",
    "    border-radius: var(--border-radius);\n",
    "    cursor: pointer;\n",
    "    white-space: nowrap;\n",
    "  }\n",
    "  \n",
    "  input[type=\"file\"]::-webkit-file-upload-button {\n",
    "    visibility: hidden;\n",
    "    width: 0;\n",
    "    height: 0;\n",
    "  }\n",
    "\"\"\"\n",
    "\n",
    "file_input.stylesheets = [css]"
   ]
  },
  {
   "cell_type": "code",
   "execution_count": 15,
   "metadata": {},
   "outputs": [],
   "source": [
    "payload_view.width=100\n",
    "payload_view.height=100\n"
   ]
  },
  {
   "cell_type": "code",
   "execution_count": 20,
   "metadata": {},
   "outputs": [
    {
     "name": "stderr",
     "output_type": "stream",
     "text": [
      "WARNING:tornado.access:404 GET /assets/file_icons/tabler-icons-outline.min.css (127.0.0.1) 0.21ms\n"
     ]
    }
   ],
   "source": [
    "file_input_view.width= None\n",
    "file_input_view.height= 40\n"
   ]
  },
  {
   "cell_type": "code",
   "execution_count": 19,
   "metadata": {},
   "outputs": [
    {
     "data": {
      "application/vnd.jupyter.widget-view+json": {
       "model_id": "72053e1b3bd5455bb92dccc954af5d5a",
       "version_major": 2,
       "version_minor": 0
      },
      "text/plain": [
       "BokehModel(combine_events=True, render_bundle={'docs_json': {'a80bccb8-8387-46a3-b4a8-e0bb50bed529': {'version…"
      ]
     },
     "execution_count": 19,
     "metadata": {},
     "output_type": "execute_result"
    }
   ],
   "source": [
    "from pyllments.payloads.file import FilePayload\n",
    "fp = FilePayload(name='test.png', b_file=b'test', mime_type='image/png')\n",
    "fv = fp.create_file_view()\n",
    "fv"
   ]
  },
  {
   "cell_type": "code",
   "execution_count": 21,
   "metadata": {},
   "outputs": [
    {
     "name": "stdout",
     "output_type": "stream",
     "text": [
      "Launching server at http://localhost:37725\n"
     ]
    },
    {
     "name": "stderr",
     "output_type": "stream",
     "text": [
      "WARNING:tornado.access:404 GET /assets/file_icons/tabler-icons-outline.min.css (127.0.0.1) 0.24ms\n",
      "WARNING:tornado.access:404 GET /assets/file_icons/tabler-icons-outline.min.css (127.0.0.1) 1.17ms\n",
      "WARNING:tornado.access:404 GET /assets/file_icons/tabler-icons-outline.min.css (127.0.0.1) 0.25ms\n"
     ]
    }
   ],
   "source": [
    "srv0 = pn.serve(fv)"
   ]
  },
  {
   "cell_type": "code",
   "execution_count": 30,
   "metadata": {},
   "outputs": [
    {
     "name": "stderr",
     "output_type": "stream",
     "text": [
      "WARNING:tornado.access:404 GET /assets/file_icons/tabler-icons-outline.min.css (127.0.0.1) 0.19ms\n",
      "WARNING:tornado.access:404 GET /assets/file_icons/tabler-icons-outline.min.css (127.0.0.1) 0.20ms\n"
     ]
    }
   ],
   "source": [
    "fv.width=100\n",
    "fv.height=100\n"
   ]
  },
  {
   "cell_type": "code",
   "execution_count": 5,
   "metadata": {},
   "outputs": [
    {
     "data": {
      "text/plain": [
       "3"
      ]
     },
     "execution_count": 5,
     "metadata": {},
     "output_type": "execute_result"
    }
   ],
   "source": [
    "len(fl.model.file_list)"
   ]
  },
  {
   "cell_type": "code",
   "execution_count": 29,
   "metadata": {},
   "outputs": [],
   "source": [
    "cont.append(pn.pane.Markdown(\"# Hello\"))"
   ]
  },
  {
   "cell_type": "code",
   "execution_count": 7,
   "metadata": {},
   "outputs": [],
   "source": [
    "css = \"\"\"\n",
    ":host(.pn-loading):before, .pn-loading:before {\n",
    "    background-color: red;\n",
    "}\n",
    "\"\"\"\n"
   ]
  },
  {
   "cell_type": "markdown",
   "metadata": {},
   "source": [
    "# STop"
   ]
  },
  {
   "cell_type": "code",
   "execution_count": 31,
   "metadata": {},
   "outputs": [],
   "source": [
    "srv.stop()"
   ]
  },
  {
   "cell_type": "code",
   "execution_count": null,
   "metadata": {},
   "outputs": [],
   "source": []
  },
  {
   "cell_type": "markdown",
   "metadata": {},
   "source": [
    "# Step Testing"
   ]
  },
  {
   "cell_type": "markdown",
   "metadata": {},
   "source": [
    "## FileLoader"
   ]
  },
  {
   "cell_type": "code",
   "execution_count": null,
   "metadata": {},
   "outputs": [],
   "source": [
    "from pyllments.elements.file_loader import FileLoaderElement\n",
    "\n",
    "fl = FileLoaderElement()\n",
    "\n",
    "fl.create_file_loader_view()"
   ]
  },
  {
   "cell_type": "code",
   "execution_count": null,
   "metadata": {},
   "outputs": [],
   "source": []
  },
  {
   "cell_type": "markdown",
   "metadata": {},
   "source": [
    "# Switch view"
   ]
  },
  {
   "cell_type": "code",
   "execution_count": 6,
   "metadata": {},
   "outputs": [
    {
     "name": "stdout",
     "output_type": "stream",
     "text": [
      "Launching server at http://localhost:33843\n"
     ]
    }
   ],
   "source": [
    "srv = serve(pn.widgets.RadioButtonGroup(\n",
    "    name='test', \n",
    "    options=['what', 'the', 'heck'],\n",
    "    orientation='vertical'))\n",
    "# srv.stop()"
   ]
  },
  {
   "cell_type": "code",
   "execution_count": 7,
   "metadata": {},
   "outputs": [
    {
     "data": {
      "text/html": [
       "<style>\n",
       ".param-doc-tooltip{\n",
       "  position: relative;\n",
       "  cursor: help;\n",
       "}\n",
       ".param-doc-tooltip:hover:after{\n",
       "  content: attr(data-tooltip);\n",
       "  background-color: black;\n",
       "  color: #fff;\n",
       "  border-radius: 3px;\n",
       "  padding: 10px;\n",
       "  position: absolute;\n",
       "  z-index: 1;\n",
       "  top: -5px;\n",
       "  left: 100%;\n",
       "  margin-left: 10px;\n",
       "  min-width: 250px;\n",
       "}\n",
       ".param-doc-tooltip:hover:before {\n",
       "  content: \"\";\n",
       "  position: absolute;\n",
       "  top: 50%;\n",
       "  left: 100%;\n",
       "  margin-top: -5px;\n",
       "  border-width: 5px;\n",
       "  border-style: solid;\n",
       "  border-color: transparent black transparent transparent;\n",
       "}\n",
       "</style>\n",
       "<details  open>\n",
       " <summary style=\"display:list-item; outline:none;\">\n",
       "  <tt>RadioButtonGroup</tt>\n",
       " </summary>\n",
       " <div style=\"padding-left:10px; padding-bottom:5px;\">\n",
       "  <table style=\"max-width:100%; border:1px solid #AAAAAA;\">\n",
       "   <tr><th style=\"text-align:left;\">Name</th><th style=\"text-align:left;\">Default</th><th style=\"text-align:left;\">Type</th><th>Range</th></tr>\n",
       "<tr>  <td><p style=\"margin-bottom: 0px;\" class=\"param-doc-tooltip\" data-tooltip=\"Whether the object should be aligned with the start, end or\n",
       "        center of its container. If set as a tuple it will declare\n",
       "        (vertical, horizontal) alignment.\">align</p></td>  <td style=\"max-width: 200px; text-align:left;\">&#x27;start&#x27;</td>  <td style=\"text-align:left;\">Align</td>  <td style=\"max-width: 300px;\"></td></tr>\n",
       "<tr>  <td><p style=\"margin-bottom: 0px;\" class=\"param-doc-tooltip\" data-tooltip=\"Describes the proportional relationship between component&#x27;s\n",
       "        width and height.  This works if any of component&#x27;s dimensions\n",
       "        are flexible in size. If set to a number, ``width / height =\n",
       "        aspect_ratio`` relationship will be maintained.  Otherwise, if\n",
       "        set to ``&quot;auto&quot;``, component&#x27;s preferred width and height will\n",
       "        be used to determine the aspect (if not set, no aspect will be\n",
       "        preserved).\">aspect_ratio</p></td>  <td style=\"max-width: 200px; text-align:left;\">None</td>  <td style=\"text-align:left;\">Aspect</td>  <td style=\"max-width: 300px;\"><i>nullable</i></td></tr>\n",
       "<tr>  <td><p style=\"margin-bottom: 0px;\" class=\"param-doc-tooltip\" data-tooltip=\"A button style to switch between &#x27;solid&#x27;, &#x27;outline&#x27;.\">button_style</p></td>  <td style=\"max-width: 200px; text-align:left;\">&#x27;solid&#x27;</td>  <td style=\"text-align:left;\">ObjectSelector</td>  <td style=\"max-width: 300px;\">'solid', 'outline'</td></tr>\n",
       "<tr>  <td><p style=\"margin-bottom: 0px;\" class=\"param-doc-tooltip\" data-tooltip=\"A button theme; should be one of &#x27;default&#x27; (white), &#x27;primary&#x27;\n",
       "        (blue), &#x27;success&#x27; (green), &#x27;info&#x27; (yellow), &#x27;light&#x27; (light),\n",
       "        or &#x27;danger&#x27; (red).\">button_type</p></td>  <td style=\"max-width: 200px; text-align:left;\">&#x27;default&#x27;</td>  <td style=\"text-align:left;\">ObjectSelector</td>  <td style=\"max-width: 300px;\">'default', 'primary', 'success', 'warning', 'danger', 'light'</td></tr>\n",
       "<tr>  <td><p style=\"margin-bottom: 0px;\" class=\"param-doc-tooltip\" data-tooltip=\"CSS classes to apply to the layout.\">css_classes</p></td>  <td style=\"max-width: 200px; text-align:left;\">[]</td>  <td style=\"text-align:left;\">List</td>  <td style=\"max-width: 300px;\">(0, None)</td></tr>\n",
       "<tr>  <td><p style=\"margin-bottom: 0px;\" class=\"param-doc-tooltip\" data-tooltip=\"The description in the tooltip.\">description</p></td>  <td style=\"max-width: 200px; text-align:left;\">None</td>  <td style=\"text-align:left;\">ClassSelector</td>  <td style=\"max-width: 300px;\"><i>nullable</i> str | Tooltip | TooltipIcon</td></tr>\n",
       "<tr>  <td><p style=\"margin-bottom: 0px;\" class=\"param-doc-tooltip\" data-tooltip=\"Delay (in milliseconds) to display the tooltip after the cursor has\n",
       "        hovered over the Button, default is 500ms.\">description_delay</p></td>  <td style=\"max-width: 200px; text-align:left;\">500</td>  <td style=\"text-align:left;\">Integer</td>  <td style=\"max-width: 300px;\"></td></tr>\n",
       "<tr>  <td><p style=\"margin-bottom: 0px;\" class=\"param-doc-tooltip\" data-tooltip=\"The design system to use to style components.\">design</p></td>  <td style=\"max-width: 200px; text-align:left;\">None</td>  <td style=\"text-align:left;\">ObjectSelector</td>  <td style=\"max-width: 300px;\">None</td></tr>\n",
       "<tr>  <td><p style=\"margin-bottom: 0px;\" class=\"param-doc-tooltip\" data-tooltip=\"Whether the widget is disabled.\">disabled</p></td>  <td style=\"max-width: 200px; text-align:left;\">False</td>  <td style=\"text-align:left;\">Boolean</td>  <td style=\"max-width: 300px;\"></td></tr>\n",
       "<tr>  <td><p style=\"margin-bottom: 0px;\" class=\"param-doc-tooltip\" data-tooltip=\"The height of the component (in pixels).  This can be either\n",
       "        fixed or preferred height, depending on height sizing policy.\">height</p></td>  <td style=\"max-width: 200px; text-align:left;\">None</td>  <td style=\"text-align:left;\">Integer</td>  <td style=\"max-width: 300px;\"><i>nullable</i> >=0</td></tr>\n",
       "<tr>  <td><p style=\"margin-bottom: 0px;\" class=\"param-doc-tooltip\" data-tooltip=\"Describes how the component should maintain its height.\n",
       "\n",
       "        ``&quot;auto&quot;``\n",
       "            Use component&#x27;s preferred sizing policy.\n",
       "\n",
       "        ``&quot;fixed&quot;``\n",
       "            Use exactly ``height`` pixels. Component will overflow if\n",
       "            it can&#x27;t fit in the available vertical space.\n",
       "\n",
       "        ``&quot;fit&quot;``\n",
       "            Use component&#x27;s preferred height (if set) and allow to fit\n",
       "            into the available vertical space within the minimum and\n",
       "            maximum height bounds (if set). Component&#x27;s height neither\n",
       "            will be aggressively minimized nor maximized.\n",
       "\n",
       "        ``&quot;min&quot;``\n",
       "            Use as little vertical space as possible, not less than\n",
       "            the minimum height (if set).  The starting point is the\n",
       "            preferred height (if set). The height of the component may\n",
       "            shrink or grow depending on the parent layout, aspect\n",
       "            management and other factors.\n",
       "\n",
       "        ``&quot;max&quot;``\n",
       "            Use as much vertical space as possible, not more than the\n",
       "            maximum height (if set).  The starting point is the\n",
       "            preferred height (if set). The height of the component may\n",
       "            shrink or grow depending on the parent layout, aspect\n",
       "            management and other factors.\">height_policy</p></td>  <td style=\"max-width: 200px; text-align:left;\">&#x27;auto&#x27;</td>  <td style=\"text-align:left;\">ObjectSelector</td>  <td style=\"max-width: 300px;\">'auto', 'fixed', 'fit', 'min', 'max'</td></tr>\n",
       "<tr>  <td><p style=\"margin-bottom: 0px;\" class=\"param-doc-tooltip\" data-tooltip=\"Whether or not the Viewable is loading. If True a loading spinner\n",
       "        is shown on top of the Viewable.\">loading</p></td>  <td style=\"max-width: 200px; text-align:left;\">False</td>  <td style=\"text-align:left;\">Boolean</td>  <td style=\"max-width: 300px;\"></td></tr>\n",
       "<tr>  <td><p style=\"margin-bottom: 0px;\" class=\"param-doc-tooltip\" data-tooltip=\"Allows to create additional space around the component. May\n",
       "        be specified as a two-tuple of the form (vertical, horizontal)\n",
       "        or a four-tuple (top, right, bottom, left).\">margin</p></td>  <td style=\"max-width: 200px; text-align:left;\">(5, 10)</td>  <td style=\"text-align:left;\">Margin</td>  <td style=\"max-width: 300px;\"><i>nullable</i></td></tr>\n",
       "<tr>  <td><p style=\"margin-bottom: 0px;\" class=\"param-doc-tooltip\" data-tooltip=\"Minimal height of the component (in pixels) if height is adjustable.\">max_height</p></td>  <td style=\"max-width: 200px; text-align:left;\">None</td>  <td style=\"text-align:left;\">Integer</td>  <td style=\"max-width: 300px;\"><i>nullable</i> >=0</td></tr>\n",
       "<tr>  <td><p style=\"margin-bottom: 0px;\" class=\"param-doc-tooltip\" data-tooltip=\"Minimal width of the component (in pixels) if width is adjustable.\">max_width</p></td>  <td style=\"max-width: 200px; text-align:left;\">None</td>  <td style=\"text-align:left;\">Integer</td>  <td style=\"max-width: 300px;\"><i>nullable</i> >=0</td></tr>\n",
       "<tr>  <td><p style=\"margin-bottom: 0px;\" class=\"param-doc-tooltip\" data-tooltip=\"Minimal height of the component (in pixels) if height is adjustable.\">min_height</p></td>  <td style=\"max-width: 200px; text-align:left;\">None</td>  <td style=\"text-align:left;\">Integer</td>  <td style=\"max-width: 300px;\"><i>nullable</i> >=0</td></tr>\n",
       "<tr>  <td><p style=\"margin-bottom: 0px;\" class=\"param-doc-tooltip\" data-tooltip=\"Minimal width of the component (in pixels) if width is adjustable.\">min_width</p></td>  <td style=\"max-width: 200px; text-align:left;\">None</td>  <td style=\"text-align:left;\">Integer</td>  <td style=\"max-width: 300px;\"><i>nullable</i> >=0</td></tr>\n",
       "<tr>  <td><p style=\"margin-bottom: 0px;\" class=\"param-doc-tooltip\" data-tooltip=\"String identifier for this object.\">name</p></td>  <td style=\"max-width: 200px; text-align:left;\">&#x27;RadioButtonGroup&#x27;</td>  <td style=\"text-align:left;\">String</td>  <td style=\"max-width: 300px;\"></td></tr>\n",
       "<tr>  <td><p style=\"margin-bottom: 0px;\">options</p></td>  <td style=\"max-width: 200px; text-align:left;\">[]</td>  <td style=\"text-align:left;\">ClassSelector</td>  <td style=\"max-width: 300px;\">dict | list</td></tr>\n",
       "<tr>  <td><p style=\"margin-bottom: 0px;\" class=\"param-doc-tooltip\" data-tooltip=\"Button group orientation, either &#x27;horizontal&#x27; (default) or &#x27;vertical&#x27;.\">orientation</p></td>  <td style=\"max-width: 200px; text-align:left;\">&#x27;horizontal&#x27;</td>  <td style=\"text-align:left;\">Selector</td>  <td style=\"max-width: 300px;\">'horizontal', 'vertical'</td></tr>\n",
       "<tr>  <td><p style=\"margin-bottom: 0px;\" class=\"param-doc-tooltip\" data-tooltip=\"How the component should size itself.\n",
       "\n",
       "        This is a high-level setting for maintaining width and height\n",
       "        of the component. To gain more fine grained control over\n",
       "        sizing, use ``width_policy``, ``height_policy`` and\n",
       "        ``aspect_ratio`` instead (those take precedence over\n",
       "        ``sizing_mode``).\n",
       "\n",
       "        ``&quot;fixed&quot;``\n",
       "            Component is not responsive. It will retain its original\n",
       "            width and height regardless of any subsequent browser\n",
       "            window resize events.\n",
       "\n",
       "        ``&quot;stretch_width&quot;``\n",
       "            Component will responsively resize to stretch to the\n",
       "            available width, without maintaining any aspect ratio. The\n",
       "            height of the component depends on the type of the\n",
       "            component and may be fixed or fit to component&#x27;s contents.\n",
       "\n",
       "        ``&quot;stretch_height&quot;``\n",
       "            Component will responsively resize to stretch to the\n",
       "            available height, without maintaining any aspect\n",
       "            ratio. The width of the component depends on the type of\n",
       "            the component and may be fixed or fit to component&#x27;s\n",
       "            contents.\n",
       "\n",
       "        ``&quot;stretch_both&quot;``\n",
       "            Component is completely responsive, independently in width\n",
       "            and height, and will occupy all the available horizontal\n",
       "            and vertical space, even if this changes the aspect ratio\n",
       "            of the component.\n",
       "\n",
       "        ``&quot;scale_width&quot;``\n",
       "            Component will responsively resize to stretch to the\n",
       "            available width, while maintaining the original or\n",
       "            provided aspect ratio.\n",
       "\n",
       "        ``&quot;scale_height&quot;``\n",
       "            Component will responsively resize to stretch to the\n",
       "            available height, while maintaining the original or\n",
       "            provided aspect ratio.\n",
       "\n",
       "        ``&quot;scale_both&quot;``\n",
       "            Component will responsively resize to both the available\n",
       "            width and height, while maintaining the original or\n",
       "            provided aspect ratio.\">sizing_mode</p></td>  <td style=\"max-width: 200px; text-align:left;\">None</td>  <td style=\"text-align:left;\">ObjectSelector</td>  <td style=\"max-width: 300px;\">'fixed', 'stretch_width', 'stretch_height', 'stretch_both', 'scale_width', 'scale_height', 'scale_both', None</td></tr>\n",
       "<tr>  <td><p style=\"margin-bottom: 0px;\" class=\"param-doc-tooltip\" data-tooltip=\"Dictionary of CSS rules to apply to DOM node wrapping the\n",
       "        component.\">styles</p></td>  <td style=\"max-width: 200px; text-align:left;\">{}</td>  <td style=\"text-align:left;\">Dict</td>  <td style=\"max-width: 300px;\">dict</td></tr>\n",
       "<tr>  <td><p style=\"margin-bottom: 0px;\" class=\"param-doc-tooltip\" data-tooltip=\"List of stylesheets defined as URLs pointing to .css files\n",
       "        or raw CSS defined as a string.\">stylesheets</p></td>  <td style=\"max-width: 200px; text-align:left;\">[]</td>  <td style=\"text-align:left;\">List</td>  <td style=\"max-width: 300px;\">(0, None)</td></tr>\n",
       "<tr>  <td><p style=\"margin-bottom: 0px;\" class=\"param-doc-tooltip\" data-tooltip=\"List of arbitrary tags to add to the component.\n",
       "        Can be useful for templating or for storing metadata on\n",
       "        the model.\">tags</p></td>  <td style=\"max-width: 200px; text-align:left;\">[]</td>  <td style=\"text-align:left;\">List</td>  <td style=\"max-width: 300px;\">(0, None)</td></tr>\n",
       "<tr>  <td><p style=\"margin-bottom: 0px;\">value</p></td>  <td style=\"max-width: 200px; text-align:left;\">None</td>  <td style=\"text-align:left;\">Parameter</td>  <td style=\"max-width: 300px;\"><i>nullable</i></td></tr>\n",
       "<tr>  <td><p style=\"margin-bottom: 0px;\" class=\"param-doc-tooltip\" data-tooltip=\"Whether the component is visible. Setting visible to false will\n",
       "        hide the component entirely.\">visible</p></td>  <td style=\"max-width: 200px; text-align:left;\">True</td>  <td style=\"text-align:left;\">Boolean</td>  <td style=\"max-width: 300px;\"></td></tr>\n",
       "<tr>  <td><p style=\"margin-bottom: 0px;\" class=\"param-doc-tooltip\" data-tooltip=\"The width of the component (in pixels). This can be either\n",
       "        fixed or preferred width, depending on width sizing policy.\">width</p></td>  <td style=\"max-width: 200px; text-align:left;\">None</td>  <td style=\"text-align:left;\">Integer</td>  <td style=\"max-width: 300px;\"><i>nullable</i> >=0</td></tr>\n",
       "<tr>  <td><p style=\"margin-bottom: 0px;\" class=\"param-doc-tooltip\" data-tooltip=\"Describes how the component should maintain its width.\n",
       "\n",
       "        ``&quot;auto&quot;``\n",
       "            Use component&#x27;s preferred sizing policy.\n",
       "\n",
       "        ``&quot;fixed&quot;``\n",
       "            Use exactly ``width`` pixels. Component will overflow if\n",
       "            it can&#x27;t fit in the available horizontal space.\n",
       "\n",
       "        ``&quot;fit&quot;``\n",
       "            Use component&#x27;s preferred width (if set) and allow it to\n",
       "            fit into the available horizontal space within the minimum\n",
       "            and maximum width bounds (if set). Component&#x27;s width\n",
       "            neither will be aggressively minimized nor maximized.\n",
       "\n",
       "        ``&quot;min&quot;``\n",
       "            Use as little horizontal space as possible, not less than\n",
       "            the minimum width (if set).  The starting point is the\n",
       "            preferred width (if set). The width of the component may\n",
       "            shrink or grow depending on the parent layout, aspect\n",
       "            management and other factors.\n",
       "\n",
       "        ``&quot;max&quot;``\n",
       "            Use as much horizontal space as possible, not more than\n",
       "            the maximum width (if set).  The starting point is the\n",
       "            preferred width (if set). The width of the component may\n",
       "            shrink or grow depending on the parent layout, aspect\n",
       "            management and other factors.\">width_policy</p></td>  <td style=\"max-width: 200px; text-align:left;\">&#x27;auto&#x27;</td>  <td style=\"text-align:left;\">ObjectSelector</td>  <td style=\"max-width: 300px;\">'auto', 'fixed', 'fit', 'min', 'max'</td></tr>\n",
       "\n",
       "  </table>\n",
       " </div>\n",
       "</details>\n"
      ],
      "text/plain": [
       "<param.parameterized.Parameters at 0x7f989ee9e900>"
      ]
     },
     "execution_count": 7,
     "metadata": {},
     "output_type": "execute_result"
    }
   ],
   "source": [
    "pn.widgets.RadioButtonGroup.param"
   ]
  },
  {
   "cell_type": "code",
   "execution_count": 5,
   "metadata": {},
   "outputs": [],
   "source": [
    "srv.stop()"
   ]
  },
  {
   "cell_type": "code",
   "execution_count": 11,
   "metadata": {},
   "outputs": [
    {
     "data": {
      "application/vnd.jupyter.widget-view+json": {
       "model_id": "6b7004238725470592ea441736aaaedb",
       "version_major": 2,
       "version_minor": 0
      },
      "text/plain": [
       "BokehModel(combine_events=True, render_bundle={'docs_json': {'f86cfa48-566d-4ce1-9640-acf0294aaf0e': {'version…"
      ]
     },
     "execution_count": 11,
     "metadata": {},
     "output_type": "execute_result"
    }
   ],
   "source": [
    "s = pn.widgets.RadioButtonGroup(\n",
    "    name='test', \n",
    "    options=['what', 'the', 'heck'],\n",
    "    orientation='vertical',\n",
    "    sizing_mode=None,\n",
    "    value='the',\n",
    "    button_type='primary'\n",
    ")\n",
    "s"
   ]
  },
  {
   "cell_type": "code",
   "execution_count": 9,
   "metadata": {},
   "outputs": [
    {
     "data": {
      "text/html": [
       "<style>\n",
       ".param-doc-tooltip{\n",
       "  position: relative;\n",
       "  cursor: help;\n",
       "}\n",
       ".param-doc-tooltip:hover:after{\n",
       "  content: attr(data-tooltip);\n",
       "  background-color: black;\n",
       "  color: #fff;\n",
       "  border-radius: 3px;\n",
       "  padding: 10px;\n",
       "  position: absolute;\n",
       "  z-index: 1;\n",
       "  top: -5px;\n",
       "  left: 100%;\n",
       "  margin-left: 10px;\n",
       "  min-width: 250px;\n",
       "}\n",
       ".param-doc-tooltip:hover:before {\n",
       "  content: \"\";\n",
       "  position: absolute;\n",
       "  top: 50%;\n",
       "  left: 100%;\n",
       "  margin-top: -5px;\n",
       "  border-width: 5px;\n",
       "  border-style: solid;\n",
       "  border-color: transparent black transparent transparent;\n",
       "}\n",
       "</style>\n",
       "<details  open>\n",
       " <summary style=\"display:list-item; outline:none;\">\n",
       "  <tt>RadioButtonGroup()</tt>\n",
       " </summary>\n",
       " <div style=\"padding-left:10px; padding-bottom:5px;\">\n",
       "  <table style=\"max-width:100%; border:1px solid #AAAAAA;\">\n",
       "   <tr><th style=\"text-align:left;\">Name</th><th style=\"text-align:left;\">Value</th><th style=\"text-align:left;\">Type</th><th>Range</th></tr>\n",
       "<tr>  <td><p style=\"margin-bottom: 0px;\" class=\"param-doc-tooltip\" data-tooltip=\"Whether the object should be aligned with the start, end or\n",
       "        center of its container. If set as a tuple it will declare\n",
       "        (vertical, horizontal) alignment.\">align</p></td>  <td style=\"max-width: 200px; text-align:left;\">&#x27;start&#x27;</td>  <td style=\"text-align:left;\">Align</td>  <td style=\"max-width: 300px;\"></td></tr>\n",
       "<tr>  <td><p style=\"margin-bottom: 0px;\" class=\"param-doc-tooltip\" data-tooltip=\"Describes the proportional relationship between component&#x27;s\n",
       "        width and height.  This works if any of component&#x27;s dimensions\n",
       "        are flexible in size. If set to a number, ``width / height =\n",
       "        aspect_ratio`` relationship will be maintained.  Otherwise, if\n",
       "        set to ``&quot;auto&quot;``, component&#x27;s preferred width and height will\n",
       "        be used to determine the aspect (if not set, no aspect will be\n",
       "        preserved).\">aspect_ratio</p></td>  <td style=\"max-width: 200px; text-align:left;\">None</td>  <td style=\"text-align:left;\">Aspect</td>  <td style=\"max-width: 300px;\"><i>nullable</i></td></tr>\n",
       "<tr>  <td><p style=\"margin-bottom: 0px;\" class=\"param-doc-tooltip\" data-tooltip=\"A button style to switch between &#x27;solid&#x27;, &#x27;outline&#x27;.\">button_style</p></td>  <td style=\"max-width: 200px; text-align:left;\">&#x27;solid&#x27;</td>  <td style=\"text-align:left;\">ObjectSelector</td>  <td style=\"max-width: 300px;\">'solid', 'outline'</td></tr>\n",
       "<tr>  <td><p style=\"margin-bottom: 0px;\" class=\"param-doc-tooltip\" data-tooltip=\"A button theme; should be one of &#x27;default&#x27; (white), &#x27;primary&#x27;\n",
       "        (blue), &#x27;success&#x27; (green), &#x27;info&#x27; (yellow), &#x27;light&#x27; (light),\n",
       "        or &#x27;danger&#x27; (red).\">button_type</p></td>  <td style=\"max-width: 200px; text-align:left;\">&#x27;default&#x27;</td>  <td style=\"text-align:left;\">ObjectSelector</td>  <td style=\"max-width: 300px;\">'default', 'primary', 'success', 'warning', 'danger', 'light'</td></tr>\n",
       "<tr>  <td><p style=\"margin-bottom: 0px;\" class=\"param-doc-tooltip\" data-tooltip=\"CSS classes to apply to the layout.\">css_classes</p></td>  <td style=\"max-width: 200px; text-align:left;\">[]</td>  <td style=\"text-align:left;\">List</td>  <td style=\"max-width: 300px;\">(0, None)</td></tr>\n",
       "<tr>  <td><p style=\"margin-bottom: 0px;\" class=\"param-doc-tooltip\" data-tooltip=\"The description in the tooltip.\">description</p></td>  <td style=\"max-width: 200px; text-align:left;\">None</td>  <td style=\"text-align:left;\">ClassSelector</td>  <td style=\"max-width: 300px;\"><i>nullable</i> str | Tooltip | TooltipIcon</td></tr>\n",
       "<tr>  <td><p style=\"margin-bottom: 0px;\" class=\"param-doc-tooltip\" data-tooltip=\"Delay (in milliseconds) to display the tooltip after the cursor has\n",
       "        hovered over the Button, default is 500ms.\">description_delay</p></td>  <td style=\"max-width: 200px; text-align:left;\">500</td>  <td style=\"text-align:left;\">Integer</td>  <td style=\"max-width: 300px;\"></td></tr>\n",
       "<tr>  <td><p style=\"margin-bottom: 0px;\" class=\"param-doc-tooltip\" data-tooltip=\"The design system to use to style components.\">design</p></td>  <td style=\"max-width: 200px; text-align:left;\">None</td>  <td style=\"text-align:left;\">ObjectSelector</td>  <td style=\"max-width: 300px;\">None</td></tr>\n",
       "<tr>  <td><p style=\"margin-bottom: 0px;\" class=\"param-doc-tooltip\" data-tooltip=\"Whether the widget is disabled.\">disabled</p></td>  <td style=\"max-width: 200px; text-align:left;\">False</td>  <td style=\"text-align:left;\">Boolean</td>  <td style=\"max-width: 300px;\"></td></tr>\n",
       "<tr>  <td><p style=\"margin-bottom: 0px;\" class=\"param-doc-tooltip\" data-tooltip=\"The height of the component (in pixels).  This can be either\n",
       "        fixed or preferred height, depending on height sizing policy.\">height</p></td>  <td style=\"max-width: 200px; text-align:left;\">None</td>  <td style=\"text-align:left;\">Integer</td>  <td style=\"max-width: 300px;\"><i>nullable</i> >=0</td></tr>\n",
       "<tr>  <td><p style=\"margin-bottom: 0px;\" class=\"param-doc-tooltip\" data-tooltip=\"Describes how the component should maintain its height.\n",
       "\n",
       "        ``&quot;auto&quot;``\n",
       "            Use component&#x27;s preferred sizing policy.\n",
       "\n",
       "        ``&quot;fixed&quot;``\n",
       "            Use exactly ``height`` pixels. Component will overflow if\n",
       "            it can&#x27;t fit in the available vertical space.\n",
       "\n",
       "        ``&quot;fit&quot;``\n",
       "            Use component&#x27;s preferred height (if set) and allow to fit\n",
       "            into the available vertical space within the minimum and\n",
       "            maximum height bounds (if set). Component&#x27;s height neither\n",
       "            will be aggressively minimized nor maximized.\n",
       "\n",
       "        ``&quot;min&quot;``\n",
       "            Use as little vertical space as possible, not less than\n",
       "            the minimum height (if set).  The starting point is the\n",
       "            preferred height (if set). The height of the component may\n",
       "            shrink or grow depending on the parent layout, aspect\n",
       "            management and other factors.\n",
       "\n",
       "        ``&quot;max&quot;``\n",
       "            Use as much vertical space as possible, not more than the\n",
       "            maximum height (if set).  The starting point is the\n",
       "            preferred height (if set). The height of the component may\n",
       "            shrink or grow depending on the parent layout, aspect\n",
       "            management and other factors.\">height_policy</p></td>  <td style=\"max-width: 200px; text-align:left;\">&#x27;auto&#x27;</td>  <td style=\"text-align:left;\">ObjectSelector</td>  <td style=\"max-width: 300px;\">'auto', 'fixed', 'fit', 'min', 'max'</td></tr>\n",
       "<tr>  <td><p style=\"margin-bottom: 0px;\" class=\"param-doc-tooltip\" data-tooltip=\"Whether or not the Viewable is loading. If True a loading spinner\n",
       "        is shown on top of the Viewable.\">loading</p></td>  <td style=\"max-width: 200px; text-align:left;\">False</td>  <td style=\"text-align:left;\">Boolean</td>  <td style=\"max-width: 300px;\"></td></tr>\n",
       "<tr>  <td><p style=\"margin-bottom: 0px;\" class=\"param-doc-tooltip\" data-tooltip=\"Allows to create additional space around the component. May\n",
       "        be specified as a two-tuple of the form (vertical, horizontal)\n",
       "        or a four-tuple (top, right, bottom, left).\">margin</p></td>  <td style=\"max-width: 200px; text-align:left;\">(5, 10)</td>  <td style=\"text-align:left;\">Margin</td>  <td style=\"max-width: 300px;\"><i>nullable</i></td></tr>\n",
       "<tr>  <td><p style=\"margin-bottom: 0px;\" class=\"param-doc-tooltip\" data-tooltip=\"Minimal height of the component (in pixels) if height is adjustable.\">max_height</p></td>  <td style=\"max-width: 200px; text-align:left;\">None</td>  <td style=\"text-align:left;\">Integer</td>  <td style=\"max-width: 300px;\"><i>nullable</i> >=0</td></tr>\n",
       "<tr>  <td><p style=\"margin-bottom: 0px;\" class=\"param-doc-tooltip\" data-tooltip=\"Minimal width of the component (in pixels) if width is adjustable.\">max_width</p></td>  <td style=\"max-width: 200px; text-align:left;\">None</td>  <td style=\"text-align:left;\">Integer</td>  <td style=\"max-width: 300px;\"><i>nullable</i> >=0</td></tr>\n",
       "<tr>  <td><p style=\"margin-bottom: 0px;\" class=\"param-doc-tooltip\" data-tooltip=\"Minimal height of the component (in pixels) if height is adjustable.\">min_height</p></td>  <td style=\"max-width: 200px; text-align:left;\">None</td>  <td style=\"text-align:left;\">Integer</td>  <td style=\"max-width: 300px;\"><i>nullable</i> >=0</td></tr>\n",
       "<tr>  <td><p style=\"margin-bottom: 0px;\" class=\"param-doc-tooltip\" data-tooltip=\"Minimal width of the component (in pixels) if width is adjustable.\">min_width</p></td>  <td style=\"max-width: 200px; text-align:left;\">None</td>  <td style=\"text-align:left;\">Integer</td>  <td style=\"max-width: 300px;\"><i>nullable</i> >=0</td></tr>\n",
       "<tr>  <td><p style=\"margin-bottom: 0px;\" class=\"param-doc-tooltip\" data-tooltip=\"String identifier for this object.\">name</p></td>  <td style=\"max-width: 200px; text-align:left;\">&#x27;test&#x27;</td>  <td style=\"text-align:left;\">String</td>  <td style=\"max-width: 300px;\"></td></tr>\n",
       "<tr>  <td><p style=\"margin-bottom: 0px;\">options</p></td>  <td style=\"max-width: 200px; text-align:left;\">[&#x27;what&#x27;, &#x27;the&#x27;, &#x27;heck&#x27;]</td>  <td style=\"text-align:left;\">ClassSelector</td>  <td style=\"max-width: 300px;\">dict | list</td></tr>\n",
       "<tr>  <td><p style=\"margin-bottom: 0px;\" class=\"param-doc-tooltip\" data-tooltip=\"Button group orientation, either &#x27;horizontal&#x27; (default) or &#x27;vertical&#x27;.\">orientation</p></td>  <td style=\"max-width: 200px; text-align:left;\">&#x27;vertical&#x27;</td>  <td style=\"text-align:left;\">Selector</td>  <td style=\"max-width: 300px;\">'horizontal', 'vertical'</td></tr>\n",
       "<tr>  <td><p style=\"margin-bottom: 0px;\" class=\"param-doc-tooltip\" data-tooltip=\"How the component should size itself.\n",
       "\n",
       "        This is a high-level setting for maintaining width and height\n",
       "        of the component. To gain more fine grained control over\n",
       "        sizing, use ``width_policy``, ``height_policy`` and\n",
       "        ``aspect_ratio`` instead (those take precedence over\n",
       "        ``sizing_mode``).\n",
       "\n",
       "        ``&quot;fixed&quot;``\n",
       "            Component is not responsive. It will retain its original\n",
       "            width and height regardless of any subsequent browser\n",
       "            window resize events.\n",
       "\n",
       "        ``&quot;stretch_width&quot;``\n",
       "            Component will responsively resize to stretch to the\n",
       "            available width, without maintaining any aspect ratio. The\n",
       "            height of the component depends on the type of the\n",
       "            component and may be fixed or fit to component&#x27;s contents.\n",
       "\n",
       "        ``&quot;stretch_height&quot;``\n",
       "            Component will responsively resize to stretch to the\n",
       "            available height, without maintaining any aspect\n",
       "            ratio. The width of the component depends on the type of\n",
       "            the component and may be fixed or fit to component&#x27;s\n",
       "            contents.\n",
       "\n",
       "        ``&quot;stretch_both&quot;``\n",
       "            Component is completely responsive, independently in width\n",
       "            and height, and will occupy all the available horizontal\n",
       "            and vertical space, even if this changes the aspect ratio\n",
       "            of the component.\n",
       "\n",
       "        ``&quot;scale_width&quot;``\n",
       "            Component will responsively resize to stretch to the\n",
       "            available width, while maintaining the original or\n",
       "            provided aspect ratio.\n",
       "\n",
       "        ``&quot;scale_height&quot;``\n",
       "            Component will responsively resize to stretch to the\n",
       "            available height, while maintaining the original or\n",
       "            provided aspect ratio.\n",
       "\n",
       "        ``&quot;scale_both&quot;``\n",
       "            Component will responsively resize to both the available\n",
       "            width and height, while maintaining the original or\n",
       "            provided aspect ratio.\">sizing_mode</p></td>  <td style=\"max-width: 200px; text-align:left;\">None</td>  <td style=\"text-align:left;\">ObjectSelector</td>  <td style=\"max-width: 300px;\">'fixed', 'stretch_width', 'stretch_height', 'stretch_both', 'scale_width', 'scale_height', 'scale_both', None</td></tr>\n",
       "<tr>  <td><p style=\"margin-bottom: 0px;\" class=\"param-doc-tooltip\" data-tooltip=\"Dictionary of CSS rules to apply to DOM node wrapping the\n",
       "        component.\">styles</p></td>  <td style=\"max-width: 200px; text-align:left;\">{}</td>  <td style=\"text-align:left;\">Dict</td>  <td style=\"max-width: 300px;\">dict</td></tr>\n",
       "<tr>  <td><p style=\"margin-bottom: 0px;\" class=\"param-doc-tooltip\" data-tooltip=\"List of stylesheets defined as URLs pointing to .css files\n",
       "        or raw CSS defined as a string.\">stylesheets</p></td>  <td style=\"max-width: 200px; text-align:left;\">[]</td>  <td style=\"text-align:left;\">List</td>  <td style=\"max-width: 300px;\">(0, None)</td></tr>\n",
       "<tr>  <td><p style=\"margin-bottom: 0px;\" class=\"param-doc-tooltip\" data-tooltip=\"List of arbitrary tags to add to the component.\n",
       "        Can be useful for templating or for storing metadata on\n",
       "        the model.\">tags</p></td>  <td style=\"max-width: 200px; text-align:left;\">[]</td>  <td style=\"text-align:left;\">List</td>  <td style=\"max-width: 300px;\">(0, None)</td></tr>\n",
       "<tr>  <td><p style=\"margin-bottom: 0px;\">value</p></td>  <td style=\"max-width: 200px; text-align:left;\">&#x27;heck&#x27;</td>  <td style=\"text-align:left;\">Parameter</td>  <td style=\"max-width: 300px;\"><i>nullable</i></td></tr>\n",
       "<tr>  <td><p style=\"margin-bottom: 0px;\" class=\"param-doc-tooltip\" data-tooltip=\"Whether the component is visible. Setting visible to false will\n",
       "        hide the component entirely.\">visible</p></td>  <td style=\"max-width: 200px; text-align:left;\">True</td>  <td style=\"text-align:left;\">Boolean</td>  <td style=\"max-width: 300px;\"></td></tr>\n",
       "<tr>  <td><p style=\"margin-bottom: 0px;\" class=\"param-doc-tooltip\" data-tooltip=\"The width of the component (in pixels). This can be either\n",
       "        fixed or preferred width, depending on width sizing policy.\">width</p></td>  <td style=\"max-width: 200px; text-align:left;\">None</td>  <td style=\"text-align:left;\">Integer</td>  <td style=\"max-width: 300px;\"><i>nullable</i> >=0</td></tr>\n",
       "<tr>  <td><p style=\"margin-bottom: 0px;\" class=\"param-doc-tooltip\" data-tooltip=\"Describes how the component should maintain its width.\n",
       "\n",
       "        ``&quot;auto&quot;``\n",
       "            Use component&#x27;s preferred sizing policy.\n",
       "\n",
       "        ``&quot;fixed&quot;``\n",
       "            Use exactly ``width`` pixels. Component will overflow if\n",
       "            it can&#x27;t fit in the available horizontal space.\n",
       "\n",
       "        ``&quot;fit&quot;``\n",
       "            Use component&#x27;s preferred width (if set) and allow it to\n",
       "            fit into the available horizontal space within the minimum\n",
       "            and maximum width bounds (if set). Component&#x27;s width\n",
       "            neither will be aggressively minimized nor maximized.\n",
       "\n",
       "        ``&quot;min&quot;``\n",
       "            Use as little horizontal space as possible, not less than\n",
       "            the minimum width (if set).  The starting point is the\n",
       "            preferred width (if set). The width of the component may\n",
       "            shrink or grow depending on the parent layout, aspect\n",
       "            management and other factors.\n",
       "\n",
       "        ``&quot;max&quot;``\n",
       "            Use as much horizontal space as possible, not more than\n",
       "            the maximum width (if set).  The starting point is the\n",
       "            preferred width (if set). The width of the component may\n",
       "            shrink or grow depending on the parent layout, aspect\n",
       "            management and other factors.\">width_policy</p></td>  <td style=\"max-width: 200px; text-align:left;\">&#x27;auto&#x27;</td>  <td style=\"text-align:left;\">ObjectSelector</td>  <td style=\"max-width: 300px;\">'auto', 'fixed', 'fit', 'min', 'max'</td></tr>\n",
       "\n",
       "  </table>\n",
       " </div>\n",
       "</details>\n"
      ],
      "text/plain": [
       "<param.parameterized.Parameters at 0x7f87a113cf50>"
      ]
     },
     "execution_count": 9,
     "metadata": {},
     "output_type": "execute_result"
    }
   ],
   "source": [
    "s.param"
   ]
  },
  {
   "cell_type": "code",
   "execution_count": 9,
   "metadata": {},
   "outputs": [
    {
     "data": {
      "text/plain": [
       "Watcher(inst=RadioButtonGroup(name='test', options=['what', 'the', 'heck'], orientation='vertical', value='what'), cls=<class 'panel.widgets.select.RadioButtonGroup'>, fn=<function <lambda> at 0x7f989eb84d60>, mode='args', onlychanged=True, parameter_names=('value',), what='value', queued=False, precedence=0)"
      ]
     },
     "execution_count": 9,
     "metadata": {},
     "output_type": "execute_result"
    }
   ],
   "source": [
    "s.param.watch(lambda event: print(event.new), 'value')"
   ]
  },
  {
   "cell_type": "code",
   "execution_count": 3,
   "metadata": {},
   "outputs": [
    {
     "name": "stdout",
     "output_type": "stream",
     "text": [
      "Launching server at http://localhost:44943\n"
     ]
    },
    {
     "name": "stderr",
     "output_type": "stream",
     "text": [
      "WARNING:bokeh.core.validation.check:W-1005 (FIXED_SIZING_MODE): 'fixed' sizing mode requires width and height to be set: RadioButtonGroup(id='72d47780-abbd-492b-97a0-d0ae24aedb8e', ...)\n"
     ]
    }
   ],
   "source": [
    "from pyllments.elements.flow_control import Switch\n",
    "from typing import Any\n",
    "\n",
    "sw = Switch(outputs=['test', 'best', 'crest'], payload_type=Any)\n",
    "srv = serve(sw.create_switch_view(orientation='vertical', height=200, sizing_mode='fixed'))\n",
    "# srv.stop()"
   ]
  },
  {
   "cell_type": "code",
   "execution_count": 4,
   "metadata": {},
   "outputs": [],
   "source": [
    "srv.stop()"
   ]
  },
  {
   "cell_type": "code",
   "execution_count": 4,
   "metadata": {},
   "outputs": [
    {
     "data": {
      "text/plain": [
       "[':host {\\n    --surface-color: var(--secondary-accent-color);\\n}\\n\\n:host(.solid) .bk-btn-group .bk-btn.bk-btn-default.bk-active {\\n    color: var(--white);\\n    background-color: var(--primary-accent-color);\\n    box-shadow: none; /* Consider adding a box-shadow for better visibility */\\n}\\n\\n/* Added hover effect for better user experience */\\n:host(.solid) .bk-btn-group .bk-btn.bk-btn-default:hover {\\n    background-color: var(--light-outline-color); /* Change background on hover */\\n    color: var(--white); /* Maintain text color on hover */\\n}']"
      ]
     },
     "execution_count": 4,
     "metadata": {},
     "output_type": "execute_result"
    }
   ],
   "source": [
    "sw.switch_view.stylesheets"
   ]
  },
  {
   "cell_type": "code",
   "execution_count": 12,
   "metadata": {},
   "outputs": [],
   "source": [
    "text = r\"delve delve delve delve delve delve delve delve delve delve delve delve delve delve delve delve delve delve delve delve delve delve delve delve delve delve delve delve delve delve delve delve delve delve delve delve delve delve delve delve delve delve delve delve delve delve delve delve delve delve delve delve delve delve delve delve delve delve delve delve delve delve delve delve delve delve delve delve delve delve delve delve delve delve delve delve delve delve delve delve delve delve delve delve delve delve delve delve delve delve delve delve delve delve delve delve delve delve delve delve delve delve delve delve delve \""
   ]
  },
  {
   "cell_type": "code",
   "execution_count": 28,
   "metadata": {},
   "outputs": [
    {
     "data": {
      "text/plain": [
       "[Document(metadata={}, page_content='delve delve delve delve delve delve delve delve delve delve delve delve delve delve delve delve delve delve delve delve delve delve delve delve delve delve delve delve delve delve delve delve delve delve delve delve delve delve delve delve delve delve delve delve delve delve delve delve delve delve delve delve delve delve delve delve delve delve delve delve delve delve delve delve delve delve delve delve delve delve delve delve delve delve delve delve delve delve delve delve delve delve delve delve delve delve delve delve delve delve delve delve delve delve delve delve delve delve delve delve delve delve delve delve delve')]"
      ]
     },
     "execution_count": 28,
     "metadata": {},
     "output_type": "execute_result"
    }
   ],
   "source": [
    "from langchain_text_splitters import RecursiveCharacterTextSplitter\n",
    "\n",
    "splitter = RecursiveCharacterTextSplitter(chunk_size=1000, chunk_overlap=200)\n",
    "\n",
    "splitter.create_documents([text])"
   ]
  },
  {
   "cell_type": "code",
   "execution_count": 17,
   "metadata": {},
   "outputs": [],
   "source": [
    "# Convert the string variable 'text' to its byte representation\n",
    "text_bytes = text.encode('utf-8')\n"
   ]
  },
  {
   "cell_type": "code",
   "execution_count": 20,
   "metadata": {},
   "outputs": [],
   "source": [
    "from pyllments.payloads.file import FilePayload\n",
    "\n",
    "fp = FilePayload(name='test.txt', b_file=text_bytes, mime_type='text/plain')"
   ]
  },
  {
   "cell_type": "code",
   "execution_count": 27,
   "metadata": {},
   "outputs": [
    {
     "name": "stdout",
     "output_type": "stream",
     "text": [
      "\u001b[32m2024-10-14 02:30:21.989\u001b[0m | \u001b[1m  INFO  \u001b[0m | Connecting TextChunkerElement | Port: file_input to TestElement | Port: test_output\n",
      "\u001b[32m2024-10-14 02:30:21.989\u001b[0m | \u001b[1m  INFO  \u001b[0m | Connecting TestElement | Port: test_input to TextChunkerElement | Port: chunk_output\n",
      "\u001b[32m2024-10-14 02:30:21.990\u001b[0m | \u001b[1m  INFO  \u001b[0m | Staging: TestElement | Port: test_output | Staged Item: payload: FilePayload\n",
      "\u001b[32m2024-10-14 02:30:21.990\u001b[0m | \u001b[1m  INFO  \u001b[0m | Emitting from TestElement | Port: test_output | Payload: FilePayload\n",
      "\u001b[32m2024-10-14 02:30:21.990\u001b[0m | \u001b[1m  INFO  \u001b[0m | Receiving in TextChunkerElement | Port: file_input | Payload: FilePayload\n"
     ]
    },
    {
     "name": "stdout",
     "output_type": "stream",
     "text": [
      "\u001b[32m2024-10-14 02:30:21.991\u001b[0m | \u001b[1m  INFO  \u001b[0m | Staging: TextChunkerElement | Port: chunk_output | Staged Item: chunks: list\n",
      "\u001b[32m2024-10-14 02:30:21.991\u001b[0m | \u001b[1m  INFO  \u001b[0m | Emitting from TextChunkerElement | Port: chunk_output | Payload: list\n",
      "\u001b[32m2024-10-14 02:30:21.991\u001b[0m | \u001b[1m  INFO  \u001b[0m | Receiving in TestElement | Port: test_input | Payload: list\n",
      "\u001b[32m2024-10-14 02:30:21.991\u001b[0m | \u001b[1m  INFO  \u001b[0m | Unpacking in TestElement: [(0, 'delve delve delve delve delve delve delve delve delve delve delve delve delve delve delve delve delve delve delve delve delve delve delve delve delve delve delve delve delve delve delve delve delve delve delve delve delve delve delve delve delve delve delve delve delve delve delve delve delve delve delve delve delve delve delve delve delve delve delve delve delve delve delve delve delve delve delve delve delve delve delve delve delve delve delve delve delve delve delve delve delve delve delve delve delve delve delve delve delve delve delve delve delve delve delve delve delve delve delve delve delve delve delve delve delve')]\n"
     ]
    }
   ],
   "source": [
    "from pyllments.elements.chunker import TextChunkerElement\n",
    "from pyllments.tests import TestElement\n",
    "\n",
    "chunker = TextChunkerElement()\n",
    "\n",
    "test_element = TestElement(receive_callback=lambda chunks: [(n, i.model.text) for n, i in enumerate(chunks)])\n",
    "\n",
    "test_element.ports.output['test_output'] > chunker.ports.input['file_input']\n",
    "chunker.ports.output['chunk_output'] > test_element.ports.input['test_input']\n",
    "\n",
    "test_element.send_payload(fp)\n",
    "\n",
    "\n",
    "\n"
   ]
  },
  {
   "cell_type": "code",
   "execution_count": 37,
   "metadata": {},
   "outputs": [],
   "source": [
    "from pyllments.common.collections import LanceDBCollection\n",
    "c = LanceDBCollection(\n",
    "    collection_name=\"RetrieverModel01211\",\n",
    "    url=\"/workspaces/pyllments/dev_sandbox/retrieval step testing/data/lancedb\"\n",
    "    )"
   ]
  },
  {
   "cell_type": "code",
   "execution_count": 38,
   "metadata": {},
   "outputs": [
    {
     "data": {
      "text/plain": [
       "[]"
      ]
     },
     "execution_count": 38,
     "metadata": {},
     "output_type": "execute_result"
    }
   ],
   "source": [
    "import numpy as np\n",
    "c.query(np.random.rand(768))"
   ]
  },
  {
   "cell_type": "code",
   "execution_count": 31,
   "metadata": {},
   "outputs": [],
   "source": [
    "import duckdb"
   ]
  },
  {
   "cell_type": "code",
   "execution_count": 32,
   "metadata": {},
   "outputs": [],
   "source": [
    "ltbl = c.collection.to_lance()"
   ]
  },
  {
   "cell_type": "code",
   "execution_count": 39,
   "metadata": {},
   "outputs": [
    {
     "data": {
      "text/plain": [
       "┌─────────┬────────────┬─────────────────┬───────────┬─────────┐\n",
       "│  text   │ embedding  │ source_filepath │ start_idx │ end_idx │\n",
       "│ varchar │ float[768] │     varchar     │   int32   │  int32  │\n",
       "├─────────┴────────────┴─────────────────┴───────────┴─────────┤\n",
       "│                            0 rows                            │\n",
       "└──────────────────────────────────────────────────────────────┘"
      ]
     },
     "execution_count": 39,
     "metadata": {},
     "output_type": "execute_result"
    }
   ],
   "source": [
    "duckdb.query(\"select * from ltbl\")"
   ]
  }
 ],
 "metadata": {
  "kernelspec": {
   "display_name": "pyllments",
   "language": "python",
   "name": "python3"
  },
  "language_info": {
   "codemirror_mode": {
    "name": "ipython",
    "version": 3
   },
   "file_extension": ".py",
   "mimetype": "text/x-python",
   "name": "python",
   "nbconvert_exporter": "python",
   "pygments_lexer": "ipython3",
   "version": "3.12.4"
  }
 },
 "nbformat": 4,
 "nbformat_minor": 2
}
